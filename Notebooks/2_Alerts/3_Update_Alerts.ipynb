{
 "cells": [
  {
   "cell_type": "markdown",
   "metadata": {},
   "source": [
    "# Functions to Update Alert Database\n",
    "\n",
    "For 10 minute averages of all sensors (using the ATM PurpleAir estimations)\n",
    "\n",
    "This notebook retrieves readings from PurpleAir Sensors in Minneapolis and cleans the entries and texts people who are interested in the sensors if they are above a threshold"
   ]
  },
  {
   "cell_type": "markdown",
   "metadata": {},
   "source": [
    "## Import Packages"
   ]
  },
  {
   "cell_type": "code",
   "execution_count": 1,
   "metadata": {},
   "outputs": [],
   "source": [
    "### Import Packages\n",
    "\n",
    "# File manipulation\n",
    "\n",
    "import os # For working with Operating System\n",
    "import requests # Accessing the Web\n",
    "import datetime as dt # Working with dates/times\n",
    "\n",
    "# Database \n",
    "\n",
    "import psycopg2\n",
    "from psycopg2 import sql\n",
    "\n",
    "# Analysis\n",
    "\n",
    "import numpy as np\n",
    "import geopandas as gpd\n",
    "import pandas as pd\n",
    "\n",
    "# Get CWD\n",
    "\n",
    "cwd = os.getcwd()"
   ]
  },
  {
   "cell_type": "markdown",
   "metadata": {},
   "source": [
    "## Definitions"
   ]
  },
  {
   "cell_type": "code",
   "execution_count": 2,
   "metadata": {},
   "outputs": [],
   "source": [
    "## Database Credentials\n",
    "\n",
    "cred_pth = os.path.join(os.getcwd(), '..', '..', 'Scripts', 'database', 'db_credentials.txt')\n",
    "\n",
    "with open(cred_pth, 'r') as f:\n",
    "    \n",
    "    creds = f.readlines()[0].rstrip('\\n').split(', ')\n",
    "\n",
    "pg_connection_dict = dict(zip(['dbname', 'user', 'password', 'port', 'host'], creds))"
   ]
  },
  {
   "cell_type": "code",
   "execution_count": 3,
   "metadata": {},
   "outputs": [],
   "source": [
    "# Getting .env information (PurpleAir API Read Key)\n",
    "from dotenv import load_dotenv\n",
    "\n",
    "load_dotenv()\n",
    "\n",
    "api = os.getenv('PURPLEAIR_API_TOKEN')"
   ]
  },
  {
   "cell_type": "code",
   "execution_count": 4,
   "metadata": {},
   "outputs": [],
   "source": [
    "# Set the Spike threshold\n",
    "\n",
    "spike_threshold = 20 # Micgrograms per meter cubed"
   ]
  },
  {
   "cell_type": "code",
   "execution_count": 5,
   "metadata": {},
   "outputs": [],
   "source": [
    "# Get the sensor_ids from Database\n",
    "\n",
    "# Connect\n",
    "conn = psycopg2.connect(**pg_connection_dict) \n",
    "# Create cursor\n",
    "cur = conn.cursor()\n",
    "\n",
    "cmd = sql.SQL('''SELECT sensor_index \n",
    "FROM \"PurpleAir Stations\"\n",
    "''')\n",
    "\n",
    "cur.execute(cmd) # Execute\n",
    "conn.commit() # Committ command\n",
    "\n",
    "# Unpack response into numpy array\n",
    "\n",
    "sensor_ids = pd.DataFrame(cur.fetchall(), columns = ['sensor_index']).sensor_index.values"
   ]
  },
  {
   "cell_type": "code",
   "execution_count": 6,
   "metadata": {},
   "outputs": [],
   "source": [
    "# Get Spikes Dataframe and runtime\n",
    "\n",
    "# Function definition - Please see Scripts/python/Get_spikes_df.py\n",
    "exec(open(os.path.join('..', '..', 'Scripts', 'python', 'Get_spikes_df.py')).read())\n",
    "\n",
    "spikes_df, runtime = Get_spikes_df(api, sensor_ids, spike_threshold)"
   ]
  },
  {
   "cell_type": "code",
   "execution_count": 7,
   "metadata": {},
   "outputs": [
    {
     "name": "stdout",
     "output_type": "stream",
     "text": [
      "2023-09-27 16:46:05.511562\n"
     ]
    },
    {
     "data": {
      "text/html": [
       "<div>\n",
       "<style scoped>\n",
       "    .dataframe tbody tr th:only-of-type {\n",
       "        vertical-align: middle;\n",
       "    }\n",
       "\n",
       "    .dataframe tbody tr th {\n",
       "        vertical-align: top;\n",
       "    }\n",
       "\n",
       "    .dataframe thead th {\n",
       "        text-align: right;\n",
       "    }\n",
       "</style>\n",
       "<table border=\"1\" class=\"dataframe\">\n",
       "  <thead>\n",
       "    <tr style=\"text-align: right;\">\n",
       "      <th></th>\n",
       "      <th>sensor_index</th>\n",
       "      <th>pm25</th>\n",
       "    </tr>\n",
       "  </thead>\n",
       "  <tbody>\n",
       "    <tr>\n",
       "      <th>0</th>\n",
       "      <td>142718</td>\n",
       "      <td>31.5</td>\n",
       "    </tr>\n",
       "    <tr>\n",
       "      <th>12</th>\n",
       "      <td>142752</td>\n",
       "      <td>27.0</td>\n",
       "    </tr>\n",
       "    <tr>\n",
       "      <th>26</th>\n",
       "      <td>143248</td>\n",
       "      <td>36.4</td>\n",
       "    </tr>\n",
       "    <tr>\n",
       "      <th>35</th>\n",
       "      <td>143944</td>\n",
       "      <td>79.0</td>\n",
       "    </tr>\n",
       "    <tr>\n",
       "      <th>36</th>\n",
       "      <td>145202</td>\n",
       "      <td>28.3</td>\n",
       "    </tr>\n",
       "  </tbody>\n",
       "</table>\n",
       "</div>"
      ],
      "text/plain": [
       "   sensor_index  pm25\n",
       "0        142718  31.5\n",
       "12       142752  27.0\n",
       "26       143248  36.4\n",
       "35       143944  79.0\n",
       "36       145202  28.3"
      ]
     },
     "execution_count": 7,
     "metadata": {},
     "output_type": "execute_result"
    }
   ],
   "source": [
    "print(runtime)\n",
    "\n",
    "spikes_df.head(5)"
   ]
  },
  {
   "cell_type": "markdown",
   "metadata": {},
   "source": [
    "# Update Active & Archived Alerts"
   ]
  },
  {
   "cell_type": "code",
   "execution_count": 8,
   "metadata": {},
   "outputs": [],
   "source": [
    "# Get active alerts from database\n",
    "\n",
    "conn = psycopg2.connect(**pg_connection_dict)\n",
    "\n",
    "# Create json cursor\n",
    "cur = conn.cursor()\n",
    "\n",
    "cmd = sql.SQL('''SELECT * \n",
    "FROM \"Active Alerts Acute PurpleAir\"\n",
    "''')\n",
    "\n",
    "cur.execute(cmd) # Execute\n",
    "\n",
    "conn.commit() # Committ command\n",
    "\n",
    "# Convert response into dataframe\n",
    "\n",
    "cols_for_active_alerts = ['alert_index', 'sensor_index', 'start_time', 'max_reading']\n",
    "active_alerts = pd.DataFrame(cur.fetchall(), columns = cols_for_active_alerts)"
   ]
  },
  {
   "cell_type": "code",
   "execution_count": 9,
   "metadata": {},
   "outputs": [
    {
     "data": {
      "text/html": [
       "<div>\n",
       "<style scoped>\n",
       "    .dataframe tbody tr th:only-of-type {\n",
       "        vertical-align: middle;\n",
       "    }\n",
       "\n",
       "    .dataframe tbody tr th {\n",
       "        vertical-align: top;\n",
       "    }\n",
       "\n",
       "    .dataframe thead th {\n",
       "        text-align: right;\n",
       "    }\n",
       "</style>\n",
       "<table border=\"1\" class=\"dataframe\">\n",
       "  <thead>\n",
       "    <tr style=\"text-align: right;\">\n",
       "      <th></th>\n",
       "      <th>alert_index</th>\n",
       "      <th>sensor_index</th>\n",
       "      <th>start_time</th>\n",
       "      <th>max_reading</th>\n",
       "    </tr>\n",
       "  </thead>\n",
       "  <tbody>\n",
       "    <tr>\n",
       "      <th>0</th>\n",
       "      <td>5</td>\n",
       "      <td>142752</td>\n",
       "      <td>2023-09-27 14:43:24</td>\n",
       "      <td>27.0</td>\n",
       "    </tr>\n",
       "    <tr>\n",
       "      <th>1</th>\n",
       "      <td>6</td>\n",
       "      <td>143944</td>\n",
       "      <td>2023-09-27 14:43:24</td>\n",
       "      <td>79.0</td>\n",
       "    </tr>\n",
       "    <tr>\n",
       "      <th>2</th>\n",
       "      <td>8</td>\n",
       "      <td>145504</td>\n",
       "      <td>2023-09-27 14:43:24</td>\n",
       "      <td>25.6</td>\n",
       "    </tr>\n",
       "    <tr>\n",
       "      <th>3</th>\n",
       "      <td>9</td>\n",
       "      <td>145610</td>\n",
       "      <td>2023-09-27 14:43:24</td>\n",
       "      <td>32.8</td>\n",
       "    </tr>\n",
       "    <tr>\n",
       "      <th>4</th>\n",
       "      <td>1</td>\n",
       "      <td>143248</td>\n",
       "      <td>2023-09-26 17:20:45</td>\n",
       "      <td>36.4</td>\n",
       "    </tr>\n",
       "  </tbody>\n",
       "</table>\n",
       "</div>"
      ],
      "text/plain": [
       "   alert_index  sensor_index          start_time  max_reading\n",
       "0            5        142752 2023-09-27 14:43:24         27.0\n",
       "1            6        143944 2023-09-27 14:43:24         79.0\n",
       "2            8        145504 2023-09-27 14:43:24         25.6\n",
       "3            9        145610 2023-09-27 14:43:24         32.8\n",
       "4            1        143248 2023-09-26 17:20:45         36.4"
      ]
     },
     "execution_count": 9,
     "metadata": {},
     "output_type": "execute_result"
    }
   ],
   "source": [
    "active_alerts"
   ]
  },
  {
   "cell_type": "code",
   "execution_count": 10,
   "metadata": {},
   "outputs": [],
   "source": [
    "# Check for:\n",
    "\n",
    "# 1) new,\n",
    "# 2) ongoing, \n",
    "# 3) and ended alerts\n",
    "\n",
    "# (set differences or intersection between sensor indices)\n",
    "\n",
    "current_active_spike_sensors = set(spikes_df.sensor_index) # From most recent api call\n",
    "previous_active_spike_sensors = set(active_alerts.sensor_index.astype(int)) # From our database\n",
    "\n",
    "# The sets of sensor indices (new, ended, ongoing)\n",
    "new_spike_sensors = current_active_spike_sensors - previous_active_spike_sensors\n",
    "ongoing_spike_sensors = current_active_spike_sensors.intersection(previous_active_spike_sensors)\n",
    "ended_spike_sensors = previous_active_spike_sensors - current_active_spike_sensors"
   ]
  },
  {
   "cell_type": "code",
   "execution_count": 11,
   "metadata": {},
   "outputs": [
    {
     "data": {
      "text/plain": [
       "{142718, 145202, 168327}"
      ]
     },
     "execution_count": 11,
     "metadata": {},
     "output_type": "execute_result"
    }
   ],
   "source": [
    "new_spike_sensors"
   ]
  },
  {
   "cell_type": "code",
   "execution_count": 12,
   "metadata": {},
   "outputs": [
    {
     "data": {
      "text/plain": [
       "{142752, 143248, 143944, 145504, 145610}"
      ]
     },
     "execution_count": 12,
     "metadata": {},
     "output_type": "execute_result"
    }
   ],
   "source": [
    "ongoing_spike_sensors"
   ]
  },
  {
   "cell_type": "code",
   "execution_count": 13,
   "metadata": {},
   "outputs": [
    {
     "data": {
      "text/plain": [
       "set()"
      ]
     },
     "execution_count": 13,
     "metadata": {},
     "output_type": "execute_result"
    }
   ],
   "source": [
    "ended_spike_sensors"
   ]
  },
  {
   "cell_type": "markdown",
   "metadata": {},
   "source": [
    "### New Alerts"
   ]
  },
  {
   "cell_type": "code",
   "execution_count": 14,
   "metadata": {},
   "outputs": [],
   "source": [
    "# Initialize for For Loop\n",
    "\n",
    "# Iterable (Find rows in spikes_df that are new spikes)\n",
    "\n",
    "new_spikes = spikes_df[spikes_df.sensor_index.isin(new_spike_sensors)]"
   ]
  },
  {
   "cell_type": "code",
   "execution_count": 15,
   "metadata": {},
   "outputs": [],
   "source": [
    "# Function Definitions\n",
    "\n",
    "# For each new alert, we should:\n",
    "\n",
    "# 1) Add to active alerts\n",
    "\n",
    "def add_to_active_alerts(row, pg_connection_dict, cols_for_db, runtime_for_db):\n",
    "\n",
    "    sensor_index = row.sensor_index\n",
    "    reading = row.pm25\n",
    "\n",
    "    # 1) Add to active alerts\n",
    "\n",
    "    # Create Cursor for commands\n",
    "    conn = psycopg2.connect(**pg_connection_dict)\n",
    "    cur = conn.cursor()\n",
    "    \n",
    "    # This is really a great way to insert a lot of data\n",
    "\n",
    "    vals = [sensor_index, runtime_for_db, reading]\n",
    "    \n",
    "    q1 = sql.SQL('INSERT INTO \"Active Alerts Acute PurpleAir\" ({}) VALUES ({});').format(\n",
    "     sql.SQL(', ').join(map(sql.Identifier, cols_for_db)),\n",
    "     sql.SQL(', ').join(sql.Placeholder() * (len(cols_for_db))))\n",
    "\n",
    "    cur.execute(q1.as_string(conn),\n",
    "        (vals)\n",
    "        )\n",
    "    # Commit command\n",
    "    conn.commit()"
   ]
  },
  {
   "cell_type": "code",
   "execution_count": 16,
   "metadata": {},
   "outputs": [],
   "source": [
    "# The For Loop\n",
    "\n",
    "if len(new_spike_sensors) > 0: # If there are new spikes\n",
    "    \n",
    "    # Variables for Database\n",
    "\n",
    "    cols_for_db = ['sensor_index', 'start_time', 'max_reading'] # Cols_for_db What are we keeping track of in active alerts?\n",
    "    \n",
    "    runtime_for_db = runtime.strftime('%Y-%m-%d %H:%M:%S') # The time PurpleAir API queried\n",
    "\n",
    "    # Iterate through new spikes\n",
    "    \n",
    "    for index, row in new_spikes.iterrows():\n",
    "\n",
    "        # 1) Add to active alerts\n",
    "    \n",
    "        add_to_active_alerts(row, pg_connection_dict, cols_for_db, runtime_for_db)"
   ]
  },
  {
   "cell_type": "markdown",
   "metadata": {},
   "source": [
    "### Ongoing Alerts"
   ]
  },
  {
   "cell_type": "code",
   "execution_count": 17,
   "metadata": {},
   "outputs": [
    {
     "data": {
      "text/plain": [
       "{142752, 143248, 143944, 145504, 145610}"
      ]
     },
     "execution_count": 17,
     "metadata": {},
     "output_type": "execute_result"
    }
   ],
   "source": [
    "ongoing_spike_sensors"
   ]
  },
  {
   "cell_type": "code",
   "execution_count": 18,
   "metadata": {},
   "outputs": [
    {
     "data": {
      "text/html": [
       "<div>\n",
       "<style scoped>\n",
       "    .dataframe tbody tr th:only-of-type {\n",
       "        vertical-align: middle;\n",
       "    }\n",
       "\n",
       "    .dataframe tbody tr th {\n",
       "        vertical-align: top;\n",
       "    }\n",
       "\n",
       "    .dataframe thead th {\n",
       "        text-align: right;\n",
       "    }\n",
       "</style>\n",
       "<table border=\"1\" class=\"dataframe\">\n",
       "  <thead>\n",
       "    <tr style=\"text-align: right;\">\n",
       "      <th></th>\n",
       "      <th>sensor_index</th>\n",
       "      <th>pm25</th>\n",
       "    </tr>\n",
       "  </thead>\n",
       "  <tbody>\n",
       "    <tr>\n",
       "      <th>12</th>\n",
       "      <td>142752</td>\n",
       "      <td>27.0</td>\n",
       "    </tr>\n",
       "    <tr>\n",
       "      <th>26</th>\n",
       "      <td>143248</td>\n",
       "      <td>36.4</td>\n",
       "    </tr>\n",
       "    <tr>\n",
       "      <th>35</th>\n",
       "      <td>143944</td>\n",
       "      <td>79.0</td>\n",
       "    </tr>\n",
       "    <tr>\n",
       "      <th>45</th>\n",
       "      <td>145504</td>\n",
       "      <td>25.6</td>\n",
       "    </tr>\n",
       "    <tr>\n",
       "      <th>47</th>\n",
       "      <td>145610</td>\n",
       "      <td>32.8</td>\n",
       "    </tr>\n",
       "  </tbody>\n",
       "</table>\n",
       "</div>"
      ],
      "text/plain": [
       "   sensor_index  pm25\n",
       "12       142752  27.0\n",
       "26       143248  36.4\n",
       "35       143944  79.0\n",
       "45       145504  25.6\n",
       "47       145610  32.8"
      ]
     },
     "execution_count": 18,
     "metadata": {},
     "output_type": "execute_result"
    }
   ],
   "source": [
    "# Initialize for For Loop\n",
    "\n",
    "# Iterable (Find rows in spikes_df that are new spikes)\n",
    "\n",
    "ongoing_spikes = spikes_df[spikes_df.sensor_index.isin(ongoing_spike_sensors)]\n",
    "\n",
    "ongoing_spikes"
   ]
  },
  {
   "cell_type": "code",
   "execution_count": 19,
   "metadata": {},
   "outputs": [],
   "source": [
    "# Function Definitions\n",
    "\n",
    "# For each ongoing alert, we should\n",
    "\n",
    "# 1) Update max_reading if it's higher\n",
    "\n",
    "def update_max_reading(row, pg_connection_dict):\n",
    "    '''\n",
    "    Row should be a row from the ongoing_spikes dataFrame\n",
    "    '''\n",
    "\n",
    "    sensor_index = row.sensor_index\n",
    "    reading = row.pm25\n",
    "\n",
    "    # 1) Add to active alerts\n",
    "\n",
    "    # Create Cursor for commands\n",
    "    conn = psycopg2.connect(**pg_connection_dict)\n",
    "    cur = conn.cursor()\n",
    "    \n",
    "    cmd = sql.SQL('''\n",
    "UPDATE \"Active Alerts Acute PurpleAir\"\n",
    "SET max_reading = GREATEST({}, max_reading)\n",
    "WHERE sensor_index = {};\n",
    "\n",
    "''').format(sql.Literal(reading), sql.Literal(sensor_index))\n",
    "\n",
    "    cur.execute(cmd)\n",
    "    # Commit command\n",
    "    conn.commit()\n",
    "\n",
    "    # Close cursor\n",
    "    cur.close()\n",
    "    # Close connection\n",
    "    conn.close()"
   ]
  },
  {
   "cell_type": "code",
   "execution_count": 20,
   "metadata": {},
   "outputs": [],
   "source": [
    "# The For Loop\n",
    "\n",
    "if len(ongoing_spikes) > 0:\n",
    "\n",
    "    for _, spike in ongoing_spikes.iterrows():\n",
    "    \n",
    "        update_max_reading(spike, pg_connection_dict)"
   ]
  },
  {
   "cell_type": "markdown",
   "metadata": {},
   "source": [
    "### Ended Alerts"
   ]
  },
  {
   "cell_type": "code",
   "execution_count": 21,
   "metadata": {},
   "outputs": [],
   "source": [
    "# # To manufacture an ended alert\n",
    "\n",
    "# print(new_spike_sensors)\n",
    "\n",
    "# new_spike_sensors = new_spike_sensors - {145202}\n",
    "# ended_spike_sensors = {145202}\n",
    "\n",
    "# print(new_spike_sensors)"
   ]
  },
  {
   "cell_type": "code",
   "execution_count": 22,
   "metadata": {},
   "outputs": [
    {
     "data": {
      "text/plain": [
       "set()"
      ]
     },
     "execution_count": 22,
     "metadata": {},
     "output_type": "execute_result"
    }
   ],
   "source": [
    "ended_spike_sensors"
   ]
  },
  {
   "cell_type": "code",
   "execution_count": 23,
   "metadata": {},
   "outputs": [
    {
     "data": {
      "text/html": [
       "<div>\n",
       "<style scoped>\n",
       "    .dataframe tbody tr th:only-of-type {\n",
       "        vertical-align: middle;\n",
       "    }\n",
       "\n",
       "    .dataframe tbody tr th {\n",
       "        vertical-align: top;\n",
       "    }\n",
       "\n",
       "    .dataframe thead th {\n",
       "        text-align: right;\n",
       "    }\n",
       "</style>\n",
       "<table border=\"1\" class=\"dataframe\">\n",
       "  <thead>\n",
       "    <tr style=\"text-align: right;\">\n",
       "      <th></th>\n",
       "      <th>sensor_index</th>\n",
       "      <th>pm25</th>\n",
       "    </tr>\n",
       "  </thead>\n",
       "  <tbody>\n",
       "  </tbody>\n",
       "</table>\n",
       "</div>"
      ],
      "text/plain": [
       "Empty DataFrame\n",
       "Columns: [sensor_index, pm25]\n",
       "Index: []"
      ]
     },
     "execution_count": 23,
     "metadata": {},
     "output_type": "execute_result"
    }
   ],
   "source": [
    "# Initialize for For Loop\n",
    "\n",
    "# Iterable (Find rows in spikes_df that are new spikes)\n",
    "\n",
    "ended_spikes = spikes_df[spikes_df.sensor_index.isin(ended_spike_sensors)]\n",
    "\n",
    "ended_spikes"
   ]
  },
  {
   "cell_type": "code",
   "execution_count": 24,
   "metadata": {},
   "outputs": [],
   "source": [
    "# Function Definitions\n",
    "\n",
    "# For each ended alert, we should\n",
    "\n",
    "# 1) Add to archived alerts\n",
    "\n",
    "def add_to_archived_alerts(ended_spikes, pg_connection_dict):\n",
    "    '''\n",
    "    '''\n",
    "\n",
    "    # Get relevant sensor indices as list\n",
    "    sensor_indices = ended_spikes.sensor_index.tolist()\n",
    "                           \n",
    "    # Create Cursor for commands\n",
    "    conn = psycopg2.connect(**pg_connection_dict)\n",
    "    cur = conn.cursor()\n",
    "\n",
    "    # This command selects the ended alerts from active alerts\n",
    "    # Then it gets the difference from the current time and when it started\n",
    "    # Lastly, it inserts this selection while converting that time difference into minutes for duration_minutes column\n",
    "    cmd = sql.SQL('''\n",
    "    WITH ended_alerts as\n",
    "    (\n",
    "    \tSELECT alert_index, sensor_index, start_time, CURRENT_TIMESTAMP - start_time as time_diff, max_reading \n",
    "     \tFROM \"Active Alerts Acute PurpleAir\"\n",
    "     \tWHERE sensor_index IN (SELECT UNNEST({}))\n",
    "    )\n",
    "    INSERT INTO \"Archived Alerts Acute PurpleAir\" \n",
    "    SELECT alert_index, sensor_index, start_time, (((DATE_PART('day', time_diff) * 24) + \n",
    "    \tDATE_PART('hour', time_diff)) * 60 + DATE_PART('minute', time_diff)) as duration_minutes, max_reading\n",
    "    FROM ended_alerts;\n",
    "    ''').format(sql.Literal(sensor_indices))\n",
    "    \n",
    "    cur.execute(cmd)\n",
    "    # Commit command\n",
    "    conn.commit()\n",
    "    \n",
    "    # Close cursor\n",
    "    cur.close()\n",
    "    # Close connection\n",
    "    conn.close()\n",
    "    \n",
    "\n",
    "#~~~~~~~~~~~~~~~~\n",
    "\n",
    "# 2) Remove from active alerts\n",
    "\n",
    "def remove_active_alerts(ended_spikes, pg_connection_dict):\n",
    "    '''\n",
    "    '''\n",
    "\n",
    "    # Get relevant sensor indices as list\n",
    "    sensor_indices = ended_spikes.sensor_index.tolist()\n",
    "                           \n",
    "    # Create Cursor for commands\n",
    "    conn = psycopg2.connect(**pg_connection_dict)\n",
    "    cur = conn.cursor()\n",
    "    \n",
    "    cmd = sql.SQL('''\n",
    "    DELETE FROM \"Active Alerts Acute PurpleAir\"\n",
    "    WHERE sensor_index IN (SELECT UNNEST({}));\n",
    "    ''').format(sql.Literal(sensor_indices))\n",
    "    \n",
    "    cur.execute(cmd)\n",
    "    # Commit command\n",
    "    conn.commit()\n",
    "    \n",
    "    # Close cursor\n",
    "    cur.close()\n",
    "    # Close connection\n",
    "    conn.close()"
   ]
  },
  {
   "cell_type": "code",
   "execution_count": 25,
   "metadata": {},
   "outputs": [],
   "source": [
    "# Perform the above\n",
    "\n",
    "if len(ended_spikes) > 0:\n",
    "\n",
    "    add_to_archived_alerts(ended_spikes, pg_connection_dict) # Add the ended SpikeAlerts to archive\n",
    "    \n",
    "    remove_active_alerts(ended_spikes, pg_connection_dict) # Remove them from Active Alerts"
   ]
  }
 ],
 "metadata": {
  "kernelspec": {
   "display_name": "Python 3 (ipykernel)",
   "language": "python",
   "name": "python3"
  },
  "language_info": {
   "codemirror_mode": {
    "name": "ipython",
    "version": 3
   },
   "file_extension": ".py",
   "mimetype": "text/x-python",
   "name": "python",
   "nbconvert_exporter": "python",
   "pygments_lexer": "ipython3",
   "version": "3.10.12"
  },
  "vscode": {
   "interpreter": {
    "hash": "eccf50a1291cb678adb751fb07cc0cb3ec85c824e49e2e3981e74f6a0155d408"
   }
  },
  "widgets": {
   "application/vnd.jupyter.widget-state+json": {
    "state": {},
    "version_major": 2,
    "version_minor": 0
   }
  }
 },
 "nbformat": 4,
 "nbformat_minor": 4
}
