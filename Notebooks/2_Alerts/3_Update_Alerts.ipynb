{
 "cells": [
  {
   "cell_type": "markdown",
   "metadata": {},
   "source": [
    "# Function to set up text alert messages\n",
    "**We should really set up a database to test this...**\n",
    "\n",
    "For 10 minute averages of all sensors (using the ATM PurpleAir estimations)\n",
    "\n",
    "This notebook retrieves readings from PurpleAir Sensors in Minneapolis and cleans the entries and texts people who are interested in the sensors if they are above a threshold"
   ]
  },
  {
   "cell_type": "markdown",
   "metadata": {},
   "source": [
    "## Import Packages"
   ]
  },
  {
   "cell_type": "code",
   "execution_count": 3,
   "metadata": {},
   "outputs": [],
   "source": [
    "### Import Packages\n",
    "\n",
    "# File manipulation\n",
    "\n",
    "import os # For working with Operating System\n",
    "import requests # Accessing the Web\n",
    "import datetime as dt # Working with dates/times\n",
    "\n",
    "# Database \n",
    "\n",
    "# import psycopg2\n",
    "# from psycopg2 import sql\n",
    "\n",
    "# Analysis\n",
    "\n",
    "import numpy as np\n",
    "import geopandas as gpd\n",
    "import pandas as pd\n",
    "\n",
    "# Get CWD\n",
    "\n",
    "cwd = os.getcwd()"
   ]
  },
  {
   "cell_type": "markdown",
   "metadata": {},
   "source": [
    "## Definitions"
   ]
  },
  {
   "cell_type": "code",
   "execution_count": 12,
   "metadata": {},
   "outputs": [
    {
     "name": "stdout",
     "output_type": "stream",
     "text": [
      "Please enter your Purple Air api key 51592903-B445-11ED-B6F4-42010A800007\n"
     ]
    }
   ],
   "source": [
    "# This is my personal API key... Please use responsibly! 51592903-B445-11ED-B6F4-42010A800007\n",
    "\n",
    "api = input('Please enter your Purple Air api key')"
   ]
  },
  {
   "cell_type": "code",
   "execution_count": 13,
   "metadata": {},
   "outputs": [],
   "source": [
    "# Load the necessary data\n",
    "\n",
    "datapath = os.path.join(cwd, '..', '..', 'Data')\n",
    "\n",
    "sensor_info = gpd.read_file(os.path.join(datapath, 'PurpleAir_Stations.geojson'))\n",
    "\n",
    "sensor_ids = sensor_info.sensor_index.unique().astype(int) # The sensor indices"
   ]
  },
  {
   "cell_type": "code",
   "execution_count": 14,
   "metadata": {},
   "outputs": [],
   "source": [
    "# Set the Spike threshold\n",
    "\n",
    "spike_threshold = 28 # Micgrograms per meter cubed"
   ]
  },
  {
   "cell_type": "markdown",
   "metadata": {},
   "source": [
    "## Check for Spikes"
   ]
  },
  {
   "cell_type": "code",
   "execution_count": 10,
   "metadata": {},
   "outputs": [
    {
     "name": "stdout",
     "output_type": "stream",
     "text": [
      "Help on function Get_spikes_df in module __main__:\n",
      "\n",
      "Get_spikes_df(api, sensor_ids, spike_threshold)\n",
      "    This function queries the PurpleAir API for sensors in the list of sensor_ids for readings over a spike threshold. \n",
      "    It will return a pandas dataframe with columns sensor_index (integer) and pm25 (float) as well as a runtime (datetime)\n",
      "    \n",
      "    Inputs:\n",
      "    \n",
      "    api = string of PurpleAir API api_read_key\n",
      "    sensor_ids = list of integers of purpleair sensor ids to query\n",
      "    spike_threshold = float of spike value threshold (keep values >=)\n",
      "    \n",
      "    Outputs:\n",
      "    \n",
      "    spikes_df = Pandas DataFrame with fields sensor_index (integer) and pm25 (float)\n",
      "    runtime = datetime object when query was run\n",
      "\n"
     ]
    }
   ],
   "source": [
    "# Check for spikes\n",
    "\n",
    "# Please see Scripts/Get_spikes_df.py\n",
    "\n",
    "exec(open(os.path.join('..', '..', 'Scripts', 'Get_spikes_df.py')).read())\n",
    "\n",
    "help(Get_spikes_df)"
   ]
  },
  {
   "cell_type": "code",
   "execution_count": 16,
   "metadata": {},
   "outputs": [],
   "source": [
    "spikes_df, runtime = Get_spikes_df(api, sensor_ids, spike_threshold)"
   ]
  },
  {
   "cell_type": "markdown",
   "metadata": {},
   "source": [
    "# Update Current Alerts"
   ]
  },
  {
   "cell_type": "code",
   "execution_count": 27,
   "metadata": {},
   "outputs": [],
   "source": [
    "# Load active alerts (this should be a database thing...)\n",
    "\n",
    "active_alerts = pd.read_csv(os.path.join(datapath, 'Active_Alerts_Acute_PurpleAir.csv'))"
   ]
  },
  {
   "cell_type": "code",
   "execution_count": 28,
   "metadata": {},
   "outputs": [],
   "source": [
    "# Check if any alerts ended\n",
    "\n",
    "current_spiked_sensors = set(spikes_df.sensor_index)\n",
    "\n",
    "old_spiked_sensors = set(active_alerts.sensor_index.astype(int)) # This should be a database thing\n",
    "\n",
    "ended_spiked_sensors = old_spiked_sensors - current_spiked_sensors"
   ]
  },
  {
   "cell_type": "code",
   "execution_count": 40,
   "metadata": {},
   "outputs": [],
   "source": [
    "# If there are ended alerts, we should:\n",
    "\n",
    "# 1) Add to archived alerts\n",
    "# 2) Message people it's over\n",
    "# 3) Remove from active alerts\n",
    "\n",
    "if len(ended_spiked_sensors) > 0:\n",
    "\n",
    "    # 1) Add them to alert archive\n",
    "\n",
    "    archived_alerts = pd.read_csv(os.path.join(datapath, 'Archived_Alerts_Acute_PurpleAir.csv'))\n",
    "    \n",
    "    done_alerts = active_alerts[active_alerts.sensor_index.isin(ended_spiked_sensors)].copy()\n",
    "\n",
    "    durations = ((runtime - pd.to_datetime(done_alerts.start_time)).dt.total_seconds()/60).astype(int)\n",
    "    # ^ This subtracts start_times of the done alerts from runtime, gets total seconds, divides by 60\n",
    "    # (to get minutes), and rounds to nearest integer\n",
    "    \n",
    "    done_alerts['duration'] = durations\n",
    "\n",
    "    # Concatenate and save (this really should be a submission using SQL...\n",
    "    pd.concat([archived_alerts, done_alerts]).to_csv(os.path.join(datapath, 'Archived_Alerts_Acute_PurpleAir.csv'))\n",
    "\n",
    "\n",
    "    # 2) Text people the spike is over\n",
    "    # NOT DONE HERE\n",
    "\n",
    "    # 3) Remove from current alerts (should be a database thing...)\n",
    "    \n",
    "    current_alerts = current_alerts[~current_alerts.sensor_index.isin(ended_spiked_sensors)]"
   ]
  },
  {
   "cell_type": "code",
   "execution_count": 45,
   "metadata": {},
   "outputs": [
    {
     "data": {
      "text/plain": [
       "sensor_index                      168327.0\n",
       "start_time      2023-08-21 09:54:47.240388\n",
       "max_reading                           32.7\n",
       "Name: 44, dtype: object"
      ]
     },
     "execution_count": 45,
     "metadata": {},
     "output_type": "execute_result"
    }
   ],
   "source": [
    "current_alerts.loc[len(current_alerts)-1, :]"
   ]
  },
  {
   "cell_type": "code",
   "execution_count": 49,
   "metadata": {},
   "outputs": [],
   "source": [
    "# Check if there is currently an alert out on this\n",
    "# Again, should be a database thing...\n",
    "\n",
    "for _, spike in spikes_df.iterrows():\n",
    "\n",
    "    sensor_index = int(spike.sensor_index)\n",
    "    reading = spike.pm25\n",
    "\n",
    "    # Is there already an alert for this?\n",
    "    \n",
    "    if sensor_index in list(current_alerts.sensor_index.astype(int)): # If yes\n",
    "\n",
    "         # Check if reading is higher than previous max and update\n",
    "        \n",
    "        alert = current_alerts[current_alerts.sensor_index == sensor_index].iloc[0] # Find the alert\n",
    "        \n",
    "        if reading > alert.max_reading:\n",
    "            \n",
    "            current_alerts.loc[alert.name, 'max_reading'] = reading # Replace max_reading\n",
    "\n",
    "    else:\n",
    "\n",
    "        # Start an alert\n",
    "\n",
    "        new_alert = [sensor_index, runtime, reading]\n",
    "\n",
    "        current_alerts.loc[len(current_alerts), :] = new_alert # Should be SQL\n",
    "\n",
    "        # Text everyone...\n",
    "        # NOT DONE\n",
    "        # message = create_message()\n",
    "\n",
    "        message = f'''SPIKE ALERT! {sensor_index} is reading at {reading} micrograms/meter^3.\n",
    "        You are receiving this text because you signed up for SpikeAlerts. \n",
    "        Please reply with STOP to be removed from this list.'''\n",
    "        \n",
    "        print(message)\n",
    "        \n",
    "        # print(message)"
   ]
  },
  {
   "cell_type": "code",
   "execution_count": 50,
   "metadata": {},
   "outputs": [],
   "source": [
    "current_alerts.to_csv(os.path.join(datapath, 'Active_Alerts_Acute_PurpleAir.csv'),\n",
    "                      index=False)"
   ]
  }
 ],
 "metadata": {
  "kernelspec": {
   "display_name": "Python 3",
   "language": "python",
   "name": "python3"
  },
  "language_info": {
   "codemirror_mode": {
    "name": "ipython",
    "version": 3
   },
   "file_extension": ".py",
   "mimetype": "text/x-python",
   "name": "python",
   "nbconvert_exporter": "python",
   "pygments_lexer": "ipython3",
   "version": "3.11.4 (main, Aug 20 2023, 21:58:20) [Clang 14.0.3 (clang-1403.0.22.14.1)]"
  },
  "vscode": {
   "interpreter": {
    "hash": "eccf50a1291cb678adb751fb07cc0cb3ec85c824e49e2e3981e74f6a0155d408"
   }
  },
  "widgets": {
   "application/vnd.jupyter.widget-state+json": {
    "state": {},
    "version_major": 2,
    "version_minor": 0
   }
  }
 },
 "nbformat": 4,
 "nbformat_minor": 4
}
