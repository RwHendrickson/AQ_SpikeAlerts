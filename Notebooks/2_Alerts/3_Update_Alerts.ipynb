{
 "cells": [
  {
   "cell_type": "markdown",
   "metadata": {},
   "source": [
    "# Functions to Update Alert Database"
   ]
  },
  {
   "cell_type": "markdown",
   "metadata": {},
   "source": [
    "# Prep"
   ]
  },
  {
   "cell_type": "markdown",
   "metadata": {},
   "source": [
    "## Import Packages"
   ]
  },
  {
   "cell_type": "code",
   "execution_count": 1,
   "metadata": {},
   "outputs": [],
   "source": [
    "# File Manipulation\n",
    "\n",
    "import os # For working with Operating System\n",
    "import sys # System arguments\n",
    "from dotenv import load_dotenv # Loading .env info\n",
    "\n",
    "# Web\n",
    "\n",
    "import requests # Accessing the Web\n",
    "\n",
    "# Time\n",
    "\n",
    "import datetime as dt # Working with dates/times\n",
    "import pytz # Timezones\n",
    "\n",
    "# Database \n",
    "\n",
    "import psycopg2\n",
    "from psycopg2 import sql\n",
    "\n",
    "# Data Manipulation\n",
    "\n",
    "import numpy as np\n",
    "import geopandas as gpd\n",
    "import pandas as pd"
   ]
  },
  {
   "cell_type": "markdown",
   "metadata": {},
   "source": [
    "### Load Functions"
   ]
  },
  {
   "cell_type": "code",
   "execution_count": 2,
   "metadata": {},
   "outputs": [],
   "source": [
    "script_path = os.path.join('..', '..', 'Scripts', 'python')\n",
    "\n",
    "# Function definition - Please see Scripts/python/*\n",
    "exec(open(os.path.join(script_path, 'Get_spikes_df.py')).read())"
   ]
  },
  {
   "cell_type": "markdown",
   "metadata": {},
   "source": [
    "### Global Variables"
   ]
  },
  {
   "cell_type": "code",
   "execution_count": 3,
   "metadata": {},
   "outputs": [],
   "source": [
    "load_dotenv() # Load .env file\n",
    "\n",
    "## API Keys\n",
    "\n",
    "purpleAir_api = os.getenv('PURPLEAIR_API_TOKEN') # PurpleAir API Read Key\n",
    "\n",
    "## Database credentials\n",
    "\n",
    "creds = [os.getenv('DB_NAME'),\n",
    "         os.getenv('DB_USER'),\n",
    "         os.getenv('DB_PASS'),\n",
    "         os.getenv('DB_PORT'),\n",
    "         os.getenv('DB_HOST')\n",
    "        ]\n",
    "\n",
    "pg_connection_dict = dict(zip(['dbname', 'user', 'password', 'port', 'host'], creds))  \n",
    "\n",
    "# Other Constants from System Arguments\n",
    "\n",
    "spike_threshold = 35 # Value which defines an AQ_Spike (Micgrograms per meter cubed)\n",
    "\n",
    "timestep = 10 # Sleep time in between updates (in Minutes)\n",
    "\n",
    "# When to stop the program? (datetime)\n",
    "days_to_run = 7 # How many days will we run this?\n",
    "stoptime = dt.datetime.now() + dt.timedelta(days=days_to_run)"
   ]
  },
  {
   "cell_type": "markdown",
   "metadata": {},
   "source": [
    "## Compute/Define other necessary variables "
   ]
  },
  {
   "cell_type": "code",
   "execution_count": 4,
   "metadata": {},
   "outputs": [],
   "source": [
    "#  Get the sensor_ids from sensors in our database\n",
    "\n",
    "sensor_ids = get_sensor_ids(pg_connection_dict) # In Get_Spikes_df.py"
   ]
  },
  {
   "cell_type": "code",
   "execution_count": 5,
   "metadata": {},
   "outputs": [],
   "source": [
    "# Get Spikes Dataframe and runtime\n",
    "\n",
    "spikes_df, runtime = Get_spikes_df(purpleAir_api, sensor_ids, spike_threshold) # In Get_Spikes_df.py"
   ]
  },
  {
   "cell_type": "markdown",
   "metadata": {},
   "source": [
    "# Definitions"
   ]
  },
  {
   "cell_type": "markdown",
   "metadata": {},
   "source": [
    "## Initial Functions"
   ]
  },
  {
   "cell_type": "markdown",
   "metadata": {},
   "source": [
    "### Get Active Alerts"
   ]
  },
  {
   "cell_type": "code",
   "execution_count": 6,
   "metadata": {},
   "outputs": [],
   "source": [
    "# Get active alerts from database\n",
    "\n",
    "conn = psycopg2.connect(**pg_connection_dict)\n",
    "\n",
    "# Create json cursor\n",
    "cur = conn.cursor()\n",
    "\n",
    "cmd = sql.SQL('''SELECT * \n",
    "FROM \"Active Alerts Acute PurpleAir\"\n",
    "''')\n",
    "\n",
    "cur.execute(cmd) # Execute\n",
    "\n",
    "conn.commit() # Committ command\n",
    "\n",
    "# Convert response into dataframe\n",
    "\n",
    "cols_for_active_alerts = ['alert_index', 'sensor_indices', 'start_time', 'max_reading']\n",
    "active_alerts = pd.DataFrame(cur.fetchall(), columns = cols_for_active_alerts)\n",
    "\n",
    "# Close cursor\n",
    "cur.close()\n",
    "# Close connection\n",
    "conn.close()"
   ]
  },
  {
   "cell_type": "code",
   "execution_count": 7,
   "metadata": {},
   "outputs": [
    {
     "data": {
      "text/html": [
       "<div>\n",
       "<style scoped>\n",
       "    .dataframe tbody tr th:only-of-type {\n",
       "        vertical-align: middle;\n",
       "    }\n",
       "\n",
       "    .dataframe tbody tr th {\n",
       "        vertical-align: top;\n",
       "    }\n",
       "\n",
       "    .dataframe thead th {\n",
       "        text-align: right;\n",
       "    }\n",
       "</style>\n",
       "<table border=\"1\" class=\"dataframe\">\n",
       "  <thead>\n",
       "    <tr style=\"text-align: right;\">\n",
       "      <th></th>\n",
       "      <th>alert_index</th>\n",
       "      <th>sensor_indices</th>\n",
       "      <th>start_time</th>\n",
       "      <th>max_reading</th>\n",
       "    </tr>\n",
       "  </thead>\n",
       "  <tbody>\n",
       "    <tr>\n",
       "      <th>0</th>\n",
       "      <td>16</td>\n",
       "      <td>[142752]</td>\n",
       "      <td>2023-10-27 15:20:59</td>\n",
       "      <td>27.0</td>\n",
       "    </tr>\n",
       "    <tr>\n",
       "      <th>1</th>\n",
       "      <td>3</td>\n",
       "      <td>[143944]</td>\n",
       "      <td>2023-10-26 02:58:16</td>\n",
       "      <td>79.0</td>\n",
       "    </tr>\n",
       "    <tr>\n",
       "      <th>2</th>\n",
       "      <td>17</td>\n",
       "      <td>[145202]</td>\n",
       "      <td>2023-10-27 15:20:59</td>\n",
       "      <td>28.3</td>\n",
       "    </tr>\n",
       "    <tr>\n",
       "      <th>3</th>\n",
       "      <td>18</td>\n",
       "      <td>[145504]</td>\n",
       "      <td>2023-10-27 15:20:59</td>\n",
       "      <td>25.6</td>\n",
       "    </tr>\n",
       "    <tr>\n",
       "      <th>4</th>\n",
       "      <td>19</td>\n",
       "      <td>[145610]</td>\n",
       "      <td>2023-10-27 15:20:59</td>\n",
       "      <td>32.8</td>\n",
       "    </tr>\n",
       "  </tbody>\n",
       "</table>\n",
       "</div>"
      ],
      "text/plain": [
       "   alert_index sensor_indices          start_time  max_reading\n",
       "0           16       [142752] 2023-10-27 15:20:59         27.0\n",
       "1            3       [143944] 2023-10-26 02:58:16         79.0\n",
       "2           17       [145202] 2023-10-27 15:20:59         28.3\n",
       "3           18       [145504] 2023-10-27 15:20:59         25.6\n",
       "4           19       [145610] 2023-10-27 15:20:59         32.8"
      ]
     },
     "execution_count": 7,
     "metadata": {},
     "output_type": "execute_result"
    }
   ],
   "source": [
    "active_alerts"
   ]
  },
  {
   "cell_type": "markdown",
   "metadata": {},
   "source": [
    "### Sort the Sensor IDs"
   ]
  },
  {
   "cell_type": "code",
   "execution_count": 8,
   "metadata": {},
   "outputs": [],
   "source": [
    "# Check for 4 types of Sensor ID\n",
    "# Using set operations between:\n",
    "\n",
    "# Currently active\n",
    "current_active_spike_sensors = set(spikes_df.sensor_index) # From most recent api call\n",
    "\n",
    "# Previously active\n",
    "if len(active_alerts) > 0:\n",
    "    previous_active_spike_sensors = set(active_alerts.sensor_indices.sum()) # From our database\n",
    "    # The sensor_indices are given as lists of indices because we may cluster alerts eventually\n",
    "else:\n",
    "    previous_active_spike_sensors = set()\n",
    "\n",
    "# The sets:\n",
    "\n",
    "# 1) new\n",
    "new_spike_sensors = current_active_spike_sensors - previous_active_spike_sensors\n",
    "\n",
    "# 2) ongoing, \n",
    "ongoing_spike_sensors = current_active_spike_sensors.intersection(previous_active_spike_sensors)\n",
    "\n",
    "# 3) ended alerts\n",
    "ended_spike_sensors = previous_active_spike_sensors - current_active_spike_sensors\n",
    "\n",
    "# 4) Not Spiked\n",
    "not_spiked_sensors = set(sensor_ids.astype(int)) - current_active_spike_sensors"
   ]
  },
  {
   "cell_type": "code",
   "execution_count": 9,
   "metadata": {},
   "outputs": [
    {
     "data": {
      "text/plain": [
       "set()"
      ]
     },
     "execution_count": 9,
     "metadata": {},
     "output_type": "execute_result"
    }
   ],
   "source": [
    "new_spike_sensors"
   ]
  },
  {
   "cell_type": "code",
   "execution_count": 10,
   "metadata": {},
   "outputs": [
    {
     "data": {
      "text/plain": [
       "{143944}"
      ]
     },
     "execution_count": 10,
     "metadata": {},
     "output_type": "execute_result"
    }
   ],
   "source": [
    "ongoing_spike_sensors"
   ]
  },
  {
   "cell_type": "code",
   "execution_count": 11,
   "metadata": {},
   "outputs": [
    {
     "data": {
      "text/plain": [
       "{142752, 145202, 145504, 145610}"
      ]
     },
     "execution_count": 11,
     "metadata": {},
     "output_type": "execute_result"
    }
   ],
   "source": [
    "ended_spike_sensors"
   ]
  },
  {
   "cell_type": "code",
   "execution_count": 12,
   "metadata": {},
   "outputs": [],
   "source": [
    "# not_spiked_sensors"
   ]
  },
  {
   "cell_type": "markdown",
   "metadata": {},
   "source": [
    "## New Alerts\n",
    "\n",
    "For each new alert, we should:"
   ]
  },
  {
   "cell_type": "code",
   "execution_count": 12,
   "metadata": {},
   "outputs": [],
   "source": [
    "# Initialize for For Loop\n",
    "\n",
    "# Iterable (Find rows in spikes_df that are new spikes)\n",
    "\n",
    "new_spikes = spikes_df[spikes_df.sensor_index.isin(new_spike_sensors)]"
   ]
  },
  {
   "cell_type": "markdown",
   "metadata": {},
   "source": [
    "### Add to Active Alerts"
   ]
  },
  {
   "cell_type": "code",
   "execution_count": 14,
   "metadata": {},
   "outputs": [],
   "source": [
    "# 1) Add to active alerts\n",
    "\n",
    "def add_to_active_alerts(row, pg_connection_dict, cols_for_db, runtime_for_db):\n",
    "\n",
    "    sensor_index = row.sensor_index\n",
    "    reading = row.pm25\n",
    "\n",
    "    # 1) Add to active alerts\n",
    "\n",
    "    # Create Cursor for commands\n",
    "    conn = psycopg2.connect(**pg_connection_dict)\n",
    "    cur = conn.cursor()\n",
    "    \n",
    "    # This is really a great way to insert a lot of data\n",
    "\n",
    "    vals = [[sensor_index], runtime_for_db, reading]\n",
    "    \n",
    "    q1 = sql.SQL('INSERT INTO \"Active Alerts Acute PurpleAir\" ({}) VALUES ({});').format(\n",
    "     sql.SQL(', ').join(map(sql.Identifier, cols_for_db)),\n",
    "     sql.SQL(', ').join(sql.Placeholder() * (len(cols_for_db))))\n",
    "\n",
    "    cur.execute(q1.as_string(conn),\n",
    "        (vals)\n",
    "        )\n",
    "    # Commit command\n",
    "    conn.commit()\n",
    "\n",
    "    # Get the alert_index that was just created\n",
    "    \n",
    "    cmd = sql.SQL('''SELECT alert_index\n",
    "FROM \"Active Alerts Acute PurpleAir\"\n",
    "WHERE sensor_indices = {}::int[];'''\n",
    "             ).format(sql.Literal([sensor_index]))\n",
    "    \n",
    "    cur.execute(cmd)     \n",
    "    \n",
    "    conn.commit() # Committ command\n",
    "    \n",
    "    newest_alert_index = cur.fetchall()[0][0]\n",
    "\n",
    "    # Close cursor\n",
    "    cur.close()\n",
    "    # Close connection\n",
    "    conn.close()\n",
    "\n",
    "    return newest_alert_index"
   ]
  },
  {
   "cell_type": "markdown",
   "metadata": {},
   "source": [
    "### Update User's Active Alerts - NOT DONE\n",
    "\n",
    "Add these alerts to user's active_alerts in database\n",
    "                    \n",
    "Potential Query: Select record_ids \n",
    "                 From \"Sign Up Information\"\n",
    "                 Where sensors of interest intersect with the an alert's sensor_indices"
   ]
  },
  {
   "cell_type": "markdown",
   "metadata": {},
   "source": [
    "### For loop for Experimenting"
   ]
  },
  {
   "cell_type": "code",
   "execution_count": 15,
   "metadata": {},
   "outputs": [],
   "source": [
    "# The For Loop\n",
    "\n",
    "if len(new_spike_sensors) > 0: # If there are new spikes\n",
    "    \n",
    "    # Variables for Database\n",
    "\n",
    "    cols_for_db = ['sensor_index', 'start_time', 'max_reading'] # Cols_for_db What are we keeping track of in active alerts?\n",
    "    \n",
    "    runtime_for_db = runtime.strftime('%Y-%m-%d %H:%M:%S') # The time PurpleAir API queried\n",
    "\n",
    "    # Iterate through new spikes\n",
    "    \n",
    "    for index, row in new_spikes.iterrows():\n",
    "\n",
    "        # 1) Add to active alerts\n",
    "    \n",
    "        add_to_active_alerts(row, pg_connection_dict, cols_for_db, runtime_for_db)"
   ]
  },
  {
   "cell_type": "markdown",
   "metadata": {},
   "source": [
    "## Ongoing Alerts"
   ]
  },
  {
   "cell_type": "code",
   "execution_count": 16,
   "metadata": {},
   "outputs": [
    {
     "data": {
      "text/plain": [
       "{143944}"
      ]
     },
     "execution_count": 16,
     "metadata": {},
     "output_type": "execute_result"
    }
   ],
   "source": [
    "ongoing_spike_sensors"
   ]
  },
  {
   "cell_type": "code",
   "execution_count": 17,
   "metadata": {},
   "outputs": [
    {
     "data": {
      "text/html": [
       "<div>\n",
       "<style scoped>\n",
       "    .dataframe tbody tr th:only-of-type {\n",
       "        vertical-align: middle;\n",
       "    }\n",
       "\n",
       "    .dataframe tbody tr th {\n",
       "        vertical-align: top;\n",
       "    }\n",
       "\n",
       "    .dataframe thead th {\n",
       "        text-align: right;\n",
       "    }\n",
       "</style>\n",
       "<table border=\"1\" class=\"dataframe\">\n",
       "  <thead>\n",
       "    <tr style=\"text-align: right;\">\n",
       "      <th></th>\n",
       "      <th>sensor_index</th>\n",
       "      <th>pm25</th>\n",
       "    </tr>\n",
       "  </thead>\n",
       "  <tbody>\n",
       "    <tr>\n",
       "      <th>35</th>\n",
       "      <td>143944</td>\n",
       "      <td>79.0</td>\n",
       "    </tr>\n",
       "  </tbody>\n",
       "</table>\n",
       "</div>"
      ],
      "text/plain": [
       "   sensor_index  pm25\n",
       "35       143944  79.0"
      ]
     },
     "execution_count": 17,
     "metadata": {},
     "output_type": "execute_result"
    }
   ],
   "source": [
    "# Initialize for For Loop\n",
    "\n",
    "# Iterable (Find rows in spikes_df that are new spikes)\n",
    "\n",
    "ongoing_spikes = spikes_df[spikes_df.sensor_index.isin(ongoing_spike_sensors)]\n",
    "\n",
    "ongoing_spikes"
   ]
  },
  {
   "cell_type": "code",
   "execution_count": 18,
   "metadata": {},
   "outputs": [],
   "source": [
    "# Function Definitions\n",
    "\n",
    "# For each ongoing alert, we should\n",
    "\n",
    "# 1) Update max_reading if it's higher\n",
    "\n",
    "def update_max_reading(row, pg_connection_dict):\n",
    "    '''\n",
    "    Row should be a row from the ongoing_spikes dataFrame\n",
    "    '''\n",
    "\n",
    "    sensor_index = row.sensor_index\n",
    "    reading = row.pm25\n",
    "\n",
    "    # 1) Add to active alerts\n",
    "\n",
    "    # Create Cursor for commands\n",
    "    conn = psycopg2.connect(**pg_connection_dict)\n",
    "    cur = conn.cursor()\n",
    "    \n",
    "    cmd = sql.SQL('''\n",
    "UPDATE \"Active Alerts Acute PurpleAir\"\n",
    "SET max_reading = GREATEST({}, max_reading)\n",
    "WHERE {} = ANY (sensor_indices);\n",
    "\n",
    "''').format(sql.Literal(reading), sql.Literal(sensor_index))\n",
    "\n",
    "    cur.execute(cmd)\n",
    "    # Commit command\n",
    "    conn.commit()\n",
    "\n",
    "    # Close cursor\n",
    "    cur.close()\n",
    "    # Close connection\n",
    "    conn.close()"
   ]
  },
  {
   "cell_type": "code",
   "execution_count": 19,
   "metadata": {},
   "outputs": [],
   "source": [
    "# The For Loop\n",
    "\n",
    "if len(ongoing_spikes) > 0:\n",
    "\n",
    "    for _, spike in ongoing_spikes.iterrows():\n",
    "    \n",
    "        update_max_reading(spike, pg_connection_dict)"
   ]
  },
  {
   "cell_type": "markdown",
   "metadata": {},
   "source": [
    "## Ended Alerts"
   ]
  },
  {
   "cell_type": "code",
   "execution_count": null,
   "metadata": {},
   "outputs": [],
   "source": [
    "# # # To manufacture an ended alert\n",
    "\n",
    "# new_spike_sensors = new_spike_sensors - {143944}\n",
    "# ended_spike_sensors = {143944}"
   ]
  },
  {
   "cell_type": "code",
   "execution_count": null,
   "metadata": {},
   "outputs": [],
   "source": [
    "# print(not_spiked_sensors)"
   ]
  },
  {
   "cell_type": "code",
   "execution_count": null,
   "metadata": {},
   "outputs": [],
   "source": [
    "# Function Definitions\n",
    "\n",
    "# For each ended alert, we should\n",
    "\n",
    "# 1) Add to archived alerts\n",
    "\n",
    "def add_to_archived_alerts(not_spiked_sensors, pg_connection_dict):\n",
    "    '''\n",
    "    '''\n",
    "\n",
    "    # Get relevant sensor indices as list\n",
    "    sensor_indices = list(not_spiked_sensors)\n",
    "                           \n",
    "    # Create Cursor for commands\n",
    "    conn = psycopg2.connect(**pg_connection_dict)\n",
    "    cur = conn.cursor()\n",
    "\n",
    "    # This command selects the ended alerts from active alerts\n",
    "    # Then it gets the difference from the current time and when it started\n",
    "    # Lastly, it inserts this selection while converting that time difference into minutes for duration_minutes column\n",
    "    cmd = sql.SQL('''\n",
    "    WITH ended_alerts as\n",
    "    (\n",
    "    \tSELECT alert_index, sensor_indices, start_time, CURRENT_TIMESTAMP AT TIME ZONE 'America/Chicago' - start_time as time_diff, max_reading \n",
    "     \tFROM \"Active Alerts Acute PurpleAir\"\n",
    "     \tWHERE sensor_indices <@ {}::int[] -- contained\n",
    "    )\n",
    "    INSERT INTO \"Archived Alerts Acute PurpleAir\" \n",
    "    SELECT alert_index, sensor_indices, start_time, (((DATE_PART('day', time_diff) * 24) + \n",
    "    \tDATE_PART('hour', time_diff)) * 60 + DATE_PART('minute', time_diff)) as duration_minutes, max_reading\n",
    "    FROM ended_alerts;\n",
    "    ''').format(sql.Literal(sensor_indices))\n",
    "    \n",
    "    cur.execute(cmd)\n",
    "    # Commit command\n",
    "    conn.commit()\n",
    "    \n",
    "    # Close cursor\n",
    "    cur.close()\n",
    "    # Close connection\n",
    "    conn.close()\n",
    "    \n",
    "\n",
    "#~~~~~~~~~~~~~~~~"
   ]
  },
  {
   "cell_type": "code",
   "execution_count": null,
   "metadata": {},
   "outputs": [],
   "source": [
    "# 2) Remove from active alerts\n",
    "\n",
    "def remove_active_alerts(not_spiked_sensors, pg_connection_dict):\n",
    "    '''\n",
    "    This function removes the ended_spikes from the Active Alerts Table\n",
    "    It also retrieves their alert_index\n",
    "    \n",
    "    ended_spike_sensors is a set of sensor indices that have ended spikes Alerts\n",
    "    \n",
    "    ended_alert_indices is returned alert_index of the removed alerts for accessing Archive for end message \n",
    "    \n",
    "    '''\n",
    "\n",
    "    # Get relevant sensor indices as list\n",
    "    sensor_indices = list(not_spiked_sensors)\n",
    "                           \n",
    "    # Create Cursor for commands\n",
    "    conn = psycopg2.connect(**pg_connection_dict)\n",
    "    cur = conn.cursor()\n",
    "    \n",
    "    cmd = sql.SQL('''\n",
    "    SELECT alert_index\n",
    "    FROM \"Active Alerts Acute PurpleAir\"\n",
    "    WHERE sensor_indices <@ {}::int[]; -- contained\n",
    "    ''').format(sql.Literal(sensor_indices))\n",
    "    \n",
    "    cur.execute(cmd)\n",
    "    # Commit command\n",
    "    conn.commit()\n",
    "    \n",
    "    ended_alert_indices = [i[0] for i in cur.fetchall()]\n",
    "    \n",
    "    cmd = sql.SQL('''\n",
    "    DELETE FROM \"Active Alerts Acute PurpleAir\"\n",
    "    WHERE sensor_indices <@ {}::int[]; -- contained\n",
    "    ''').format(sql.Literal(sensor_indices))\n",
    "    \n",
    "    cur.execute(cmd)\n",
    "    # Commit command\n",
    "    conn.commit()\n",
    "    \n",
    "    # Close cursor\n",
    "    cur.close()\n",
    "    # Close connection\n",
    "    conn.close()\n",
    "\n",
    "    return ended_alert_indices\n",
    "\n",
    "# ~~~~~~~~~~~~~~~~~~~~~~~~~~~~~    \n",
    "  "
   ]
  },
  {
   "cell_type": "code",
   "execution_count": null,
   "metadata": {},
   "outputs": [],
   "source": [
    "# To test\n",
    "\n",
    "if len(ended_spike_sensors) > 0:\n",
    "\n",
    "    add_to_archived_alerts(not_spiked_sensors.union(ended_spike_sensors), pg_connection_dict) # Add the ended SpikeAlerts to archive\n",
    "    \n",
    "    ended_alert_indices = remove_active_alerts(not_spiked_sensors.union(ended_spike_sensors), pg_connection_dict) # Remove them from Active Alerts\n",
    "\n",
    "    print(ended_alert_indices)"
   ]
  },
  {
   "cell_type": "code",
   "execution_count": null,
   "metadata": {},
   "outputs": [],
   "source": [
    "  \n",
    "# 3) Transfer these alerts from \"Sign Up Information\" active_alerts to \"Sign Up Information\" cached_alerts\n",
    "\n",
    "def cache_alerts(ended_alert_indices, pg_connection_dict):\n",
    "    '''\n",
    "    NOT DONE\n",
    "    '''\n",
    "\n",
    "# ~~~~~~~~~~~~~~~~~~~~~~~~~~~~~    \n",
    "   "
   ]
  },
  {
   "cell_type": "code",
   "execution_count": null,
   "metadata": {},
   "outputs": [],
   "source": [
    " \n",
    "# 4-5b) Query for people to text, initialize reports, text people - see Send_Alerts.py\n",
    "\n",
    "# ~~~~~~~~~~~~~~~~~~~~~~~~~~~~~    "
   ]
  },
  {
   "cell_type": "code",
   "execution_count": null,
   "metadata": {},
   "outputs": [],
   "source": [
    "# 5c) Clear a user's cache\n",
    "\n",
    "def clear_cached_alerts(record_id, pg_connection_dict):\n",
    "    '''\n",
    "    NOT DONE\n",
    "    '''"
   ]
  }
 ],
 "metadata": {
  "kernelspec": {
   "display_name": "Python 3 (ipykernel)",
   "language": "python",
   "name": "python3"
  },
  "language_info": {
   "codemirror_mode": {
    "name": "ipython",
    "version": 3
   },
   "file_extension": ".py",
   "mimetype": "text/x-python",
   "name": "python",
   "nbconvert_exporter": "python",
   "pygments_lexer": "ipython3",
   "version": "3.10.12"
  },
  "vscode": {
   "interpreter": {
    "hash": "eccf50a1291cb678adb751fb07cc0cb3ec85c824e49e2e3981e74f6a0155d408"
   }
  },
  "widgets": {
   "application/vnd.jupyter.widget-state+json": {
    "state": {},
    "version_major": 2,
    "version_minor": 0
   }
  }
 },
 "nbformat": 4,
 "nbformat_minor": 4
}
