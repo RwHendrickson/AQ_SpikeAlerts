{
 "cells": [
  {
   "cell_type": "markdown",
   "metadata": {},
   "source": [
    "# Functions to Update Alert Database"
   ]
  },
  {
   "cell_type": "markdown",
   "metadata": {},
   "source": [
    "# Prep"
   ]
  },
  {
   "cell_type": "markdown",
   "metadata": {},
   "source": [
    "## Import Packages"
   ]
  },
  {
   "cell_type": "code",
   "execution_count": 1,
   "metadata": {},
   "outputs": [],
   "source": [
    "# File Manipulation\n",
    "\n",
    "import os # For working with Operating System\n",
    "import sys # System arguments\n",
    "from dotenv import load_dotenv # Loading .env info\n",
    "\n",
    "# Web\n",
    "\n",
    "import requests # Accessing the Web\n",
    "\n",
    "# Time\n",
    "\n",
    "import datetime as dt # Working with dates/times\n",
    "import pytz # Timezones\n",
    "\n",
    "# Database \n",
    "\n",
    "import psycopg2\n",
    "from psycopg2 import sql\n",
    "\n",
    "# Data Manipulation\n",
    "\n",
    "import numpy as np\n",
    "import geopandas as gpd\n",
    "import pandas as pd"
   ]
  },
  {
   "cell_type": "markdown",
   "metadata": {},
   "source": [
    "### Load Functions"
   ]
  },
  {
   "cell_type": "code",
   "execution_count": 4,
   "metadata": {},
   "outputs": [],
   "source": [
    "script_path = os.path.join('..', '..', 'Scripts', 'python')\n",
    "\n",
    "# Function definition - Please see Scripts/python/*\n",
    "exec(open(os.path.join(script_path, 'Get_spikes_df.py')).read())\n",
    "exec(open(os.path.join(script_path, 'Send_Alerts.py')).read())"
   ]
  },
  {
   "cell_type": "markdown",
   "metadata": {},
   "source": [
    "### Global Variables"
   ]
  },
  {
   "cell_type": "code",
   "execution_count": 3,
   "metadata": {},
   "outputs": [],
   "source": [
    "load_dotenv() # Load .env file\n",
    "\n",
    "## API Keys\n",
    "\n",
    "purpleAir_api = os.getenv('PURPLEAIR_API_TOKEN') # PurpleAir API Read Key\n",
    "\n",
    "## Database credentials\n",
    "\n",
    "creds = [os.getenv('DB_NAME'),\n",
    "         os.getenv('DB_USER'),\n",
    "         os.getenv('DB_PASS'),\n",
    "         os.getenv('DB_PORT'),\n",
    "         os.getenv('DB_HOST')\n",
    "        ]\n",
    "\n",
    "pg_connection_dict = dict(zip(['dbname', 'user', 'password', 'port', 'host'], creds))  \n",
    "\n",
    "# Other Constants from System Arguments\n",
    "\n",
    "spike_threshold = 35 # Value which defines an AQ_Spike (Micgrograms per meter cubed)\n",
    "\n",
    "timestep = 10 # Sleep time in between updates (in Minutes)\n",
    "\n",
    "# When to stop the program? (datetime)\n",
    "days_to_run = 7 # How many days will we run this?\n",
    "stoptime = dt.datetime.now() + dt.timedelta(days=days_to_run)"
   ]
  },
  {
   "cell_type": "markdown",
   "metadata": {},
   "source": [
    "## Compute/Define other necessary variables "
   ]
  },
  {
   "cell_type": "code",
   "execution_count": 6,
   "metadata": {},
   "outputs": [],
   "source": [
    "#  Get the sensor_ids from sensors in our database\n",
    "\n",
    "sensor_ids = get_sensor_ids(pg_connection_dict) # In Get_Spikes_df.py"
   ]
  },
  {
   "cell_type": "code",
   "execution_count": 7,
   "metadata": {},
   "outputs": [],
   "source": [
    "# Get Spikes Dataframe and runtime\n",
    "\n",
    "spikes_df, runtime, flagged_sensor_ids = Get_spikes_df(purpleAir_api, sensor_ids, spike_threshold) # In Get_Spikes_df.py"
   ]
  },
  {
   "cell_type": "markdown",
   "metadata": {},
   "source": [
    "# Definitions"
   ]
  },
  {
   "cell_type": "markdown",
   "metadata": {},
   "source": [
    "## Initial Functions"
   ]
  },
  {
   "cell_type": "markdown",
   "metadata": {},
   "source": [
    "### Get Active Alerts"
   ]
  },
  {
   "cell_type": "code",
   "execution_count": 8,
   "metadata": {},
   "outputs": [],
   "source": [
    "# Get active alerts from database\n",
    "\n",
    "conn = psycopg2.connect(**pg_connection_dict)\n",
    "\n",
    "# Create json cursor\n",
    "cur = conn.cursor()\n",
    "\n",
    "cmd = sql.SQL('''SELECT * \n",
    "FROM \"Active Alerts Acute PurpleAir\"\n",
    "''')\n",
    "\n",
    "cur.execute(cmd) # Execute\n",
    "\n",
    "conn.commit() # Committ command\n",
    "\n",
    "# Convert response into dataframe\n",
    "\n",
    "cols_for_active_alerts = ['alert_index', 'sensor_indices', 'start_time', 'max_reading']\n",
    "active_alerts = pd.DataFrame(cur.fetchall(), columns = cols_for_active_alerts)\n",
    "\n",
    "# Close cursor\n",
    "cur.close()\n",
    "# Close connection\n",
    "conn.close()"
   ]
  },
  {
   "cell_type": "code",
   "execution_count": 9,
   "metadata": {},
   "outputs": [
    {
     "data": {
      "text/html": [
       "<div>\n",
       "<style scoped>\n",
       "    .dataframe tbody tr th:only-of-type {\n",
       "        vertical-align: middle;\n",
       "    }\n",
       "\n",
       "    .dataframe tbody tr th {\n",
       "        vertical-align: top;\n",
       "    }\n",
       "\n",
       "    .dataframe thead th {\n",
       "        text-align: right;\n",
       "    }\n",
       "</style>\n",
       "<table border=\"1\" class=\"dataframe\">\n",
       "  <thead>\n",
       "    <tr style=\"text-align: right;\">\n",
       "      <th></th>\n",
       "      <th>alert_index</th>\n",
       "      <th>sensor_indices</th>\n",
       "      <th>start_time</th>\n",
       "      <th>max_reading</th>\n",
       "    </tr>\n",
       "  </thead>\n",
       "  <tbody>\n",
       "    <tr>\n",
       "      <th>0</th>\n",
       "      <td>64</td>\n",
       "      <td>[145614]</td>\n",
       "      <td>2023-11-03 11:59:01</td>\n",
       "      <td>92.8</td>\n",
       "    </tr>\n",
       "  </tbody>\n",
       "</table>\n",
       "</div>"
      ],
      "text/plain": [
       "   alert_index sensor_indices          start_time  max_reading\n",
       "0           64       [145614] 2023-11-03 11:59:01         92.8"
      ]
     },
     "execution_count": 9,
     "metadata": {},
     "output_type": "execute_result"
    }
   ],
   "source": [
    "active_alerts"
   ]
  },
  {
   "cell_type": "markdown",
   "metadata": {},
   "source": [
    "### Sort the Sensor IDs"
   ]
  },
  {
   "cell_type": "code",
   "execution_count": 10,
   "metadata": {},
   "outputs": [],
   "source": [
    "# Check for 4 types of Sensor ID\n",
    "# Using set operations between:\n",
    "\n",
    "# Currently active\n",
    "current_active_spike_sensors = set(spikes_df.sensor_index) # From most recent api call\n",
    "\n",
    "# Previously active\n",
    "if len(active_alerts) > 0:\n",
    "    previous_active_spike_sensors = set(active_alerts.sensor_indices.sum()) # From our database\n",
    "    # The sensor_indices are given as lists of indices because we may cluster alerts eventually\n",
    "else:\n",
    "    previous_active_spike_sensors = set()\n",
    "\n",
    "# The sets:\n",
    "\n",
    "# 1) new\n",
    "new_spike_sensors = current_active_spike_sensors - previous_active_spike_sensors\n",
    "\n",
    "# 2) ongoing, \n",
    "ongoing_spike_sensors = current_active_spike_sensors.intersection(previous_active_spike_sensors)\n",
    "\n",
    "# 3) ended alerts\n",
    "ended_spike_sensors = previous_active_spike_sensors - current_active_spike_sensors\n",
    "\n",
    "# 4) Not Spiked\n",
    "not_spiked_sensors = set(sensor_ids.astype(int)) - current_active_spike_sensors - set(flagged_sensor_ids.astype(int))"
   ]
  },
  {
   "cell_type": "code",
   "execution_count": 11,
   "metadata": {},
   "outputs": [
    {
     "data": {
      "text/plain": [
       "set()"
      ]
     },
     "execution_count": 11,
     "metadata": {},
     "output_type": "execute_result"
    }
   ],
   "source": [
    "new_spike_sensors"
   ]
  },
  {
   "cell_type": "code",
   "execution_count": 12,
   "metadata": {},
   "outputs": [
    {
     "data": {
      "text/plain": [
       "set()"
      ]
     },
     "execution_count": 12,
     "metadata": {},
     "output_type": "execute_result"
    }
   ],
   "source": [
    "ongoing_spike_sensors"
   ]
  },
  {
   "cell_type": "code",
   "execution_count": 13,
   "metadata": {},
   "outputs": [
    {
     "data": {
      "text/plain": [
       "{145614}"
      ]
     },
     "execution_count": 13,
     "metadata": {},
     "output_type": "execute_result"
    }
   ],
   "source": [
    "ended_spike_sensors"
   ]
  },
  {
   "cell_type": "markdown",
   "metadata": {},
   "source": [
    "## New Alerts\n",
    "\n",
    "For each new alert, we should:"
   ]
  },
  {
   "cell_type": "code",
   "execution_count": 36,
   "metadata": {},
   "outputs": [],
   "source": [
    "# Initialize for For Loop\n",
    "\n",
    "# Iterable (Find rows in spikes_df that are new spikes)\n",
    "\n",
    "new_spikes = spikes_df[spikes_df.sensor_index.isin(new_spike_sensors)]"
   ]
  },
  {
   "cell_type": "markdown",
   "metadata": {},
   "source": [
    "### Add to Active Alerts"
   ]
  },
  {
   "cell_type": "code",
   "execution_count": 28,
   "metadata": {},
   "outputs": [],
   "source": [
    "# 1) Add to active alerts\n",
    "\n",
    "def add_to_active_alerts(row, pg_connection_dict, runtime_for_db):\n",
    "    '''\n",
    "    This takes a row from spikes_df[spikes_df.sensor_index.isin(new_spike_sensors)],\n",
    "    the connection dictionary,\n",
    "    runtime_for_db = when purpleair was queried as a string (runtime.strftime('%Y-%m-%d %H:%M:%S'))\n",
    "    \n",
    "    it returns the alert_index that it created\n",
    "    \n",
    "    '''\n",
    "\n",
    "    cols_for_db = ['sensor_indices', 'start_time', 'max_reading']\n",
    "    sensor_index = row.sensor_index\n",
    "    reading = row.pm25\n",
    "\n",
    "    # 1) Add to active alerts\n",
    "\n",
    "    # Create Cursor for commands\n",
    "    conn = psycopg2.connect(**pg_connection_dict)\n",
    "    cur = conn.cursor()\n",
    "    \n",
    "    # This is really a great way to insert a lot of data\n",
    "\n",
    "    vals = [[sensor_index], runtime_for_db, reading]\n",
    "    \n",
    "    q1 = sql.SQL('INSERT INTO \"Active Alerts Acute PurpleAir\" ({}) VALUES ({});').format(\n",
    "     sql.SQL(', ').join(map(sql.Identifier, cols_for_db)),\n",
    "     sql.SQL(', ').join(sql.Placeholder() * (len(cols_for_db))))\n",
    "\n",
    "    cur.execute(q1.as_string(conn),\n",
    "        (vals)\n",
    "        )\n",
    "    # Commit command\n",
    "    conn.commit()\n",
    "\n",
    "    # Get the alert_index that was just created\n",
    "    \n",
    "    cmd = sql.SQL('''SELECT alert_index\n",
    "FROM \"Active Alerts Acute PurpleAir\"\n",
    "WHERE sensor_indices = {}::int[];'''\n",
    "             ).format(sql.Literal([sensor_index]))\n",
    "    \n",
    "    cur.execute(cmd)     \n",
    "    \n",
    "    conn.commit() # Committ command\n",
    "    \n",
    "    newest_alert_index = cur.fetchall()[0][0]\n",
    "\n",
    "    # Close cursor\n",
    "    cur.close()\n",
    "    # Close connection\n",
    "    conn.close()\n",
    "\n",
    "    return newest_alert_index"
   ]
  },
  {
   "cell_type": "markdown",
   "metadata": {},
   "source": [
    "### Update User's Active Alerts\n",
    "\n",
    "Add these alerts to user's active_alerts in database"
   ]
  },
  {
   "cell_type": "code",
   "execution_count": 26,
   "metadata": {},
   "outputs": [],
   "source": [
    "def update_users_active_alerts(record_ids, alert_index, pg_connection_dict):\n",
    "    '''\n",
    "    This function takes a list of record_ids (users), an alert index (integer), and pg_connection_dict\n",
    "\n",
    "    It will add this alert index to all the record_ids' active_alerts\n",
    "    '''\n",
    "\n",
    "    # Create Cursor for commands\n",
    "    conn = psycopg2.connect(**pg_connection_dict)\n",
    "    cur = conn.cursor()\n",
    "    \n",
    "    cmd = sql.SQL('''\n",
    "UPDATE \"Sign Up Information\"\n",
    "SET active_alerts = ARRAY_APPEND(active_alerts, {}) -- inserted alert_index\n",
    "WHERE record_id = ANY ( {} ); -- inserted record_ids \n",
    "    ''').format(sql.Literal(alert_index),\n",
    "                sql.Literal(record_ids)\n",
    "               )\n",
    "\n",
    "    cur.execute(cmd\n",
    "        )\n",
    "    # Commit command\n",
    "    conn.commit()\n",
    "\n",
    "    # Close cursor\n",
    "    cur.close()\n",
    "    # Close connection\n",
    "    conn.close()"
   ]
  },
  {
   "cell_type": "markdown",
   "metadata": {},
   "source": [
    "### For loop for Experimenting"
   ]
  },
  {
   "cell_type": "code",
   "execution_count": 34,
   "metadata": {},
   "outputs": [],
   "source": [
    "# The For Loop\n",
    "\n",
    "# Fake values\n",
    "new_spike_sensors = [142720]\n",
    "new_spikes_df = pd.DataFrame([[142720,35.]], columns = ['sensor_index', \n",
    "                               'pm25'])\n",
    "\n",
    "\n",
    "if len(new_spike_sensors) > 0:\n",
    "\n",
    "    # new_spikes_df = spikes_df[spikes_df.sensor_index.isin(new_spike_sensors)] \n",
    "\n",
    "    for index, row in new_spikes_df.iterrows():\n",
    "\n",
    "        # 1) Add to active alerts\n",
    "    \n",
    "        newest_alert_index = add_to_active_alerts(row, pg_connection_dict,\n",
    "                             runtime.strftime('%Y-%m-%d %H:%M:%S') # When we ran the PurpleAir Query\n",
    "                            ) # In Update_Alerts.py\n",
    "        \n",
    "        # 2) Query users ST_Dwithin 1000 meters & subscribed = TRUE\n",
    "        \n",
    "        record_ids_nearby = Users_nearby_sensor(pg_connection_dict, row.sensor_index, 1000) # in Send_Alerts.py\n",
    "        \n",
    "        if len(record_ids_nearby) > 0:\n",
    "\n",
    "            # if (now.hour < too_late_hr) & (now.hour > too_early_hr): # Waking Hours\n",
    "        \n",
    "            #     # a) Query users from record_ids_nearby if both active_alerts and cached_alerts are empty\n",
    "            #     record_ids_new_alerts = Users_to_message_new_alert(pg_connection_dict, record_ids_nearby) # in Send_Alerts.py & .ipynb \n",
    "                \n",
    "            #     # Compose Messages & concat to messages/record_id_to_text   \n",
    "                \n",
    "            #     # # Add to message/record_id storage for future messaging\n",
    "            #     # record_ids_to_text += record_ids_new_alerts\n",
    "            #     # messages += [new_alert_message(sensor_id)]*len(record_ids_new_alerts) # in Compose_Messages.py\n",
    "                \n",
    "            # b) Add newest_alert_index to record_ids_nearby's Active Alerts\n",
    "            update_users_active_alerts(record_ids_nearby, newest_alert_index, pg_connection_dict) # in Update_Alerts.py & .ipynb"
   ]
  },
  {
   "cell_type": "markdown",
   "metadata": {},
   "source": [
    "## Ongoing Alerts"
   ]
  },
  {
   "cell_type": "code",
   "execution_count": 41,
   "metadata": {},
   "outputs": [
    {
     "data": {
      "text/plain": [
       "{142718,\n",
       " 142720,\n",
       " 142724,\n",
       " 142726,\n",
       " 142738,\n",
       " 142750,\n",
       " 143634,\n",
       " 143942,\n",
       " 145454,\n",
       " 145470,\n",
       " 145506,\n",
       " 157861,\n",
       " 157935}"
      ]
     },
     "execution_count": 41,
     "metadata": {},
     "output_type": "execute_result"
    }
   ],
   "source": [
    "ongoing_spike_sensors"
   ]
  },
  {
   "cell_type": "code",
   "execution_count": 42,
   "metadata": {},
   "outputs": [
    {
     "data": {
      "text/html": [
       "<div>\n",
       "<style scoped>\n",
       "    .dataframe tbody tr th:only-of-type {\n",
       "        vertical-align: middle;\n",
       "    }\n",
       "\n",
       "    .dataframe tbody tr th {\n",
       "        vertical-align: top;\n",
       "    }\n",
       "\n",
       "    .dataframe thead th {\n",
       "        text-align: right;\n",
       "    }\n",
       "</style>\n",
       "<table border=\"1\" class=\"dataframe\">\n",
       "  <thead>\n",
       "    <tr style=\"text-align: right;\">\n",
       "      <th></th>\n",
       "      <th>sensor_index</th>\n",
       "      <th>pm25</th>\n",
       "    </tr>\n",
       "  </thead>\n",
       "  <tbody>\n",
       "    <tr>\n",
       "      <th>0</th>\n",
       "      <td>142718</td>\n",
       "      <td>43.8</td>\n",
       "    </tr>\n",
       "    <tr>\n",
       "      <th>1</th>\n",
       "      <td>142720</td>\n",
       "      <td>42.8</td>\n",
       "    </tr>\n",
       "    <tr>\n",
       "      <th>2</th>\n",
       "      <td>142726</td>\n",
       "      <td>37.6</td>\n",
       "    </tr>\n",
       "    <tr>\n",
       "      <th>3</th>\n",
       "      <td>142724</td>\n",
       "      <td>41.5</td>\n",
       "    </tr>\n",
       "    <tr>\n",
       "      <th>4</th>\n",
       "      <td>142738</td>\n",
       "      <td>45.0</td>\n",
       "    </tr>\n",
       "    <tr>\n",
       "      <th>5</th>\n",
       "      <td>142750</td>\n",
       "      <td>36.0</td>\n",
       "    </tr>\n",
       "    <tr>\n",
       "      <th>7</th>\n",
       "      <td>143634</td>\n",
       "      <td>35.8</td>\n",
       "    </tr>\n",
       "    <tr>\n",
       "      <th>9</th>\n",
       "      <td>143942</td>\n",
       "      <td>35.8</td>\n",
       "    </tr>\n",
       "    <tr>\n",
       "      <th>10</th>\n",
       "      <td>145454</td>\n",
       "      <td>42.2</td>\n",
       "    </tr>\n",
       "    <tr>\n",
       "      <th>11</th>\n",
       "      <td>145470</td>\n",
       "      <td>52.1</td>\n",
       "    </tr>\n",
       "    <tr>\n",
       "      <th>12</th>\n",
       "      <td>145506</td>\n",
       "      <td>40.4</td>\n",
       "    </tr>\n",
       "    <tr>\n",
       "      <th>15</th>\n",
       "      <td>157861</td>\n",
       "      <td>36.7</td>\n",
       "    </tr>\n",
       "    <tr>\n",
       "      <th>16</th>\n",
       "      <td>157935</td>\n",
       "      <td>38.0</td>\n",
       "    </tr>\n",
       "  </tbody>\n",
       "</table>\n",
       "</div>"
      ],
      "text/plain": [
       "   sensor_index  pm25\n",
       "0        142718  43.8\n",
       "1        142720  42.8\n",
       "2        142726  37.6\n",
       "3        142724  41.5\n",
       "4        142738  45.0\n",
       "5        142750  36.0\n",
       "7        143634  35.8\n",
       "9        143942  35.8\n",
       "10       145454  42.2\n",
       "11       145470  52.1\n",
       "12       145506  40.4\n",
       "15       157861  36.7\n",
       "16       157935  38.0"
      ]
     },
     "execution_count": 42,
     "metadata": {},
     "output_type": "execute_result"
    }
   ],
   "source": [
    "# Initialize for For Loop\n",
    "\n",
    "# Iterable (Find rows in spikes_df that are new spikes)\n",
    "\n",
    "ongoing_spikes = spikes_df[spikes_df.sensor_index.isin(ongoing_spike_sensors)]\n",
    "\n",
    "ongoing_spikes"
   ]
  },
  {
   "cell_type": "code",
   "execution_count": 43,
   "metadata": {},
   "outputs": [],
   "source": [
    "# Function Definitions\n",
    "\n",
    "# For each ongoing alert, we should\n",
    "\n",
    "# 1) Update max_reading if it's higher\n",
    "\n",
    "def update_max_reading(row, pg_connection_dict):\n",
    "    '''\n",
    "    Row should be a row from the ongoing_spikes dataFrame\n",
    "    '''\n",
    "\n",
    "    sensor_index = row.sensor_index\n",
    "    reading = row.pm25\n",
    "\n",
    "    # 1) Add to active alerts\n",
    "\n",
    "    # Create Cursor for commands\n",
    "    conn = psycopg2.connect(**pg_connection_dict)\n",
    "    cur = conn.cursor()\n",
    "    \n",
    "    cmd = sql.SQL('''\n",
    "UPDATE \"Active Alerts Acute PurpleAir\"\n",
    "SET max_reading = GREATEST({}, max_reading)\n",
    "WHERE {} = ANY (sensor_indices);\n",
    "\n",
    "''').format(sql.Literal(reading), sql.Literal(sensor_index))\n",
    "\n",
    "    cur.execute(cmd)\n",
    "    # Commit command\n",
    "    conn.commit()\n",
    "\n",
    "    # Close cursor\n",
    "    cur.close()\n",
    "    # Close connection\n",
    "    conn.close()"
   ]
  },
  {
   "cell_type": "code",
   "execution_count": 44,
   "metadata": {},
   "outputs": [],
   "source": [
    "# The For Loop\n",
    "\n",
    "if len(ongoing_spikes) > 0:\n",
    "\n",
    "    for _, spike in ongoing_spikes.iterrows():\n",
    "    \n",
    "        update_max_reading(spike, pg_connection_dict)"
   ]
  },
  {
   "cell_type": "markdown",
   "metadata": {},
   "source": [
    "## Ended Alerts"
   ]
  },
  {
   "cell_type": "code",
   "execution_count": 45,
   "metadata": {},
   "outputs": [],
   "source": [
    "# # # To manufacture an ended alert\n",
    "\n",
    "# new_spike_sensors = new_spike_sensors - {143944}\n",
    "# ended_spike_sensors = {143944}"
   ]
  },
  {
   "cell_type": "code",
   "execution_count": 46,
   "metadata": {},
   "outputs": [],
   "source": [
    "# print(not_spiked_sensors)"
   ]
  },
  {
   "cell_type": "code",
   "execution_count": 47,
   "metadata": {},
   "outputs": [],
   "source": [
    "# Function Definitions\n",
    "\n",
    "# For each ended alert, we should\n",
    "\n",
    "# 1) Add to archived alerts\n",
    "\n",
    "def add_to_archived_alerts(not_spiked_sensors, pg_connection_dict):\n",
    "    '''\n",
    "    '''\n",
    "\n",
    "    # Get relevant sensor indices as list\n",
    "    sensor_indices = list(not_spiked_sensors)\n",
    "                           \n",
    "    # Create Cursor for commands\n",
    "    conn = psycopg2.connect(**pg_connection_dict)\n",
    "    cur = conn.cursor()\n",
    "\n",
    "    # This command selects the ended alerts from active alerts\n",
    "    # Then it gets the difference from the current time and when it started\n",
    "    # Lastly, it inserts this selection while converting that time difference into minutes for duration_minutes column\n",
    "    cmd = sql.SQL('''\n",
    "    WITH ended_alerts as\n",
    "    (\n",
    "    \tSELECT alert_index, sensor_indices, start_time, CURRENT_TIMESTAMP AT TIME ZONE 'America/Chicago' - start_time as time_diff, max_reading \n",
    "     \tFROM \"Active Alerts Acute PurpleAir\"\n",
    "     \tWHERE sensor_indices <@ {}::int[] -- contained\n",
    "    )\n",
    "    INSERT INTO \"Archived Alerts Acute PurpleAir\" \n",
    "    SELECT alert_index, sensor_indices, start_time, (((DATE_PART('day', time_diff) * 24) + \n",
    "    \tDATE_PART('hour', time_diff)) * 60 + DATE_PART('minute', time_diff)) as duration_minutes, max_reading\n",
    "    FROM ended_alerts;\n",
    "    ''').format(sql.Literal(sensor_indices))\n",
    "    \n",
    "    cur.execute(cmd)\n",
    "    # Commit command\n",
    "    conn.commit()\n",
    "    \n",
    "    # Close cursor\n",
    "    cur.close()\n",
    "    # Close connection\n",
    "    conn.close()\n",
    "    \n",
    "\n",
    "#~~~~~~~~~~~~~~~~"
   ]
  },
  {
   "cell_type": "code",
   "execution_count": 48,
   "metadata": {},
   "outputs": [],
   "source": [
    "# 2) Remove from active alerts\n",
    "\n",
    "def remove_active_alerts(not_spiked_sensors, pg_connection_dict):\n",
    "    '''\n",
    "    This function removes the ended_spikes from the Active Alerts Table\n",
    "    It also retrieves their alert_index\n",
    "    \n",
    "    ended_spike_sensors is a set of sensor indices that have ended spikes Alerts\n",
    "    \n",
    "    ended_alert_indices is returned alert_index of the removed alerts for accessing Archive for end message \n",
    "    \n",
    "    '''\n",
    "\n",
    "    # Get relevant sensor indices as list\n",
    "    sensor_indices = list(not_spiked_sensors)\n",
    "                           \n",
    "    # Create Cursor for commands\n",
    "    conn = psycopg2.connect(**pg_connection_dict)\n",
    "    cur = conn.cursor()\n",
    "    \n",
    "    cmd = sql.SQL('''\n",
    "    SELECT alert_index\n",
    "    FROM \"Active Alerts Acute PurpleAir\"\n",
    "    WHERE sensor_indices <@ {}::int[]; -- contained\n",
    "    ''').format(sql.Literal(sensor_indices))\n",
    "    \n",
    "    cur.execute(cmd)\n",
    "    # Commit command\n",
    "    conn.commit()\n",
    "    \n",
    "    ended_alert_indices = [i[0] for i in cur.fetchall()]\n",
    "    \n",
    "    cmd = sql.SQL('''\n",
    "    DELETE FROM \"Active Alerts Acute PurpleAir\"\n",
    "    WHERE sensor_indices <@ {}::int[]; -- contained\n",
    "    ''').format(sql.Literal(sensor_indices))\n",
    "    \n",
    "    cur.execute(cmd)\n",
    "    # Commit command\n",
    "    conn.commit()\n",
    "    \n",
    "    # Close cursor\n",
    "    cur.close()\n",
    "    # Close connection\n",
    "    conn.close()\n",
    "\n",
    "    return ended_alert_indices\n",
    "\n",
    "# ~~~~~~~~~~~~~~~~~~~~~~~~~~~~~    \n",
    "  "
   ]
  },
  {
   "cell_type": "code",
   "execution_count": 49,
   "metadata": {},
   "outputs": [
    {
     "name": "stdout",
     "output_type": "stream",
     "text": [
      "[]\n"
     ]
    }
   ],
   "source": [
    "# To test\n",
    "\n",
    "if len(ended_spike_sensors) > 0:\n",
    "\n",
    "    add_to_archived_alerts(not_spiked_sensors.union(ended_spike_sensors), pg_connection_dict) # Add the ended SpikeAlerts to archive\n",
    "    \n",
    "    ended_alert_indices = remove_active_alerts(not_spiked_sensors.union(ended_spike_sensors), pg_connection_dict) # Remove them from Active Alerts\n",
    "\n",
    "    print(ended_alert_indices)"
   ]
  },
  {
   "cell_type": "code",
   "execution_count": 41,
   "metadata": {},
   "outputs": [],
   "source": [
    "  \n",
    "# 3) Transfer these alerts from \"Sign Up Information\" active_alerts to \"Sign Up Information\" cached_alerts\n",
    "\n",
    "def cache_alerts(ended_alert_indices, pg_connection_dict):\n",
    "    '''\n",
    "    This function transfers a list of ended_alert_indices from \"Sign Up Information\" active_alerts to \"Sign Up Information\" cached_alerts\n",
    "    '''\n",
    "    \n",
    "    # Create Cursor for commands\n",
    "    conn = psycopg2.connect(**pg_connection_dict)\n",
    "    cur = conn.cursor()\n",
    "    \n",
    "    for alert_index in ended_alert_indices:\n",
    "    \n",
    "        cmd = sql.SQL('''\n",
    "        UPDATE \"Sign Up Information\"\n",
    "        SET active_alerts = ARRAY_REMOVE(active_alerts, {}), -- Inserted alert_index\n",
    "            cached_alerts = ARRAY_APPEND(cached_alerts, {}) -- Inserted alert_index\n",
    "        WHERE {} = ANY (active_alerts);\n",
    "        ''').format(sql.Literal(alert_index),\n",
    "                    sql.Literal(alert_index),\n",
    "                    sql.Literal(alert_index)\n",
    "                   )\n",
    "        cur.execute(cmd)\n",
    "    # Commit command\n",
    "    conn.commit()\n",
    "\n",
    "# ~~~~~~~~~~~~~~~~~~~~~~~~~~~~~    \n",
    "   "
   ]
  },
  {
   "cell_type": "code",
   "execution_count": null,
   "metadata": {},
   "outputs": [],
   "source": [
    " \n",
    "# 4-5b) Query for people to text, initialize reports, text people - see Send_Alerts.py\n",
    "\n",
    "# ~~~~~~~~~~~~~~~~~~~~~~~~~~~~~    "
   ]
  },
  {
   "cell_type": "code",
   "execution_count": null,
   "metadata": {},
   "outputs": [],
   "source": [
    "# 5c) Clear a users' cache\n",
    "\n",
    "def clear_cached_alerts(record_ids, pg_connection_dict):\n",
    "    '''\n",
    "    This function clears the cached_alerts for all users with the given record_ids (a list of integers)\n",
    "    '''\n",
    "\n",
    "    # Create Cursor for commands\n",
    "    conn = psycopg2.connect(**pg_connection_dict)\n",
    "    cur = conn.cursor()\n",
    "    \n",
    "    cmd = sql.SQL('''\n",
    "    UPDATE \"Sign Up Information\"\n",
    "    SET cached_alerts = {} \n",
    "    WHERE record_id = ANY ( {} );\n",
    "    ''').format(sql.Literal('{}'),\n",
    "                sql.Literal(record_ids)\n",
    "               )\n",
    "    \n",
    "    cur.execute(cmd)\n",
    "    # Commit command\n",
    "    conn.commit()"
   ]
  }
 ],
 "metadata": {
  "kernelspec": {
   "display_name": "Python 3 (ipykernel)",
   "language": "python",
   "name": "python3"
  },
  "language_info": {
   "codemirror_mode": {
    "name": "ipython",
    "version": 3
   },
   "file_extension": ".py",
   "mimetype": "text/x-python",
   "name": "python",
   "nbconvert_exporter": "python",
   "pygments_lexer": "ipython3",
   "version": "3.10.12"
  },
  "vscode": {
   "interpreter": {
    "hash": "eccf50a1291cb678adb751fb07cc0cb3ec85c824e49e2e3981e74f6a0155d408"
   }
  },
  "widgets": {
   "application/vnd.jupyter.widget-state+json": {
    "state": {},
    "version_major": 2,
    "version_minor": 0
   }
  }
 },
 "nbformat": 4,
 "nbformat_minor": 4
}
