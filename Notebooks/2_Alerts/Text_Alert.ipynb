{
 "cells": [
  {
   "cell_type": "markdown",
   "metadata": {},
   "source": [
    "# Function to query PurpleAir\n",
    "**We should really set up a database to test this...**\n",
    "\n",
    "For 10 minute averages of all sensors\n",
    "\n",
    "This notebook retrieves readings from PurpleAir Sensors in Minneapolis and cleans the entries and texts people who are interested in the sensors if they are above a threshold\n",
    "\n",
    "Documentation is available here: https://api.purpleair.com.\n",
    "You can read this article for help getting started: https://community.purpleair.com/t/making-api-calls-with-the-purpleair-api/180.\n",
    "\n",
    "From PurpleAir: \n",
    "\n",
    "\"The data from individual sensors will update no less than every 30 seconds. As a courtesy, we ask that you limit the number of requests to no more than once every 1 to 10 minutes, assuming you are only using the API to obtain data from sensors. If retrieving data from multiple sensors at once, please send a single request rather than individual requests in succession.\n",
    "\n",
    "The PurpleAir historical API is released as of July 18, 2022. For more information, view this post: https://community.purpleair.com/t/new-version-of-the-purpleair-api-on-july-18th/1251.\n",
    "\n",
    "Please let us know if you have any questions or concerns, and have a great day!\"\n",
    "\n",
    "A paper on this process: https://doi.org/10.5194/amt-14-4617-2021 (Link for [Download](https://www.researchgate.net/publication/352663348_Development_and_application_of_a_United_States-wide_correction_for_PM25_data_collected_with_the_PurpleAir_sensor) )\n",
    "\n",
    "Chat on which PM Estimate to use: https://community.purpleair.com/t/pm2-5-algorithms/3972/6"
   ]
  },
  {
   "cell_type": "markdown",
   "metadata": {},
   "source": [
    "## Import Packages"
   ]
  },
  {
   "cell_type": "code",
   "execution_count": 1,
   "metadata": {},
   "outputs": [],
   "source": [
    "### Import Packages\n",
    "\n",
    "# File manipulation\n",
    "\n",
    "import os # For working with Operating System\n",
    "import requests # Accessing the Web\n",
    "import datetime as dt # Working with dates/times\n",
    "\n",
    "# Database \n",
    "\n",
    "# import psycopg2\n",
    "# from psycopg2 import sql\n",
    "\n",
    "# Analysis\n",
    "\n",
    "import numpy as np\n",
    "import geopandas as gpd\n",
    "import pandas as pd\n",
    "\n",
    "# Get CWD\n",
    "\n",
    "cwd = os.getcwd()"
   ]
  },
  {
   "cell_type": "markdown",
   "metadata": {},
   "source": [
    "## Definitions"
   ]
  },
  {
   "cell_type": "code",
   "execution_count": 2,
   "metadata": {},
   "outputs": [
    {
     "name": "stdin",
     "output_type": "stream",
     "text": [
      "Please enter your Purple Air api key 51592903-B445-11ED-B6F4-42010A800007\n"
     ]
    }
   ],
   "source": [
    "# This is my personal API key... Please use responsibly! 51592903-B445-11ED-B6F4-42010A800007\n",
    "\n",
    "api = input('Please enter your Purple Air api key')"
   ]
  },
  {
   "cell_type": "code",
   "execution_count": 3,
   "metadata": {},
   "outputs": [],
   "source": [
    "# Load the necessary data\n",
    "\n",
    "datapath = os.path.join(cwd, '..', '..', 'Data')\n",
    "\n",
    "sensor_info = gpd.read_file(os.path.join(datapath, 'PurpleAir_Stations.geojson'))"
   ]
  },
  {
   "cell_type": "code",
   "execution_count": 23,
   "metadata": {},
   "outputs": [],
   "source": [
    "# Set the Spike threshold\n",
    "\n",
    "spike_threshold = 28 # Micgrograms per meter cubed"
   ]
  },
  {
   "cell_type": "code",
   "execution_count": 4,
   "metadata": {},
   "outputs": [],
   "source": [
    "def getSensorsData(query='', api_read_key=''):\n",
    "\n",
    "    # my_url is assigned the URL we are going to send our request to.\n",
    "    url = 'https://api.purpleair.com/v1/sensors?' + query\n",
    "\n",
    "    # my_headers is assigned the context of our request we want to make. In this case\n",
    "    # we will pass through our API read key using the variable created above.\n",
    "    my_headers = {'X-API-Key':api_read_key}\n",
    "\n",
    "    # This line creates and sends the request and then assigns its response to the\n",
    "    # variable, r.\n",
    "    response = requests.get(url, headers=my_headers)\n",
    "\n",
    "    # We then return the response we received.\n",
    "    return response"
   ]
  },
  {
   "cell_type": "markdown",
   "metadata": {},
   "source": [
    "## Importing PurpleAir Station Data from PurpleAir API"
   ]
  },
  {
   "cell_type": "code",
   "execution_count": 5,
   "metadata": {},
   "outputs": [],
   "source": [
    "#Setting parameters for API\n",
    "fields = ['pm2.5_10minute']\n",
    "\n",
    "fields_string = 'fields=' + '%2C'.join(fields)"
   ]
  },
  {
   "cell_type": "code",
   "execution_count": 6,
   "metadata": {},
   "outputs": [],
   "source": [
    "# Query only for sensors in our database\n",
    "\n",
    "sensor_ids = sensor_info.sensor_index.unique().astype(int)\n",
    "\n",
    "sensor_string = 'show_only=' + '%2C'.join(sensor_ids.astype(str))\n",
    "\n",
    "query_string = '&'.join([fields_string, sensor_string])"
   ]
  },
  {
   "cell_type": "code",
   "execution_count": 7,
   "metadata": {},
   "outputs": [
    {
     "name": "stdout",
     "output_type": "stream",
     "text": [
      "fields=pm2.5_10minute&show_only=142718%2C142720%2C142726%2C142724%2C142730%2C142728%2C142734%2C142732%2C142736%2C142744%2C142750%2C142748%2C142752%2C142756%2C142774%2C142772%2C142926%2C143214%2C143216%2C143222%2C143226%2C143224%2C143238%2C143242%2C143240%2C143246%2C143248%2C143636%2C143648%2C143656%2C143660%2C143666%2C143668%2C143916%2C143942%2C143944%2C145202%2C145204%2C145242%2C145250%2C145454%2C145470%2C145498%2C145502%2C145506%2C145504%2C145604%2C145610%2C145614%2C145616%2C156605%2C157747%2C157757%2C157787%2C157785%2C157837%2C157845%2C157861%2C157871%2C157877%2C157935%2C166459%2C168327%2C177765\n"
     ]
    }
   ],
   "source": [
    "#finalizing query for API function\n",
    "\n",
    "print(query_string)"
   ]
  },
  {
   "cell_type": "code",
   "execution_count": 150,
   "metadata": {},
   "outputs": [],
   "source": [
    "#calling the API\n",
    "runtime = dt.datetime.today()\n",
    "response = getSensorsData(query_string, api)"
   ]
  },
  {
   "cell_type": "code",
   "execution_count": 151,
   "metadata": {},
   "outputs": [],
   "source": [
    "response_dict = response.json() # Read response as a json (dictionary)\n",
    "\n",
    "col_names = response_dict['fields']\n",
    "data = np.array(response_dict['data'])\n",
    "\n",
    "sensors_df = pd.DataFrame(data, columns = col_names)"
   ]
  },
  {
   "cell_type": "code",
   "execution_count": 152,
   "metadata": {},
   "outputs": [
    {
     "data": {
      "text/html": [
       "<div>\n",
       "<style scoped>\n",
       "    .dataframe tbody tr th:only-of-type {\n",
       "        vertical-align: middle;\n",
       "    }\n",
       "\n",
       "    .dataframe tbody tr th {\n",
       "        vertical-align: top;\n",
       "    }\n",
       "\n",
       "    .dataframe thead th {\n",
       "        text-align: right;\n",
       "    }\n",
       "</style>\n",
       "<table border=\"1\" class=\"dataframe\">\n",
       "  <thead>\n",
       "    <tr style=\"text-align: right;\">\n",
       "      <th></th>\n",
       "      <th>sensor_index</th>\n",
       "      <th>pm2.5_10minute</th>\n",
       "    </tr>\n",
       "  </thead>\n",
       "  <tbody>\n",
       "    <tr>\n",
       "      <th>0</th>\n",
       "      <td>142718</td>\n",
       "      <td>14.3</td>\n",
       "    </tr>\n",
       "    <tr>\n",
       "      <th>1</th>\n",
       "      <td>142720</td>\n",
       "      <td>16.0</td>\n",
       "    </tr>\n",
       "    <tr>\n",
       "      <th>2</th>\n",
       "      <td>142726</td>\n",
       "      <td>14.2</td>\n",
       "    </tr>\n",
       "    <tr>\n",
       "      <th>3</th>\n",
       "      <td>142724</td>\n",
       "      <td>14.5</td>\n",
       "    </tr>\n",
       "    <tr>\n",
       "      <th>4</th>\n",
       "      <td>142730</td>\n",
       "      <td>37.6</td>\n",
       "    </tr>\n",
       "  </tbody>\n",
       "</table>\n",
       "</div>"
      ],
      "text/plain": [
       "  sensor_index pm2.5_10minute\n",
       "0       142718           14.3\n",
       "1       142720           16.0\n",
       "2       142726           14.2\n",
       "3       142724           14.5\n",
       "4       142730           37.6"
      ]
     },
     "execution_count": 152,
     "metadata": {},
     "output_type": "execute_result"
    }
   ],
   "source": [
    "#visualizing API response\n",
    "sensors_df.head()"
   ]
  },
  {
   "cell_type": "markdown",
   "metadata": {},
   "source": [
    "## Cleaning PurpleAir Station Data"
   ]
  },
  {
   "cell_type": "code",
   "execution_count": 153,
   "metadata": {},
   "outputs": [],
   "source": [
    "clean_df = sensors_df.copy()\n",
    "\n",
    "# Rename column for ease of use\n",
    "\n",
    "clean_df = clean_df.rename(columns = {'pm2.5_10minute':'pm25'})\n",
    "\n",
    "# Remove obvious error values\n",
    "\n",
    "clean_df = clean_df[clean_df.pm25 < 1000] \n",
    "\n",
    "# Remove NaNs\n",
    "\n",
    "clean_df = clean_df.dropna()"
   ]
  },
  {
   "cell_type": "markdown",
   "metadata": {},
   "source": [
    "## Check for Spikes"
   ]
  },
  {
   "cell_type": "code",
   "execution_count": 154,
   "metadata": {},
   "outputs": [
    {
     "data": {
      "text/html": [
       "<div>\n",
       "<style scoped>\n",
       "    .dataframe tbody tr th:only-of-type {\n",
       "        vertical-align: middle;\n",
       "    }\n",
       "\n",
       "    .dataframe tbody tr th {\n",
       "        vertical-align: top;\n",
       "    }\n",
       "\n",
       "    .dataframe thead th {\n",
       "        text-align: right;\n",
       "    }\n",
       "</style>\n",
       "<table border=\"1\" class=\"dataframe\">\n",
       "  <thead>\n",
       "    <tr style=\"text-align: right;\">\n",
       "      <th></th>\n",
       "      <th>sensor_index</th>\n",
       "      <th>pm25</th>\n",
       "    </tr>\n",
       "  </thead>\n",
       "  <tbody>\n",
       "    <tr>\n",
       "      <th>4</th>\n",
       "      <td>142730</td>\n",
       "      <td>37.6</td>\n",
       "    </tr>\n",
       "    <tr>\n",
       "      <th>5</th>\n",
       "      <td>142728</td>\n",
       "      <td>72.1</td>\n",
       "    </tr>\n",
       "    <tr>\n",
       "      <th>26</th>\n",
       "      <td>143248</td>\n",
       "      <td>36.4</td>\n",
       "    </tr>\n",
       "    <tr>\n",
       "      <th>35</th>\n",
       "      <td>143944</td>\n",
       "      <td>79.0</td>\n",
       "    </tr>\n",
       "    <tr>\n",
       "      <th>36</th>\n",
       "      <td>145202</td>\n",
       "      <td>28.3</td>\n",
       "    </tr>\n",
       "    <tr>\n",
       "      <th>47</th>\n",
       "      <td>145610</td>\n",
       "      <td>32.8</td>\n",
       "    </tr>\n",
       "  </tbody>\n",
       "</table>\n",
       "</div>"
      ],
      "text/plain": [
       "   sensor_index  pm25\n",
       "4        142730  37.6\n",
       "5        142728  72.1\n",
       "26       143248  36.4\n",
       "35       143944  79.0\n",
       "36       145202  28.3\n",
       "47       145610  32.8"
      ]
     },
     "execution_count": 154,
     "metadata": {},
     "output_type": "execute_result"
    }
   ],
   "source": [
    "# Check for spikes\n",
    "\n",
    "spikes_df =  clean_df[clean_df.pm25 > spike_threshold]\n",
    "\n",
    "spikes_df"
   ]
  },
  {
   "cell_type": "markdown",
   "metadata": {},
   "source": [
    "# Text Alert"
   ]
  },
  {
   "cell_type": "code",
   "execution_count": 155,
   "metadata": {},
   "outputs": [],
   "source": [
    "# To initialize if never run before\n",
    "\n",
    "# current_alerts = pd.DataFrame({'sensor_index':pd.Series(dtype='int'),\n",
    "#                                         'start_time':pd.Series(dtype='object'),\n",
    "#                                         'max_reading':pd.Series(dtype='float')})\n",
    "\n",
    "# current_alerts.to_csv(os.path.join(datapath, 'Active_Alerts_Acute_PurpleAir.csv'),\n",
    "#                      index = False)\n",
    "\n",
    "# archived_alerts = pd.DataFrame({'sensor_index':pd.Series(dtype='int'),\n",
    "#                                         'start_time':pd.Series(dtype='object'),\n",
    "#                                         'max_reading':pd.Series(dtype='float'),\n",
    "#                                'duration':pd.Series(dtype='int')})\n",
    "\n",
    "# archived_alerts.to_csv(os.path.join(datapath, 'Archived_Alerts_Acute_PurpleAir.csv'),\n",
    "#                      index = False)"
   ]
  },
  {
   "cell_type": "code",
   "execution_count": 156,
   "metadata": {},
   "outputs": [],
   "source": [
    "# Load current alerts\n",
    "\n",
    "current_alerts = pd.read_csv(os.path.join(datapath, 'Active_Alerts_Acute_PurpleAir.csv'))"
   ]
  },
  {
   "cell_type": "code",
   "execution_count": 157,
   "metadata": {},
   "outputs": [],
   "source": [
    "# Check if any alerts ended\n",
    "\n",
    "current_spiked_sensors = set(spikes_df.sensor_index)\n",
    "\n",
    "old_spiked_sensors = set(current_alerts.sensor_index)\n",
    "\n",
    "ended_spiked_sensors = old_spiked_sensors - current_spiked_sensors\n",
    "\n",
    "if len(ended_spiked_sensors) > 0:\n",
    "\n",
    "    # Add them to alert archive\n",
    "\n",
    "    archived_alerts = pd.read_csv(os.path.join(datapath, 'Archived_Alerts_Acute_PurpleAir.csv'))\n",
    "    \n",
    "    done_alerts = current_alerts[current_alerts.sensor_index.isin(ended_spiked_sensors)].copy()\n",
    "    \n",
    "    done_alerts['duration'] = (runtime - done_alerts.start_time).astype(int)\n",
    "\n",
    "    # Concatenate and save (this really should be a submission using SQL...\n",
    "    pd.concat([archived_alerts, done_alerts]).to_csv(os.path.join(datapath, 'Archived_Alerts_Acute_PurpleAir.csv'))\n",
    "\n",
    "    # Remove from current alerts\n",
    "    \n",
    "    current_alerts = current_alerts[~current_alerts.sensor_index.isin(ended_spiked_sensors)]\n",
    "    \n",
    "    # Text people the spike is over\n",
    "    # NOT DONE HERE"
   ]
  },
  {
   "cell_type": "code",
   "execution_count": 158,
   "metadata": {},
   "outputs": [],
   "source": [
    "# Check if there is currently an alert out on this\n",
    "\n",
    "for _, spike in spikes_df.iterrows():\n",
    "\n",
    "    sensor_index = int(spike.sensor_index)\n",
    "    reading = spike.pm25\n",
    "\n",
    "    # Is there already an alert for this?\n",
    "    \n",
    "    if sensor_index in list(current_alerts.sensor_index.astype(int)): # If yes\n",
    "\n",
    "         # Check if reading is higher than previous max\n",
    "        \n",
    "        alert = current_alerts[current_alerts.sensor_index == sensor_index].iloc[0] # Find the alert\n",
    "        \n",
    "        if reading > alert.max_reading:\n",
    "            \n",
    "            current_alerts.loc[alert.index, 'max_reading'] = reading # Replace max_reading\n",
    "\n",
    "    else:\n",
    "\n",
    "        # Start an alert\n",
    "\n",
    "        new_alert = [sensor_index, runtime, reading]\n",
    "\n",
    "        current_alerts.loc[len(current_alerts), :] = new_alert\n",
    "\n",
    "        # Text everyone...\n",
    "        # NOT DONE\n",
    "        # message = create_message()\n",
    "\n",
    "        message = f'''SPIKE ALERT! {sensor_index} is reading at {reading} micrograms/meter^3\n",
    "        You are receiving this text because you signed up for SpikeAlerts. \n",
    "        Please reply with STOP to be removed from this list.'''\n",
    "        \n",
    "        print(message)\n",
    "\n",
    "        # print(message)"
   ]
  },
  {
   "cell_type": "code",
   "execution_count": 159,
   "metadata": {},
   "outputs": [
    {
     "data": {
      "text/html": [
       "<div>\n",
       "<style scoped>\n",
       "    .dataframe tbody tr th:only-of-type {\n",
       "        vertical-align: middle;\n",
       "    }\n",
       "\n",
       "    .dataframe tbody tr th {\n",
       "        vertical-align: top;\n",
       "    }\n",
       "\n",
       "    .dataframe thead th {\n",
       "        text-align: right;\n",
       "    }\n",
       "</style>\n",
       "<table border=\"1\" class=\"dataframe\">\n",
       "  <thead>\n",
       "    <tr style=\"text-align: right;\">\n",
       "      <th></th>\n",
       "      <th>sensor_index</th>\n",
       "      <th>start_time</th>\n",
       "      <th>max_reading</th>\n",
       "    </tr>\n",
       "  </thead>\n",
       "  <tbody>\n",
       "    <tr>\n",
       "      <th>0</th>\n",
       "      <td>142730</td>\n",
       "      <td>2023-08-10 20:04:37.898642</td>\n",
       "      <td>37.6</td>\n",
       "    </tr>\n",
       "    <tr>\n",
       "      <th>1</th>\n",
       "      <td>142728</td>\n",
       "      <td>2023-08-10 20:04:37.898642</td>\n",
       "      <td>72.1</td>\n",
       "    </tr>\n",
       "    <tr>\n",
       "      <th>2</th>\n",
       "      <td>143248</td>\n",
       "      <td>2023-08-10 20:04:37.898642</td>\n",
       "      <td>36.4</td>\n",
       "    </tr>\n",
       "    <tr>\n",
       "      <th>3</th>\n",
       "      <td>143944</td>\n",
       "      <td>2023-08-10 20:04:37.898642</td>\n",
       "      <td>79.0</td>\n",
       "    </tr>\n",
       "    <tr>\n",
       "      <th>4</th>\n",
       "      <td>145202</td>\n",
       "      <td>2023-08-10 20:04:37.898642</td>\n",
       "      <td>28.3</td>\n",
       "    </tr>\n",
       "    <tr>\n",
       "      <th>5</th>\n",
       "      <td>145610</td>\n",
       "      <td>2023-08-10 20:04:37.898642</td>\n",
       "      <td>32.8</td>\n",
       "    </tr>\n",
       "  </tbody>\n",
       "</table>\n",
       "</div>"
      ],
      "text/plain": [
       "   sensor_index                  start_time  max_reading\n",
       "0        142730  2023-08-10 20:04:37.898642         37.6\n",
       "1        142728  2023-08-10 20:04:37.898642         72.1\n",
       "2        143248  2023-08-10 20:04:37.898642         36.4\n",
       "3        143944  2023-08-10 20:04:37.898642         79.0\n",
       "4        145202  2023-08-10 20:04:37.898642         28.3\n",
       "5        145610  2023-08-10 20:04:37.898642         32.8"
      ]
     },
     "execution_count": 159,
     "metadata": {},
     "output_type": "execute_result"
    }
   ],
   "source": [
    "current_alerts"
   ]
  },
  {
   "cell_type": "code",
   "execution_count": 146,
   "metadata": {},
   "outputs": [],
   "source": [
    "current_alerts.to_csv(os.path.join(datapath, 'Active_Alerts_Acute_PurpleAir.csv'),\n",
    "                      index=False)"
   ]
  }
 ],
 "metadata": {
  "kernelspec": {
   "display_name": "Python 3 (ipykernel)",
   "language": "python",
   "name": "python3"
  },
  "language_info": {
   "codemirror_mode": {
    "name": "ipython",
    "version": 3
   },
   "file_extension": ".py",
   "mimetype": "text/x-python",
   "name": "python",
   "nbconvert_exporter": "python",
   "pygments_lexer": "ipython3",
   "version": "3.10.12"
  },
  "widgets": {
   "application/vnd.jupyter.widget-state+json": {
    "state": {},
    "version_major": 2,
    "version_minor": 0
   }
  }
 },
 "nbformat": 4,
 "nbformat_minor": 4
}
