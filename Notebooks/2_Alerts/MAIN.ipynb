{
 "cells": [
  {
   "cell_type": "markdown",
   "id": "63c1a05d-d752-41d9-a7d0-8b63dc846daf",
   "metadata": {},
   "source": [
    "# Main"
   ]
  },
  {
   "cell_type": "code",
   "execution_count": 1,
   "id": "571c8b79-ed02-494d-8190-73d2bbd88049",
   "metadata": {},
   "outputs": [],
   "source": [
    "# Import Libraries"
   ]
  },
  {
   "cell_type": "code",
   "execution_count": 16,
   "id": "682eab44-9986-4db2-81db-16c6759adf5f",
   "metadata": {},
   "outputs": [],
   "source": [
    "### Import Libraries\n",
    "\n",
    "# File/OS/Internet Interface\n",
    "\n",
    "import os # For working with Operating System\n",
    "import sys # System arguments\n",
    "import requests # Accessing the Web\n",
    "from dotenv import load_dotenv # Loading .env info\n",
    "import time # For Sleeping\n",
    "\n",
    "# Database \n",
    "\n",
    "import psycopg2\n",
    "from psycopg2 import sql\n",
    "\n",
    "# Analysis\n",
    "\n",
    "import datetime as dt # Working with dates/times\n",
    "import pytz # Timezones\n",
    "import numpy as np\n",
    "import pandas as pd\n",
    "import geopandas as gpd\n"
   ]
  },
  {
   "cell_type": "code",
   "execution_count": 59,
   "id": "e0fd4d98-41c8-4c17-939e-75e11b26e1af",
   "metadata": {},
   "outputs": [],
   "source": [
    "## Load Functions\n",
    "\n",
    "script_path = os.path.join('..', '..', 'Scripts', 'python')\n",
    "\n",
    "# Function definition - Please see Scripts/python/*\n",
    "exec(open(os.path.join(script_path, 'Get_spikes_df.py')).read())\n",
    "exec(open(os.path.join(script_path, 'Create_messages.py')).read())\n",
    "exec(open(os.path.join(script_path, 'twilio_functions.py')).read())\n",
    "exec(open(os.path.join(script_path, 'Update_Alerts.py')).read())"
   ]
  },
  {
   "cell_type": "code",
   "execution_count": 17,
   "id": "8668f953-2dce-478b-86d7-f435a9b950c7",
   "metadata": {},
   "outputs": [],
   "source": [
    "### Definitions\n",
    "\n",
    "load_dotenv() # Load .env file\n",
    "\n",
    "## API Keys\n",
    "\n",
    "purpleAir_api = os.getenv('PURPLEAIR_API_TOKEN') # PurpleAir API Read Key\n",
    "\n",
    "redCap_token = os.getenv('REDCAP_TOKEN') # Surveys\n",
    "\n",
    "## Database credentials\n",
    "\n",
    "creds = [os.getenv('DB_NAME'),\n",
    "         os.getenv('DB_USER'),\n",
    "         os.getenv('DB_PASS'),\n",
    "         os.getenv('DB_PORT'),\n",
    "         os.getenv('DB_HOST')\n",
    "        ]\n",
    "\n",
    "pg_connection_dict = dict(zip(['dbname', 'user', 'password', 'port', 'host'], creds))  \n",
    "\n",
    "## Twilio Information\n",
    "\n",
    "TWILIO_ACCOUNT_SID = os.getenv('TWILIO_ACCOUNT_SID')\n",
    "TWILIO_AUTH_TOKEN = os.getenv('TWILIO_AUTH_TOKEN')\n",
    "\n",
    "# Other Constants\n",
    "\n",
    "spike_threshold = 35 # Value which defines an AQ_Spike (Micgrograms per meter cubed)\n",
    "\n",
    "# When to stop the program?\n",
    "days_to_run = 7 # How many days will we run this?\n",
    "timestep = 10 # Sleep time in between updates (in Minutes)\n",
    "stoptime = dt.datetime.now() + dt.timedelta(days=days_to_run) # When to stop the program (datetime)\n"
   ]
  },
  {
   "cell_type": "code",
   "execution_count": 63,
   "id": "ea36fd1f-acb3-42d1-977f-87e35b096608",
   "metadata": {},
   "outputs": [
    {
     "name": "stdout",
     "output_type": "stream",
     "text": [
      "2023-10-26 01:13:47.619548\n"
     ]
    },
    {
     "ename": "KeyboardInterrupt",
     "evalue": "",
     "output_type": "error",
     "traceback": [
      "\u001b[0;31m---------------------------------------------------------------------------\u001b[0m",
      "\u001b[0;31mKeyboardInterrupt\u001b[0m                         Traceback (most recent call last)",
      "Cell \u001b[0;32mIn[63], line 76\u001b[0m\n\u001b[1;32m     68\u001b[0m     ended_alert_indices \u001b[38;5;241m=\u001b[39m remove_active_alerts(ended_spike_sensors, pg_connection_dict)\n\u001b[1;32m     70\u001b[0m     \u001b[38;5;66;03m# 3) Text people it's over - NOT DONE\u001b[39;00m\n\u001b[1;32m     71\u001b[0m \n\u001b[1;32m     72\u001b[0m \u001b[38;5;66;03m# break\u001b[39;00m\n\u001b[1;32m     73\u001b[0m \n\u001b[1;32m     74\u001b[0m \u001b[38;5;66;03m# SLEEP\u001b[39;00m\n\u001b[0;32m---> 76\u001b[0m \u001b[43mtime\u001b[49m\u001b[38;5;241;43m.\u001b[39;49m\u001b[43msleep\u001b[49m\u001b[43m(\u001b[49m\u001b[43mtimestep\u001b[49m\u001b[38;5;241;43m*\u001b[39;49m\u001b[38;5;241;43m60\u001b[39;49m\u001b[43m)\u001b[49m \u001b[38;5;66;03m# Sleep between updates\u001b[39;00m\n",
      "\u001b[0;31mKeyboardInterrupt\u001b[0m: "
     ]
    }
   ],
   "source": [
    "### The Script\n",
    "\n",
    "while True:\n",
    "\n",
    "    now = dt.datetime.now() # The current time\n",
    "\n",
    "    print(now)\n",
    "\n",
    "    if stoptime < now: # Check if we've hit stoptime\n",
    "        print(\"Terminating Program\")\n",
    "        break\n",
    "\n",
    "    # Get the sensor_ids from sensors in our database\n",
    "\n",
    "    sensor_ids = get_sensor_ids(pg_connection_dict) # In Get_Spikes_df.py\n",
    "\n",
    "    # Check our active alerts\n",
    "\n",
    "    active_alerts_df = get_active_alerts(pg_connection_dict) # In Update_Alerts.py\n",
    "\n",
    "    # Query PurpleAir for Spikes\n",
    "\n",
    "    spikes_df, runtime = Get_spikes_df(purpleAir_api, sensor_ids, spike_threshold) # In Get_Spikes_df.py\n",
    "\n",
    "    # Sort the spiked sensors into new, ongoing, and not spiked sensors\n",
    "\n",
    "    new_spike_sensors, ongoing_spike_sensors, ended_spike_sensors, not_spiked_sensors = sort_sensors_for_updates(spikes_df, sensor_ids, pg_connection_dict) # In Update_Alerts.py\n",
    "\n",
    "    # NEW Spikes\n",
    "    \n",
    "    if len(new_spike_sensors) > 0:\n",
    "\n",
    "        new_spikes_df = spikes_df[spikes_df.sensor_index.isin(new_spike_sensors)]\n",
    "    \n",
    "        for index, row in new_spikes_df.iterrows():\n",
    "    \n",
    "            # 1) Add to active alerts\n",
    "        \n",
    "            add_to_active_alerts(row, pg_connection_dict,\n",
    "                                 runtime.strftime('%Y-%m-%d %H:%M:%S') # When we ran the PurpleAir Query\n",
    "                                )\n",
    "\n",
    "            # 2) Text users about this - NOT DONE\n",
    "    \n",
    "            # 3) Add to User's Active Alerts - NOT DONE\n",
    "\n",
    "    # ONGOING spikes\n",
    "\n",
    "    if len(ongoing_spike_sensors) > 0:\n",
    "\n",
    "        ongoing_spikes_df = spikes_df[spikes_df.sensor_index.isin(ongoing_spike_sensors)]\n",
    "\n",
    "        for _, spike in ongoing_spikes_df.iterrows():\n",
    "\n",
    "            # 1) Update the maximum reading\n",
    "    \n",
    "            update_max_reading(spike, pg_connection_dict)\n",
    "\n",
    "    # ENDED spikes\n",
    "\n",
    "    if len(ended_spike_sensors) > 0:\n",
    "\n",
    "        # 1) Add alert to archive - NEEDS WORK\n",
    "    \n",
    "        add_to_archived_alerts(not_spiked_sensors, pg_connection_dict)\n",
    "\n",
    "        # 2) Remove from Active Alerts - NEEDS WORK\n",
    "        \n",
    "        ended_alert_indices = remove_active_alerts(not_spiked_sensors, pg_connection_dict)\n",
    "\n",
    "        # 3) Text people it's over - NOT DONE\n",
    "\n",
    "    # break\n",
    "\n",
    "    # SLEEP\n",
    "\n",
    "    time.sleep(timestep*60) # Sleep between updates"
   ]
  },
  {
   "cell_type": "code",
   "execution_count": 1,
   "id": "54e4e1bc-08d7-42ca-a2c4-461e7fb35d6a",
   "metadata": {},
   "outputs": [
    {
     "ename": "NameError",
     "evalue": "name 'active_alerts_df' is not defined",
     "output_type": "error",
     "traceback": [
      "\u001b[0;31m---------------------------------------------------------------------------\u001b[0m",
      "\u001b[0;31mNameError\u001b[0m                                 Traceback (most recent call last)",
      "Cell \u001b[0;32mIn[1], line 1\u001b[0m\n\u001b[0;32m----> 1\u001b[0m \u001b[43mactive_alerts_df\u001b[49m\n",
      "\u001b[0;31mNameError\u001b[0m: name 'active_alerts_df' is not defined"
     ]
    }
   ],
   "source": [
    "active_alerts_df"
   ]
  },
  {
   "cell_type": "code",
   "execution_count": 65,
   "id": "d6520ba8-8549-43e9-b058-3bd2c94d041a",
   "metadata": {},
   "outputs": [
    {
     "data": {
      "text/html": [
       "<div>\n",
       "<style scoped>\n",
       "    .dataframe tbody tr th:only-of-type {\n",
       "        vertical-align: middle;\n",
       "    }\n",
       "\n",
       "    .dataframe tbody tr th {\n",
       "        vertical-align: top;\n",
       "    }\n",
       "\n",
       "    .dataframe thead th {\n",
       "        text-align: right;\n",
       "    }\n",
       "</style>\n",
       "<table border=\"1\" class=\"dataframe\">\n",
       "  <thead>\n",
       "    <tr style=\"text-align: right;\">\n",
       "      <th></th>\n",
       "      <th>sensor_index</th>\n",
       "      <th>pm25</th>\n",
       "    </tr>\n",
       "  </thead>\n",
       "  <tbody>\n",
       "    <tr>\n",
       "      <th>35</th>\n",
       "      <td>143944</td>\n",
       "      <td>79.0</td>\n",
       "    </tr>\n",
       "  </tbody>\n",
       "</table>\n",
       "</div>"
      ],
      "text/plain": [
       "   sensor_index  pm25\n",
       "35       143944  79.0"
      ]
     },
     "execution_count": 65,
     "metadata": {},
     "output_type": "execute_result"
    }
   ],
   "source": [
    "spikes_df"
   ]
  },
  {
   "cell_type": "code",
   "execution_count": 66,
   "id": "d49f71f4-453e-4a8a-ad7e-1d9947cbd874",
   "metadata": {},
   "outputs": [
    {
     "data": {
      "text/plain": [
       "(set(), {143944}, set())"
      ]
     },
     "execution_count": 66,
     "metadata": {},
     "output_type": "execute_result"
    }
   ],
   "source": [
    "new_spike_sensors, ongoing_spike_sensors, ended_spike_sensors, not_spiked_sensors"
   ]
  }
 ],
 "metadata": {
  "kernelspec": {
   "display_name": "Python 3 (ipykernel)",
   "language": "python",
   "name": "python3"
  },
  "language_info": {
   "codemirror_mode": {
    "name": "ipython",
    "version": 3
   },
   "file_extension": ".py",
   "mimetype": "text/x-python",
   "name": "python",
   "nbconvert_exporter": "python",
   "pygments_lexer": "ipython3",
   "version": "3.10.12"
  },
  "widgets": {
   "application/vnd.jupyter.widget-state+json": {
    "state": {},
    "version_major": 2,
    "version_minor": 0
   }
  }
 },
 "nbformat": 4,
 "nbformat_minor": 5
}
