{
 "cells": [
  {
   "cell_type": "markdown",
   "metadata": {},
   "source": [
    "# Functions to query PurpleAir\n",
    "\n",
    "This notebook retrieves 10 minute average readings from PurpleAir Sensors (using ATM estimations) in Minneapolis and cleans/explores the entries.\n",
    "\n",
    "## [PurpleAir Documentation](https://api.purpleair.com)"
   ]
  },
  {
   "cell_type": "markdown",
   "metadata": {},
   "source": [
    "### From PurpleAir: \n",
    "\n",
    "\"The data from individual sensors will update no less than every 30 seconds.\" \n",
    "\"limit the number of requests to no more than once every 1 to 10 minutes,\"\n",
    "\"If retrieving data from multiple sensors at once, please send a single request rather than individual requests in succession.\"\n",
    "\n",
    "A paper on this process: https://doi.org/10.5194/amt-14-4617-2021 (Link for [Download](https://www.researchgate.net/publication/352663348_Development_and_application_of_a_United_States-wide_correction_for_PM25_data_collected_with_the_PurpleAir_sensor) )\n",
    "\n",
    "Chat on which PM Estimate to use: https://community.purpleair.com/t/pm2-5-algorithms/3972/6"
   ]
  },
  {
   "cell_type": "markdown",
   "metadata": {},
   "source": [
    "## Prep"
   ]
  },
  {
   "cell_type": "markdown",
   "metadata": {},
   "source": [
    "### Import Packages"
   ]
  },
  {
   "cell_type": "code",
   "execution_count": 1,
   "metadata": {},
   "outputs": [],
   "source": [
    "# File Manipulation\n",
    "\n",
    "import os # For working with Operating System\n",
    "from dotenv import load_dotenv # Loading .env info\n",
    "\n",
    "# Web\n",
    "\n",
    "import requests # Accessing the Web\n",
    "\n",
    "# Time\n",
    "\n",
    "import datetime as dt # Working with dates/times\n",
    "import pytz # Timezones\n",
    "\n",
    "# Database \n",
    "\n",
    "import psycopg2\n",
    "from psycopg2 import sql\n",
    "\n",
    "# Data Manipulation\n",
    "\n",
    "import numpy as np\n",
    "import geopandas as gpd\n",
    "import pandas as pd"
   ]
  },
  {
   "cell_type": "markdown",
   "metadata": {},
   "source": [
    "### Global Variables"
   ]
  },
  {
   "cell_type": "code",
   "execution_count": 2,
   "metadata": {},
   "outputs": [],
   "source": [
    "load_dotenv() # Load .env file\n",
    "\n",
    "## API Keys\n",
    "\n",
    "purpleAir_api = os.getenv('PURPLEAIR_API_TOKEN') # PurpleAir API Read Key\n",
    "\n",
    "## Database credentials\n",
    "\n",
    "creds = [os.getenv('DB_NAME'),\n",
    "         os.getenv('DB_USER'),\n",
    "         os.getenv('DB_PASS'),\n",
    "         os.getenv('DB_PORT'),\n",
    "         os.getenv('DB_HOST')\n",
    "        ]\n",
    "\n",
    "pg_connection_dict = dict(zip(['dbname', 'user', 'password', 'port', 'host'], creds))  \n",
    "\n",
    "# Other Constants - should be system arguments of some sort\n",
    "\n",
    "spike_threshold = 35 # Value which defines an AQ_Spike (Micgrograms per meter cubed)\n",
    "\n",
    "# When to stop the program?\n",
    "days_to_run = 7 # How many days will we run this?\n",
    "timestep = 10 # Sleep time in between updates (in Minutes)\n",
    "stoptime = dt.datetime.now() + dt.timedelta(days=days_to_run) # When to stop the program (datetime)"
   ]
  },
  {
   "cell_type": "markdown",
   "metadata": {},
   "source": [
    "## Initial Functions"
   ]
  },
  {
   "cell_type": "markdown",
   "metadata": {},
   "source": [
    "### Get sensor_ids from database"
   ]
  },
  {
   "cell_type": "code",
   "execution_count": 3,
   "metadata": {},
   "outputs": [],
   "source": [
    "def get_sensor_ids(pg_connection_dict):\n",
    "    '''\n",
    "    This function gets the sensor_ids of all sensors in our database\n",
    "    Returns a pandas Series\n",
    "    '''\n",
    "\n",
    "    # Connect\n",
    "    conn = psycopg2.connect(**pg_connection_dict) \n",
    "    # Create cursor\n",
    "    cur = conn.cursor()\n",
    "\n",
    "    cmd = sql.SQL('''SELECT sensor_index \n",
    "    FROM \"PurpleAir Stations\"\n",
    "    ''')\n",
    "\n",
    "    cur.execute(cmd) # Execute\n",
    "    conn.commit() # Committ command\n",
    "\n",
    "    # Unpack response into pandas series\n",
    "\n",
    "    sensor_ids = pd.DataFrame(cur.fetchall(), columns = ['sensor_index']).sensor_index\n",
    "\n",
    "    # Close cursor\n",
    "    cur.close()\n",
    "    # Close connection\n",
    "    conn.close()\n",
    "\n",
    "    return sensor_ids"
   ]
  },
  {
   "cell_type": "markdown",
   "metadata": {},
   "source": [
    "### Get Sensors Data from PurpleAir"
   ]
  },
  {
   "cell_type": "code",
   "execution_count": 4,
   "metadata": {},
   "outputs": [],
   "source": [
    "def getSensorsData(query='', api_read_key=''):\n",
    "\n",
    "    # my_url is assigned the URL we are going to send our request to.\n",
    "    url = 'https://api.purpleair.com/v1/sensors?' + query\n",
    "\n",
    "    # my_headers is assigned the context of our request we want to make. In this case\n",
    "    # we will pass through our API read key using the variable created above.\n",
    "    my_headers = {'X-API-Key':api_read_key}\n",
    "\n",
    "    # This line creates and sends the request and then assigns its response to the\n",
    "    # variable, r.\n",
    "    response = requests.get(url, headers=my_headers)\n",
    "\n",
    "    # We then return the response we received.\n",
    "    return response"
   ]
  },
  {
   "cell_type": "markdown",
   "metadata": {},
   "source": [
    "## PurpleAir API Experiments"
   ]
  },
  {
   "cell_type": "markdown",
   "metadata": {},
   "source": [
    "### Query to DataFrame Pipeline"
   ]
  },
  {
   "cell_type": "code",
   "execution_count": 5,
   "metadata": {},
   "outputs": [],
   "source": [
    "#Setting parameters for API\n",
    "fields = ['pm2.5_10minute', 'channel_flags' , 'last_seen']\n",
    "\n",
    "fields_string = 'fields=' + '%2C'.join(fields)"
   ]
  },
  {
   "cell_type": "code",
   "execution_count": 6,
   "metadata": {},
   "outputs": [],
   "source": [
    "# Query only for sensors in our database\n",
    "\n",
    "sensor_ids = get_sensor_ids(pg_connection_dict) # Get the sensor ids as a pandas series\n",
    "\n",
    "sensor_string = 'show_only=' + '%2C'.join(sensor_ids.astype(str))"
   ]
  },
  {
   "cell_type": "code",
   "execution_count": 7,
   "metadata": {},
   "outputs": [],
   "source": [
    "# # Query only for sensors modified since <- This didn't seem to work\n",
    "\n",
    "# prev_runtime = dt.datetime.now() # Dummy variable\n",
    "\n",
    "# formatted_time = str(int(prev_runtime.timestamp()))\n",
    "\n",
    "# modified_since_string = f'modified_since={formatted_time}'\n",
    "\n",
    "# modified_since_string"
   ]
  },
  {
   "cell_type": "code",
   "execution_count": 8,
   "metadata": {},
   "outputs": [],
   "source": [
    "# Final Query String \n",
    "\n",
    "query_string = '&'.join([fields_string, sensor_string]) # , modified_since_string"
   ]
  },
  {
   "cell_type": "code",
   "execution_count": 9,
   "metadata": {},
   "outputs": [],
   "source": [
    "# Finalizing query for API function\n",
    "\n",
    "# print('https://api.purpleair.com/v1/sensors?' + query_string)"
   ]
  },
  {
   "cell_type": "code",
   "execution_count": 10,
   "metadata": {},
   "outputs": [],
   "source": [
    "# Call API\n",
    "\n",
    "response = getSensorsData(query_string, purpleAir_api) # The response is a requests.response object\n",
    "\n",
    "runtime = dt.datetime.now(pytz.timezone('America/Chicago')) # When we call - datetime in our timezone"
   ]
  },
  {
   "cell_type": "code",
   "execution_count": 14,
   "metadata": {},
   "outputs": [
    {
     "data": {
      "text/plain": [
       "200"
      ]
     },
     "execution_count": 14,
     "metadata": {},
     "output_type": "execute_result"
    }
   ],
   "source": [
    "response.status_code"
   ]
  },
  {
   "cell_type": "code",
   "execution_count": 55,
   "metadata": {},
   "outputs": [],
   "source": [
    "# Read response object into pd.DataFrame\n",
    "\n",
    "response_dict = response.json() # Read response as a dictionary\n",
    "\n",
    "col_names = response_dict['fields'] # Get field names from dictionary\n",
    "data = np.array(response_dict['data']) # Get data from dictionary\n",
    "\n",
    "sensors_df = pd.DataFrame(data, columns = col_names)\n",
    "\n",
    "# # Correct last_seen # <- Keeping in case we want to go with the old route\n",
    "\n",
    "sensors_df['last_seen'] = pd.to_datetime(sensors_df['last_seen'],\n",
    "                                         utc = True,\n",
    "                                         unit='s').dt.tz_convert('America/Chicago')"
   ]
  },
  {
   "cell_type": "code",
   "execution_count": 56,
   "metadata": {},
   "outputs": [
    {
     "data": {
      "text/html": [
       "<div>\n",
       "<style scoped>\n",
       "    .dataframe tbody tr th:only-of-type {\n",
       "        vertical-align: middle;\n",
       "    }\n",
       "\n",
       "    .dataframe tbody tr th {\n",
       "        vertical-align: top;\n",
       "    }\n",
       "\n",
       "    .dataframe thead th {\n",
       "        text-align: right;\n",
       "    }\n",
       "</style>\n",
       "<table border=\"1\" class=\"dataframe\">\n",
       "  <thead>\n",
       "    <tr style=\"text-align: right;\">\n",
       "      <th></th>\n",
       "      <th>sensor_index</th>\n",
       "      <th>last_seen</th>\n",
       "      <th>channel_flags</th>\n",
       "      <th>pm2.5_10minute</th>\n",
       "    </tr>\n",
       "  </thead>\n",
       "  <tbody>\n",
       "    <tr>\n",
       "      <th>0</th>\n",
       "      <td>142718</td>\n",
       "      <td>2023-11-06 16:29:47-06:00</td>\n",
       "      <td>0</td>\n",
       "      <td>15.4</td>\n",
       "    </tr>\n",
       "    <tr>\n",
       "      <th>1</th>\n",
       "      <td>142720</td>\n",
       "      <td>2023-11-06 16:31:03-06:00</td>\n",
       "      <td>0</td>\n",
       "      <td>15.2</td>\n",
       "    </tr>\n",
       "    <tr>\n",
       "      <th>2</th>\n",
       "      <td>142726</td>\n",
       "      <td>2023-11-06 16:30:22-06:00</td>\n",
       "      <td>0</td>\n",
       "      <td>23.6</td>\n",
       "    </tr>\n",
       "    <tr>\n",
       "      <th>3</th>\n",
       "      <td>142724</td>\n",
       "      <td>2023-11-06 16:30:47-06:00</td>\n",
       "      <td>0</td>\n",
       "      <td>14.4</td>\n",
       "    </tr>\n",
       "    <tr>\n",
       "      <th>4</th>\n",
       "      <td>142730</td>\n",
       "      <td>2023-09-25 09:18:30-05:00</td>\n",
       "      <td>0</td>\n",
       "      <td>0.0</td>\n",
       "    </tr>\n",
       "  </tbody>\n",
       "</table>\n",
       "</div>"
      ],
      "text/plain": [
       "  sensor_index                 last_seen channel_flags pm2.5_10minute\n",
       "0       142718 2023-11-06 16:29:47-06:00             0           15.4\n",
       "1       142720 2023-11-06 16:31:03-06:00             0           15.2\n",
       "2       142726 2023-11-06 16:30:22-06:00             0           23.6\n",
       "3       142724 2023-11-06 16:30:47-06:00             0           14.4\n",
       "4       142730 2023-09-25 09:18:30-05:00             0            0.0"
      ]
     },
     "execution_count": 56,
     "metadata": {},
     "output_type": "execute_result"
    }
   ],
   "source": [
    "#visualizing API response\n",
    "sensors_df.head()"
   ]
  },
  {
   "cell_type": "code",
   "execution_count": 57,
   "metadata": {},
   "outputs": [
    {
     "name": "stdout",
     "output_type": "stream",
     "text": [
      "<class 'pandas.core.frame.DataFrame'>\n",
      "RangeIndex: 66 entries, 0 to 65\n",
      "Data columns (total 4 columns):\n",
      " #   Column          Non-Null Count  Dtype                          \n",
      "---  ------          --------------  -----                          \n",
      " 0   sensor_index    66 non-null     object                         \n",
      " 1   last_seen       66 non-null     datetime64[ns, America/Chicago]\n",
      " 2   channel_flags   66 non-null     object                         \n",
      " 3   pm2.5_10minute  65 non-null     object                         \n",
      "dtypes: datetime64[ns, America/Chicago](1), object(3)\n",
      "memory usage: 2.2+ KB\n"
     ]
    }
   ],
   "source": [
    "sensors_df.info()"
   ]
  },
  {
   "cell_type": "code",
   "execution_count": null,
   "metadata": {},
   "outputs": [],
   "source": []
  },
  {
   "cell_type": "markdown",
   "metadata": {},
   "source": [
    "### Cleaning PurpleAir Station Data"
   ]
  },
  {
   "cell_type": "code",
   "execution_count": 59,
   "metadata": {},
   "outputs": [
    {
     "name": "stdout",
     "output_type": "stream",
     "text": [
      "<class 'pandas.core.frame.DataFrame'>\n",
      "Index: 38 entries, 0 to 63\n",
      "Data columns (total 4 columns):\n",
      " #   Column         Non-Null Count  Dtype                          \n",
      "---  ------         --------------  -----                          \n",
      " 0   sensor_index   38 non-null     object                         \n",
      " 1   last_seen      38 non-null     datetime64[ns, America/Chicago]\n",
      " 2   channel_flags  38 non-null     object                         \n",
      " 3   pm25           38 non-null     object                         \n",
      "dtypes: datetime64[ns, America/Chicago](1), object(3)\n",
      "memory usage: 1.5+ KB\n"
     ]
    }
   ],
   "source": [
    "# Key\\\n",
    "# Channel Flags - 0 = Normal, 1 = A Downgraded, 2 - B Downgraded, 3 - Both Downgraded\n",
    "\n",
    "flags = (sensors_df.channel_flags != 0\n",
    "          ) | (sensors_df.last_seen < dt.datetime.now(pytz.timezone('America/Chicago')) - dt.timedelta(minutes=60)\n",
    "                 )\n",
    "\n",
    "clean_df = sensors_df[~flags].copy()\n",
    "\n",
    "# Rename column for ease of use\n",
    "\n",
    "clean_df = clean_df.rename(columns = {'pm2.5_10minute':'pm25'})\n",
    "\n",
    "# Remove obvious error values\n",
    "\n",
    "clean_df = clean_df[clean_df.pm25 < 1000] \n",
    "\n",
    "# Remove NaNs\n",
    "\n",
    "clean_df = clean_df.dropna()\n",
    "\n",
    "clean_df.info()"
   ]
  },
  {
   "cell_type": "markdown",
   "metadata": {},
   "source": [
    "## Check for Spikes"
   ]
  },
  {
   "cell_type": "code",
   "execution_count": 60,
   "metadata": {},
   "outputs": [
    {
     "name": "stdout",
     "output_type": "stream",
     "text": [
      "<class 'pandas.core.frame.DataFrame'>\n",
      "RangeIndex: 0 entries\n",
      "Data columns (total 2 columns):\n",
      " #   Column        Non-Null Count  Dtype \n",
      "---  ------        --------------  ----- \n",
      " 0   sensor_index  0 non-null      object\n",
      " 1   pm25          0 non-null      object\n",
      "dtypes: object(2)\n",
      "memory usage: 124.0+ bytes\n"
     ]
    }
   ],
   "source": [
    "# Check for spikes\n",
    "\n",
    "spikes_df =  clean_df[clean_df.pm25 >= spike_threshold][['sensor_index', 'pm25']].reset_index(drop=True)\n",
    "\n",
    "spikes_df.info()"
   ]
  },
  {
   "cell_type": "code",
   "execution_count": 61,
   "metadata": {},
   "outputs": [],
   "source": [
    "### Get Flagged Sensors\n",
    "    \n",
    "flagged_df = sensors_df[~sensors_df.sensor_index.isin(clean_df.sensor_index)]\n",
    "\n",
    "flagged_sensor_ids = flagged_df.reset_index(drop=True).sensor_index"
   ]
  },
  {
   "cell_type": "code",
   "execution_count": null,
   "metadata": {},
   "outputs": [],
   "source": []
  }
 ],
 "metadata": {
  "kernelspec": {
   "display_name": "Python 3 (ipykernel)",
   "language": "python",
   "name": "python3"
  },
  "language_info": {
   "codemirror_mode": {
    "name": "ipython",
    "version": 3
   },
   "file_extension": ".py",
   "mimetype": "text/x-python",
   "name": "python",
   "nbconvert_exporter": "python",
   "pygments_lexer": "ipython3",
   "version": "3.10.12"
  },
  "widgets": {
   "application/vnd.jupyter.widget-state+json": {
    "state": {},
    "version_major": 2,
    "version_minor": 0
   }
  }
 },
 "nbformat": 4,
 "nbformat_minor": 4
}
