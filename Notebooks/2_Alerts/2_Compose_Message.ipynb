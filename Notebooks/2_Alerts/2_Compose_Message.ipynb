{
 "cells": [
  {
   "cell_type": "markdown",
   "metadata": {},
   "source": [
    "# Function to set up text alert messages\n",
    "\n",
    "This is a scratch notebook to develop a script for messaging people about a spike at a sensor near them"
   ]
  },
  {
   "cell_type": "markdown",
   "metadata": {},
   "source": [
    "## Import Packages"
   ]
  },
  {
   "cell_type": "code",
   "execution_count": 1,
   "metadata": {},
   "outputs": [],
   "source": [
    "### Import Packages\n",
    "\n",
    "# File manipulation\n",
    "\n",
    "import os # For working with Operating System\n",
    "import requests # Accessing the Web\n",
    "import datetime as dt # Working with dates/times\n",
    "\n",
    "# Database \n",
    "\n",
    "# import psycopg2\n",
    "# from psycopg2 import sql\n",
    "\n",
    "# Analysis\n",
    "\n",
    "import numpy as np\n",
    "import geopandas as gpd\n",
    "import pandas as pd\n",
    "\n",
    "# Get CWD\n",
    "\n",
    "cwd = os.getcwd()"
   ]
  },
  {
   "cell_type": "code",
   "execution_count": 2,
   "metadata": {},
   "outputs": [],
   "source": [
    "# Load some data\n",
    "# Eventually this will be a database thing\n",
    "\n",
    "datapath = os.path.join(cwd, '..', '..', 'Data')\n",
    "\n",
    "sensor_info = gpd.read_file(os.path.join(datapath, 'PurpleAir_Stations.geojson'))\n",
    "\n",
    "intersections = gpd.read_file(os.path.join(datapath, 'Road_Intersections.geojson'))"
   ]
  },
  {
   "cell_type": "markdown",
   "metadata": {},
   "source": [
    "## New Alert"
   ]
  },
  {
   "cell_type": "code",
   "execution_count": 6,
   "metadata": {},
   "outputs": [],
   "source": [
    "# Dummy variables\n",
    "\n",
    "sensor_index = 168327\n",
    "reading = 32.7\n",
    "intersection_index = 3\n"
   ]
  },
  {
   "cell_type": "code",
   "execution_count": 42,
   "metadata": {},
   "outputs": [],
   "source": [
    "# Get direction and distance from intersection they signed up for\n",
    "# Using PostGIS\n",
    "\n",
    "f'''\n",
    "WITH sensor_data as\n",
    "(\n",
    "SELECT * \n",
    "FROM PurpleAir Stations p\n",
    "WHERE p.sensor_index = {sensor_index}\n",
    "),\n",
    "intersection_data as\n",
    "(\n",
    "SELECT *\n",
    "FROM Road Intersections i\n",
    "WHERE i.intersection_index = {intersection_index}\n",
    ")\n",
    "SELECT degrees(ST_Azimuth(i.geom, p.geom)), -- https://gis.stackexchange.com/questions/54427/how-to-find-out-direction-postgis\n",
    "ST_Distance(i.geom, p.geom),\n",
    "i.ns_cross_street,\n",
    "i.ew_cross_street\n",
    "FROM sensor_data p, intersection_data i\n",
    "'''\n",
    "\n",
    "# Will return some values that we will unpack...\n",
    "\n",
    "degree = 340\n",
    "distance = 300\n",
    "ns_cross_street = 'Hennepin'\n",
    "ew_cross_street = 'Lake'"
   ]
  },
  {
   "cell_type": "code",
   "execution_count": 60,
   "metadata": {},
   "outputs": [],
   "source": [
    "def degrees_to_cardinal(degree):\n",
    "    '''\n",
    "    note: this is highly approximate...\n",
    "    from https://gist.github.com/RobertSudwarts/acf8df23a16afdb5837f\n",
    "    '''\n",
    "    dirs = np.array([\"N\", \"NNE\", \"NE\", \"ENE\", \"E\", \"ESE\", \"SE\", \"SSE\",\n",
    "                     \"S\", \"SSW\", \"SW\", \"WSW\", \"W\", \"WNW\", \"NW\", \"NNW\"], dtype='U')\n",
    "    ix = int(np.round(degree / (360. / len(dirs)))) % 16\n",
    "    return dirs[ix]"
   ]
  },
  {
   "cell_type": "code",
   "execution_count": 61,
   "metadata": {},
   "outputs": [],
   "source": [
    "direction_string = degrees_to_cardinal(degree)"
   ]
  },
  {
   "cell_type": "code",
   "execution_count": 64,
   "metadata": {},
   "outputs": [],
   "source": [
    "message = f'''SPIKE ALERT! Sensor {sensor_index} is reading at {reading} micrograms/meter^3.\n",
    "This sensor is about {distance} meters {direction_string} from the intersection of {ew_cross_street} and {ns_cross_street}.\n",
    "You are receiving this text because you signed up for SpikeAlerts. \n",
    "Please reply with STOP to be removed from this list.'''"
   ]
  },
  {
   "cell_type": "code",
   "execution_count": 65,
   "metadata": {},
   "outputs": [
    {
     "name": "stdout",
     "output_type": "stream",
     "text": [
      "SPIKE ALERT! Sensor 168327 is reading at 32.7 micrograms/meter^3.\n",
      "This sensor is about 300 meters NNW from the intersection of Lake and Hennepin.\n",
      "You are receiving this text because you signed up for SpikeAlerts. \n",
      "Please reply with STOP to be removed from this list.\n"
     ]
    }
   ],
   "source": [
    "print(message)"
   ]
  },
  {
   "cell_type": "markdown",
   "metadata": {},
   "source": [
    "## End Alert"
   ]
  },
  {
   "cell_type": "code",
   "execution_count": 55,
   "metadata": {},
   "outputs": [],
   "source": [
    "# Dummy Variables\n",
    "\n",
    "sensor_index = 168327\n",
    "duration = 60\n",
    "max_reading = 50"
   ]
  },
  {
   "cell_type": "code",
   "execution_count": 56,
   "metadata": {},
   "outputs": [],
   "source": [
    "message = f'''Spike alert for sensor {sensor_index} is over.\n",
    "This event lasted {duration} minutes with a maximum value of {max_reading} micrograms/meter^3.\n",
    "You are receiving this text because you signed up for SpikeAlerts. \n",
    "Please reply with STOP to be removed from this list.'''"
   ]
  },
  {
   "cell_type": "code",
   "execution_count": 57,
   "metadata": {},
   "outputs": [
    {
     "name": "stdout",
     "output_type": "stream",
     "text": [
      "Spike alert for sensor 168327 is over.\n",
      "This event lasted 60 minutes with a maximum value of 50 micrograms/meter^3.\n",
      "You are receiving this text because you signed up for SpikeAlerts. \n",
      "Please reply with STOP to be removed from this list.\n"
     ]
    }
   ],
   "source": [
    "print(message)"
   ]
  }
 ],
 "metadata": {
  "kernelspec": {
   "display_name": "Python 3 (ipykernel)",
   "language": "python",
   "name": "python3"
  },
  "language_info": {
   "codemirror_mode": {
    "name": "ipython",
    "version": 3
   },
   "file_extension": ".py",
   "mimetype": "text/x-python",
   "name": "python",
   "nbconvert_exporter": "python",
   "pygments_lexer": "ipython3",
   "version": "3.10.12"
  },
  "widgets": {
   "application/vnd.jupyter.widget-state+json": {
    "state": {},
    "version_major": 2,
    "version_minor": 0
   }
  }
 },
 "nbformat": 4,
 "nbformat_minor": 4
}
