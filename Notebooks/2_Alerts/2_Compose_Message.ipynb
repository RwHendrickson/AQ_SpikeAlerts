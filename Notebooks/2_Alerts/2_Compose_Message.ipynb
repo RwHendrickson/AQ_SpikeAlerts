{
 "cells": [
  {
   "cell_type": "markdown",
   "metadata": {},
   "source": [
    "# Function to set up text alert messages\n",
    "\n",
    "This is a scratch notebook to develop a script for messaging people about a spike at a sensor near them"
   ]
  },
  {
   "cell_type": "markdown",
   "metadata": {},
   "source": [
    "## Import Packages"
   ]
  },
  {
   "cell_type": "code",
   "execution_count": 1,
   "metadata": {},
   "outputs": [],
   "source": [
    "### Import Packages\n",
    "\n",
    "# File Manipulation\n",
    "\n",
    "import os # For working with Operating System\n",
    "import sys # System arguments\n",
    "from dotenv import load_dotenv # Loading .env info\n",
    "\n",
    "# Web\n",
    "\n",
    "import requests # Accessing the Web\n",
    "\n",
    "# Time\n",
    "\n",
    "import datetime as dt # Working with dates/times\n",
    "import pytz # Timezones\n",
    "\n",
    "# Database \n",
    "\n",
    "import psycopg2\n",
    "from psycopg2 import sql\n",
    "\n",
    "# Data Manipulation\n",
    "\n",
    "import numpy as np\n",
    "import geopandas as gpd\n",
    "import pandas as pd"
   ]
  },
  {
   "cell_type": "code",
   "execution_count": 2,
   "metadata": {},
   "outputs": [],
   "source": [
    "## Database Credentials\n",
    "\n",
    "load_dotenv()\n",
    "\n",
    "creds = [os.getenv('DB_NAME'),\n",
    "         os.getenv('DB_USER'),\n",
    "         os.getenv('DB_PASS'),\n",
    "         os.getenv('DB_PORT'),\n",
    "         os.getenv('DB_HOST')\n",
    "        ]\n",
    "\n",
    "pg_connection_dict = dict(zip(['dbname', 'user', 'password', 'port', 'host'], creds))    "
   ]
  },
  {
   "cell_type": "markdown",
   "metadata": {},
   "source": [
    "# Current"
   ]
  },
  {
   "cell_type": "markdown",
   "metadata": {},
   "source": [
    "## New Alert"
   ]
  },
  {
   "cell_type": "markdown",
   "metadata": {},
   "source": [
    "### Short Version"
   ]
  },
  {
   "cell_type": "code",
   "execution_count": 5,
   "metadata": {},
   "outputs": [],
   "source": [
    "# Shorter version (1 segment) - TWILIO charges by segment (160 characters)\n",
    "\n",
    "sensor_index = 145604\n",
    "\n",
    "message = f'''SPIKE ALERT!\n",
    "Air quality is unhealthy in your area\n",
    "https://map.purpleair.com/?select={sensor_index}/44.9723/-93.2447\n",
    "\n",
    "Reply STOP to end alerts'''"
   ]
  },
  {
   "cell_type": "code",
   "execution_count": 6,
   "metadata": {},
   "outputs": [
    {
     "name": "stdout",
     "output_type": "stream",
     "text": [
      "SPIKE ALERT!\n",
      "Air quality is unhealthy in your area\n",
      "https://map.purpleair.com/?select=145604/44.9723/-93.2447\n",
      "\n",
      "Reply STOP to end alerts\n",
      "\n",
      "\n",
      " MESSAGE LENGTH: 134 Characters\n"
     ]
    }
   ],
   "source": [
    "print(message)\n",
    "print('\\n\\n MESSAGE LENGTH:', len(message), 'Characters')"
   ]
  },
  {
   "cell_type": "markdown",
   "metadata": {},
   "source": [
    "## End Alert"
   ]
  },
  {
   "cell_type": "code",
   "execution_count": 7,
   "metadata": {},
   "outputs": [],
   "source": [
    "# Dummy Variables\n",
    "\n",
    "duration = 60\n",
    "max_reading = 50.7\n",
    "report_id = 'XXXXX-102623'\n",
    "\n",
    "base_report_url = 'https://redcap.ahc.umn.edu/surveys/?s=LN3HHDCJXYCKFCLE'"
   ]
  },
  {
   "cell_type": "code",
   "execution_count": 8,
   "metadata": {},
   "outputs": [],
   "source": [
    "message = f'''Alert Over\n",
    "Duration: {duration} minutes \n",
    "Max value: {max_reading} ug/m3\n",
    "\n",
    "Report here - {base_report_url+ '&report_id=' + report_id}'''\n",
    "\n",
    "# See https://help.redcap.ualberta.ca/help-and-faq/survey-parameters for filling in variable in url"
   ]
  },
  {
   "cell_type": "code",
   "execution_count": 9,
   "metadata": {},
   "outputs": [
    {
     "name": "stdout",
     "output_type": "stream",
     "text": [
      "Alert Over\n",
      "Duration: 60 minutes \n",
      "Max value: 50.7 ug/m3\n",
      "\n",
      "Report here - https://redcap.ahc.umn.edu/surveys/?s=LN3HHDCJXYCKFCLE&report_id=XXXXX-102623\n",
      "\n",
      "\n",
      " MESSAGE LENGTH: 147 Characters\n"
     ]
    }
   ],
   "source": [
    "print(message)\n",
    "print('\\n\\n MESSAGE LENGTH:', len(message), 'Characters') # TWILIO charges by segment (160 characters)"
   ]
  },
  {
   "cell_type": "markdown",
   "metadata": {},
   "source": [
    "# ARCHIVE"
   ]
  },
  {
   "cell_type": "markdown",
   "metadata": {
    "jp-MarkdownHeadingCollapsed": true
   },
   "source": [
    "### New Alert - Long Version\n",
    "\n",
    "Get direction and distance from intersection they signed up for\n",
    "Too long and costly a query, we will go with a simpler message seen 4 cells down"
   ]
  },
  {
   "cell_type": "code",
   "execution_count": 3,
   "metadata": {},
   "outputs": [],
   "source": [
    "# Dummy variables\n",
    "\n",
    "sensor_indices = [145604, 145604]\n",
    "readings = [32.7, 32.7]\n",
    "intersection_indices = [203, 315]\n"
   ]
  },
  {
   "cell_type": "code",
   "execution_count": null,
   "metadata": {},
   "outputs": [],
   "source": [
    "# Using PostGIS\n",
    "\n",
    "conn = psycopg2.connect(**pg_connection_dict)\n",
    "\n",
    "# Create json cursor\n",
    "cur = conn.cursor()\n",
    "\n",
    "# Get the example as a Geojson\n",
    "cmd = sql.SQL('''\n",
    "WITH sensor_data as\n",
    "(\n",
    "SELECT * \n",
    "FROM \"PurpleAir Stations\" p\n",
    "JOIN unnest({}::int[])\n",
    "WITH ORDINALITY t(sensor_index, ord)\n",
    "USING (sensor_index)\n",
    "ORDER BY t.ord\n",
    "),\n",
    "intersection_data as\n",
    "(\n",
    "SELECT *\n",
    "FROM \"Road Intersections\" i\n",
    "JOIN unnest({}::int[])\n",
    "WITH ORDINALITY t(intersection_index, ord)\n",
    "USING (intersection_index)\n",
    "ORDER BY t.ord\n",
    ")\n",
    "SELECT degrees(ST_Azimuth(ST_Transform(i.geometry, 26915), ST_Transform(p.geometry,26915))), -- https://gis.stackexchange.com/questions/54427/how-to-find-out-direction-postgis\n",
    "ST_Distance(ST_Transform(i.geometry, 26915), ST_Transform(p.geometry,26915)),\n",
    "i.\"NS_cross_street\",\n",
    "i.\"EW_cross_street\", i.ord\n",
    "FROM sensor_data p\n",
    "INNER JOIN intersection_data i ON (p.ord = i.ord);\n",
    "''').format(sql.Literal(sensor_indices), sql.Literal(intersection_indices))\n",
    "\n",
    "cur.execute(cmd) # Execute\n",
    "\n",
    "conn.commit() # Committ command\n",
    "\n",
    "response = cur.fetchall()"
   ]
  },
  {
   "cell_type": "code",
   "execution_count": 6,
   "metadata": {},
   "outputs": [
    {
     "data": {
      "text/plain": [
       "[(313.3178047527333, 1164.482361384622, '31st Ave S', 'E 26th St', 1),\n",
       " (270.90272804702454, 246.6969441842309, '26th Ave S', 'E Franklin Ave', 2)]"
      ]
     },
     "execution_count": 6,
     "metadata": {},
     "output_type": "execute_result"
    }
   ],
   "source": [
    "response"
   ]
  },
  {
   "cell_type": "code",
   "execution_count": 7,
   "metadata": {},
   "outputs": [],
   "source": [
    "# Will return some values that we will unpack...\n",
    "\n",
    "degree, distance, ns_cross_street, ew_cross_street, order = response[0]"
   ]
  },
  {
   "cell_type": "code",
   "execution_count": 8,
   "metadata": {},
   "outputs": [],
   "source": [
    "def degrees_to_cardinal(degree):\n",
    "    '''\n",
    "    A Function thtat gets the cardinal direction from a degree (azimuth)\n",
    "    note: this is highly approximate...\n",
    "    from https://gist.github.com/RobertSudwarts/acf8df23a16afdb5837f\n",
    "    '''\n",
    "    dirs = np.array([\"N\", \"NNE\", \"NE\", \"ENE\", \"E\", \"ESE\", \"SE\", \"SSE\",\n",
    "                     \"S\", \"SSW\", \"SW\", \"WSW\", \"W\", \"WNW\", \"NW\", \"NNW\"], dtype='U')\n",
    "    ix = int(np.round(degree / (360. / len(dirs)))) % 16\n",
    "    return dirs[ix]"
   ]
  },
  {
   "cell_type": "code",
   "execution_count": 9,
   "metadata": {},
   "outputs": [],
   "source": [
    "direction_string = degrees_to_cardinal(degree)"
   ]
  },
  {
   "cell_type": "code",
   "execution_count": 10,
   "metadata": {},
   "outputs": [
    {
     "name": "stdout",
     "output_type": "stream",
     "text": [
      "https://map.purpleair.com/?select=143916/44.9723/-93.2447\n"
     ]
    }
   ],
   "source": [
    "# Here is the url to see a sensor:\n",
    "\n",
    "# https://map.purpleair.com/?select=sensor_index/44.9723/-93.2447\n",
    "\n",
    "url = 'https://map.purpleair.com/?select=143916/44.9723/-93.2447'\n",
    "\n",
    "print(url)"
   ]
  },
  {
   "cell_type": "code",
   "execution_count": null,
   "metadata": {},
   "outputs": [],
   "source": [
    "# Long Version (2 segments)\n",
    "\n",
    "message = f'''SPIKE ALERT! \n",
    "PurpleAir Sensor {sensor_indices[order-1]} is reading {readings[order-1]} micrograms/meter^3.\n",
    "This sensor is about {round(distance/1609,2)} miles {direction_string} from the intersection of {ew_cross_street} and {ns_cross_street}. \n",
    "Webmap - https://map.purpleair.com/?select={sensor_indices[order-1]}/44.9723/-93.2447\n",
    "\n",
    "Please reply with STOP to be removed from SpikeAlerts.'''"
   ]
  },
  {
   "cell_type": "code",
   "execution_count": null,
   "metadata": {},
   "outputs": [],
   "source": [
    "# ~~~~~~~~~~~~~~~~~~~~~~~~~~~~~~~~~~~\n",
    "\n",
    "def new_alert_messages(sensor_indices, readings, intersection_indices, pg_connection_dict):\n",
    "    '''\n",
    "    Get a list of messages for new alerts\n",
    "    # all inputs should be lists!\n",
    "    # Composes the messages and return as a list of messages\n",
    "    '''\n",
    "    \n",
    "    ## Query for relevant information\n",
    "    \n",
    "    conn = psycopg2.connect(**pg_connection_dict)\n",
    "\n",
    "    # Create json cursor\n",
    "    cur = conn.cursor()\n",
    "\n",
    "    # Get direction and distance from intersection to the sensors using POSTGIS\n",
    "    cmd = sql.SQL('''\n",
    "    WITH sensor_data as\n",
    "    (\n",
    "    SELECT * \n",
    "    FROM \"PurpleAir Stations\" p\n",
    "    JOIN unnest({}::int[])\n",
    "    WITH ORDINALITY t(sensor_index, ord)\n",
    "    USING (sensor_index)\n",
    "    ORDER BY t.ord\n",
    "    ),\n",
    "    intersection_data as\n",
    "    (\n",
    "    SELECT *\n",
    "    FROM \"Road Intersections\" i\n",
    "    JOIN unnest({}::int[])\n",
    "    WITH ORDINALITY t(intersection_index, ord)\n",
    "    USING (intersection_index)\n",
    "    ORDER BY t.ord\n",
    "    )\n",
    "    SELECT degrees(ST_Azimuth(ST_Transform(i.geometry, 26915), ST_Transform(p.geometry,26915))), -- https://gis.stackexchange.com/questions/54427/how-to-find-out-direction-postgis\n",
    "    ST_Distance(ST_Transform(i.geometry, 26915), ST_Transform(p.geometry,26915)),\n",
    "    i.\"NS_cross_street\",\n",
    "    i.\"EW_cross_street\", i.ord\n",
    "    FROM sensor_data p\n",
    "    INNER JOIN intersection_data i ON (p.ord = i.ord);\n",
    "    ''').format(sql.Literal(sensor_indices), sql.Literal(intersection_indices))\n",
    "\n",
    "    cur.execute(cmd) # Execute\n",
    "\n",
    "    conn.commit() # Committ command\n",
    "\n",
    "    response = cur.fetchall()\n",
    "    \n",
    "    # Now compose the messages\n",
    "    \n",
    "    messages = []\n",
    "    \n",
    "    for r in response:\n",
    "    \n",
    "        degree, distance, ns_cross_street, ew_cross_street, order = r # Unpack the tuple\n",
    "        \n",
    "        direction_string = degrees_to_cardinal(degree)\n",
    "        \n",
    "        # Long Version (2 segments)\n",
    "\n",
    "        message = f'''SPIKE ALERT! \n",
    "PurpleAir Sensor {sensor_indices[order-1]} is reading {readings[order-1]} micrograms/meter^3.\n",
    "This sensor is about {round(distance/1609,2)} miles {direction_string} from the intersection of {ew_cross_street} and {ns_cross_street}. \n",
    "Webmap - https://map.purpleair.com/?select={sensor_indices[order-1]}/44.9723/-93.2447\n",
    "\n",
    "Please reply with STOP to be removed from SpikeAlerts.'''\n",
    "        \n",
    "        messages += [message]\n",
    "        \n",
    "    return messages"
   ]
  }
 ],
 "metadata": {
  "kernelspec": {
   "display_name": "Python 3 (ipykernel)",
   "language": "python",
   "name": "python3"
  },
  "language_info": {
   "codemirror_mode": {
    "name": "ipython",
    "version": 3
   },
   "file_extension": ".py",
   "mimetype": "text/x-python",
   "name": "python",
   "nbconvert_exporter": "python",
   "pygments_lexer": "ipython3",
   "version": "3.10.12"
  },
  "widgets": {
   "application/vnd.jupyter.widget-state+json": {
    "state": {},
    "version_major": 2,
    "version_minor": 0
   }
  }
 },
 "nbformat": 4,
 "nbformat_minor": 4
}
