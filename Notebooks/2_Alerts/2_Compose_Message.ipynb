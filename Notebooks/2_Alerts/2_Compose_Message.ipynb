{
 "cells": [
  {
   "cell_type": "markdown",
   "metadata": {},
   "source": [
    "# Function to set up text alert messages\n",
    "\n",
    "This is a scratch notebook to develop a script for messaging people about a spike at a sensor near them"
   ]
  },
  {
   "cell_type": "markdown",
   "metadata": {},
   "source": [
    "## Import Packages"
   ]
  },
  {
   "cell_type": "code",
   "execution_count": 1,
   "metadata": {},
   "outputs": [],
   "source": [
    "### Import Packages\n",
    "\n",
    "# File manipulation\n",
    "\n",
    "import os # For working with Operating System\n",
    "import requests # Accessing the Web\n",
    "import datetime as dt # Working with dates/times\n",
    "\n",
    "# Database \n",
    "\n",
    "import psycopg2\n",
    "from psycopg2 import sql\n",
    "\n",
    "# Analysis\n",
    "\n",
    "import numpy as np\n",
    "import geopandas as gpd\n",
    "import pandas as pd\n",
    "\n",
    "# Get CWD\n",
    "\n",
    "cwd = os.getcwd()"
   ]
  },
  {
   "cell_type": "code",
   "execution_count": 6,
   "metadata": {},
   "outputs": [],
   "source": [
    "## Database Credentials\n",
    "\n",
    "cred_pth = os.path.join(os.getcwd(), '..', '..', 'Scripts', 'database', 'db_credentials.txt')\n",
    "\n",
    "with open(cred_pth, 'r') as f:\n",
    "    \n",
    "    creds = f.readlines()[0].rstrip('\\n').split(', ')\n",
    "\n",
    "pg_connection_dict = dict(zip(['dbname', 'user', 'password', 'port', 'host'], creds))"
   ]
  },
  {
   "cell_type": "markdown",
   "metadata": {},
   "source": [
    "## New Alert"
   ]
  },
  {
   "cell_type": "code",
   "execution_count": 35,
   "metadata": {},
   "outputs": [],
   "source": [
    "# Dummy variables\n",
    "\n",
    "sensor_indices = [142734, 142734]\n",
    "readings = [32.7, 32.7]\n",
    "intersection_indices = [52, 227]\n"
   ]
  },
  {
   "cell_type": "code",
   "execution_count": 36,
   "metadata": {},
   "outputs": [],
   "source": [
    "# Get direction and distance from intersection they signed up for\n",
    "# Using PostGIS\n",
    "\n",
    "conn = psycopg2.connect(**pg_connection_dict)\n",
    "\n",
    "# Create json cursor\n",
    "cur = conn.cursor()\n",
    "\n",
    "# Get the example as a Geojson\n",
    "cmd = sql.SQL('''\n",
    "WITH sensor_data as\n",
    "(\n",
    "SELECT * \n",
    "FROM \"PurpleAir Stations\" p\n",
    "JOIN unnest({}::int[])\n",
    "WITH ORDINALITY t(sensor_index, ord)\n",
    "USING (sensor_index)\n",
    "ORDER BY t.ord\n",
    "),\n",
    "intersection_data as\n",
    "(\n",
    "SELECT *\n",
    "FROM \"Road Intersections\" i\n",
    "JOIN unnest({}::int[])\n",
    "WITH ORDINALITY t(intersection_index, ord)\n",
    "USING (intersection_index)\n",
    "ORDER BY t.ord\n",
    ")\n",
    "SELECT degrees(ST_Azimuth(ST_Transform(i.geometry, 26915), ST_Transform(p.geometry,26915))), -- https://gis.stackexchange.com/questions/54427/how-to-find-out-direction-postgis\n",
    "ST_Distance(ST_Transform(i.geometry, 26915), ST_Transform(p.geometry,26915)),\n",
    "i.\"NS_cross_street\",\n",
    "i.\"EW_cross_street\", i.ord\n",
    "FROM sensor_data p\n",
    "INNER JOIN intersection_data i ON (p.ord = i.ord);\n",
    "''').format(sql.Literal(sensor_indices), sql.Literal(intersection_indices))\n",
    "\n",
    "cur.execute(cmd) # Execute\n",
    "\n",
    "conn.commit() # Committ command\n",
    "\n",
    "response = cur.fetchall()"
   ]
  },
  {
   "cell_type": "code",
   "execution_count": 37,
   "metadata": {},
   "outputs": [
    {
     "data": {
      "text/plain": [
       "[(149.65754961006712, 1967.5403907435564, 'Dupont Ave S', 'W 46th St', 1),\n",
       " (138.7682071789759,\n",
       "  4543.875925163753,\n",
       "  'W Lake Calhoun Pkwy',\n",
       "  'Lake Calhoun Pkwy',\n",
       "  2)]"
      ]
     },
     "execution_count": 37,
     "metadata": {},
     "output_type": "execute_result"
    }
   ],
   "source": [
    "response"
   ]
  },
  {
   "cell_type": "code",
   "execution_count": 9,
   "metadata": {},
   "outputs": [],
   "source": [
    "# Will return some values that we will unpack...\n",
    "\n",
    "degree, distance, ns_cross_street, ew_cross_street = response[0]"
   ]
  },
  {
   "cell_type": "code",
   "execution_count": 10,
   "metadata": {},
   "outputs": [],
   "source": [
    "def degrees_to_cardinal(degree):\n",
    "    '''\n",
    "    note: this is highly approximate...\n",
    "    from https://gist.github.com/RobertSudwarts/acf8df23a16afdb5837f\n",
    "    '''\n",
    "    dirs = np.array([\"N\", \"NNE\", \"NE\", \"ENE\", \"E\", \"ESE\", \"SE\", \"SSE\",\n",
    "                     \"S\", \"SSW\", \"SW\", \"WSW\", \"W\", \"WNW\", \"NW\", \"NNW\"], dtype='U')\n",
    "    ix = int(np.round(degree / (360. / len(dirs)))) % 16\n",
    "    return dirs[ix]"
   ]
  },
  {
   "cell_type": "code",
   "execution_count": 11,
   "metadata": {},
   "outputs": [],
   "source": [
    "direction_string = degrees_to_cardinal(degree)"
   ]
  },
  {
   "cell_type": "code",
   "execution_count": 12,
   "metadata": {},
   "outputs": [],
   "source": [
    "message = f'''SPIKE ALERT! Sensor {sensor_index} is reading at {reading} micrograms/meter^3.\n",
    "This sensor is about {distance} meters {direction_string} from the intersection of {ew_cross_street} and {ns_cross_street}.\n",
    "You are receiving this text because you signed up for SpikeAlerts. \n",
    "Please reply with STOP to be removed from this list.'''"
   ]
  },
  {
   "cell_type": "code",
   "execution_count": 14,
   "metadata": {},
   "outputs": [
    {
     "name": "stdout",
     "output_type": "stream",
     "text": [
      "SPIKE ALERT! Sensor 142734 is reading at 32.7 micrograms/meter^3.\n",
      "This sensor is about 1967.5403907435564 meters SSE from the intersection of W 46th St and Dupont Ave S.\n",
      "You are receiving this text because you signed up for SpikeAlerts. \n",
      "Please reply with STOP to be removed from this list.\n"
     ]
    }
   ],
   "source": [
    "print(message)"
   ]
  },
  {
   "cell_type": "markdown",
   "metadata": {},
   "source": [
    "## End Alert"
   ]
  },
  {
   "cell_type": "code",
   "execution_count": 15,
   "metadata": {},
   "outputs": [],
   "source": [
    "# Dummy Variables\n",
    "\n",
    "sensor_index = 168327\n",
    "duration = 60\n",
    "max_reading = 50"
   ]
  },
  {
   "cell_type": "code",
   "execution_count": 16,
   "metadata": {},
   "outputs": [],
   "source": [
    "message = f'''Spike alert for sensor {sensor_index} is over.\n",
    "This event lasted {duration} minutes with a maximum value of {max_reading} micrograms/meter^3.\n",
    "You are receiving this text because you signed up for SpikeAlerts. \n",
    "Please reply with STOP to be removed from this list.'''"
   ]
  },
  {
   "cell_type": "code",
   "execution_count": 17,
   "metadata": {},
   "outputs": [
    {
     "name": "stdout",
     "output_type": "stream",
     "text": [
      "Spike alert for sensor 168327 is over.\n",
      "This event lasted 60 minutes with a maximum value of 50 micrograms/meter^3.\n",
      "You are receiving this text because you signed up for SpikeAlerts. \n",
      "Please reply with STOP to be removed from this list.\n"
     ]
    }
   ],
   "source": [
    "print(message)"
   ]
  }
 ],
 "metadata": {
  "kernelspec": {
   "display_name": "Python 3 (ipykernel)",
   "language": "python",
   "name": "python3"
  },
  "language_info": {
   "codemirror_mode": {
    "name": "ipython",
    "version": 3
   },
   "file_extension": ".py",
   "mimetype": "text/x-python",
   "name": "python",
   "nbconvert_exporter": "python",
   "pygments_lexer": "ipython3",
   "version": "3.10.12"
  },
  "widgets": {
   "application/vnd.jupyter.widget-state+json": {
    "state": {},
    "version_major": 2,
    "version_minor": 0
   }
  }
 },
 "nbformat": 4,
 "nbformat_minor": 4
}
