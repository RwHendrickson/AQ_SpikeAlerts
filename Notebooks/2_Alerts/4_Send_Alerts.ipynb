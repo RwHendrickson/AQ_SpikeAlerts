{
 "cells": [
  {
   "cell_type": "markdown",
   "metadata": {},
   "source": [
    "# Full WorkFlow: Functions to Send Alerts and Update Alert Database\n",
    "\n",
    "For 10 minute averages of all sensors (using the ATM PurpleAir estimations)\n",
    "\n",
    "This notebook retrieves readings from PurpleAir Sensors in Minneapolis and cleans the entries and texts people who are interested in the sensors if they are above a threshold"
   ]
  },
  {
   "cell_type": "markdown",
   "metadata": {},
   "source": [
    "---\n",
    "---\n",
    "---\n",
    "# Prep"
   ]
  },
  {
   "cell_type": "code",
   "execution_count": 2,
   "metadata": {},
   "outputs": [],
   "source": [
    "# File Manipulation\n",
    "\n",
    "import os # For working with Operating System\n",
    "import sys # System arguments\n",
    "from dotenv import load_dotenv # Loading .env info\n",
    "\n",
    "# Web\n",
    "\n",
    "import requests # Accessing the Web\n",
    "\n",
    "# Time\n",
    "\n",
    "import datetime as dt # Working with dates/times\n",
    "import pytz # Timezones\n",
    "\n",
    "# Database \n",
    "\n",
    "import psycopg2\n",
    "from psycopg2 import sql\n",
    "\n",
    "# Data Manipulation\n",
    "\n",
    "import numpy as np\n",
    "import geopandas as gpd\n",
    "import pandas as pd"
   ]
  },
  {
   "cell_type": "markdown",
   "metadata": {},
   "source": [
    "### Load Functions"
   ]
  },
  {
   "cell_type": "code",
   "execution_count": 5,
   "metadata": {},
   "outputs": [],
   "source": [
    "script_path = os.path.join('..', '..', 'Scripts', 'python')\n",
    "\n",
    "# Function definition - Please see Scripts/python/*\n",
    "exec(open(os.path.join(script_path, 'Get_spikes_df.py')).read())\n",
    "exec(open(os.path.join(script_path, 'Create_messages.py')).read())\n",
    "exec(open(os.path.join(script_path, 'twilio_functions.py')).read())\n",
    "exec(open(os.path.join(script_path, 'Update_Alerts.py')).read())\n",
    "exec(open(os.path.join(script_path, 'Send_Alerts.py')).read())"
   ]
  },
  {
   "cell_type": "markdown",
   "metadata": {},
   "source": [
    "### Global Variables"
   ]
  },
  {
   "cell_type": "code",
   "execution_count": 6,
   "metadata": {},
   "outputs": [],
   "source": [
    "load_dotenv() # Load .env file\n",
    "\n",
    "## API Keys\n",
    "\n",
    "purpleAir_api = os.getenv('PURPLEAIR_API_TOKEN') # PurpleAir API Read Key\n",
    "\n",
    "## Database credentials\n",
    "\n",
    "creds = [os.getenv('DB_NAME'),\n",
    "         os.getenv('DB_USER'),\n",
    "         os.getenv('DB_PASS'),\n",
    "         os.getenv('DB_PORT'),\n",
    "         os.getenv('DB_HOST')\n",
    "        ]\n",
    "\n",
    "pg_connection_dict = dict(zip(['dbname', 'user', 'password', 'port', 'host'], creds))  \n",
    "\n",
    "## Twilio Information\n",
    "\n",
    "TWILIO_ACCOUNT_SID = os.getenv('TWILIO_ACCOUNT_SID')\n",
    "TWILIO_AUTH_TOKEN = os.getenv('TWILIO_AUTH_TOKEN')\n",
    "\n",
    "# Other Constants from System Arguments\n",
    "\n",
    "spike_threshold = 35 # Value which defines an AQ_Spike (Micgrograms per meter cubed)\n",
    "\n",
    "timestep = 10 # Sleep time in between updates (in Minutes)\n",
    "\n",
    "# When to stop the program? (datetime)\n",
    "days_to_run = 7 # How many days will we run this?\n",
    "stoptime = dt.datetime.now() + dt.timedelta(days=days_to_run)"
   ]
  },
  {
   "cell_type": "markdown",
   "metadata": {},
   "source": [
    "---\n",
    "---\n",
    "---\n",
    "## Compute/Define other necessary variables "
   ]
  },
  {
   "cell_type": "code",
   "execution_count": 7,
   "metadata": {},
   "outputs": [],
   "source": [
    "#  Get the sensor_ids from sensors in our database\n",
    "\n",
    "sensor_ids = get_sensor_ids(pg_connection_dict) # In Get_Spikes_df.py"
   ]
  },
  {
   "cell_type": "code",
   "execution_count": 8,
   "metadata": {},
   "outputs": [],
   "source": [
    "# Get Spikes Dataframe and runtime\n",
    "\n",
    "spikes_df, runtime, flagged_sensor_ids = Get_spikes_df(purpleAir_api, sensor_ids, spike_threshold)"
   ]
  },
  {
   "cell_type": "code",
   "execution_count": 9,
   "metadata": {},
   "outputs": [],
   "source": [
    "# Sort the spiked sensors into new, ongoing, ended spiked sensors, and not spiked sensors\n",
    "\n",
    "new_spike_sensors, ongoing_spike_sensors, ended_spike_sensors, not_spiked_sensors = sort_sensors_for_updates(spikes_df, sensor_ids, flagged_sensor_ids, pg_connection_dict) # In Update_Alerts.py"
   ]
  },
  {
   "cell_type": "code",
   "execution_count": 10,
   "metadata": {},
   "outputs": [],
   "source": [
    "# Those are all sets\n",
    "\n",
    "# new_spike_sensors, ongoing_spike_sensors, ended_spike_sensors#, not_spiked_sensors"
   ]
  },
  {
   "cell_type": "code",
   "execution_count": 11,
   "metadata": {},
   "outputs": [],
   "source": [
    "# Initialize messages_df\n",
    "\n",
    "record_ids_to_text = []\n",
    "messages = []"
   ]
  },
  {
   "cell_type": "markdown",
   "metadata": {},
   "source": [
    "---\n",
    "---\n",
    "---\n",
    "# Defining new Functions"
   ]
  },
  {
   "cell_type": "markdown",
   "metadata": {},
   "source": [
    "---\n",
    "---\n",
    "---\n",
    "## New Alert\n",
    "### For each newly spiked sensor:"
   ]
  },
  {
   "cell_type": "code",
   "execution_count": 35,
   "metadata": {},
   "outputs": [],
   "source": [
    "# This is for testing\n",
    "\n",
    "now = dt.datetime.now()\n",
    "\n",
    "too_late_hr = 21 # 9pm\n",
    "too_early_hr = 8 # 8am\n",
    "\n",
    "new_spike_sensors = set([142720])\n",
    "\n",
    "for sensor_id in new_spike_sensors:\n",
    "\n",
    "    record_ids_nearby = Users_nearby_sensor(pg_connection_dict, sensor_index, 1000)\n",
    "\n",
    "    if len(record_ids_nearby) > 0:\n",
    "\n",
    "        if (now.hour < too_late_hr) & (now.hour > too_early_hr):\n",
    "\n",
    "            record_ids_new_alerts = Users_to_message_new_alert(pg_connection_dict, record_ids_nearby)\n",
    "\n",
    "            # Add to message/record_id storage for future messaging\n",
    "            record_ids_to_text += record_ids_new_alerts\n",
    "            messages += [new_alert_message(sensor_id)]*len(record_ids_new_alerts)"
   ]
  },
  {
   "cell_type": "markdown",
   "metadata": {},
   "source": [
    "#### $A$) Query for people nearby\n",
    "\n",
    "*Find the sensor in database with this index*\n",
    "\n",
    "*find users record_ids*\n",
    "\n",
    "*WHERE subscription = True AND*\n",
    "\n",
    "**ST_DWithin* 1000meters <- make sure to transform*"
   ]
  },
  {
   "cell_type": "code",
   "execution_count": 10,
   "metadata": {},
   "outputs": [
    {
     "data": {
      "text/plain": [
       "[2]"
      ]
     },
     "execution_count": 10,
     "metadata": {},
     "output_type": "execute_result"
    }
   ],
   "source": [
    "# Let \n",
    "sensor_index = 142720\n",
    "distance = 1000 # (in meters)\n",
    "\n",
    "# then...\n",
    "            \n",
    "conn = psycopg2.connect(**pg_connection_dict)\n",
    "cur = conn.cursor()\n",
    "\n",
    "cmd = sql.SQL('''\n",
    "WITH sensor as\n",
    "(\n",
    "SELECT sensor_index, geometry\n",
    "FROM \"PurpleAir Stations\"\n",
    "WHERE sensor_index = {}\n",
    ")\n",
    "SELECT record_id\n",
    "FROM \"Sign Up Information\" u, sensor s\n",
    "WHERE u.subscribed = TRUE AND ST_DWithin(ST_Transform(u.geometry,26915),\n",
    "\t\t\t\t\t\t\t\t\t\tST_Transform(s.geometry, 26915),{});\n",
    "''').format(sql.Literal(sensor_index),\n",
    "                sql.Literal(distance))\n",
    "\n",
    "cur.execute(cmd)\n",
    "\n",
    "conn.commit()\n",
    "\n",
    "record_ids = [i[0] for i in cur.fetchall()]\n",
    "\n",
    "# Close cursor\n",
    "cur.close()\n",
    "# Close connection\n",
    "conn.close() \n",
    "\n",
    "record_ids"
   ]
  },
  {
   "cell_type": "markdown",
   "metadata": {},
   "source": [
    "#### $B$) Query users from $A$ to text\n",
    "\n",
    "*If A is not empty:*\n",
    "\n",
    "*If within waking hours*\n",
    "\n",
    "find users with empty cache/active alerts\n",
    "\n",
    "Compose Messages (record_ids, sensor_index)\n",
    "\n",
    "Concat to messages_df"
   ]
  },
  {
   "cell_type": "code",
   "execution_count": 24,
   "metadata": {},
   "outputs": [
    {
     "data": {
      "text/plain": [
       "[2]"
      ]
     },
     "execution_count": 24,
     "metadata": {},
     "output_type": "execute_result"
    }
   ],
   "source": [
    "# then...\n",
    "            \n",
    "conn = psycopg2.connect(**pg_connection_dict)\n",
    "cur = conn.cursor()\n",
    "\n",
    "cmd = sql.SQL('''\n",
    "SELECT record_id\n",
    "FROM \"Sign Up Information\"\n",
    "WHERE active_alerts = {} AND cached_alerts = {} AND record_id = ANY ( {} );\n",
    "''').format(sql.Literal('{}'), sql.Literal('{}'), sql.Literal(record_ids))\n",
    "\n",
    "cur.execute(cmd)\n",
    "\n",
    "conn.commit()\n",
    "\n",
    "record_ids_to_text = [i[0] for i in cur.fetchall()]\n",
    "\n",
    "# Close cursor\n",
    "cur.close()\n",
    "# Close connection\n",
    "conn.close() \n",
    "\n",
    "record_ids_to_text"
   ]
  },
  {
   "cell_type": "markdown",
   "metadata": {},
   "source": [
    "### *C*) Update Active Alerts See Update_Alerts.py & .ipynb"
   ]
  },
  {
   "cell_type": "markdown",
   "metadata": {},
   "source": [
    "---\n",
    "---\n",
    "---\n",
    "## Ended Alerts - NOT DONE"
   ]
  },
  {
   "cell_type": "code",
   "execution_count": null,
   "metadata": {},
   "outputs": [],
   "source": [
    "# ended_spike_sensors"
   ]
  },
  {
   "cell_type": "code",
   "execution_count": 10,
   "metadata": {},
   "outputs": [],
   "source": [
    "# Get ended_alert_indices <- a list usually gotten through remove_active_alerts()\n",
    "\n",
    "ended_alert_indices = [1]"
   ]
  },
  {
   "cell_type": "markdown",
   "metadata": {},
   "source": [
    "### $A$) Query for people to message\n",
    "\n",
    "*subscribed = TRUE and*\n",
    "\n",
    "*active_alerts is empty and*\n",
    "\n",
    "*cached_alerts not empty and*\n",
    "\n",
    "*all cached_alerts is >= 10 minutes old - ie. ended_alert_indices intersect cached_alerts is empty*"
   ]
  },
  {
   "cell_type": "code",
   "execution_count": 12,
   "metadata": {},
   "outputs": [],
   "source": [
    "def Users_to_message_end_alert(pg_connection_dict, ended_alert_indices):\n",
    "    '''\n",
    "    This function will return a list of record_ids from \"Sign Up Information\" that are subscribed, have empty active_alerts, non-empty cached_alerts, and cached_alerts intersect ended_alert_indices = empty (giving a 10 minute buffer before ending alerts - this can certainly change!)\n",
    "    \n",
    "    ended_alert_indices = a list of alert_ids that just ended\n",
    "    \n",
    "    returns record_ids_to_text (a list)\n",
    "    '''\n",
    "    \n",
    "    conn = psycopg2.connect(**pg_connection_dict)\n",
    "    cur = conn.cursor()\n",
    "\n",
    "    cmd = sql.SQL('''\n",
    "    SELECT record_id\n",
    "    FROM \"Sign Up Information\"\n",
    "    WHERE subscribed = TRUE\n",
    "        AND active_alerts = {}\n",
    "    \tAND ARRAY_LENGTH(cached_alerts, 1) > 0 \n",
    "    \tAND NOT cached_alerts && {}::bigint[];\n",
    "    ''').format(sql.Literal('{}'),\n",
    "      sql.Literal(ended_alert_indices))\n",
    "\n",
    "    cur.execute(cmd)\n",
    "\n",
    "    conn.commit()\n",
    "\n",
    "    record_ids_to_text = [i[0] for i in cur.fetchall()]\n",
    "\n",
    "    # Close cursor\n",
    "    cur.close()\n",
    "    # Close connection\n",
    "    conn.close() \n",
    "\n",
    "    return record_ids_to_text"
   ]
  },
  {
   "cell_type": "code",
   "execution_count": 13,
   "metadata": {},
   "outputs": [
    {
     "data": {
      "text/plain": [
       "[2]"
      ]
     },
     "execution_count": 13,
     "metadata": {},
     "output_type": "execute_result"
    }
   ],
   "source": [
    "Users_to_message_end_alert(pg_connection_dict, [1,69])"
   ]
  },
  {
   "cell_type": "markdown",
   "metadata": {},
   "source": [
    "### if A not empty:\n",
    "\n",
    "#### For each person in A:"
   ]
  },
  {
   "cell_type": "markdown",
   "metadata": {},
   "source": [
    "#### $i$) Initialize Reports\n",
    "\n",
    "generate random 5 characters + '-' + 'MMDDYY'\n",
    "compute the other neccessary values for database"
   ]
  },
  {
   "cell_type": "code",
   "execution_count": 15,
   "metadata": {},
   "outputs": [],
   "source": [
    "# Initialize storage for reports_for_day\n",
    "\n",
    "reports_for_day = 0\n",
    "\n",
    "now = dt.datetime.now()"
   ]
  },
  {
   "cell_type": "code",
   "execution_count": 40,
   "metadata": {},
   "outputs": [],
   "source": [
    "def initialize_report(record_id, reports_for_day, pg_connection_dict):\n",
    "    '''\n",
    "    This function will initialize a unique report for a user in the database.\n",
    "\n",
    "    It will also return the duration_minutes/max_reading of the report\n",
    "    '''\n",
    "    # Initialize report_id\n",
    "\n",
    "    report_id = str(reports_for_day).zfill(5) + '-' + now.strftime('%m%d%y')\n",
    "    \n",
    "    # Create Cursor for commands\n",
    "    conn = psycopg2.connect(**pg_connection_dict)\n",
    "    cur = conn.cursor()\n",
    "\n",
    "    # Use the record_id to query for the user's cached_alerts\n",
    "    # Then aggregate from those alerts the start_time, time_difference, max_reading, and nested sensor_indices\n",
    "    # Unnest the sensor indices into an array of unique sensor_indices\n",
    "    # Lastly, it will insert all the information into \"Reports Archive\"\n",
    "    \n",
    "    cmd = sql.SQL('''WITH alert_cache as\n",
    "(\n",
    "\tSELECT cached_alerts\n",
    "\tFROM \"Sign Up Information\"\n",
    "\tWHERE record_id = {} --inserted record_id\n",
    "), alerts as\n",
    "(\n",
    "\tSELECT MIN(p.start_time) as start_time,\n",
    "\t\t\tCURRENT_TIMESTAMP AT TIME ZONE 'America/Chicago' \n",
    "\t\t\t\t- MIN(p.start_time) as time_diff,\n",
    "\t\t\tMAX(p.max_reading) as max_reading, \n",
    "\t\t\tARRAY_AGG(p.sensor_indices) as sensor_indices\n",
    "\tFROM \"Archived Alerts Acute PurpleAir\" p, alert_cache c\n",
    "\tWHERE p.alert_index = ANY (c.cached_alerts)\n",
    "), unnested_sensors as \n",
    "(\n",
    "\tSELECT ARRAY_AGG(DISTINCT x.v) as sensor_indices\n",
    "\tFROM alerts cross JOIN LATERAL unnest(alerts.sensor_indices) as x(v)\n",
    ")\n",
    "INSERT INTO \"Reports Archive\"\n",
    "SELECT {}, -- Inserted report_id\n",
    "        a.start_time, -- start_time\n",
    "\t\t(((DATE_PART('day', a.time_diff) * 24) + \n",
    "    \t\tDATE_PART('hour', a.time_diff)) * 60 + \n",
    "\t\t \tDATE_PART('minute', a.time_diff)) as duration_minutes,\n",
    "\t\t\ta.max_reading, -- max_reading\n",
    "\t\tn.sensor_indices,\n",
    "\t\tc.cached_alerts\n",
    "FROM alert_cache c, alerts a, unnested_sensors n;\n",
    "''').format(sql.Literal(record_id),\n",
    "            sql.Literal(report_id))\n",
    "\n",
    "    cur.execute(cmd)\n",
    "    # Commit command\n",
    "    conn.commit()\n",
    "\n",
    "    # Now get the information from that report\n",
    "\n",
    "    cmd = sql.SQL('''SELECT duration_minutes, max_reading\n",
    "             FROM \"Reports Archive\"\n",
    "             WHERE report_id = {};\n",
    "''').format(sql.Literal(report_id))\n",
    "\n",
    "    cur.execute(cmd)\n",
    "    # Commit command\n",
    "    conn.commit()\n",
    "\n",
    "    # Unpack response\n",
    "    duration_minutes, max_reading = cur.fetchall()[0]\n",
    "\n",
    "    # Close cursor\n",
    "    cur.close()\n",
    "    # Close connection\n",
    "    conn.close()\n",
    "\n",
    "    return duration_minutes, max_reading"
   ]
  },
  {
   "cell_type": "markdown",
   "metadata": {},
   "source": [
    "#### $ii$) Compose message\n",
    "see Create_messages.py - end_alert_message\n",
    "(add message, record_id) to messages_df"
   ]
  },
  {
   "cell_type": "markdown",
   "metadata": {},
   "source": [
    "#### $iii$) clear user's cached_alerts\n",
    "\n",
    "See Update_Alerts.py & .ipynb"
   ]
  },
  {
   "cell_type": "code",
   "execution_count": 47,
   "metadata": {},
   "outputs": [
    {
     "name": "stdout",
     "output_type": "stream",
     "text": [
      "Alert Over\n",
      "Duration: 11371 minutes \n",
      "Max value: 79.0 ug/m3\n",
      "\n",
      "Report here - https://redcap.ahc.umn.edu/surveys/?s=LN3HHDCJXYCKFCLE&report_id=00007-110223\n"
     ]
    }
   ],
   "source": [
    "# For testing\n",
    "\n",
    "record_ids_end_alert_message = [1]\n",
    "\n",
    "base_report_url = 'https://redcap.ahc.umn.edu/surveys/?s=LN3HHDCJXYCKFCLE'\n",
    "# Create Cursor for commands\n",
    "conn = psycopg2.connect(**pg_connection_dict)\n",
    "cur = conn.cursor()\n",
    "\n",
    "for record_id in record_ids_end_alert_message:\n",
    "\n",
    "    report_id = str(reports_for_day).zfill(5) + '-' + now.strftime('%m%d%y')\n",
    "\n",
    "    duration_minutes, max_reading = initialize_report(record_id, reports_for_day, pg_connection_dict)\n",
    "\n",
    "    print(end_alert_message(duration_minutes, max_reading, report_id, base_report_url))\n",
    "    \n",
    "    reports_for_day += 1"
   ]
  },
  {
   "cell_type": "markdown",
   "metadata": {},
   "source": [
    "---\n",
    "---\n",
    "---\n",
    "# Archive - New Alerts\n",
    "---\n",
    "---\n",
    "---"
   ]
  },
  {
   "cell_type": "code",
   "execution_count": 16,
   "metadata": {},
   "outputs": [],
   "source": [
    "# Initialize for For Loop\n",
    "\n",
    "# Iterable (Find rows in spikes_df that are new spikes)\n",
    "\n",
    "new_spikes = spikes_df[spikes_df.sensor_index.isin(new_spike_sensors)]\n",
    "\n",
    "# Storage for messages\n",
    "\n",
    "new_alert_messages_df = pd.DataFrame(np.empty(0, dtype = [('user_index', int),\n",
    "                                                          ('intersection_index', int), \n",
    "                                                          ('phone_number', int),\n",
    "                                                          # ('last_messaged', pd._libs.tslibs.timestamps.Timestamp),\n",
    "                                                          # ('active_alerts', list),\n",
    "                                                          ('sensor_index', int),\n",
    "                                                          ('reading', float)])\n",
    "                                    )"
   ]
  },
  {
   "cell_type": "code",
   "execution_count": 18,
   "metadata": {},
   "outputs": [],
   "source": [
    "# The For Loop\n",
    "\n",
    "if len(new_spike_sensors) > 0: # If there are new spikes\n",
    "    \n",
    "    # Variables for Database\n",
    "\n",
    "    cols_for_db = ['sensor_index', 'start_time', 'max_reading'] # Cols_for_db What are we keeping track of in active alerts?\n",
    "    \n",
    "    runtime_for_db = runtime.strftime('%Y-%m-%d %H:%M:%S') # The time PurpleAir API queried\n",
    "\n",
    "    # Iterate through new spikes\n",
    "    \n",
    "    for index, row in new_spikes.iterrows():\n",
    "\n",
    "        # 1) Add to active alerts\n",
    "    \n",
    "        add_to_active_alerts(row, pg_connection_dict, cols_for_db, runtime_for_db)\n",
    "\n",
    "        # 2) Get People to message about this alert\n",
    "    \n",
    "        response_df = get_new_alert_messages(row, pg_connection_dict)\n",
    "        \n",
    "        new_alert_messages_df =  pd.concat([new_alert_messages_df, \n",
    "                                               response_df\n",
    "                                              ],\n",
    "                                               ignore_index=True)\n"
   ]
  },
  {
   "cell_type": "code",
   "execution_count": 19,
   "metadata": {},
   "outputs": [
    {
     "data": {
      "text/html": [
       "<div>\n",
       "<style scoped>\n",
       "    .dataframe tbody tr th:only-of-type {\n",
       "        vertical-align: middle;\n",
       "    }\n",
       "\n",
       "    .dataframe tbody tr th {\n",
       "        vertical-align: top;\n",
       "    }\n",
       "\n",
       "    .dataframe thead th {\n",
       "        text-align: right;\n",
       "    }\n",
       "</style>\n",
       "<table border=\"1\" class=\"dataframe\">\n",
       "  <thead>\n",
       "    <tr style=\"text-align: right;\">\n",
       "      <th></th>\n",
       "      <th>user_index</th>\n",
       "      <th>intersection_index</th>\n",
       "      <th>sensor_index</th>\n",
       "      <th>reading</th>\n",
       "    </tr>\n",
       "  </thead>\n",
       "  <tbody>\n",
       "  </tbody>\n",
       "</table>\n",
       "</div>"
      ],
      "text/plain": [
       "Empty DataFrame\n",
       "Columns: [user_index, intersection_index, sensor_index, reading]\n",
       "Index: []"
      ]
     },
     "execution_count": 19,
     "metadata": {},
     "output_type": "execute_result"
    }
   ],
   "source": [
    "new_alert_messages_df[['user_index', 'intersection_index', # 'phone_number', <- Don't show phonenumbers\n",
    "                        # 'last_messaged', 'active_alerts',\n",
    "                       'sensor_index','reading']].head(5)"
   ]
  },
  {
   "cell_type": "markdown",
   "metadata": {},
   "source": [
    "### Ongoing Alerts"
   ]
  },
  {
   "cell_type": "code",
   "execution_count": 20,
   "metadata": {},
   "outputs": [
    {
     "data": {
      "text/plain": [
       "{142752, 143248, 143944, 145202, 145504, 145610, 168327}"
      ]
     },
     "execution_count": 20,
     "metadata": {},
     "output_type": "execute_result"
    }
   ],
   "source": [
    "ongoing_spike_sensors"
   ]
  },
  {
   "cell_type": "code",
   "execution_count": 21,
   "metadata": {},
   "outputs": [
    {
     "data": {
      "text/html": [
       "<div>\n",
       "<style scoped>\n",
       "    .dataframe tbody tr th:only-of-type {\n",
       "        vertical-align: middle;\n",
       "    }\n",
       "\n",
       "    .dataframe tbody tr th {\n",
       "        vertical-align: top;\n",
       "    }\n",
       "\n",
       "    .dataframe thead th {\n",
       "        text-align: right;\n",
       "    }\n",
       "</style>\n",
       "<table border=\"1\" class=\"dataframe\">\n",
       "  <thead>\n",
       "    <tr style=\"text-align: right;\">\n",
       "      <th></th>\n",
       "      <th>sensor_index</th>\n",
       "      <th>pm25</th>\n",
       "    </tr>\n",
       "  </thead>\n",
       "  <tbody>\n",
       "    <tr>\n",
       "      <th>12</th>\n",
       "      <td>142752</td>\n",
       "      <td>27.0</td>\n",
       "    </tr>\n",
       "    <tr>\n",
       "      <th>26</th>\n",
       "      <td>143248</td>\n",
       "      <td>36.4</td>\n",
       "    </tr>\n",
       "    <tr>\n",
       "      <th>35</th>\n",
       "      <td>143944</td>\n",
       "      <td>79.0</td>\n",
       "    </tr>\n",
       "    <tr>\n",
       "      <th>36</th>\n",
       "      <td>145202</td>\n",
       "      <td>28.3</td>\n",
       "    </tr>\n",
       "    <tr>\n",
       "      <th>45</th>\n",
       "      <td>145504</td>\n",
       "      <td>25.6</td>\n",
       "    </tr>\n",
       "    <tr>\n",
       "      <th>47</th>\n",
       "      <td>145610</td>\n",
       "      <td>32.8</td>\n",
       "    </tr>\n",
       "    <tr>\n",
       "      <th>62</th>\n",
       "      <td>168327</td>\n",
       "      <td>33.0</td>\n",
       "    </tr>\n",
       "  </tbody>\n",
       "</table>\n",
       "</div>"
      ],
      "text/plain": [
       "   sensor_index  pm25\n",
       "12       142752  27.0\n",
       "26       143248  36.4\n",
       "35       143944  79.0\n",
       "36       145202  28.3\n",
       "45       145504  25.6\n",
       "47       145610  32.8\n",
       "62       168327  33.0"
      ]
     },
     "execution_count": 21,
     "metadata": {},
     "output_type": "execute_result"
    }
   ],
   "source": [
    "# Initialize for For Loop\n",
    "\n",
    "# Iterable (Find rows in spikes_df that are new spikes)\n",
    "\n",
    "ongoing_spikes = spikes_df[spikes_df.sensor_index.isin(ongoing_spike_sensors)]\n",
    "\n",
    "ongoing_spikes"
   ]
  },
  {
   "cell_type": "code",
   "execution_count": 22,
   "metadata": {},
   "outputs": [],
   "source": [
    "# Function Definitions\n",
    "\n",
    "# For each ongoing alert, we should\n",
    "\n",
    "# 1) Update max_reading if it's higher\n",
    "\n",
    "# See update_max_reading() in Update_Alerts.py\n",
    "\n",
    "# 2) Maybe message if it's getting much worse?\n",
    "\n",
    "# NOT DONE"
   ]
  },
  {
   "cell_type": "code",
   "execution_count": 23,
   "metadata": {},
   "outputs": [],
   "source": [
    "# The For Loop\n",
    "\n",
    "if len(ongoing_spikes) > 0:\n",
    "\n",
    "    for _, spike in ongoing_spikes.iterrows():\n",
    "    \n",
    "        update_max_reading(spike, pg_connection_dict)"
   ]
  },
  {
   "cell_type": "markdown",
   "metadata": {},
   "source": [
    "### Ended Alerts"
   ]
  },
  {
   "cell_type": "code",
   "execution_count": 29,
   "metadata": {},
   "outputs": [
    {
     "data": {
      "text/plain": [
       "[142718]"
      ]
     },
     "execution_count": 29,
     "metadata": {},
     "output_type": "execute_result"
    }
   ],
   "source": [
    "# Initialize for For Loop\n",
    "\n",
    "# Iterable (Find rows in spikes_df that are new spikes)\n",
    "\n",
    "list(ended_spike_sensors)"
   ]
  },
  {
   "cell_type": "code",
   "execution_count": 107,
   "metadata": {},
   "outputs": [],
   "source": [
    "# Function Definitions\n",
    "\n",
    "# For each ended alert, we should\n",
    "\n",
    "# 1) Add to archived alerts\n",
    "\n",
    "# See add_to_archived_alerts() in Update_Alerts.py\n",
    "\n",
    "#~~~~~~~~~~~~~~~~\n",
    "\n",
    "# 2) Remove from active alerts\n",
    "\n",
    "# See remove_active_alerts() in Update_Alerts.py\n",
    "\n",
    "#~~~~~~~~~~~~~~~~\n",
    "\n",
    "# 3) Message people it's over\n",
    "\n",
    "# Query for ended alert information\n",
    "\n",
    "# See end_alert_messages() in Create_messages.py"
   ]
  },
  {
   "cell_type": "code",
   "execution_count": 33,
   "metadata": {},
   "outputs": [
    {
     "name": "stdout",
     "output_type": "stream",
     "text": [
      "[(10,)]\n"
     ]
    }
   ],
   "source": [
    "# Perform the above\n",
    "\n",
    "if len(ended_spike_sensors) > 0:\n",
    "    \n",
    "    add_to_archived_alerts(ended_spike_sensors, pg_connection_dict) # Add the ended SpikeAlerts to archive\n",
    "    \n",
    "    ended_alert_indices = remove_active_alerts(ended_spike_sensors, pg_connection_dict) # Remove them from Active Alerts\n",
    "\n",
    "    print(ended_alert_indices)"
   ]
  },
  {
   "cell_type": "code",
   "execution_count": 37,
   "metadata": {},
   "outputs": [
    {
     "data": {
      "text/plain": [
       "[10]"
      ]
     },
     "execution_count": 37,
     "metadata": {},
     "output_type": "execute_result"
    }
   ],
   "source": [
    "ended_alert_indices"
   ]
  },
  {
   "cell_type": "code",
   "execution_count": 40,
   "metadata": {},
   "outputs": [],
   "source": [
    "# Get end alert information\n",
    "\n",
    "# Create Cursor for commands\n",
    "conn = psycopg2.connect(**pg_connection_dict)\n",
    "cur = conn.cursor()\n",
    "\n",
    "cmd = sql.SQL('''\n",
    "SELECT sensor_index, duration_minutes, max_reading\n",
    "FROM \"Archived Alerts Acute PurpleAir\"\n",
    "WHERE alert_index IN (SELECT UNNEST({}));\n",
    "''').format(sql.Literal(ended_alert_indices))\n",
    "\n",
    "cur.execute(cmd)\n",
    "# Commit command\n",
    "conn.commit()\n",
    "\n",
    "end_message_info_df = pd.DataFrame(cur.fetchall(), columns = ['sensor_index', 'duration_minutes', 'max_reading'])\n",
    "\n",
    "# Close cursor\n",
    "cur.close()\n",
    "# Close connection\n",
    "conn.close()"
   ]
  },
  {
   "cell_type": "code",
   "execution_count": 41,
   "metadata": {},
   "outputs": [
    {
     "data": {
      "text/html": [
       "<div>\n",
       "<style scoped>\n",
       "    .dataframe tbody tr th:only-of-type {\n",
       "        vertical-align: middle;\n",
       "    }\n",
       "\n",
       "    .dataframe tbody tr th {\n",
       "        vertical-align: top;\n",
       "    }\n",
       "\n",
       "    .dataframe thead th {\n",
       "        text-align: right;\n",
       "    }\n",
       "</style>\n",
       "<table border=\"1\" class=\"dataframe\">\n",
       "  <thead>\n",
       "    <tr style=\"text-align: right;\">\n",
       "      <th></th>\n",
       "      <th>alert_index</th>\n",
       "      <th>sensor_index</th>\n",
       "      <th>duration_minutes</th>\n",
       "      <th>max_reading</th>\n",
       "    </tr>\n",
       "  </thead>\n",
       "  <tbody>\n",
       "    <tr>\n",
       "      <th>0</th>\n",
       "      <td>10</td>\n",
       "      <td>142718</td>\n",
       "      <td>340</td>\n",
       "      <td>31.5</td>\n",
       "    </tr>\n",
       "  </tbody>\n",
       "</table>\n",
       "</div>"
      ],
      "text/plain": [
       "   alert_index  sensor_index  duration_minutes  max_reading\n",
       "0           10        142718               340         31.5"
      ]
     },
     "execution_count": 41,
     "metadata": {},
     "output_type": "execute_result"
    }
   ],
   "source": [
    "end_message_info_df"
   ]
  },
  {
   "cell_type": "code",
   "execution_count": 39,
   "metadata": {},
   "outputs": [
    {
     "data": {
      "text/html": [
       "<div>\n",
       "<style scoped>\n",
       "    .dataframe tbody tr th:only-of-type {\n",
       "        vertical-align: middle;\n",
       "    }\n",
       "\n",
       "    .dataframe tbody tr th {\n",
       "        vertical-align: top;\n",
       "    }\n",
       "\n",
       "    .dataframe thead th {\n",
       "        text-align: right;\n",
       "    }\n",
       "</style>\n",
       "<table border=\"1\" class=\"dataframe\">\n",
       "  <thead>\n",
       "    <tr style=\"text-align: right;\">\n",
       "      <th></th>\n",
       "      <th>sensor_index</th>\n",
       "      <th>duration_minutes</th>\n",
       "      <th>max_reading</th>\n",
       "    </tr>\n",
       "  </thead>\n",
       "  <tbody>\n",
       "    <tr>\n",
       "      <th>0</th>\n",
       "      <td>142718</td>\n",
       "      <td>340</td>\n",
       "      <td>31.5</td>\n",
       "    </tr>\n",
       "  </tbody>\n",
       "</table>\n",
       "</div>"
      ],
      "text/plain": [
       "   sensor_index  duration_minutes  max_reading\n",
       "0        142718               340         31.5"
      ]
     },
     "execution_count": 39,
     "metadata": {},
     "output_type": "execute_result"
    }
   ],
   "source": [
    "# Go through the ended alerts and see if people were watching this alert\n",
    "\n",
    "sensor_indices = end_message_info_df.sensor_index\n",
    "durations = end_message_info_df.duration_minutes\n",
    "max_readings = end_message_info_df.max_reading\n",
    "\n",
    "# Compose messages\n"
   ]
  },
  {
   "cell_type": "code",
   "execution_count": null,
   "metadata": {},
   "outputs": [],
   "source": []
  }
 ],
 "metadata": {
  "kernelspec": {
   "display_name": "Python 3 (ipykernel)",
   "language": "python",
   "name": "python3"
  },
  "language_info": {
   "codemirror_mode": {
    "name": "ipython",
    "version": 3
   },
   "file_extension": ".py",
   "mimetype": "text/x-python",
   "name": "python",
   "nbconvert_exporter": "python",
   "pygments_lexer": "ipython3",
   "version": "3.10.12"
  },
  "vscode": {
   "interpreter": {
    "hash": "eccf50a1291cb678adb751fb07cc0cb3ec85c824e49e2e3981e74f6a0155d408"
   }
  },
  "widgets": {
   "application/vnd.jupyter.widget-state+json": {
    "state": {},
    "version_major": 2,
    "version_minor": 0
   }
  }
 },
 "nbformat": 4,
 "nbformat_minor": 4
}
