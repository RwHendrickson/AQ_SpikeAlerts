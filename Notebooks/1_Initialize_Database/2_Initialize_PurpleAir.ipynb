{
 "cells": [
  {
   "cell_type": "markdown",
   "metadata": {},
   "source": [
    "# PurpleAir Stations QAQC"
   ]
  },
  {
   "cell_type": "markdown",
   "metadata": {},
   "source": [
    "## Import Packages"
   ]
  },
  {
   "cell_type": "code",
   "execution_count": 1,
   "metadata": {},
   "outputs": [],
   "source": [
    "### Import Packages\n",
    "\n",
    "# File manipulation\n",
    "\n",
    "import os # For working with Operating System\n",
    "import requests # Accessing the Web\n",
    "import datetime as dt # Working with dates/times\n",
    "\n",
    "# Database \n",
    "\n",
    "import psycopg2\n",
    "from psycopg2 import sql\n",
    "\n",
    "# Analysis\n",
    "\n",
    "import numpy as np\n",
    "import geopandas as gpd\n",
    "import pandas as pd"
   ]
  },
  {
   "cell_type": "code",
   "execution_count": 2,
   "metadata": {},
   "outputs": [],
   "source": [
    "# Load our Functions\n",
    "\n",
    "script_path = os.path.join('..', '..', 'Scripts', 'python')\n",
    "\n",
    "# Function definition - Please see Scripts/python/*\n",
    "exec(open(os.path.join(script_path, 'Get_spikes_df.py')).read())\n",
    "exec(open(os.path.join(script_path, 'Daily_Updates.py')).read())\n",
    "# exec(open(os.path.join(script_path, 'Update_Alerts.py')).read())"
   ]
  },
  {
   "cell_type": "markdown",
   "metadata": {},
   "source": [
    "## Definitions"
   ]
  },
  {
   "cell_type": "code",
   "execution_count": 3,
   "metadata": {},
   "outputs": [],
   "source": [
    "# Getting .env information (PurpleAir API Read Key)\n",
    "from dotenv import load_dotenv\n",
    "\n",
    "load_dotenv()\n",
    "\n",
    "purpleAir_api = os.getenv('PURPLEAIR_API_TOKEN')\n",
    "\n",
    "## Database credentials\n",
    "\n",
    "creds = [os.getenv('DB_NAME'),\n",
    "         os.getenv('DB_USER'),\n",
    "         os.getenv('DB_PASS'),\n",
    "         os.getenv('DB_PORT'),\n",
    "         os.getenv('DB_HOST')\n",
    "        ]\n",
    "\n",
    "pg_connection_dict = dict(zip(['dbname', 'user', 'password', 'port', 'host'], creds)) "
   ]
  },
  {
   "cell_type": "markdown",
   "metadata": {},
   "source": [
    "## Load Previous Information"
   ]
  },
  {
   "cell_type": "markdown",
   "metadata": {},
   "source": [
    "### Extent of study\n",
    "\n",
    "Getting lat/long for PurpleAir API Parameters"
   ]
  },
  {
   "cell_type": "code",
   "execution_count": 4,
   "metadata": {},
   "outputs": [],
   "source": [
    "# Connect\n",
    "\n",
    "conn = psycopg2.connect(**pg_connection_dict) \n",
    "# Create cursor\n",
    "cur = conn.cursor()\n",
    "\n",
    "cmd = sql.SQL('''\n",
    "WITH buffer as\n",
    "\t(\n",
    "\tSELECT ST_BUFFER(ST_Transform(ST_SetSRID(geometry, 4326),\n",
    "\t\t\t\t\t\t\t\t  26915),\n",
    "\t\t\t\t\t 100) geom -- buff the geometry by 100 meters\n",
    "\tFROM \"Minneapolis Boundary\"\n",
    "\t), bbox as\n",
    "\t(\n",
    "\tSELECT ST_EXTENT(ST_Transform(geom, 4326)) b\n",
    "\tFROM buffer\n",
    "\t)\n",
    "SELECT b::text\n",
    "FROM bbox;\n",
    "''')\n",
    "\n",
    "cur.execute(cmd) # Execute\n",
    "conn.commit() # Committ command"
   ]
  },
  {
   "cell_type": "code",
   "execution_count": 5,
   "metadata": {},
   "outputs": [],
   "source": [
    "# Gives a string\n",
    "\n",
    "response = cur.fetchall()[0][0]\n",
    "\n",
    "# Close cursor\n",
    "cur.close()\n",
    "# Close connection\n",
    "conn.close()"
   ]
  },
  {
   "cell_type": "code",
   "execution_count": 6,
   "metadata": {},
   "outputs": [
    {
     "data": {
      "text/plain": [
       "'BOX(-93.33037537752216 44.88968834134478,-93.19306250738248 45.05214646628739)'"
      ]
     },
     "execution_count": 6,
     "metadata": {},
     "output_type": "execute_result"
    }
   ],
   "source": [
    "response"
   ]
  },
  {
   "cell_type": "code",
   "execution_count": 7,
   "metadata": {},
   "outputs": [
    {
     "data": {
      "text/plain": [
       "'-93.33037537752216 44.88968834134478,-93.19306250738248 45.05214646628739'"
      ]
     },
     "execution_count": 7,
     "metadata": {},
     "output_type": "execute_result"
    }
   ],
   "source": [
    "# Unpack the response\n",
    "\n",
    "num_string = response[4:-1]\n",
    "\n",
    "num_string "
   ]
  },
  {
   "cell_type": "code",
   "execution_count": 8,
   "metadata": {},
   "outputs": [],
   "source": [
    "# That's in xmin, ymin, xmax, ymax\n",
    "\n",
    "xmin = num_string.split(' ')[0]\n",
    "ymin = num_string.split(' ')[1].split(',')[0]\n",
    "xmax = num_string.split(' ')[1].split(',')[1]\n",
    "ymax = num_string.split(' ')[2]\n",
    "\n",
    "# Convert into PurpleAir API notation\n",
    "\n",
    "nwlng, selat, selng, nwlat = xmin, ymin, xmax, ymax"
   ]
  },
  {
   "cell_type": "markdown",
   "metadata": {},
   "source": [
    "# Importing New PurpleAir Station Data"
   ]
  },
  {
   "cell_type": "code",
   "execution_count": 9,
   "metadata": {},
   "outputs": [
    {
     "name": "stdout",
     "output_type": "stream",
     "text": [
      "nwlng=-93.33037537752216&nwlat=45.05214646628739&selng=-93.19306250738248&selat=44.88968834134478\n"
     ]
    }
   ],
   "source": [
    "#Set bounding strings for API parameters\n",
    "bounds_strings = [f'nwlng={nwlng}',\n",
    "                  f'nwlat={nwlat}',\n",
    "                  f'selng={selng}',\n",
    "                  f'selat={selat}']\n",
    "\n",
    "bounds_string = '&'.join(bounds_strings)\n",
    "\n",
    "print(bounds_string)"
   ]
  },
  {
   "cell_type": "code",
   "execution_count": 10,
   "metadata": {},
   "outputs": [],
   "source": [
    "#Setting parameters for API\n",
    "\n",
    "# Fields\n",
    "fields = ['firmware_version','date_created','last_modified','last_seen',\n",
    "          'name', 'uptime','position_rating','channel_state','channel_flags',\n",
    "          'altitude', 'latitude', 'longitude', 'location_type']\n",
    "\n",
    "fields_string = 'fields=' + '%2C'.join(fields)\n",
    "\n",
    "# Finalizing query for API function\n",
    "query_string = '&'.join([fields_string, bounds_string])"
   ]
  },
  {
   "cell_type": "code",
   "execution_count": 11,
   "metadata": {},
   "outputs": [],
   "source": [
    "#calling the API\n",
    "response = getSensorsData(query_string, purpleAir_api) # See Get_spikes_df.py"
   ]
  },
  {
   "cell_type": "code",
   "execution_count": 20,
   "metadata": {},
   "outputs": [],
   "source": [
    "# Unpack response\n",
    "\n",
    "response_dict = response.json() # Read response as a json (dictionary)\n",
    "\n",
    "col_names = response_dict['fields']\n",
    "data = np.array(response_dict['data'])\n",
    "\n",
    "df = pd.DataFrame(data, columns = col_names) # Convert to dataframe\n",
    "\n",
    "# Correct Last Seen/modified/date created into datetimes\n",
    "\n",
    "df['last_modified'] = pd.to_datetime(df['last_modified'].astype(int),\n",
    "                                             utc = True,\n",
    "                                             unit='s').dt.tz_convert('America/Chicago')\n",
    "df['date_created'] = pd.to_datetime(df['date_created'].astype(int),\n",
    "                                         utc = True,\n",
    "                                         unit='s').dt.tz_convert('America/Chicago')\n",
    "df['last_seen'] = pd.to_datetime(df['last_seen'].astype(int),\n",
    "                                         utc = True,\n",
    "                                         unit='s').dt.tz_convert('America/Chicago')\n",
    "\n",
    " # Make sure sensor_index/location_type is an integer\n",
    "\n",
    "df['sensor_index'] = pd.to_numeric(df['sensor_index'])\n",
    "df['location_type'] = pd.to_numeric(df['location_type'])\n",
    "\n",
    "\n",
    "# Filter for City of Minneapolis & outside sensors\n",
    "\n",
    "is_city = df.name.apply(lambda x: 'CITY OF MINNEAPOLIS' in x.upper())\n",
    "is_outside = df.location_type == 0\n",
    "\n",
    "purpleAir_df = df[is_city & is_outside].copy()"
   ]
  },
  {
   "cell_type": "code",
   "execution_count": 28,
   "metadata": {
    "scrolled": true
   },
   "outputs": [
    {
     "data": {
      "text/html": [
       "<div>\n",
       "<style scoped>\n",
       "    .dataframe tbody tr th:only-of-type {\n",
       "        vertical-align: middle;\n",
       "    }\n",
       "\n",
       "    .dataframe tbody tr th {\n",
       "        vertical-align: top;\n",
       "    }\n",
       "\n",
       "    .dataframe thead th {\n",
       "        text-align: right;\n",
       "    }\n",
       "</style>\n",
       "<table border=\"1\" class=\"dataframe\">\n",
       "  <thead>\n",
       "    <tr style=\"text-align: right;\">\n",
       "      <th></th>\n",
       "      <th>sensor_index</th>\n",
       "      <th>last_modified</th>\n",
       "      <th>date_created</th>\n",
       "      <th>last_seen</th>\n",
       "      <th>name</th>\n",
       "      <th>location_type</th>\n",
       "      <th>firmware_version</th>\n",
       "      <th>uptime</th>\n",
       "      <th>position_rating</th>\n",
       "      <th>latitude</th>\n",
       "      <th>longitude</th>\n",
       "      <th>altitude</th>\n",
       "      <th>channel_state</th>\n",
       "      <th>channel_flags</th>\n",
       "    </tr>\n",
       "  </thead>\n",
       "  <tbody>\n",
       "    <tr>\n",
       "      <th>13</th>\n",
       "      <td>142718</td>\n",
       "      <td>2023-08-02 13:50:17-05:00</td>\n",
       "      <td>2022-01-12 12:57:49-06:00</td>\n",
       "      <td>2023-11-15 11:44:05-06:00</td>\n",
       "      <td>City of Minneapolis Community Air Monitoring P...</td>\n",
       "      <td>0</td>\n",
       "      <td>7.02</td>\n",
       "      <td>222</td>\n",
       "      <td>5</td>\n",
       "      <td>44.99631</td>\n",
       "      <td>-93.29565</td>\n",
       "      <td>857</td>\n",
       "      <td>3</td>\n",
       "      <td>0</td>\n",
       "    </tr>\n",
       "    <tr>\n",
       "      <th>14</th>\n",
       "      <td>142720</td>\n",
       "      <td>2023-08-02 13:06:36-05:00</td>\n",
       "      <td>2022-01-12 12:57:55-06:00</td>\n",
       "      <td>2023-11-15 11:44:38-06:00</td>\n",
       "      <td>City of Minneapolis Community Air Monitoring P...</td>\n",
       "      <td>0</td>\n",
       "      <td>7.02</td>\n",
       "      <td>47321</td>\n",
       "      <td>5</td>\n",
       "      <td>44.955555</td>\n",
       "      <td>-93.254974</td>\n",
       "      <td>850</td>\n",
       "      <td>3</td>\n",
       "      <td>0</td>\n",
       "    </tr>\n",
       "    <tr>\n",
       "      <th>15</th>\n",
       "      <td>142726</td>\n",
       "      <td>2023-02-02 11:31:06-06:00</td>\n",
       "      <td>2022-01-12 12:58:17-06:00</td>\n",
       "      <td>2023-11-15 11:45:03-06:00</td>\n",
       "      <td>City of Minneapolis Community Air Monitoring P...</td>\n",
       "      <td>0</td>\n",
       "      <td>7.02</td>\n",
       "      <td>2157</td>\n",
       "      <td>5</td>\n",
       "      <td>45.01507</td>\n",
       "      <td>-93.28903</td>\n",
       "      <td>889</td>\n",
       "      <td>3</td>\n",
       "      <td>0</td>\n",
       "    </tr>\n",
       "    <tr>\n",
       "      <th>16</th>\n",
       "      <td>142724</td>\n",
       "      <td>2023-08-02 11:12:05-05:00</td>\n",
       "      <td>2022-01-12 12:58:09-06:00</td>\n",
       "      <td>2023-11-15 11:43:58-06:00</td>\n",
       "      <td>City of Minneapolis Community Air Monitoring P...</td>\n",
       "      <td>0</td>\n",
       "      <td>7.02</td>\n",
       "      <td>21784</td>\n",
       "      <td>5</td>\n",
       "      <td>44.937733</td>\n",
       "      <td>-93.24356</td>\n",
       "      <td>859</td>\n",
       "      <td>3</td>\n",
       "      <td>0</td>\n",
       "    </tr>\n",
       "    <tr>\n",
       "      <th>17</th>\n",
       "      <td>142734</td>\n",
       "      <td>2023-08-02 11:05:23-05:00</td>\n",
       "      <td>2022-01-12 12:58:49-06:00</td>\n",
       "      <td>2023-11-15 11:44:33-06:00</td>\n",
       "      <td>City of Minneapolis Community Air Monitoring P...</td>\n",
       "      <td>0</td>\n",
       "      <td>7.02</td>\n",
       "      <td>9702</td>\n",
       "      <td>5</td>\n",
       "      <td>44.90432</td>\n",
       "      <td>-93.280624</td>\n",
       "      <td>847</td>\n",
       "      <td>3</td>\n",
       "      <td>0</td>\n",
       "    </tr>\n",
       "  </tbody>\n",
       "</table>\n",
       "</div>"
      ],
      "text/plain": [
       "    sensor_index             last_modified              date_created  \\\n",
       "13        142718 2023-08-02 13:50:17-05:00 2022-01-12 12:57:49-06:00   \n",
       "14        142720 2023-08-02 13:06:36-05:00 2022-01-12 12:57:55-06:00   \n",
       "15        142726 2023-02-02 11:31:06-06:00 2022-01-12 12:58:17-06:00   \n",
       "16        142724 2023-08-02 11:12:05-05:00 2022-01-12 12:58:09-06:00   \n",
       "17        142734 2023-08-02 11:05:23-05:00 2022-01-12 12:58:49-06:00   \n",
       "\n",
       "                   last_seen  \\\n",
       "13 2023-11-15 11:44:05-06:00   \n",
       "14 2023-11-15 11:44:38-06:00   \n",
       "15 2023-11-15 11:45:03-06:00   \n",
       "16 2023-11-15 11:43:58-06:00   \n",
       "17 2023-11-15 11:44:33-06:00   \n",
       "\n",
       "                                                 name  location_type  \\\n",
       "13  City of Minneapolis Community Air Monitoring P...              0   \n",
       "14  City of Minneapolis Community Air Monitoring P...              0   \n",
       "15  City of Minneapolis Community Air Monitoring P...              0   \n",
       "16  City of Minneapolis Community Air Monitoring P...              0   \n",
       "17  City of Minneapolis Community Air Monitoring P...              0   \n",
       "\n",
       "   firmware_version uptime position_rating   latitude   longitude altitude  \\\n",
       "13             7.02    222               5   44.99631   -93.29565      857   \n",
       "14             7.02  47321               5  44.955555  -93.254974      850   \n",
       "15             7.02   2157               5   45.01507   -93.28903      889   \n",
       "16             7.02  21784               5  44.937733   -93.24356      859   \n",
       "17             7.02   9702               5   44.90432  -93.280624      847   \n",
       "\n",
       "   channel_state channel_flags  \n",
       "13             3             0  \n",
       "14             3             0  \n",
       "15             3             0  \n",
       "16             3             0  \n",
       "17             3             0  "
      ]
     },
     "execution_count": 28,
     "metadata": {},
     "output_type": "execute_result"
    }
   ],
   "source": [
    "purpleAir_df.head()"
   ]
  },
  {
   "cell_type": "code",
   "execution_count": 23,
   "metadata": {},
   "outputs": [],
   "source": [
    "# Spatializing\n",
    "                                         \n",
    "gdf = gpd.GeoDataFrame(purpleAir_df, \n",
    "                            geometry = gpd.points_from_xy(\n",
    "                                purpleAir_df.longitude,\n",
    "                                purpleAir_df.latitude,\n",
    "                                crs = 'EPSG:4326')\n",
    "                           )"
   ]
  },
  {
   "cell_type": "markdown",
   "metadata": {},
   "source": [
    "## Insert Data into SQL Table"
   ]
  },
  {
   "cell_type": "code",
   "execution_count": 26,
   "metadata": {},
   "outputs": [],
   "source": [
    "# Insert into database\n",
    "\n",
    "cols_for_db = ['sensor_index', 'firmware_version', 'date_created', 'last_modified', 'last_seen',\n",
    " 'name', 'uptime', 'position_rating', 'channel_state', 'channel_flags', 'altitude', 'geometry'] \n",
    "\n",
    "# Get values ready for database\n",
    "\n",
    "sorted_df = gdf.copy()[cols_for_db[:-1]]  # Drop unneccessary columns & sort columns by cols_for db (without geometry - see next line)\n",
    "\n",
    "# Get Well Known Text of the geometry\n",
    "                     \n",
    "sorted_df['wkt'] = gdf.geometry.apply(lambda x: x.wkt)\n",
    "\n",
    "# Format the times\n",
    "\n",
    "sorted_df['date_created'] = gdf.date_created.apply(lambda x : x.strftime('%Y-%m-%d %H:%M:%S'))\n",
    "sorted_df['last_modified'] = gdf.last_modified.apply(lambda x : x.strftime('%Y-%m-%d %H:%M:%S'))\n",
    "sorted_df['last_seen'] = gdf.last_seen.apply(lambda x : x.strftime('%Y-%m-%d %H:%M:%S'))"
   ]
  },
  {
   "cell_type": "code",
   "execution_count": 27,
   "metadata": {},
   "outputs": [
    {
     "data": {
      "text/html": [
       "<div>\n",
       "<style scoped>\n",
       "    .dataframe tbody tr th:only-of-type {\n",
       "        vertical-align: middle;\n",
       "    }\n",
       "\n",
       "    .dataframe tbody tr th {\n",
       "        vertical-align: top;\n",
       "    }\n",
       "\n",
       "    .dataframe thead th {\n",
       "        text-align: right;\n",
       "    }\n",
       "</style>\n",
       "<table border=\"1\" class=\"dataframe\">\n",
       "  <thead>\n",
       "    <tr style=\"text-align: right;\">\n",
       "      <th></th>\n",
       "      <th>sensor_index</th>\n",
       "      <th>firmware_version</th>\n",
       "      <th>date_created</th>\n",
       "      <th>last_modified</th>\n",
       "      <th>last_seen</th>\n",
       "      <th>name</th>\n",
       "      <th>uptime</th>\n",
       "      <th>position_rating</th>\n",
       "      <th>channel_state</th>\n",
       "      <th>channel_flags</th>\n",
       "      <th>altitude</th>\n",
       "      <th>wkt</th>\n",
       "    </tr>\n",
       "  </thead>\n",
       "  <tbody>\n",
       "    <tr>\n",
       "      <th>13</th>\n",
       "      <td>142718</td>\n",
       "      <td>7.02</td>\n",
       "      <td>2022-01-12 12:57:49</td>\n",
       "      <td>2023-08-02 13:50:17</td>\n",
       "      <td>2023-11-15 11:44:05</td>\n",
       "      <td>City of Minneapolis Community Air Monitoring P...</td>\n",
       "      <td>222</td>\n",
       "      <td>5</td>\n",
       "      <td>3</td>\n",
       "      <td>0</td>\n",
       "      <td>857</td>\n",
       "      <td>POINT (-93.29565 44.99631)</td>\n",
       "    </tr>\n",
       "    <tr>\n",
       "      <th>14</th>\n",
       "      <td>142720</td>\n",
       "      <td>7.02</td>\n",
       "      <td>2022-01-12 12:57:55</td>\n",
       "      <td>2023-08-02 13:06:36</td>\n",
       "      <td>2023-11-15 11:44:38</td>\n",
       "      <td>City of Minneapolis Community Air Monitoring P...</td>\n",
       "      <td>47321</td>\n",
       "      <td>5</td>\n",
       "      <td>3</td>\n",
       "      <td>0</td>\n",
       "      <td>850</td>\n",
       "      <td>POINT (-93.254974 44.955555)</td>\n",
       "    </tr>\n",
       "    <tr>\n",
       "      <th>15</th>\n",
       "      <td>142726</td>\n",
       "      <td>7.02</td>\n",
       "      <td>2022-01-12 12:58:17</td>\n",
       "      <td>2023-02-02 11:31:06</td>\n",
       "      <td>2023-11-15 11:45:03</td>\n",
       "      <td>City of Minneapolis Community Air Monitoring P...</td>\n",
       "      <td>2157</td>\n",
       "      <td>5</td>\n",
       "      <td>3</td>\n",
       "      <td>0</td>\n",
       "      <td>889</td>\n",
       "      <td>POINT (-93.28903 45.01507)</td>\n",
       "    </tr>\n",
       "    <tr>\n",
       "      <th>16</th>\n",
       "      <td>142724</td>\n",
       "      <td>7.02</td>\n",
       "      <td>2022-01-12 12:58:09</td>\n",
       "      <td>2023-08-02 11:12:05</td>\n",
       "      <td>2023-11-15 11:43:58</td>\n",
       "      <td>City of Minneapolis Community Air Monitoring P...</td>\n",
       "      <td>21784</td>\n",
       "      <td>5</td>\n",
       "      <td>3</td>\n",
       "      <td>0</td>\n",
       "      <td>859</td>\n",
       "      <td>POINT (-93.24356 44.937733)</td>\n",
       "    </tr>\n",
       "    <tr>\n",
       "      <th>17</th>\n",
       "      <td>142734</td>\n",
       "      <td>7.02</td>\n",
       "      <td>2022-01-12 12:58:49</td>\n",
       "      <td>2023-08-02 11:05:23</td>\n",
       "      <td>2023-11-15 11:44:33</td>\n",
       "      <td>City of Minneapolis Community Air Monitoring P...</td>\n",
       "      <td>9702</td>\n",
       "      <td>5</td>\n",
       "      <td>3</td>\n",
       "      <td>0</td>\n",
       "      <td>847</td>\n",
       "      <td>POINT (-93.280624 44.90432)</td>\n",
       "    </tr>\n",
       "  </tbody>\n",
       "</table>\n",
       "</div>"
      ],
      "text/plain": [
       "    sensor_index firmware_version         date_created        last_modified  \\\n",
       "13        142718             7.02  2022-01-12 12:57:49  2023-08-02 13:50:17   \n",
       "14        142720             7.02  2022-01-12 12:57:55  2023-08-02 13:06:36   \n",
       "15        142726             7.02  2022-01-12 12:58:17  2023-02-02 11:31:06   \n",
       "16        142724             7.02  2022-01-12 12:58:09  2023-08-02 11:12:05   \n",
       "17        142734             7.02  2022-01-12 12:58:49  2023-08-02 11:05:23   \n",
       "\n",
       "              last_seen                                               name  \\\n",
       "13  2023-11-15 11:44:05  City of Minneapolis Community Air Monitoring P...   \n",
       "14  2023-11-15 11:44:38  City of Minneapolis Community Air Monitoring P...   \n",
       "15  2023-11-15 11:45:03  City of Minneapolis Community Air Monitoring P...   \n",
       "16  2023-11-15 11:43:58  City of Minneapolis Community Air Monitoring P...   \n",
       "17  2023-11-15 11:44:33  City of Minneapolis Community Air Monitoring P...   \n",
       "\n",
       "   uptime position_rating channel_state channel_flags altitude  \\\n",
       "13    222               5             3             0      857   \n",
       "14  47321               5             3             0      850   \n",
       "15   2157               5             3             0      889   \n",
       "16  21784               5             3             0      859   \n",
       "17   9702               5             3             0      847   \n",
       "\n",
       "                             wkt  \n",
       "13    POINT (-93.29565 44.99631)  \n",
       "14  POINT (-93.254974 44.955555)  \n",
       "15    POINT (-93.28903 45.01507)  \n",
       "16   POINT (-93.24356 44.937733)  \n",
       "17   POINT (-93.280624 44.90432)  "
      ]
     },
     "execution_count": 27,
     "metadata": {},
     "output_type": "execute_result"
    }
   ],
   "source": [
    "sorted_df.head()"
   ]
  },
  {
   "cell_type": "code",
   "execution_count": 212,
   "metadata": {},
   "outputs": [],
   "source": [
    "# Connect to PostGIS Database\n",
    "\n",
    "conn = psycopg2.connect(**pg_connection_dict)\n",
    "cur = conn.cursor()\n",
    "\n",
    "# iterate over the dataframe and insert each row into the database using a SQL INSERT statement\n",
    "\n",
    "for index, row in sorted_df.copy().iterrows():\n",
    "\n",
    "    q1 = sql.SQL('INSERT INTO \"PurpleAir Stations\" ({}) VALUES ({},{});').format(\n",
    "     sql.SQL(', ').join(map(sql.Identifier, cols_for_db)),\n",
    "     sql.SQL(', ').join(sql.Placeholder() * (len(cols_for_db)-1)),\n",
    "     sql.SQL('ST_SetSRID(ST_GeomFromText(%s), 4326)::geometry'))\n",
    "    # print(q1.as_string(conn))\n",
    "    # print(row)\n",
    "    # break\n",
    "    \n",
    "    cur.execute(q1.as_string(conn),\n",
    "        (list(row.values))\n",
    "        )\n",
    "# Commit commands\n",
    "\n",
    "conn.commit()\n",
    "\n",
    "# Close the cursor and connection\n",
    "cur.close()\n",
    "conn.close()"
   ]
  }
 ],
 "metadata": {
  "kernelspec": {
   "display_name": "Python 3 (ipykernel)",
   "language": "python",
   "name": "python3"
  },
  "language_info": {
   "codemirror_mode": {
    "name": "ipython",
    "version": 3
   },
   "file_extension": ".py",
   "mimetype": "text/x-python",
   "name": "python",
   "nbconvert_exporter": "python",
   "pygments_lexer": "ipython3",
   "version": "3.10.12"
  },
  "vscode": {
   "interpreter": {
    "hash": "eccf50a1291cb678adb751fb07cc0cb3ec85c824e49e2e3981e74f6a0155d408"
   }
  },
  "widgets": {
   "application/vnd.jupyter.widget-state+json": {
    "state": {},
    "version_major": 2,
    "version_minor": 0
   }
  }
 },
 "nbformat": 4,
 "nbformat_minor": 4
}
