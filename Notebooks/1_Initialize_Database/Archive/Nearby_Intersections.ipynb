{
 "cells": [
  {
   "cell_type": "markdown",
   "id": "02933b05",
   "metadata": {},
   "source": [
    "# Average Annual Daily Traffic (Current)\n",
    "\n",
    "Minnesota Department of Transport (MnDoT)\n",
    "\n",
    "Output Coordinate Reference System: UTM 15N - EPSG:26915\n",
    "\n",
    "Source: https://gisdata.mn.gov/dataset/trans-aadt-traffic-segments\n",
    "\n",
    "Metadata: https://resources.gisdata.mn.gov/pub/gdrs/data/pub/us_mn_state_dot/trans_aadt_traffic_segments/metadata/metadata.html"
   ]
  },
  {
   "cell_type": "code",
   "execution_count": 1,
   "id": "b3a0d545",
   "metadata": {},
   "outputs": [],
   "source": [
    "### Import Libraries\n",
    "\n",
    "# File manipulation\n",
    "\n",
    "import os # For working with Operating System\n",
    "import urllib # For accessing websites\n",
    "import zipfile # For extracting from Zipfiles\n",
    "from io import BytesIO # For reading bytes objects\n",
    "\n",
    "import psycopg2\n",
    "from psycopg2 import sql, extras\n",
    "\n",
    "# Analysis\n",
    "\n",
    "import numpy as np # For working with Arrays\n",
    "import pandas as pd # Data Manipulation\n",
    "import geopandas as gpd\n",
    "\n",
    "# Get CWD\n",
    "\n",
    "cwd = os.getcwd() # This is a global variable for where the notebook is (must change if running in arcpro)"
   ]
  },
  {
   "cell_type": "code",
   "execution_count": 2,
   "id": "653106f0-5c9f-4999-91ae-33c607b887c4",
   "metadata": {},
   "outputs": [],
   "source": [
    "# Definitions\n",
    "\n",
    "def Get_nearby_sensors(target_geom, sensors_df, distance):\n",
    "    ''' This function will return all sensor indices within the distance (meters) of the target\n",
    "    '''\n",
    "\n",
    "    # Get geometries of targets and sources \n",
    "\n",
    "    sensors_geo = sensors_df.geometry\n",
    "\n",
    "    target_buffer = target_geom.buffer(distance)\n",
    "\n",
    "    is_within = sensors_geo.within(target_buffer)\n",
    "\n",
    "    return sensors_df[is_within].sensor_index"
   ]
  },
  {
   "cell_type": "code",
   "execution_count": 13,
   "id": "9b5a71dc-ef83-4880-a0da-89a24dd1134b",
   "metadata": {},
   "outputs": [],
   "source": [
    "# Load Traffic segments\n",
    "\n",
    "datapath = os.path.join('..', '..', 'Data')\n",
    "\n",
    "intersections_df = gpd.read_file(os.path.join(datapath, 'Road_Intersections.geojson'))\n",
    "\n",
    "sensors_df = gpd.read_file(os.path.join(datapath, 'PurpleAir_Stations.geojson'))"
   ]
  },
  {
   "cell_type": "code",
   "execution_count": 36,
   "id": "988d693b-5f44-4a36-9d0f-40c7d5cf280c",
   "metadata": {},
   "outputs": [],
   "source": [
    "# Iterate through to find nearby sensors\n",
    "\n",
    "nearby_df = intersections_df.copy()# .drop(intersections_df.columns, axis = 1)\n",
    "\n",
    "nearby_df['nearby_sensors'] = None\n",
    "\n",
    "for i, row in nearby_df.iterrows():\n",
    "\n",
    "    target_geom = row.geometry\n",
    "\n",
    "    sensor_ids = Get_nearby_sensors(target_geom, sensors_df, 2000)\n",
    "    \n",
    "    nearby_df.loc[i, 'nearby_sensors'] = str(sensor_ids.tolist())\n",
    "    "
   ]
  },
  {
   "cell_type": "code",
   "execution_count": 37,
   "id": "c0ca7358-1fd6-424e-be35-6f02e2c4234a",
   "metadata": {},
   "outputs": [
    {
     "data": {
      "text/html": [
       "<div>\n",
       "<style scoped>\n",
       "    .dataframe tbody tr th:only-of-type {\n",
       "        vertical-align: middle;\n",
       "    }\n",
       "\n",
       "    .dataframe tbody tr th {\n",
       "        vertical-align: top;\n",
       "    }\n",
       "\n",
       "    .dataframe thead th {\n",
       "        text-align: right;\n",
       "    }\n",
       "</style>\n",
       "<table border=\"1\" class=\"dataframe\">\n",
       "  <thead>\n",
       "    <tr style=\"text-align: right;\">\n",
       "      <th></th>\n",
       "      <th>NS_cross_street</th>\n",
       "      <th>EW_cross_street</th>\n",
       "      <th>geometry</th>\n",
       "      <th>nearby_sensors</th>\n",
       "    </tr>\n",
       "  </thead>\n",
       "  <tbody>\n",
       "    <tr>\n",
       "      <th>0</th>\n",
       "      <td>Nicollet Ave S</td>\n",
       "      <td>W 61st St</td>\n",
       "      <td>POINT (478042.278 4971026.506)</td>\n",
       "      <td>[142734', '143246', '166459]</td>\n",
       "    </tr>\n",
       "    <tr>\n",
       "      <th>1</th>\n",
       "      <td>Lyndale Ave S</td>\n",
       "      <td>W 61st St</td>\n",
       "      <td>POINT (477234.219 4971031.999)</td>\n",
       "      <td>[142734', '143246', '166459]</td>\n",
       "    </tr>\n",
       "    <tr>\n",
       "      <th>2</th>\n",
       "      <td>Portland Ave S</td>\n",
       "      <td>E 60th St</td>\n",
       "      <td>POINT (478860.281 4971245.500)</td>\n",
       "      <td>[142734', '143246', '166459]</td>\n",
       "    </tr>\n",
       "    <tr>\n",
       "      <th>3</th>\n",
       "      <td>Chicago Ave S</td>\n",
       "      <td>E 60th St</td>\n",
       "      <td>POINT (479249.344 4971244.000)</td>\n",
       "      <td>[142734', '143246', '166459]</td>\n",
       "    </tr>\n",
       "    <tr>\n",
       "      <th>4</th>\n",
       "      <td>Nicollet Ave S</td>\n",
       "      <td>E 60th St</td>\n",
       "      <td>POINT (478043.782 4971248.999)</td>\n",
       "      <td>[142734', '143246', '166459]</td>\n",
       "    </tr>\n",
       "  </tbody>\n",
       "</table>\n",
       "</div>"
      ],
      "text/plain": [
       "  NS_cross_street EW_cross_street                        geometry  \\\n",
       "0  Nicollet Ave S       W 61st St  POINT (478042.278 4971026.506)   \n",
       "1   Lyndale Ave S       W 61st St  POINT (477234.219 4971031.999)   \n",
       "2  Portland Ave S       E 60th St  POINT (478860.281 4971245.500)   \n",
       "3   Chicago Ave S       E 60th St  POINT (479249.344 4971244.000)   \n",
       "4  Nicollet Ave S       E 60th St  POINT (478043.782 4971248.999)   \n",
       "\n",
       "                 nearby_sensors  \n",
       "0  [142734', '143246', '166459]  \n",
       "1  [142734', '143246', '166459]  \n",
       "2  [142734', '143246', '166459]  \n",
       "3  [142734', '143246', '166459]  \n",
       "4  [142734', '143246', '166459]  "
      ]
     },
     "execution_count": 37,
     "metadata": {},
     "output_type": "execute_result"
    }
   ],
   "source": [
    "# Format for database\n",
    "\n",
    "# Convert strings of lists into lists\n",
    "\n",
    "nearby_df['nearby_sensors'] = nearby_df['nearby_sensors'].apply(lambda x: x[2:-2].split(', '))\n",
    "\n",
    "# Drop extra columns\n",
    "\n",
    "nearby_df[\n",
    "\n",
    "nearby_df.head()"
   ]
  },
  {
   "cell_type": "code",
   "execution_count": 25,
   "id": "f18d493c-e5ac-4efa-b3be-e361b5f774d9",
   "metadata": {},
   "outputs": [],
   "source": [
    "# Let's Save that locally\n",
    "\n",
    "intersections_df[~is_duplicated].to_file(os.path.join(datapath, 'Road_Intersections.geojson'))"
   ]
  },
  {
   "cell_type": "markdown",
   "id": "35d99235-b390-4ff9-a6c4-10d80580a5aa",
   "metadata": {},
   "source": [
    "# Upload to DB"
   ]
  },
  {
   "cell_type": "code",
   "execution_count": 26,
   "id": "52fd218e-075c-49e2-b6ae-378fe2866814",
   "metadata": {},
   "outputs": [
    {
     "data": {
      "text/html": [
       "<div>\n",
       "<style scoped>\n",
       "    .dataframe tbody tr th:only-of-type {\n",
       "        vertical-align: middle;\n",
       "    }\n",
       "\n",
       "    .dataframe tbody tr th {\n",
       "        vertical-align: top;\n",
       "    }\n",
       "\n",
       "    .dataframe thead th {\n",
       "        text-align: right;\n",
       "    }\n",
       "</style>\n",
       "<table border=\"1\" class=\"dataframe\">\n",
       "  <thead>\n",
       "    <tr style=\"text-align: right;\">\n",
       "      <th></th>\n",
       "      <th>NS_cross_street</th>\n",
       "      <th>EW_cross_street</th>\n",
       "      <th>inter</th>\n",
       "    </tr>\n",
       "  </thead>\n",
       "  <tbody>\n",
       "    <tr>\n",
       "      <th>0</th>\n",
       "      <td>Nicollet Ave S</td>\n",
       "      <td>W 61st St</td>\n",
       "      <td>POINT (478042.278 4971026.506)</td>\n",
       "    </tr>\n",
       "  </tbody>\n",
       "</table>\n",
       "</div>"
      ],
      "text/plain": [
       "  NS_cross_street EW_cross_street                           inter\n",
       "0  Nicollet Ave S       W 61st St  POINT (478042.278 4971026.506)"
      ]
     },
     "execution_count": 26,
     "metadata": {},
     "output_type": "execute_result"
    }
   ],
   "source": [
    "intersections_df_no_duplicates = intersections_df[~is_duplicated]\n",
    "\n",
    "intersections_df_no_duplicates.head(1)"
   ]
  },
  {
   "cell_type": "code",
   "execution_count": 27,
   "id": "48927e49-2583-42ad-9412-daefd6d698af",
   "metadata": {},
   "outputs": [],
   "source": [
    "# Correct column types\n",
    "\n",
    "sorted_df = intersections_df_no_duplicates.drop('inter', axis=1).copy()\n",
    "\n",
    "sorted_df['wkt'] = intersections_df_no_duplicates.inter.apply(lambda x: x.wkt)\n",
    "\n",
    "cols_for_db = list(intersections_df_no_duplicates.columns[:-1]) + ['geometry']"
   ]
  },
  {
   "cell_type": "code",
   "execution_count": 28,
   "id": "8f88c3c3-3a7a-4aed-a353-8d601cf1f8c7",
   "metadata": {},
   "outputs": [
    {
     "data": {
      "text/plain": [
       "['NS_cross_street', 'EW_cross_street', 'geometry']"
      ]
     },
     "execution_count": 28,
     "metadata": {},
     "output_type": "execute_result"
    }
   ],
   "source": [
    "cols_for_db"
   ]
  },
  {
   "cell_type": "code",
   "execution_count": 29,
   "id": "fcb6866a-0d73-4517-819b-4c99a2038571",
   "metadata": {},
   "outputs": [],
   "source": [
    "# Upload to Database\n",
    "\n",
    "# Get credentials\n",
    "\n",
    "cred_pth = os.path.join(os.getcwd(), '..', '..', 'Scripts', 'database', 'db_credentials.txt')\n",
    "\n",
    "with open(cred_pth, 'r') as f:\n",
    "    \n",
    "    creds = f.readlines()[0].rstrip('\\n').split(', ')\n",
    "    \n",
    "# Connect to PostGIS Database\n",
    "\n",
    "pg_connection_dict = dict(zip(['dbname', 'user', 'password', 'port', 'host'], creds))\n",
    "\n",
    "conn = psycopg2.connect(**pg_connection_dict)"
   ]
  },
  {
   "cell_type": "code",
   "execution_count": 30,
   "id": "04011bd8-5ebc-4889-a765-0b399d42313f",
   "metadata": {},
   "outputs": [],
   "source": [
    "# Create Cursor for commands\n",
    "\n",
    "cur = conn.cursor()\n",
    "\n",
    "\n",
    "for index, row in sorted_df.iterrows():\n",
    "    \n",
    "    # This is really a great way to insert a lot of data\n",
    "    \n",
    "    q1 = sql.SQL('INSERT INTO \"Road Intersections\" ({}) VALUES ({},{});').format(\n",
    "     sql.SQL(', ').join(map(sql.Identifier, cols_for_db)),\n",
    "     sql.SQL(', ').join(sql.Placeholder() * (len(cols_for_db)-1)),\n",
    "     sql.SQL('ST_Transform(ST_SetSRID(ST_GeomFromText(%s), 26915),4326)::geometry'))\n",
    "#     print(q1.as_string(conn))\n",
    "#     break\n",
    "\n",
    "    cur.execute(q1.as_string(conn),\n",
    "        (list(row.values))\n",
    "        )\n",
    "    # Commit command\n",
    "\n",
    "    conn.commit()\n",
    "\n",
    "# Close cursor\n",
    "\n",
    "cur.close()\n",
    "\n",
    "# Close connection\n",
    "\n",
    "conn.close()"
   ]
  }
 ],
 "metadata": {
  "kernelspec": {
   "display_name": "Python 3 (ipykernel)",
   "language": "python",
   "name": "python3"
  },
  "language_info": {
   "codemirror_mode": {
    "name": "ipython",
    "version": 3
   },
   "file_extension": ".py",
   "mimetype": "text/x-python",
   "name": "python",
   "nbconvert_exporter": "python",
   "pygments_lexer": "ipython3",
   "version": "3.10.12"
  },
  "widgets": {
   "application/vnd.jupyter.widget-state+json": {
    "state": {},
    "version_major": 2,
    "version_minor": 0
   }
  }
 },
 "nbformat": 4,
 "nbformat_minor": 5
}
