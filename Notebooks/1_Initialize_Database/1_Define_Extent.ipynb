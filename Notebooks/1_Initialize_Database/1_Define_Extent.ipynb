{
 "cells": [
  {
   "cell_type": "markdown",
   "id": "dd203169",
   "metadata": {
    "tags": []
   },
   "source": [
    "# Define Spatial Extent of Project\n",
    "\n",
    "This notebook retrieves Metropolitan Council's 2020 boundaries of the Twin Cities area and extracts the Minneapolis's boundary and buffers 8 kilometers (large emissions were [shown to travel this distance](https://plumepgh.org/model_data.html) if the wind blows right). Both Minneapolis and the Extent are saved in geodatabase.\n",
    "\n",
    "Output Coordinate Reference System: UTM 15N - EPSG:26915\n",
    "\n",
    "Source: https://gisdata.mn.gov/dataset/us-mn-state-metc-bdry-census2020counties-ctus\n",
    "\n",
    "Metadata: https://resources.gisdata.mn.gov/pub/gdrs/data/pub/us_mn_state_metc/bdry_census2020counties_ctus/metadata/metadata.html\n"
   ]
  },
  {
   "cell_type": "code",
   "execution_count": 2,
   "id": "0b3704da",
   "metadata": {},
   "outputs": [],
   "source": [
    "### Import Packages\n",
    "\n",
    "# File manipulation\n",
    "\n",
    "import os # For working with Operating System\n",
    "import shutil # For deleting folders\n",
    "import urllib # For accessing websites\n",
    "import zipfile # For extracting from Zipfiles\n",
    "from io import BytesIO # For reading bytes objects\n",
    "\n",
    "# Database \n",
    "\n",
    "import psycopg2\n",
    "\n",
    "# Analysis\n",
    "\n",
    "import pandas as pd # Data Management\n",
    "import geopandas as gpd # Spatial Data Manipulation\n",
    "\n",
    "# Get CWD\n",
    "\n",
    "cwd = os.getcwd()"
   ]
  },
  {
   "cell_type": "code",
   "execution_count": 3,
   "id": "d7ba7902",
   "metadata": {},
   "outputs": [],
   "source": [
    "### Definitions\n",
    "\n",
    "def extract_zip_from_url(url=None, savepath=None):\n",
    "    '''Extract a zipfile from the internet\n",
    "    then unpack it in to it's own folder \n",
    "    within the working directory.\n",
    "    Takes a single url (string).'''\n",
    "\n",
    "    if not os.path.exists(savepath):\n",
    "        os.makedirs(savepath)\n",
    "    # Unload zip into the new folder\n",
    "    response = urllib.request.urlopen(url) # Get a response\n",
    "    zip_folder = zipfile.ZipFile(BytesIO(response.read())) # Read Response\n",
    "    zip_folder.extractall(path=savepath) # Extract files\n",
    "    zip_folder.close() # Close zip object"
   ]
  },
  {
   "cell_type": "code",
   "execution_count": 4,
   "id": "2ff40c69",
   "metadata": {},
   "outputs": [],
   "source": [
    "# Download Data\n",
    "\n",
    "## Twin Cities Metro Boundaries - Downloaded from MN GeospatialCommons gisdata.mn.gov  (~ 5mb)\n",
    "\n",
    "url = \"https://resources.gisdata.mn.gov/pub/gdrs/data/pub/us_mn_state_metc/bdry_census2020counties_ctus/shp_bdry_census2020counties_ctus.zip\"\n",
    "\n",
    "# Create folder name for file\n",
    "folder_name = 'shp_bdry_census2020counties_ctus' # url.split('/')[-1][:-4] <- programatic way to get foldernam\n",
    "# Define path for downloaded files\n",
    "savepath = os.path.join(cwd, '..', '..', 'Data', folder_name)\n",
    "\n",
    "extract_zip_from_url(url, savepath)"
   ]
  },
  {
   "cell_type": "code",
   "execution_count": 5,
   "id": "db1c159f",
   "metadata": {},
   "outputs": [],
   "source": [
    "# Read & Select\n",
    "\n",
    "# Get path\n",
    "\n",
    "filename = 'Census2020CTUs.shp'\n",
    "path = os.path.join(savepath, filename)\n",
    "\n",
    "ctus_boundaries = gpd.read_file(path)\n",
    "\n",
    "# Select Minneapolis\n",
    "\n",
    "mpls_boundary = ctus_boundaries[ctus_boundaries['CTU_NAME'] == 'Minneapolis']\n",
    "\n",
    "# # Write the selected features to a new featureclass\n",
    "# arcpy.management.CopyFeatures(mpls_boundary, \"mpls_boundary\")"
   ]
  },
  {
   "cell_type": "code",
   "execution_count": 6,
   "id": "88f0d11b-1f07-4849-bb25-ddab59ffdfe8",
   "metadata": {},
   "outputs": [
    {
     "name": "stdout",
     "output_type": "stream",
     "text": [
      "     CTU_ID     CTU_NAME CTU_ID_CEN CTU_CODE CTU_TYPE  ABC_SORT  FIVE_COLOR  \\\n",
      "88  2395345  Minneapolis   02395345    43000        C       230           1   \n",
      "\n",
      "      Shape_Leng    Shape_Area  \\\n",
      "88  61855.652144  1.486309e+08   \n",
      "\n",
      "                                             geometry  \n",
      "88  POLYGON ((477245.593 4988670.721, 477673.489 4...  \n"
     ]
    }
   ],
   "source": [
    "# mpls_boundary.plot()\n",
    "print(mpls_boundary)"
   ]
  },
  {
   "cell_type": "code",
   "execution_count": 6,
   "id": "c05f5184-aaef-441b-95d9-da8c9d38af03",
   "metadata": {},
   "outputs": [],
   "source": [
    "# # Buffer\n",
    "\n",
    "# buffed_boundary = mpls_boundary.buffer(8000)"
   ]
  },
  {
   "cell_type": "code",
   "execution_count": 7,
   "id": "715f8eed-c222-4b07-b90d-a3a5039f5527",
   "metadata": {},
   "outputs": [],
   "source": [
    "# # Save locally as geojsons\n",
    "\n",
    "# datapath = os.path.join(cwd, '..', '..', 'Data')\n",
    "\n",
    "# mpls_boundary.to_file(os.path.join(datapath, 'mpls_boundary.geojson'))\n",
    "# buffed_boundary.to_file(os.path.join(datapath, 'extent.geojson'))"
   ]
  },
  {
   "cell_type": "markdown",
   "id": "a086bde5",
   "metadata": {},
   "source": [
    "## For Database"
   ]
  },
  {
   "cell_type": "code",
   "execution_count": 18,
   "id": "d7c36205",
   "metadata": {},
   "outputs": [],
   "source": [
    "# Upload to Database\n",
    "\n",
    "from dotenv import load_dotenv # Loading .env info\n",
    "\n",
    "# Get credentials\n",
    "\n",
    "load_dotenv() # Load .env file\n",
    "\n",
    "creds = [os.getenv('DB_NAME'),\n",
    "         os.getenv('DB_USER'),\n",
    "         os.getenv('DB_PASS'),\n",
    "         os.getenv('DB_PORT'),\n",
    "         os.getenv('DB_HOST')\n",
    "        ]\n",
    "\n",
    "pg_connection_dict = dict(zip(['dbname', 'user', 'password', 'port', 'host'], creds)) \n",
    "\n",
    "conn = psycopg2.connect(**pg_connection_dict)\n",
    "\n",
    "# Create Cursor for commands\n",
    "\n",
    "cur = conn.cursor()\n",
    "\n",
    "## Redo everything below here\n",
    "\n",
    "# Insert into table\n",
    "\n",
    "cols = ['CTU_ID', 'CTU_NAME', 'CTU_CODE', 'geometry'] # Relative columns\n",
    "\n",
    "for i, row in mpls_boundary[cols].iterrows():\n",
    "\n",
    "    cur.execute(\n",
    "        'INSERT INTO \"Minneapolis Boundary\"(\"CTU_ID\", \"CTU_NAME\", \"CTU_CODE\", geometry)'\n",
    "        'VALUES (%(ctu_id)s, %(ctu_name)s, %(ctu_code)s, ST_Transform(ST_SetSRID(ST_GeomFromText(%(geom)s), 26915),4326)::geometry);',\n",
    "        {'ctu_id': row[0],\n",
    "         'ctu_name' : row[1],\n",
    "         'ctu_code': row[2],\n",
    "         'geom': row[3].wkt})\n",
    "\n",
    "    # Commit command\n",
    "\n",
    "    conn.commit()\n",
    "\n",
    "# Close cursor\n",
    "\n",
    "cur.close()\n",
    "\n",
    "# Close connection\n",
    "\n",
    "conn.close()"
   ]
  }
 ],
 "metadata": {
  "kernelspec": {
   "display_name": "Python 3 (ipykernel)",
   "language": "python",
   "name": "python3"
  },
  "language_info": {
   "codemirror_mode": {
    "name": "ipython",
    "version": 3
   },
   "file_extension": ".py",
   "mimetype": "text/x-python",
   "name": "python",
   "nbconvert_exporter": "python",
   "pygments_lexer": "ipython3",
   "version": "3.10.12"
  },
  "vscode": {
   "interpreter": {
    "hash": "eccf50a1291cb678adb751fb07cc0cb3ec85c824e49e2e3981e74f6a0155d408"
   }
  },
  "widgets": {
   "application/vnd.jupyter.widget-state+json": {
    "state": {},
    "version_major": 2,
    "version_minor": 0
   }
  }
 },
 "nbformat": 4,
 "nbformat_minor": 5
}
