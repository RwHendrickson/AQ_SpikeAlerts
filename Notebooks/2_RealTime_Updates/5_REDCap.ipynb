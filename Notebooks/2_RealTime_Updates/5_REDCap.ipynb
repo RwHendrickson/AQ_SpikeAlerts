{
 "cells": [
  {
   "cell_type": "code",
   "execution_count": 1,
   "id": "47e0c5d8-afae-47c5-9289-b86ca2294bf3",
   "metadata": {},
   "outputs": [],
   "source": [
    "# Import libraries\n",
    "\n",
    "import os\n",
    "import requests\n",
    "from io import StringIO\n",
    "\n",
    "import psycopg2\n",
    "from psycopg2 import sql\n",
    "\n",
    "# Data Manipulation\n",
    "import pandas as pd\n",
    "import geopandas as gpd\n",
    "\n",
    "# Getting .env information (API keys, etc.)\n",
    "from dotenv import load_dotenv"
   ]
  },
  {
   "cell_type": "code",
   "execution_count": 2,
   "id": "bfc1dd81-30da-4748-b735-c3659d3a6791",
   "metadata": {},
   "outputs": [],
   "source": [
    "# Get REDCap token\n",
    "\n",
    "load_dotenv()\n",
    "\n",
    "redCap_token_signUp = os.getenv('REDCAP_TOKEN_SIGNUP') # Survey Token\n",
    "redCap_token_report = os.getenv('REDCAP_TOKEN_REPORT') # Report Token\n",
    "\n",
    "# Get Database credentials\n",
    "\n",
    "creds = [os.getenv('DB_NAME'),\n",
    "         os.getenv('DB_USER'),\n",
    "         os.getenv('DB_PASS'),\n",
    "         os.getenv('DB_PORT'),\n",
    "         os.getenv('DB_HOST')\n",
    "        ]\n",
    "\n",
    "pg_connection_dict = dict(zip(['dbname', 'user', 'password', 'port', 'host'], creds))"
   ]
  },
  {
   "cell_type": "code",
   "execution_count": 91,
   "id": "c10f578a-0574-4749-a8c4-d8a3beef32e0",
   "metadata": {},
   "outputs": [],
   "source": [
    "# filterLogic Redcap API\n",
    "# For how to do this - https://education.arcus.chop.edu/redcap-api/\n",
    "# Redcap logic guide - https://cctsi.cuanschutz.edu/docs/librariesprovider28/redcap/redcap-logic-guide.pdf?sfvrsn=258e94ba_2\n",
    "# Info from PyCap - https://redcap-tools.github.io/PyCap/api_reference/records/\n",
    "\n",
    "### Select by record_id\n",
    "\n",
    "# They must be strings before below\n",
    "\n",
    "# record_ids = ['1', '2', '3', '4']\n",
    "record_ids = [2,3,4,1] # Intentionally mixing up order\n",
    "\n",
    "record_id_strs = [str(record_id) for record_id in record_ids]\n",
    "\n",
    "filterLogic_str = '[record_id]=' + ' OR [record_id]='.join(record_id_strs)\n",
    "\n",
    "### field_names\n",
    "\n",
    "field_names = 'phone, record_id'"
   ]
  },
  {
   "cell_type": "code",
   "execution_count": 92,
   "id": "60dd2f60-c758-48ba-a0f2-4a8b81bc1bd8",
   "metadata": {},
   "outputs": [],
   "source": [
    "data = {\n",
    "    'token': redCap_token_signUp,\n",
    "    'content': 'record',\n",
    "    'fields' : field_names,\n",
    "    'action': 'export',\n",
    "    'format': 'csv',\n",
    "    'type': 'flat',\n",
    "    'csvDelimiter': '',\n",
    "    'rawOrLabel': 'raw',\n",
    "    'rawOrLabelHeaders': 'raw',\n",
    "    'exportCheckboxLabel': 'false',\n",
    "    'exportSurveyFields': 'false',\n",
    "    'exportDataAccessGroups': 'false',\n",
    "    'returnFormat': 'csv',\n",
    "    'filterLogic': filterLogic_str  \n",
    "}\n",
    "r = requests.post('https://redcap.ahc.umn.edu/api/',data=data)"
   ]
  },
  {
   "cell_type": "code",
   "execution_count": 99,
   "id": "5f138615-4c1a-4764-9ca7-4ca52a58145f",
   "metadata": {
    "scrolled": true
   },
   "outputs": [
    {
     "name": "stdout",
     "output_type": "stream",
     "text": [
      "HTTP Status: 200\n"
     ]
    }
   ],
   "source": [
    "print('HTTP Status: ' + str(r.status_code))\n",
    "df = pd.read_csv(StringIO(r.text))\n",
    "\n",
    "# df"
   ]
  },
  {
   "cell_type": "code",
   "execution_count": 100,
   "id": "9e0debc1-f57c-4ac3-a5bd-67faa0007474",
   "metadata": {},
   "outputs": [],
   "source": [
    "# Sort df by record_ids from above\n",
    "\n",
    "sorted_df = df.set_index('record_id').loc[record_ids]\n",
    "\n",
    "# sorted_df"
   ]
  },
  {
   "cell_type": "code",
   "execution_count": 101,
   "id": "9b95d12b-c08b-4b3a-af5b-89ac4462326c",
   "metadata": {},
   "outputs": [],
   "source": [
    "# get phone numbers as a list\n",
    "\n",
    "phone_numbers = list(sorted_df.phone)\n",
    "\n",
    "# phone_numbers"
   ]
  }
 ],
 "metadata": {
  "kernelspec": {
   "display_name": "Python 3 (ipykernel)",
   "language": "python",
   "name": "python3"
  },
  "language_info": {
   "codemirror_mode": {
    "name": "ipython",
    "version": 3
   },
   "file_extension": ".py",
   "mimetype": "text/x-python",
   "name": "python",
   "nbconvert_exporter": "python",
   "pygments_lexer": "ipython3",
   "version": "3.10.12"
  },
  "widgets": {
   "application/vnd.jupyter.widget-state+json": {
    "state": {},
    "version_major": 2,
    "version_minor": 0
   }
  }
 },
 "nbformat": 4,
 "nbformat_minor": 5
}
