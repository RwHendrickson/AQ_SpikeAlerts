{
 "cells": [
  {
   "cell_type": "code",
   "execution_count": 11,
   "id": "80073031-a4d2-41dd-b356-4ed4278836bb",
   "metadata": {},
   "outputs": [],
   "source": [
    "# Load Libraries\n",
    "import numpy as np\n",
    "import os\n",
    "import time # Sleeping\n",
    "import pytz # Timezones\n",
    "from twilio.rest import Client\n",
    "# Getting .env information\n",
    "from dotenv import load_dotenv"
   ]
  },
  {
   "cell_type": "code",
   "execution_count": 16,
   "id": "3ffff738-364a-44d3-861b-6257129c7923",
   "metadata": {},
   "outputs": [],
   "source": [
    "def send_texts(numbers, messages, account_sid, auth_token, twilio_number): # could refactor to send to user, that way we could inc. messages_sent in this function (better than havign to do it in parents)\n",
    "    '''basic send function that takes in a list of numbers + list of messages and sends them out\n",
    "    and returns a list of times that each message was sent\n",
    "    '''\n",
    "    client = Client(account_sid, auth_token)\n",
    "\n",
    "    times = []\n",
    "    for number, message in zip(numbers, messages):\n",
    "\n",
    "        msg = client.messages.create(\n",
    "        body= message,\n",
    "        from_=twilio_number,\n",
    "        to=number # replace with number in PROD\n",
    "        ) # should check error handling, if needed based on SDK\n",
    "        \n",
    "        time.sleep(1) # Sleeping for 1 second between sending messages\n",
    "        \n",
    "        times.append(msg.date_updated.astimezone(pytz.timezone('America/Chicago'))) # Append times sent <- these come in utc\n",
    "\n",
    "    return times"
   ]
  },
  {
   "cell_type": "code",
   "execution_count": 56,
   "id": "5d322217-2b8f-4f2a-abba-23162718155a",
   "metadata": {},
   "outputs": [],
   "source": [
    "def check_unsubscriptions(numbers, account_sid, auth_token):\n",
    "    '''Returns the indices of the phone numbers in numbers that have unsubscribed\n",
    "    Which corresponds to record_ids_to_text'''\n",
    "\n",
    "\n",
    "    unsubscribed_indices = []\n",
    "    \n",
    "    stop_key_words = ['STOP', 'STOPALL', 'UNSUBSCRIBE', 'CANCEL', 'END', 'QUIT']\n",
    "\n",
    "    # Set up Twilio Client\n",
    "\n",
    "    client = Client(account_sid, auth_token)\n",
    "\n",
    "    # Iterate through the numbers \n",
    "    \n",
    "    for i, number in enumerate(numbers):\n",
    "        \n",
    "        messages_from = client.messages.list(from_=number) # Check if the numbers have responded, messages_from is a list twilio objects\n",
    "        # https://www.twilio.com/docs/messaging/api/message-resource?code-sample=code-list-all-message-resources&code-language=Python&code-sdk-version=8.x\n",
    "\n",
    "        if len(messages_from) > 0: # If yes\n",
    "\n",
    "            for message in messages_from: # What have they said?\n",
    "    \n",
    "                if message.body in stop_key_words: # If stopword\n",
    "\n",
    "                    unsubscribed_indices += [i] # Add to unsubscriptions\n",
    "\n",
    "                # else:\n",
    "\n",
    "                #     message.delete() # We don't need to hold onto responses from people, do we? <- maybe save this for when we actually remove users\n",
    "\n",
    "    return unsubscribed_indices"
   ]
  },
  {
   "cell_type": "code",
   "execution_count": 13,
   "id": "ef128aca-f379-4757-9197-0baaf4f3babe",
   "metadata": {},
   "outputs": [],
   "source": [
    "# Load .env info\n",
    "\n",
    "load_dotenv()\n",
    "\n",
    "account_sid = os.environ['TWILIO_ACCOUNT_SID']\n",
    "auth_token = os.environ['TWILIO_AUTH_TOKEN']\n",
    "\n",
    "twilio_number = os.environ['TWILIO_NUMBER']\n"
   ]
  },
  {
   "cell_type": "code",
   "execution_count": 14,
   "id": "80447907-8ab5-4b75-b93d-c06d8ad87836",
   "metadata": {},
   "outputs": [],
   "source": [
    "# Set up test variables (new alert message)\n",
    "\n",
    "numbers = [os.environ['LOCAL_PHONE']]\n",
    "\n",
    "message = '''SPIKE ALERT!\n",
    "Air quality is unhealthy in your area\n",
    "https://map.purpleair.com/?select=145604/44.9723/-93.2447\n",
    "\n",
    "Text STOP to unsubscribe\n",
    "'''\n",
    "\n",
    "messages = [message]"
   ]
  },
  {
   "cell_type": "code",
   "execution_count": 15,
   "id": "ebbd3d1c-9eba-4471-8f10-7529fbd9e403",
   "metadata": {
    "scrolled": true
   },
   "outputs": [
    {
     "data": {
      "text/plain": [
       "[datetime.datetime(2023, 11, 10, 11, 7, 11, tzinfo=<DstTzInfo 'America/Chicago' CST-1 day, 18:00:00 STD>)]"
      ]
     },
     "execution_count": 15,
     "metadata": {},
     "output_type": "execute_result"
    }
   ],
   "source": [
    "# call function\n",
    "\n",
    "send_texts(numbers, messages, account_sid, auth_token, twilio_number)"
   ]
  },
  {
   "cell_type": "code",
   "execution_count": 6,
   "id": "964804cf-f916-427d-88d9-80eb393b9b8c",
   "metadata": {},
   "outputs": [],
   "source": [
    "# End alert Example\n",
    "\n",
    "new_mess = '''Alert Over\n",
    "Duration: 60 minutes \n",
    "Max value: 50.7 ug/m3\n",
    "\n",
    "Report here - https://redcap.ahc.umn.edu/surveys/?s=LN3HHDCJXYCKFCLE&report_id=XXXXX-102623\n",
    "\n",
    "'''\n",
    "messages = [new_mess]"
   ]
  },
  {
   "cell_type": "code",
   "execution_count": 7,
   "id": "22a02ad7-2c9f-4f95-91fb-ab0c559bd1f8",
   "metadata": {},
   "outputs": [
    {
     "data": {
      "text/plain": [
       "[datetime.datetime(2023, 11, 8, 23, 38, 31, tzinfo=<UTC>)]"
      ]
     },
     "execution_count": 7,
     "metadata": {},
     "output_type": "execute_result"
    }
   ],
   "source": [
    "# call function\n",
    "\n",
    "send_texts(numbers, messages, account_sid, auth_token, twilio_number)"
   ]
  },
  {
   "cell_type": "code",
   "execution_count": null,
   "id": "e2e65a5f-4226-4855-8727-361a90088028",
   "metadata": {},
   "outputs": [],
   "source": []
  }
 ],
 "metadata": {
  "kernelspec": {
   "display_name": "Python 3 (ipykernel)",
   "language": "python",
   "name": "python3"
  },
  "language_info": {
   "codemirror_mode": {
    "name": "ipython",
    "version": 3
   },
   "file_extension": ".py",
   "mimetype": "text/x-python",
   "name": "python",
   "nbconvert_exporter": "python",
   "pygments_lexer": "ipython3",
   "version": "3.10.12"
  },
  "widgets": {
   "application/vnd.jupyter.widget-state+json": {
    "state": {},
    "version_major": 2,
    "version_minor": 0
   }
  }
 },
 "nbformat": 4,
 "nbformat_minor": 5
}
