{
 "cells": [
  {
   "cell_type": "markdown",
   "metadata": {},
   "source": [
    "# PurpleAir Stations QAQC"
   ]
  },
  {
   "cell_type": "markdown",
   "metadata": {},
   "source": [
    "## Import Packages"
   ]
  },
  {
   "cell_type": "code",
   "execution_count": 1,
   "metadata": {},
   "outputs": [],
   "source": [
    "### Import Packages\n",
    "\n",
    "# File manipulation\n",
    "\n",
    "import os # For working with Operating System\n",
    "import requests # Accessing the Web\n",
    "import datetime as dt # Working with dates/times\n",
    "\n",
    "# Database \n",
    "\n",
    "import psycopg2\n",
    "from psycopg2 import sql\n",
    "\n",
    "# Analysis\n",
    "\n",
    "import numpy as np\n",
    "import geopandas as gpd\n",
    "import pandas as pd\n",
    "\n",
    "# Get CWD\n",
    "\n",
    "cwd = os.getcwd()"
   ]
  },
  {
   "cell_type": "markdown",
   "metadata": {},
   "source": [
    "## Definitions"
   ]
  },
  {
   "cell_type": "code",
   "execution_count": 2,
   "metadata": {},
   "outputs": [
    {
     "name": "stdin",
     "output_type": "stream",
     "text": [
      "Please enter your Purple Air api key 51592903-B445-11ED-B6F4-42010A800007\n"
     ]
    }
   ],
   "source": [
    "# This is my personal API key... Please use responsibly! 51592903-B445-11ED-B6F4-42010A800007\n",
    "\n",
    "api = input('Please enter your Purple Air api key')"
   ]
  },
  {
   "cell_type": "code",
   "execution_count": 3,
   "metadata": {},
   "outputs": [],
   "source": [
    "#Setting lat/long for PurpleAir API Parameters\n",
    "\n",
    "datapath = os.path.join(cwd, '..', '..', 'Data')\n",
    "\n",
    "extent = gpd.read_file(os.path.join(datapath, 'extent.geojson'))\n",
    "\n",
    "nwlng, selat, selng, nwlat = extent.to_crs('EPSG:4326').total_bounds # Change coordinate reference system"
   ]
  },
  {
   "cell_type": "markdown",
   "metadata": {},
   "source": [
    "## Importing PurpleAir Station Data from PurpleAir API"
   ]
  },
  {
   "cell_type": "code",
   "execution_count": 4,
   "metadata": {},
   "outputs": [],
   "source": [
    "def getSensorsData(query='', api_read_key=''):\n",
    "\n",
    "    # my_url is assigned the URL we are going to send our request to.\n",
    "    url = 'https://api.purpleair.com/v1/sensors?' + query\n",
    "    \n",
    "    print('Here is the full url for the API call:\\n\\n', url)\n",
    "\n",
    "    # my_headers is assigned the context of our request we want to make. In this case\n",
    "    # we will pass through our API read key using the variable created above.\n",
    "    my_headers = {'X-API-Key':api_read_key}\n",
    "\n",
    "    # This line creates and sends the request and then assigns its response to the\n",
    "    # variable, r.\n",
    "    response = requests.get(url, headers=my_headers)\n",
    "\n",
    "    # We then return the response we received.\n",
    "    return response"
   ]
  },
  {
   "cell_type": "code",
   "execution_count": 5,
   "metadata": {},
   "outputs": [
    {
     "name": "stdout",
     "output_type": "stream",
     "text": [
      "nwlng=-93.43046973986235&nwlat=45.12326140727048&selng=-93.09304872066019&selat=44.81857616148092\n"
     ]
    }
   ],
   "source": [
    "#Set bounding strings for API parameters\n",
    "bounds_strings = [f'nwlng={nwlng}',\n",
    "                  f'nwlat={nwlat}',\n",
    "                  f'selng={selng}',\n",
    "                  f'selat={selat}']\n",
    "\n",
    "bounds_string = '&'.join(bounds_strings)\n",
    "\n",
    "print(bounds_string)"
   ]
  },
  {
   "cell_type": "code",
   "execution_count": 6,
   "metadata": {},
   "outputs": [
    {
     "name": "stdout",
     "output_type": "stream",
     "text": [
      "fields=firmware_version%2Cdate_created%2Clast_modified%2Clast_seen%2Cname%2Cuptime%2Cposition_rating%2Cchannel_state%2Cchannel_flags%2Caltitude%2Clocation_type%2Clatitude%2Clongitude\n"
     ]
    }
   ],
   "source": [
    "#Setting parameters for API\n",
    "fields = ['firmware_version','date_created','last_modified','last_seen', 'name', 'uptime','position_rating','channel_state','channel_flags','altitude',\n",
    "          'location_type','latitude', 'longitude']\n",
    "\n",
    "fields_string = 'fields=' + '%2C'.join(fields)\n",
    "\n",
    "print(fields_string)"
   ]
  },
  {
   "cell_type": "code",
   "execution_count": 7,
   "metadata": {},
   "outputs": [
    {
     "name": "stdout",
     "output_type": "stream",
     "text": [
      "fields=firmware_version%2Cdate_created%2Clast_modified%2Clast_seen%2Cname%2Cuptime%2Cposition_rating%2Cchannel_state%2Cchannel_flags%2Caltitude%2Clocation_type%2Clatitude%2Clongitude&nwlng=-93.43046973986235&nwlat=45.12326140727048&selng=-93.09304872066019&selat=44.81857616148092\n"
     ]
    }
   ],
   "source": [
    "#finalizing query for API function\n",
    "query_string = '&'.join([fields_string, bounds_string])\n",
    "\n",
    "print(query_string)"
   ]
  },
  {
   "cell_type": "code",
   "execution_count": 8,
   "metadata": {},
   "outputs": [
    {
     "name": "stdout",
     "output_type": "stream",
     "text": [
      "Here is the full url for the API call:\n",
      "\n",
      " https://api.purpleair.com/v1/sensors?fields=firmware_version%2Cdate_created%2Clast_modified%2Clast_seen%2Cname%2Cuptime%2Cposition_rating%2Cchannel_state%2Cchannel_flags%2Caltitude%2Clocation_type%2Clatitude%2Clongitude&nwlng=-93.43046973986235&nwlat=45.12326140727048&selng=-93.09304872066019&selat=44.81857616148092\n"
     ]
    }
   ],
   "source": [
    "#calling the API\n",
    "response = getSensorsData(query_string, api)"
   ]
  },
  {
   "cell_type": "code",
   "execution_count": 9,
   "metadata": {},
   "outputs": [
    {
     "name": "stdout",
     "output_type": "stream",
     "text": [
      "<class 'pandas.core.frame.DataFrame'>\n",
      "RangeIndex: 94 entries, 0 to 93\n",
      "Data columns (total 14 columns):\n",
      " #   Column            Non-Null Count  Dtype \n",
      "---  ------            --------------  ----- \n",
      " 0   sensor_index      94 non-null     object\n",
      " 1   last_modified     94 non-null     object\n",
      " 2   date_created      94 non-null     object\n",
      " 3   last_seen         94 non-null     object\n",
      " 4   name              94 non-null     object\n",
      " 5   location_type     94 non-null     object\n",
      " 6   firmware_version  94 non-null     object\n",
      " 7   uptime            94 non-null     object\n",
      " 8   position_rating   94 non-null     object\n",
      " 9   latitude          94 non-null     object\n",
      " 10  longitude         94 non-null     object\n",
      " 11  altitude          94 non-null     object\n",
      " 12  channel_state     94 non-null     object\n",
      " 13  channel_flags     94 non-null     object\n",
      "dtypes: object(14)\n",
      "memory usage: 10.4+ KB\n"
     ]
    }
   ],
   "source": [
    "response_dict = response.json() # Read response as a json (dictionary)\n",
    "\n",
    "col_names = response_dict['fields']\n",
    "data = np.array(response_dict['data'])\n",
    "\n",
    "df = pd.DataFrame(data, columns = col_names)\n",
    "\n",
    "df.info()"
   ]
  },
  {
   "cell_type": "markdown",
   "metadata": {},
   "source": [
    "### Compare with the list of Ids from City"
   ]
  },
  {
   "cell_type": "code",
   "execution_count": 10,
   "metadata": {},
   "outputs": [],
   "source": [
    "# Load the list the City provided (or any other list\n",
    "\n",
    "# sensor_info = pd.read_excel(os.path.join(datapath, 'PA IDs and indexes.xlsx')) # Load as DataFrame\n",
    "\n",
    "# ids_from_city = sensor_info['Sensor Index'].dropna().astype(int) # List from the City\n",
    "\n",
    "sensor_info = gpd.read_file(os.path.join(datapath, 'PurpleAir_Stations.geojson'))\n",
    "\n",
    "ids_from_previous_run = sensor_info.sensor_index.unique().astype(int)"
   ]
  },
  {
   "cell_type": "code",
   "execution_count": 11,
   "metadata": {},
   "outputs": [
    {
     "data": {
      "text/plain": [
       "64"
      ]
     },
     "execution_count": 11,
     "metadata": {},
     "output_type": "execute_result"
    }
   ],
   "source": [
    "len(ids_from_previous_run)"
   ]
  },
  {
   "cell_type": "code",
   "execution_count": 12,
   "metadata": {},
   "outputs": [],
   "source": [
    "# From what we just queried from PurpleAir \n",
    "# Only want the City's monitors\n",
    "\n",
    "is_city = df.name.apply(lambda x: 'CITY OF MINNEAPOLIS' in x.upper())\n",
    "\n",
    "ids_from_PurpleAir = df[is_city].sensor_index.astype(int)"
   ]
  },
  {
   "cell_type": "code",
   "execution_count": 13,
   "metadata": {},
   "outputs": [
    {
     "data": {
      "text/plain": [
       "46"
      ]
     },
     "execution_count": 13,
     "metadata": {},
     "output_type": "execute_result"
    }
   ],
   "source": [
    "len(ids_from_PurpleAir)"
   ]
  },
  {
   "cell_type": "code",
   "execution_count": 14,
   "metadata": {},
   "outputs": [],
   "source": [
    "# Now let's get the union of these two lists of ids\n",
    "\n",
    "ids_from_either = np.union1d(ids_from_previous_run, ids_from_PurpleAir)"
   ]
  },
  {
   "cell_type": "code",
   "execution_count": 15,
   "metadata": {},
   "outputs": [
    {
     "data": {
      "text/plain": [
       "64"
      ]
     },
     "execution_count": 15,
     "metadata": {},
     "output_type": "execute_result"
    }
   ],
   "source": [
    "len(ids_from_either)"
   ]
  },
  {
   "cell_type": "markdown",
   "metadata": {},
   "source": [
    "### Final PurpleAir Query"
   ]
  },
  {
   "cell_type": "code",
   "execution_count": 16,
   "metadata": {},
   "outputs": [],
   "source": [
    "# One final query for this list of ids\n",
    "\n",
    "# Get start Times\n",
    "\n",
    "sensor_string = 'show_only=' + '%2C'.join(ids_from_either.astype(str))\n",
    "\n",
    "query_string = '&'.join([fields_string, sensor_string])"
   ]
  },
  {
   "cell_type": "code",
   "execution_count": 17,
   "metadata": {},
   "outputs": [
    {
     "name": "stdout",
     "output_type": "stream",
     "text": [
      "Here is the full url for the API call:\n",
      "\n",
      " https://api.purpleair.com/v1/sensors?fields=firmware_version%2Cdate_created%2Clast_modified%2Clast_seen%2Cname%2Cuptime%2Cposition_rating%2Cchannel_state%2Cchannel_flags%2Caltitude%2Clocation_type%2Clatitude%2Clongitude&show_only=142718%2C142720%2C142724%2C142726%2C142728%2C142730%2C142732%2C142734%2C142736%2C142744%2C142748%2C142750%2C142752%2C142756%2C142772%2C142774%2C142926%2C143214%2C143216%2C143222%2C143224%2C143226%2C143238%2C143240%2C143242%2C143246%2C143248%2C143636%2C143648%2C143656%2C143660%2C143666%2C143668%2C143916%2C143942%2C143944%2C145202%2C145204%2C145242%2C145250%2C145454%2C145470%2C145498%2C145502%2C145504%2C145506%2C145604%2C145610%2C145614%2C145616%2C156605%2C157747%2C157757%2C157785%2C157787%2C157837%2C157845%2C157861%2C157871%2C157877%2C157935%2C166459%2C168327%2C177765\n"
     ]
    }
   ],
   "source": [
    "response = getSensorsData(query_string, api)\n",
    "\n",
    "response_dict = response.json() # Read response as a json (dictionary)\n",
    "\n",
    "col_names = response_dict['fields']\n",
    "data = np.array(response_dict['data'])\n",
    "\n",
    "sensors_df = pd.DataFrame(data, columns = col_names)"
   ]
  },
  {
   "cell_type": "markdown",
   "metadata": {},
   "source": [
    "## Cleaning PurpleAir Station Data"
   ]
  },
  {
   "cell_type": "code",
   "execution_count": 18,
   "metadata": {},
   "outputs": [
    {
     "data": {
      "text/html": [
       "<div>\n",
       "<style scoped>\n",
       "    .dataframe tbody tr th:only-of-type {\n",
       "        vertical-align: middle;\n",
       "    }\n",
       "\n",
       "    .dataframe tbody tr th {\n",
       "        vertical-align: top;\n",
       "    }\n",
       "\n",
       "    .dataframe thead th {\n",
       "        text-align: right;\n",
       "    }\n",
       "</style>\n",
       "<table border=\"1\" class=\"dataframe\">\n",
       "  <thead>\n",
       "    <tr style=\"text-align: right;\">\n",
       "      <th></th>\n",
       "      <th>sensor_index</th>\n",
       "      <th>last_modified</th>\n",
       "      <th>date_created</th>\n",
       "      <th>last_seen</th>\n",
       "      <th>name</th>\n",
       "      <th>location_type</th>\n",
       "      <th>firmware_version</th>\n",
       "      <th>uptime</th>\n",
       "      <th>position_rating</th>\n",
       "      <th>latitude</th>\n",
       "      <th>longitude</th>\n",
       "      <th>altitude</th>\n",
       "      <th>channel_state</th>\n",
       "      <th>channel_flags</th>\n",
       "    </tr>\n",
       "  </thead>\n",
       "  <tbody>\n",
       "    <tr>\n",
       "      <th>0</th>\n",
       "      <td>142718</td>\n",
       "      <td>1691002217</td>\n",
       "      <td>1642013869</td>\n",
       "      <td>1692665013</td>\n",
       "      <td>City of Minneapolis Community Air Monitoring P...</td>\n",
       "      <td>0</td>\n",
       "      <td>7.02</td>\n",
       "      <td>9565</td>\n",
       "      <td>5</td>\n",
       "      <td>44.99631</td>\n",
       "      <td>-93.29565</td>\n",
       "      <td>857</td>\n",
       "      <td>3</td>\n",
       "      <td>0</td>\n",
       "    </tr>\n",
       "    <tr>\n",
       "      <th>1</th>\n",
       "      <td>142720</td>\n",
       "      <td>1690999596</td>\n",
       "      <td>1642013875</td>\n",
       "      <td>1692664994</td>\n",
       "      <td>City of Minneapolis Community Air Monitoring P...</td>\n",
       "      <td>0</td>\n",
       "      <td>7.02</td>\n",
       "      <td>61910</td>\n",
       "      <td>5</td>\n",
       "      <td>44.955555</td>\n",
       "      <td>-93.254974</td>\n",
       "      <td>850</td>\n",
       "      <td>3</td>\n",
       "      <td>0</td>\n",
       "    </tr>\n",
       "    <tr>\n",
       "      <th>2</th>\n",
       "      <td>142726</td>\n",
       "      <td>1675359066</td>\n",
       "      <td>1642013897</td>\n",
       "      <td>1692664950</td>\n",
       "      <td>City of Minneapolis Community Air Monitoring P...</td>\n",
       "      <td>0</td>\n",
       "      <td>7.02</td>\n",
       "      <td>468</td>\n",
       "      <td>5</td>\n",
       "      <td>45.01507</td>\n",
       "      <td>-93.28903</td>\n",
       "      <td>889</td>\n",
       "      <td>3</td>\n",
       "      <td>0</td>\n",
       "    </tr>\n",
       "    <tr>\n",
       "      <th>3</th>\n",
       "      <td>142724</td>\n",
       "      <td>1690992725</td>\n",
       "      <td>1642013889</td>\n",
       "      <td>1692665001</td>\n",
       "      <td>City of Minneapolis Community Air Monitoring P...</td>\n",
       "      <td>0</td>\n",
       "      <td>7.02</td>\n",
       "      <td>3588</td>\n",
       "      <td>5</td>\n",
       "      <td>44.937733</td>\n",
       "      <td>-93.24356</td>\n",
       "      <td>859</td>\n",
       "      <td>3</td>\n",
       "      <td>0</td>\n",
       "    </tr>\n",
       "    <tr>\n",
       "      <th>4</th>\n",
       "      <td>142730</td>\n",
       "      <td>1690990874</td>\n",
       "      <td>1642013916</td>\n",
       "      <td>1687892464</td>\n",
       "      <td>City of Minneapolis Community Air Monitoring P...</td>\n",
       "      <td>0</td>\n",
       "      <td>7.02</td>\n",
       "      <td>15319</td>\n",
       "      <td>5</td>\n",
       "      <td>44.991985</td>\n",
       "      <td>-93.29565</td>\n",
       "      <td>858</td>\n",
       "      <td>3</td>\n",
       "      <td>0</td>\n",
       "    </tr>\n",
       "  </tbody>\n",
       "</table>\n",
       "</div>"
      ],
      "text/plain": [
       "  sensor_index last_modified date_created   last_seen  \\\n",
       "0       142718    1691002217   1642013869  1692665013   \n",
       "1       142720    1690999596   1642013875  1692664994   \n",
       "2       142726    1675359066   1642013897  1692664950   \n",
       "3       142724    1690992725   1642013889  1692665001   \n",
       "4       142730    1690990874   1642013916  1687892464   \n",
       "\n",
       "                                                name location_type  \\\n",
       "0  City of Minneapolis Community Air Monitoring P...             0   \n",
       "1  City of Minneapolis Community Air Monitoring P...             0   \n",
       "2  City of Minneapolis Community Air Monitoring P...             0   \n",
       "3  City of Minneapolis Community Air Monitoring P...             0   \n",
       "4  City of Minneapolis Community Air Monitoring P...             0   \n",
       "\n",
       "  firmware_version uptime position_rating   latitude  longitude altitude  \\\n",
       "0             7.02   9565               5   44.99631  -93.29565      857   \n",
       "1             7.02  61910               5  44.955555 -93.254974      850   \n",
       "2             7.02    468               5   45.01507  -93.28903      889   \n",
       "3             7.02   3588               5  44.937733  -93.24356      859   \n",
       "4             7.02  15319               5  44.991985  -93.29565      858   \n",
       "\n",
       "  channel_state channel_flags  \n",
       "0             3             0  \n",
       "1             3             0  \n",
       "2             3             0  \n",
       "3             3             0  \n",
       "4             3             0  "
      ]
     },
     "execution_count": 18,
     "metadata": {},
     "output_type": "execute_result"
    }
   ],
   "source": [
    "#visualizing API response\n",
    "sensors_df.head()"
   ]
  },
  {
   "cell_type": "code",
   "execution_count": 19,
   "metadata": {},
   "outputs": [
    {
     "data": {
      "text/plain": [
       "64"
      ]
     },
     "execution_count": 19,
     "metadata": {},
     "output_type": "execute_result"
    }
   ],
   "source": [
    "#find outside sensors\n",
    "df_outside = sensors_df[sensors_df.location_type == 0]\n",
    "len(df_outside)"
   ]
  },
  {
   "cell_type": "code",
   "execution_count": 20,
   "metadata": {},
   "outputs": [],
   "source": [
    "#drop the location_type now that we have filtered for outdoor sensors only\n",
    "df_stations = df_outside.drop('location_type', axis=1)"
   ]
  },
  {
   "cell_type": "code",
   "execution_count": 21,
   "metadata": {},
   "outputs": [],
   "source": [
    "#Converting UNIX date/time to pd\n",
    "df_stations['last_modified'] = pd.to_datetime(df_stations['last_modified'], unit='s')\n",
    "df_stations['date_created'] = pd.to_datetime(df_stations['date_created'], unit='s')\n",
    "df_stations['last_seen'] = pd.to_datetime(df_stations['last_seen'], unit='s')"
   ]
  },
  {
   "cell_type": "code",
   "execution_count": 22,
   "metadata": {},
   "outputs": [
    {
     "data": {
      "text/html": [
       "<div>\n",
       "<style scoped>\n",
       "    .dataframe tbody tr th:only-of-type {\n",
       "        vertical-align: middle;\n",
       "    }\n",
       "\n",
       "    .dataframe tbody tr th {\n",
       "        vertical-align: top;\n",
       "    }\n",
       "\n",
       "    .dataframe thead th {\n",
       "        text-align: right;\n",
       "    }\n",
       "</style>\n",
       "<table border=\"1\" class=\"dataframe\">\n",
       "  <thead>\n",
       "    <tr style=\"text-align: right;\">\n",
       "      <th></th>\n",
       "      <th>sensor_index</th>\n",
       "      <th>last_modified</th>\n",
       "      <th>date_created</th>\n",
       "      <th>last_seen</th>\n",
       "      <th>name</th>\n",
       "      <th>firmware_version</th>\n",
       "      <th>uptime</th>\n",
       "      <th>position_rating</th>\n",
       "      <th>latitude</th>\n",
       "      <th>longitude</th>\n",
       "      <th>altitude</th>\n",
       "      <th>channel_state</th>\n",
       "      <th>channel_flags</th>\n",
       "    </tr>\n",
       "  </thead>\n",
       "  <tbody>\n",
       "    <tr>\n",
       "      <th>0</th>\n",
       "      <td>142718</td>\n",
       "      <td>2023-08-02 18:50:17</td>\n",
       "      <td>2022-01-12 18:57:49</td>\n",
       "      <td>2023-08-22 00:43:33</td>\n",
       "      <td>City of Minneapolis Community Air Monitoring P...</td>\n",
       "      <td>7.02</td>\n",
       "      <td>9565</td>\n",
       "      <td>5</td>\n",
       "      <td>44.99631</td>\n",
       "      <td>-93.29565</td>\n",
       "      <td>857</td>\n",
       "      <td>3</td>\n",
       "      <td>0</td>\n",
       "    </tr>\n",
       "    <tr>\n",
       "      <th>1</th>\n",
       "      <td>142720</td>\n",
       "      <td>2023-08-02 18:06:36</td>\n",
       "      <td>2022-01-12 18:57:55</td>\n",
       "      <td>2023-08-22 00:43:14</td>\n",
       "      <td>City of Minneapolis Community Air Monitoring P...</td>\n",
       "      <td>7.02</td>\n",
       "      <td>61910</td>\n",
       "      <td>5</td>\n",
       "      <td>44.955555</td>\n",
       "      <td>-93.254974</td>\n",
       "      <td>850</td>\n",
       "      <td>3</td>\n",
       "      <td>0</td>\n",
       "    </tr>\n",
       "    <tr>\n",
       "      <th>2</th>\n",
       "      <td>142726</td>\n",
       "      <td>2023-02-02 17:31:06</td>\n",
       "      <td>2022-01-12 18:58:17</td>\n",
       "      <td>2023-08-22 00:42:30</td>\n",
       "      <td>City of Minneapolis Community Air Monitoring P...</td>\n",
       "      <td>7.02</td>\n",
       "      <td>468</td>\n",
       "      <td>5</td>\n",
       "      <td>45.01507</td>\n",
       "      <td>-93.28903</td>\n",
       "      <td>889</td>\n",
       "      <td>3</td>\n",
       "      <td>0</td>\n",
       "    </tr>\n",
       "  </tbody>\n",
       "</table>\n",
       "</div>"
      ],
      "text/plain": [
       "  sensor_index       last_modified        date_created           last_seen  \\\n",
       "0       142718 2023-08-02 18:50:17 2022-01-12 18:57:49 2023-08-22 00:43:33   \n",
       "1       142720 2023-08-02 18:06:36 2022-01-12 18:57:55 2023-08-22 00:43:14   \n",
       "2       142726 2023-02-02 17:31:06 2022-01-12 18:58:17 2023-08-22 00:42:30   \n",
       "\n",
       "                                                name firmware_version uptime  \\\n",
       "0  City of Minneapolis Community Air Monitoring P...             7.02   9565   \n",
       "1  City of Minneapolis Community Air Monitoring P...             7.02  61910   \n",
       "2  City of Minneapolis Community Air Monitoring P...             7.02    468   \n",
       "\n",
       "  position_rating   latitude  longitude altitude channel_state channel_flags  \n",
       "0               5   44.99631  -93.29565      857             3             0  \n",
       "1               5  44.955555 -93.254974      850             3             0  \n",
       "2               5   45.01507  -93.28903      889             3             0  "
      ]
     },
     "execution_count": 22,
     "metadata": {},
     "output_type": "execute_result"
    }
   ],
   "source": [
    "df_stations.head(3)"
   ]
  },
  {
   "cell_type": "code",
   "execution_count": 23,
   "metadata": {},
   "outputs": [],
   "source": [
    "# Save as geojson\n",
    "\n",
    "gdf_stations = gpd.GeoDataFrame(df_stations, \n",
    "                                geometry = gpd.points_from_xy(\n",
    "                                    df_stations.longitude,\n",
    "                                    df_stations.latitude,\n",
    "                                    crs = 'EPSG:4326')\n",
    "                               ).to_crs('EPSG:26915')\n",
    "\n",
    "cols_for_db = ['sensor_index'] + fields[:-3] + ['geometry']\n",
    "\n",
    "sorted_gdf = gdf_stations[cols_for_db]\n",
    "\n",
    "sorted_gdf.to_file(os.path.join(datapath, 'PurpleAir_Stations.geojson'))"
   ]
  },
  {
   "cell_type": "markdown",
   "metadata": {},
   "source": [
    "## Insert Data into SQL Table"
   ]
  },
  {
   "cell_type": "code",
   "execution_count": 24,
   "metadata": {},
   "outputs": [
    {
     "data": {
      "text/plain": [
       "['sensor_index',\n",
       " 'firmware_version',\n",
       " 'date_created',\n",
       " 'last_modified',\n",
       " 'last_seen',\n",
       " 'name',\n",
       " 'uptime',\n",
       " 'position_rating',\n",
       " 'channel_state',\n",
       " 'channel_flags',\n",
       " 'altitude',\n",
       " 'geometry']"
      ]
     },
     "execution_count": 24,
     "metadata": {},
     "output_type": "execute_result"
    }
   ],
   "source": [
    "cols_for_db"
   ]
  },
  {
   "cell_type": "code",
   "execution_count": 25,
   "metadata": {},
   "outputs": [],
   "source": [
    "# Sort the df and correct values\n",
    "\n",
    "sorted_df = sorted_gdf.drop('geometry', axis=1).copy()\n",
    "\n",
    "sorted_df['wkt'] = sorted_gdf.geometry.apply(lambda x: x.wkt)\n",
    "\n",
    "sorted_df['date_created'] = sorted_gdf.date_created.apply(lambda x : x.strftime('%Y-%m-%d %H:%M:%S'))\n",
    "sorted_df['last_modified'] = sorted_gdf.last_modified.apply(lambda x : x.strftime('%Y-%m-%d %H:%M:%S'))\n",
    "sorted_df['last_seen'] = sorted_gdf.last_seen.apply(lambda x : x.strftime('%Y-%m-%d %H:%M:%S'))\n",
    "\n",
    "# Replace non-numeric nans\n",
    "\n",
    "# sorted_df['firmware_version'] = sorted_df['firmware_version'].fillna(value = 'a', inplace = True)\n",
    "# sorted_df['firmware_version'] = sorted_df['firmware_version'].fillna(value = 'NaN', inplace = True)"
   ]
  },
  {
   "cell_type": "code",
   "execution_count": 28,
   "metadata": {},
   "outputs": [],
   "source": [
    "# Get credentials\n",
    "\n",
    "cred_pth = os.path.join(os.getcwd(), '..', '..', 'Scripts', 'database', 'db_credentials.txt')\n",
    "\n",
    "with open(cred_pth, 'r') as f:\n",
    "    \n",
    "    creds = f.readlines()[0].rstrip('\\n').split(', ')\n",
    "    \n",
    "# Connect to PostGIS Database\n",
    "\n",
    "pg_connection_dict = dict(zip(['dbname', 'user', 'password', 'port', 'host'], creds))\n",
    "\n",
    "conn = psycopg2.connect(**pg_connection_dict)"
   ]
  },
  {
   "cell_type": "code",
   "execution_count": 31,
   "metadata": {},
   "outputs": [],
   "source": [
    "#connect to the cursor\n",
    "cur = conn.cursor()\n",
    "\n",
    "# iterate over the dataframe and insert each row into the database using a SQL INSERT statement\n",
    "\n",
    "for index, row in sorted_df.copy().iterrows():\n",
    "\n",
    "    q1 = sql.SQL('INSERT INTO \"PurpleAir Stations\" ({}) VALUES ({},{});').format(\n",
    "     sql.SQL(', ').join(map(sql.Identifier, cols_for_db)),\n",
    "     sql.SQL(', ').join(sql.Placeholder() * (len(cols_for_db)-1)),\n",
    "     sql.SQL('ST_Transform(ST_SetSRID(ST_GeomFromText(%s), 26915),4326)::geometry'))\n",
    "    # print(q1.as_string(conn))\n",
    "    # print(row)\n",
    "    # break\n",
    "    \n",
    "    cur.execute(q1.as_string(conn),\n",
    "        (list(row.values))\n",
    "        )\n",
    "    # Commit command\n",
    "\n",
    "    conn.commit()\n",
    "\n",
    "# Close the cursor and connection\n",
    "cur.close()\n",
    "conn.close()"
   ]
  }
 ],
 "metadata": {
  "kernelspec": {
   "display_name": "Python 3 (ipykernel)",
   "language": "python",
   "name": "python3"
  },
  "language_info": {
   "codemirror_mode": {
    "name": "ipython",
    "version": 3
   },
   "file_extension": ".py",
   "mimetype": "text/x-python",
   "name": "python",
   "nbconvert_exporter": "python",
   "pygments_lexer": "ipython3",
   "version": "3.10.12"
  },
  "vscode": {
   "interpreter": {
    "hash": "eccf50a1291cb678adb751fb07cc0cb3ec85c824e49e2e3981e74f6a0155d408"
   }
  },
  "widgets": {
   "application/vnd.jupyter.widget-state+json": {
    "state": {},
    "version_major": 2,
    "version_minor": 0
   }
  }
 },
 "nbformat": 4,
 "nbformat_minor": 4
}
