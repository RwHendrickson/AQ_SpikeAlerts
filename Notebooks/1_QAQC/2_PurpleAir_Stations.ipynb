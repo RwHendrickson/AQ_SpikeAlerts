{
 "cells": [
  {
   "cell_type": "markdown",
   "metadata": {},
   "source": [
    "# PurpleAir Stations QAQC"
   ]
  },
  {
   "cell_type": "markdown",
   "metadata": {},
   "source": [
    "## Import Packages"
   ]
  },
  {
   "cell_type": "code",
   "execution_count": 1,
   "metadata": {},
   "outputs": [],
   "source": [
    "### Import Packages\n",
    "\n",
    "# File manipulation\n",
    "\n",
    "import os # For working with Operating System\n",
    "import requests # Accessing the Web\n",
    "import datetime as dt # Working with dates/times\n",
    "\n",
    "# Database \n",
    "\n",
    "import psycopg2\n",
    "from psycopg2 import sql\n",
    "\n",
    "# Analysis\n",
    "\n",
    "import numpy as np\n",
    "import geopandas as gpd\n",
    "import pandas as pd"
   ]
  },
  {
   "cell_type": "markdown",
   "metadata": {},
   "source": [
    "## Definitions"
   ]
  },
  {
   "cell_type": "code",
   "execution_count": 2,
   "metadata": {},
   "outputs": [],
   "source": [
    "# Getting .env information (PurpleAir API Read Key)\n",
    "from dotenv import load_dotenv\n",
    "\n",
    "load_dotenv()\n",
    "\n",
    "api = os.getenv('PURPLEAIR_API_TOKEN')"
   ]
  },
  {
   "cell_type": "code",
   "execution_count": 3,
   "metadata": {},
   "outputs": [],
   "source": [
    "#Setting lat/long for PurpleAir API Parameters\n",
    "\n",
    "datapath = os.path.join('..', '..', 'Data')\n",
    "\n",
    "extent = gpd.read_file(os.path.join(datapath, 'extent.geojson'))\n",
    "\n",
    "nwlng, selat, selng, nwlat = extent.to_crs('EPSG:4326').total_bounds # Change coordinate reference system"
   ]
  },
  {
   "cell_type": "markdown",
   "metadata": {},
   "source": [
    "## Importing PurpleAir Station Data from PurpleAir API"
   ]
  },
  {
   "cell_type": "code",
   "execution_count": 4,
   "metadata": {},
   "outputs": [],
   "source": [
    "def getSensorsData(query='', api_read_key=''):\n",
    "\n",
    "    # my_url is assigned the URL we are going to send our request to.\n",
    "    url = 'https://api.purpleair.com/v1/sensors?' + query\n",
    "    \n",
    "    print('Here is the full url for the API call:\\n\\n', url)\n",
    "\n",
    "    # my_headers is assigned the context of our request we want to make. In this case\n",
    "    # we will pass through our API read key using the variable created above.\n",
    "    my_headers = {'X-API-Key':api_read_key}\n",
    "\n",
    "    # This line creates and sends the request and then assigns its response to the\n",
    "    # variable, r.\n",
    "    response = requests.get(url, headers=my_headers)\n",
    "\n",
    "    # We then return the response we received.\n",
    "    return response"
   ]
  },
  {
   "cell_type": "code",
   "execution_count": 5,
   "metadata": {},
   "outputs": [
    {
     "name": "stdout",
     "output_type": "stream",
     "text": [
      "nwlng=-93.43046973986235&nwlat=45.12326140727048&selng=-93.09304872066019&selat=44.81857616148092\n"
     ]
    }
   ],
   "source": [
    "#Set bounding strings for API parameters\n",
    "bounds_strings = [f'nwlng={nwlng}',\n",
    "                  f'nwlat={nwlat}',\n",
    "                  f'selng={selng}',\n",
    "                  f'selat={selat}']\n",
    "\n",
    "bounds_string = '&'.join(bounds_strings)\n",
    "\n",
    "print(bounds_string)"
   ]
  },
  {
   "cell_type": "code",
   "execution_count": 6,
   "metadata": {},
   "outputs": [
    {
     "name": "stdout",
     "output_type": "stream",
     "text": [
      "fields=firmware_version%2Cdate_created%2Clast_modified%2Clast_seen%2Cname%2Cuptime%2Cposition_rating%2Cchannel_state%2Cchannel_flags%2Caltitude%2Clocation_type%2Clatitude%2Clongitude\n"
     ]
    }
   ],
   "source": [
    "#Setting parameters for API\n",
    "fields = ['firmware_version','date_created','last_modified','last_seen', 'name', 'uptime','position_rating','channel_state','channel_flags','altitude',\n",
    "          'location_type','latitude', 'longitude']\n",
    "\n",
    "fields_string = 'fields=' + '%2C'.join(fields)\n",
    "\n",
    "print(fields_string)"
   ]
  },
  {
   "cell_type": "code",
   "execution_count": 7,
   "metadata": {},
   "outputs": [
    {
     "name": "stdout",
     "output_type": "stream",
     "text": [
      "fields=firmware_version%2Cdate_created%2Clast_modified%2Clast_seen%2Cname%2Cuptime%2Cposition_rating%2Cchannel_state%2Cchannel_flags%2Caltitude%2Clocation_type%2Clatitude%2Clongitude&nwlng=-93.43046973986235&nwlat=45.12326140727048&selng=-93.09304872066019&selat=44.81857616148092\n"
     ]
    }
   ],
   "source": [
    "#finalizing query for API function\n",
    "query_string = '&'.join([fields_string, bounds_string])\n",
    "\n",
    "print(query_string)"
   ]
  },
  {
   "cell_type": "code",
   "execution_count": 8,
   "metadata": {},
   "outputs": [
    {
     "name": "stdout",
     "output_type": "stream",
     "text": [
      "Here is the full url for the API call:\n",
      "\n",
      " https://api.purpleair.com/v1/sensors?fields=firmware_version%2Cdate_created%2Clast_modified%2Clast_seen%2Cname%2Cuptime%2Cposition_rating%2Cchannel_state%2Cchannel_flags%2Caltitude%2Clocation_type%2Clatitude%2Clongitude&nwlng=-93.43046973986235&nwlat=45.12326140727048&selng=-93.09304872066019&selat=44.81857616148092\n"
     ]
    }
   ],
   "source": [
    "#calling the API\n",
    "response = getSensorsData(query_string, api)"
   ]
  },
  {
   "cell_type": "code",
   "execution_count": 9,
   "metadata": {},
   "outputs": [
    {
     "data": {
      "text/plain": [
       "dict_keys(['api_version', 'time_stamp', 'data_time_stamp', 'max_age', 'firmware_default_version', 'fields', 'location_types', 'channel_states', 'channel_flags', 'data'])"
      ]
     },
     "execution_count": 9,
     "metadata": {},
     "output_type": "execute_result"
    }
   ],
   "source": [
    "response.json().keys()"
   ]
  },
  {
   "cell_type": "code",
   "execution_count": 10,
   "metadata": {},
   "outputs": [
    {
     "name": "stdout",
     "output_type": "stream",
     "text": [
      "<class 'pandas.core.frame.DataFrame'>\n",
      "RangeIndex: 94 entries, 0 to 93\n",
      "Data columns (total 14 columns):\n",
      " #   Column            Non-Null Count  Dtype \n",
      "---  ------            --------------  ----- \n",
      " 0   sensor_index      94 non-null     object\n",
      " 1   last_modified     94 non-null     object\n",
      " 2   date_created      94 non-null     object\n",
      " 3   last_seen         94 non-null     object\n",
      " 4   name              94 non-null     object\n",
      " 5   location_type     94 non-null     object\n",
      " 6   firmware_version  94 non-null     object\n",
      " 7   uptime            94 non-null     object\n",
      " 8   position_rating   94 non-null     object\n",
      " 9   latitude          94 non-null     object\n",
      " 10  longitude         94 non-null     object\n",
      " 11  altitude          94 non-null     object\n",
      " 12  channel_state     94 non-null     object\n",
      " 13  channel_flags     94 non-null     object\n",
      "dtypes: object(14)\n",
      "memory usage: 10.4+ KB\n"
     ]
    }
   ],
   "source": [
    "response_dict = response.json() # Read response as a json (dictionary)\n",
    "\n",
    "col_names = response_dict['fields']\n",
    "data = np.array(response_dict['data'])\n",
    "\n",
    "df = pd.DataFrame(data, columns = col_names)\n",
    "\n",
    "df.info()"
   ]
  },
  {
   "cell_type": "code",
   "execution_count": 11,
   "metadata": {
    "scrolled": true
   },
   "outputs": [
    {
     "data": {
      "text/html": [
       "<div>\n",
       "<style scoped>\n",
       "    .dataframe tbody tr th:only-of-type {\n",
       "        vertical-align: middle;\n",
       "    }\n",
       "\n",
       "    .dataframe tbody tr th {\n",
       "        vertical-align: top;\n",
       "    }\n",
       "\n",
       "    .dataframe thead th {\n",
       "        text-align: right;\n",
       "    }\n",
       "</style>\n",
       "<table border=\"1\" class=\"dataframe\">\n",
       "  <thead>\n",
       "    <tr style=\"text-align: right;\">\n",
       "      <th></th>\n",
       "      <th>sensor_index</th>\n",
       "      <th>last_modified</th>\n",
       "      <th>date_created</th>\n",
       "      <th>last_seen</th>\n",
       "      <th>name</th>\n",
       "      <th>location_type</th>\n",
       "      <th>firmware_version</th>\n",
       "      <th>uptime</th>\n",
       "      <th>position_rating</th>\n",
       "      <th>latitude</th>\n",
       "      <th>longitude</th>\n",
       "      <th>altitude</th>\n",
       "      <th>channel_state</th>\n",
       "      <th>channel_flags</th>\n",
       "    </tr>\n",
       "  </thead>\n",
       "  <tbody>\n",
       "    <tr>\n",
       "      <th>0</th>\n",
       "      <td>3088</td>\n",
       "      <td>1504993349</td>\n",
       "      <td>1504040633</td>\n",
       "      <td>1698970076</td>\n",
       "      <td>Howe Neighborhood</td>\n",
       "      <td>0</td>\n",
       "      <td>6.06b</td>\n",
       "      <td>22979</td>\n",
       "      <td>5</td>\n",
       "      <td>44.935818</td>\n",
       "      <td>-93.21752</td>\n",
       "      <td>833</td>\n",
       "      <td>3</td>\n",
       "      <td>1</td>\n",
       "    </tr>\n",
       "  </tbody>\n",
       "</table>\n",
       "</div>"
      ],
      "text/plain": [
       "  sensor_index last_modified date_created   last_seen               name  \\\n",
       "0         3088    1504993349   1504040633  1698970076  Howe Neighborhood   \n",
       "\n",
       "  location_type firmware_version uptime position_rating   latitude  longitude  \\\n",
       "0             0            6.06b  22979               5  44.935818  -93.21752   \n",
       "\n",
       "  altitude channel_state channel_flags  \n",
       "0      833             3             1  "
      ]
     },
     "execution_count": 11,
     "metadata": {},
     "output_type": "execute_result"
    }
   ],
   "source": [
    "df.head(1)"
   ]
  },
  {
   "cell_type": "markdown",
   "metadata": {},
   "source": [
    "### Compare with the previous iteration of sensor info"
   ]
  },
  {
   "cell_type": "code",
   "execution_count": 12,
   "metadata": {},
   "outputs": [],
   "source": [
    "# Load information from previous run\n",
    "\n",
    "our_sensor_info = gpd.read_file(os.path.join(datapath, 'PurpleAir_Stations.geojson')) # Feel free to ask me for this!\n",
    "\n",
    "our_sensor_info['city_id'] = our_sensor_info['name'].apply(lambda x: x.split(' ')[-1])\n",
    "\n",
    "ids_from_previous_run = our_sensor_info.sensor_index.unique().astype(int)"
   ]
  },
  {
   "cell_type": "code",
   "execution_count": 13,
   "metadata": {},
   "outputs": [
    {
     "data": {
      "text/plain": [
       "66"
      ]
     },
     "execution_count": 13,
     "metadata": {},
     "output_type": "execute_result"
    }
   ],
   "source": [
    "len(ids_from_previous_run)"
   ]
  },
  {
   "cell_type": "code",
   "execution_count": 14,
   "metadata": {},
   "outputs": [],
   "source": [
    "# From what we just queried from PurpleAir \n",
    "# Only want the City's monitors\n",
    "\n",
    "is_city = df.name.apply(lambda x: 'CITY OF MINNEAPOLIS' in x.upper())\n",
    "\n",
    "ids_from_PurpleAir = df[is_city].sensor_index.astype(int)"
   ]
  },
  {
   "cell_type": "code",
   "execution_count": 15,
   "metadata": {},
   "outputs": [
    {
     "data": {
      "text/plain": [
       "48"
      ]
     },
     "execution_count": 15,
     "metadata": {},
     "output_type": "execute_result"
    }
   ],
   "source": [
    "len(ids_from_PurpleAir)"
   ]
  },
  {
   "cell_type": "code",
   "execution_count": 16,
   "metadata": {},
   "outputs": [],
   "source": [
    "# Now let's get the union of these two lists of ids\n",
    "\n",
    "ids_from_either = np.union1d(ids_from_previous_run, ids_from_PurpleAir)"
   ]
  },
  {
   "cell_type": "code",
   "execution_count": 17,
   "metadata": {},
   "outputs": [
    {
     "data": {
      "text/plain": [
       "66"
      ]
     },
     "execution_count": 17,
     "metadata": {},
     "output_type": "execute_result"
    }
   ],
   "source": [
    "len(ids_from_either)"
   ]
  },
  {
   "cell_type": "markdown",
   "metadata": {},
   "source": [
    "### Final PurpleAir Query"
   ]
  },
  {
   "cell_type": "code",
   "execution_count": 18,
   "metadata": {},
   "outputs": [],
   "source": [
    "# One final query for this list of ids\n",
    "\n",
    "# Get start Times\n",
    "\n",
    "sensor_string = 'show_only=' + '%2C'.join(ids_from_either.astype(str))\n",
    "\n",
    "query_string = '&'.join([fields_string+'%2Cpm2.5_10minute', sensor_string])"
   ]
  },
  {
   "cell_type": "code",
   "execution_count": 19,
   "metadata": {},
   "outputs": [
    {
     "name": "stdout",
     "output_type": "stream",
     "text": [
      "Here is the full url for the API call:\n",
      "\n",
      " https://api.purpleair.com/v1/sensors?fields=firmware_version%2Cdate_created%2Clast_modified%2Clast_seen%2Cname%2Cuptime%2Cposition_rating%2Cchannel_state%2Cchannel_flags%2Caltitude%2Clocation_type%2Clatitude%2Clongitude%2Cpm2.5_10minute&show_only=142718%2C142720%2C142724%2C142726%2C142728%2C142730%2C142732%2C142734%2C142736%2C142738%2C142744%2C142748%2C142750%2C142752%2C142756%2C142772%2C142774%2C142926%2C143214%2C143216%2C143222%2C143224%2C143226%2C143238%2C143240%2C143242%2C143246%2C143248%2C143634%2C143636%2C143648%2C143656%2C143660%2C143666%2C143668%2C143916%2C143942%2C143944%2C145202%2C145204%2C145242%2C145250%2C145454%2C145470%2C145498%2C145502%2C145504%2C145506%2C145604%2C145610%2C145614%2C145616%2C156605%2C157747%2C157757%2C157785%2C157837%2C157845%2C157861%2C157871%2C157877%2C157935%2C166459%2C168327%2C177765%2C194635\n"
     ]
    }
   ],
   "source": [
    "response = getSensorsData(query_string, api)\n",
    "\n",
    "response_dict = response.json() # Read response as a json (dictionary)\n",
    "\n",
    "col_names = response_dict['fields']\n",
    "data = np.array(response_dict['data'])\n",
    "\n",
    "sensors_df = pd.DataFrame(data, columns = col_names)"
   ]
  },
  {
   "cell_type": "markdown",
   "metadata": {},
   "source": [
    "## Cleaning PurpleAir Station Data"
   ]
  },
  {
   "cell_type": "code",
   "execution_count": 20,
   "metadata": {},
   "outputs": [
    {
     "data": {
      "text/plain": [
       "66"
      ]
     },
     "execution_count": 20,
     "metadata": {},
     "output_type": "execute_result"
    }
   ],
   "source": [
    "#find outside sensors\n",
    "df_outside = sensors_df[sensors_df.location_type == 0]\n",
    "len(df_outside)"
   ]
  },
  {
   "cell_type": "code",
   "execution_count": 21,
   "metadata": {},
   "outputs": [],
   "source": [
    "#drop the location_type now that we have filtered for outdoor sensors only\n",
    "df_stations = df_outside.drop('location_type', axis=1)\n",
    "\n",
    "df_stations['city_id'] = our_sensor_info['name'].apply(lambda x: x.split(' ')[-1])"
   ]
  },
  {
   "cell_type": "code",
   "execution_count": 22,
   "metadata": {},
   "outputs": [],
   "source": [
    "#Converting UNIX date/time to pd \n",
    "\n",
    "# IN UTC time (5 hours ahead of here)\n",
    "\n",
    "df_stations['last_modified'] = pd.to_datetime(df_stations['last_modified'], unit='s') - pd.Timedelta(hours=5)\n",
    "df_stations['date_created'] = pd.to_datetime(df_stations['date_created'], unit='s') - pd.Timedelta(hours=5)\n",
    "df_stations['last_seen'] = pd.to_datetime(df_stations['last_seen'], unit='s') - pd.Timedelta(hours=5)"
   ]
  },
  {
   "cell_type": "code",
   "execution_count": 23,
   "metadata": {
    "scrolled": true
   },
   "outputs": [
    {
     "data": {
      "text/html": [
       "<div>\n",
       "<style scoped>\n",
       "    .dataframe tbody tr th:only-of-type {\n",
       "        vertical-align: middle;\n",
       "    }\n",
       "\n",
       "    .dataframe tbody tr th {\n",
       "        vertical-align: top;\n",
       "    }\n",
       "\n",
       "    .dataframe thead th {\n",
       "        text-align: right;\n",
       "    }\n",
       "</style>\n",
       "<table border=\"1\" class=\"dataframe\">\n",
       "  <thead>\n",
       "    <tr style=\"text-align: right;\">\n",
       "      <th></th>\n",
       "      <th>sensor_index</th>\n",
       "      <th>last_modified</th>\n",
       "      <th>date_created</th>\n",
       "      <th>last_seen</th>\n",
       "      <th>name</th>\n",
       "      <th>firmware_version</th>\n",
       "      <th>uptime</th>\n",
       "      <th>position_rating</th>\n",
       "      <th>latitude</th>\n",
       "      <th>longitude</th>\n",
       "      <th>altitude</th>\n",
       "      <th>channel_state</th>\n",
       "      <th>channel_flags</th>\n",
       "      <th>pm2.5_10minute</th>\n",
       "      <th>city_id</th>\n",
       "    </tr>\n",
       "  </thead>\n",
       "  <tbody>\n",
       "    <tr>\n",
       "      <th>0</th>\n",
       "      <td>142718</td>\n",
       "      <td>2023-08-02 13:50:17</td>\n",
       "      <td>2022-01-12 13:57:49</td>\n",
       "      <td>2023-11-02 19:07:56</td>\n",
       "      <td>City of Minneapolis Community Air Monitoring P...</td>\n",
       "      <td>7.02</td>\n",
       "      <td>8753</td>\n",
       "      <td>5</td>\n",
       "      <td>44.99631</td>\n",
       "      <td>-93.29565</td>\n",
       "      <td>857</td>\n",
       "      <td>3</td>\n",
       "      <td>0</td>\n",
       "      <td>48.0</td>\n",
       "      <td>50</td>\n",
       "    </tr>\n",
       "    <tr>\n",
       "      <th>1</th>\n",
       "      <td>142720</td>\n",
       "      <td>2023-08-02 13:06:36</td>\n",
       "      <td>2022-01-12 13:57:55</td>\n",
       "      <td>2023-11-02 19:08:13</td>\n",
       "      <td>City of Minneapolis Community Air Monitoring P...</td>\n",
       "      <td>7.02</td>\n",
       "      <td>28985</td>\n",
       "      <td>5</td>\n",
       "      <td>44.955555</td>\n",
       "      <td>-93.254974</td>\n",
       "      <td>850</td>\n",
       "      <td>3</td>\n",
       "      <td>0</td>\n",
       "      <td>30.9</td>\n",
       "      <td>29</td>\n",
       "    </tr>\n",
       "    <tr>\n",
       "      <th>2</th>\n",
       "      <td>142726</td>\n",
       "      <td>2023-02-02 12:31:06</td>\n",
       "      <td>2022-01-12 13:58:17</td>\n",
       "      <td>2023-11-02 19:07:38</td>\n",
       "      <td>City of Minneapolis Community Air Monitoring P...</td>\n",
       "      <td>7.02</td>\n",
       "      <td>4937</td>\n",
       "      <td>5</td>\n",
       "      <td>45.01507</td>\n",
       "      <td>-93.28903</td>\n",
       "      <td>889</td>\n",
       "      <td>3</td>\n",
       "      <td>0</td>\n",
       "      <td>34.8</td>\n",
       "      <td>11</td>\n",
       "    </tr>\n",
       "  </tbody>\n",
       "</table>\n",
       "</div>"
      ],
      "text/plain": [
       "  sensor_index       last_modified        date_created           last_seen  \\\n",
       "0       142718 2023-08-02 13:50:17 2022-01-12 13:57:49 2023-11-02 19:07:56   \n",
       "1       142720 2023-08-02 13:06:36 2022-01-12 13:57:55 2023-11-02 19:08:13   \n",
       "2       142726 2023-02-02 12:31:06 2022-01-12 13:58:17 2023-11-02 19:07:38   \n",
       "\n",
       "                                                name firmware_version uptime  \\\n",
       "0  City of Minneapolis Community Air Monitoring P...             7.02   8753   \n",
       "1  City of Minneapolis Community Air Monitoring P...             7.02  28985   \n",
       "2  City of Minneapolis Community Air Monitoring P...             7.02   4937   \n",
       "\n",
       "  position_rating   latitude  longitude altitude channel_state channel_flags  \\\n",
       "0               5   44.99631  -93.29565      857             3             0   \n",
       "1               5  44.955555 -93.254974      850             3             0   \n",
       "2               5   45.01507  -93.28903      889             3             0   \n",
       "\n",
       "  pm2.5_10minute city_id  \n",
       "0           48.0      50  \n",
       "1           30.9      29  \n",
       "2           34.8      11  "
      ]
     },
     "execution_count": 23,
     "metadata": {},
     "output_type": "execute_result"
    }
   ],
   "source": [
    "df_stations.head(3)"
   ]
  },
  {
   "cell_type": "code",
   "execution_count": 24,
   "metadata": {},
   "outputs": [],
   "source": [
    "# Rename a column and the dateframe for ease\n",
    "\n",
    "df = df_stations.rename(columns = {'pm2.5_10minute':'pm25'})"
   ]
  },
  {
   "cell_type": "code",
   "execution_count": 25,
   "metadata": {},
   "outputs": [],
   "source": [
    "# Save as CSV\n",
    "\n",
    "df_stations.to_csv(os.path.join(datapath, 'PurpleAir_Stations.csv'))\n",
    "\n",
    "# Save as geojson\n",
    "\n",
    "gdf_stations = gpd.GeoDataFrame(df_stations, \n",
    "                                geometry = gpd.points_from_xy(\n",
    "                                    df_stations.longitude,\n",
    "                                    df_stations.latitude,\n",
    "                                    crs = 'EPSG:4326')\n",
    "                               ).to_crs('EPSG:26915')\n",
    "\n",
    "cols_for_db = ['sensor_index'] + fields[:-3] + ['geometry']\n",
    "\n",
    "sorted_gdf = gdf_stations[cols_for_db]\n",
    "\n",
    "sorted_gdf.to_file(os.path.join(datapath, 'PurpleAir_Stations.geojson'))"
   ]
  },
  {
   "cell_type": "code",
   "execution_count": 26,
   "metadata": {},
   "outputs": [],
   "source": [
    "# Let's explore\n",
    "\n",
    "pd.set_option('display.max_colwidth', None)"
   ]
  },
  {
   "cell_type": "code",
   "execution_count": 41,
   "metadata": {},
   "outputs": [
    {
     "name": "stdout",
     "output_type": "stream",
     "text": [
      "Our Flags:  29\n"
     ]
    }
   ],
   "source": [
    "# Our Sensor Flags\n",
    "\n",
    "# Key\n",
    "# Channel State -  0 = No PM, 3 = Both On\n",
    "# Channel Flags - 0 = Normal, 1 = A Downgraded, 2 - B Downgraded, 3 - Both Downgraded\n",
    "\n",
    "flagged = (df.channel_flags != 0\n",
    "          ) | (df.channel_state == 0\n",
    "              ) |(df.last_seen < dt.datetime.now() - dt.timedelta(minutes=60)\n",
    "                 )\n",
    "\n",
    "flagged_sensors = df[flagged][['sensor_index', \n",
    "                               'channel_flags', \n",
    "                               'channel_state',\n",
    "                                'last_seen',\n",
    "                               'name',\n",
    "                               'city_id','pm25']]\n",
    "\n",
    "not_flagged_sensors = df[~flagged][['sensor_index', \n",
    "                               'channel_flags',\n",
    "                               'channel_state',\n",
    "                                'last_seen',\n",
    "                               'name',\n",
    "                                    'city_id', 'pm25']]\n",
    "\n",
    "print('Our Flags: ', len(flagged_sensors))\n",
    "# Save the flagged sensors\n",
    "# flagged_sensors.sort_values('last_seen').reset_index(drop=True).to_csv(os.path.join(datapath,'flagged_sensors.csv'))\n",
    "\n",
    "# flagged_sensors.sort_values('last_seen')"
   ]
  },
  {
   "cell_type": "code",
   "execution_count": 42,
   "metadata": {},
   "outputs": [],
   "source": [
    "# Load the list the City provided\n",
    "\n",
    "city_sensor_info = pd.read_excel(os.path.join(datapath, 'Updated PurpleAir IDs and locations.xlsx')) # Load as DataFrame\n",
    "\n",
    "city_sensor_info['city_id'] = city_sensor_info['Location Name'].apply(lambda x: x.split(' ')[-1])\n",
    "\n",
    "city_sensor_info = city_sensor_info.fillna('No Notes')"
   ]
  },
  {
   "cell_type": "code",
   "execution_count": 29,
   "metadata": {
    "scrolled": true
   },
   "outputs": [
    {
     "name": "stdout",
     "output_type": "stream",
     "text": [
      "city_ids we have the city doesn't have {'51', '64', '31', 'Minneapolis', '28'}\n",
      "\n",
      "\n",
      "city_ids City has that we don't set()\n",
      "\n",
      "\n",
      "Length of City's list 59\n"
     ]
    }
   ],
   "source": [
    "# For checking with the City's list\n",
    "\n",
    "city_names_number = set(city_sensor_info.city_id)\n",
    "our_names_number = set(our_sensor_info.city_id)\n",
    "\n",
    "print(\"city_ids we have the city doesn't have\", our_names_number - city_names_number)\n",
    "print('\\n')\n",
    "print(\"city_ids City has that we don't\", city_names_number - our_names_number)\n",
    "print('\\n')\n",
    "print(\"Length of City's list\", len(city_names_number))"
   ]
  },
  {
   "cell_type": "code",
   "execution_count": 30,
   "metadata": {},
   "outputs": [],
   "source": [
    "# Compare further with the city\n",
    "\n",
    "# Merge\n",
    "\n",
    "merged_df = pd.merge(df, city_sensor_info,\n",
    "                    on='city_id',\n",
    "                   how='outer',\n",
    "                    suffixes = ['_ours', '_city'])"
   ]
  },
  {
   "cell_type": "code",
   "execution_count": 39,
   "metadata": {},
   "outputs": [
    {
     "data": {
      "text/html": [
       "<div>\n",
       "<style scoped>\n",
       "    .dataframe tbody tr th:only-of-type {\n",
       "        vertical-align: middle;\n",
       "    }\n",
       "\n",
       "    .dataframe tbody tr th {\n",
       "        vertical-align: top;\n",
       "    }\n",
       "\n",
       "    .dataframe thead th {\n",
       "        text-align: right;\n",
       "    }\n",
       "</style>\n",
       "<table border=\"1\" class=\"dataframe\">\n",
       "  <thead>\n",
       "    <tr style=\"text-align: right;\">\n",
       "      <th></th>\n",
       "      <th>city_id</th>\n",
       "      <th>last_seen</th>\n",
       "      <th>Notes</th>\n",
       "      <th>channel_flags</th>\n",
       "      <th>channel_state</th>\n",
       "    </tr>\n",
       "  </thead>\n",
       "  <tbody>\n",
       "    <tr>\n",
       "      <th>17</th>\n",
       "      <td>22</td>\n",
       "      <td>2022-11-10 11:26:39</td>\n",
       "      <td>disconnected (offline)</td>\n",
       "      <td>0</td>\n",
       "      <td>3</td>\n",
       "    </tr>\n",
       "    <tr>\n",
       "      <th>48</th>\n",
       "      <td>4</td>\n",
       "      <td>2023-01-09 17:09:39</td>\n",
       "      <td>disconnected (offline)</td>\n",
       "      <td>0</td>\n",
       "      <td>3</td>\n",
       "    </tr>\n",
       "    <tr>\n",
       "      <th>16</th>\n",
       "      <td>31</td>\n",
       "      <td>2023-03-28 14:34:07</td>\n",
       "      <td>NaN</td>\n",
       "      <td>0</td>\n",
       "      <td>3</td>\n",
       "    </tr>\n",
       "    <tr>\n",
       "      <th>65</th>\n",
       "      <td>28</td>\n",
       "      <td>2023-03-28 14:37:14</td>\n",
       "      <td>NaN</td>\n",
       "      <td>3</td>\n",
       "      <td>0</td>\n",
       "    </tr>\n",
       "    <tr>\n",
       "      <th>24</th>\n",
       "      <td>35</td>\n",
       "      <td>2023-04-26 15:33:55</td>\n",
       "      <td>disconnected (offline)</td>\n",
       "      <td>0</td>\n",
       "      <td>3</td>\n",
       "    </tr>\n",
       "    <tr>\n",
       "      <th>13</th>\n",
       "      <td>40</td>\n",
       "      <td>2023-06-22 10:19:40</td>\n",
       "      <td>disconnected (offline)</td>\n",
       "      <td>0</td>\n",
       "      <td>3</td>\n",
       "    </tr>\n",
       "    <tr>\n",
       "      <th>21</th>\n",
       "      <td>Minneapolis</td>\n",
       "      <td>2023-06-24 23:07:54</td>\n",
       "      <td>NaN</td>\n",
       "      <td>0</td>\n",
       "      <td>3</td>\n",
       "    </tr>\n",
       "    <tr>\n",
       "      <th>38</th>\n",
       "      <td>37</td>\n",
       "      <td>2023-06-27 07:01:58</td>\n",
       "      <td>disconnected (offline)</td>\n",
       "      <td>0</td>\n",
       "      <td>3</td>\n",
       "    </tr>\n",
       "    <tr>\n",
       "      <th>39</th>\n",
       "      <td>60</td>\n",
       "      <td>2023-06-29 14:20:54</td>\n",
       "      <td>disconnected (offline)</td>\n",
       "      <td>0</td>\n",
       "      <td>3</td>\n",
       "    </tr>\n",
       "    <tr>\n",
       "      <th>50</th>\n",
       "      <td>24</td>\n",
       "      <td>2023-07-03 06:22:30</td>\n",
       "      <td>disconnected (offline)</td>\n",
       "      <td>0</td>\n",
       "      <td>3</td>\n",
       "    </tr>\n",
       "    <tr>\n",
       "      <th>57</th>\n",
       "      <td>59</td>\n",
       "      <td>2023-08-11 17:22:27</td>\n",
       "      <td>disconnected (offline)</td>\n",
       "      <td>0</td>\n",
       "      <td>3</td>\n",
       "    </tr>\n",
       "    <tr>\n",
       "      <th>18</th>\n",
       "      <td>22</td>\n",
       "      <td>2023-08-15 14:38:40</td>\n",
       "      <td>disconnected (offline)</td>\n",
       "      <td>0</td>\n",
       "      <td>3</td>\n",
       "    </tr>\n",
       "    <tr>\n",
       "      <th>55</th>\n",
       "      <td>3</td>\n",
       "      <td>2023-08-23 19:26:40</td>\n",
       "      <td>disconnected (offline)</td>\n",
       "      <td>0</td>\n",
       "      <td>3</td>\n",
       "    </tr>\n",
       "    <tr>\n",
       "      <th>5</th>\n",
       "      <td>42</td>\n",
       "      <td>2023-09-12 12:01:52</td>\n",
       "      <td>disconnected (offline)</td>\n",
       "      <td>0</td>\n",
       "      <td>3</td>\n",
       "    </tr>\n",
       "    <tr>\n",
       "      <th>4</th>\n",
       "      <td>13</td>\n",
       "      <td>2023-09-25 09:18:30</td>\n",
       "      <td>disconnected (offline)</td>\n",
       "      <td>0</td>\n",
       "      <td>3</td>\n",
       "    </tr>\n",
       "    <tr>\n",
       "      <th>54</th>\n",
       "      <td>66</td>\n",
       "      <td>2023-10-14 13:20:05</td>\n",
       "      <td>disconnected (offline)</td>\n",
       "      <td>0</td>\n",
       "      <td>3</td>\n",
       "    </tr>\n",
       "    <tr>\n",
       "      <th>56</th>\n",
       "      <td>3</td>\n",
       "      <td>2023-10-17 08:54:33</td>\n",
       "      <td>disconnected (offline)</td>\n",
       "      <td>0</td>\n",
       "      <td>3</td>\n",
       "    </tr>\n",
       "    <tr>\n",
       "      <th>14</th>\n",
       "      <td>51</td>\n",
       "      <td>2023-10-19 11:03:33</td>\n",
       "      <td>NaN</td>\n",
       "      <td>2</td>\n",
       "      <td>3</td>\n",
       "    </tr>\n",
       "    <tr>\n",
       "      <th>10</th>\n",
       "      <td>49</td>\n",
       "      <td>2023-10-27 04:35:23</td>\n",
       "      <td>disconnected (offline)</td>\n",
       "      <td>0</td>\n",
       "      <td>3</td>\n",
       "    </tr>\n",
       "    <tr>\n",
       "      <th>22</th>\n",
       "      <td>15</td>\n",
       "      <td>2023-10-31 20:05:32</td>\n",
       "      <td>No Notes</td>\n",
       "      <td>0</td>\n",
       "      <td>3</td>\n",
       "    </tr>\n",
       "    <tr>\n",
       "      <th>9</th>\n",
       "      <td>17</td>\n",
       "      <td>2023-11-02 05:57:30</td>\n",
       "      <td>disconnected (offline)</td>\n",
       "      <td>0</td>\n",
       "      <td>3</td>\n",
       "    </tr>\n",
       "    <tr>\n",
       "      <th>6</th>\n",
       "      <td>19</td>\n",
       "      <td>2023-11-02 07:34:12</td>\n",
       "      <td>disconnected (offline)</td>\n",
       "      <td>0</td>\n",
       "      <td>3</td>\n",
       "    </tr>\n",
       "    <tr>\n",
       "      <th>52</th>\n",
       "      <td>52</td>\n",
       "      <td>2023-11-02 19:07:41</td>\n",
       "      <td>needs maintenance</td>\n",
       "      <td>1</td>\n",
       "      <td>3</td>\n",
       "    </tr>\n",
       "    <tr>\n",
       "      <th>63</th>\n",
       "      <td>67</td>\n",
       "      <td>2023-11-02 19:07:42</td>\n",
       "      <td>needs maintenance</td>\n",
       "      <td>2</td>\n",
       "      <td>3</td>\n",
       "    </tr>\n",
       "    <tr>\n",
       "      <th>60</th>\n",
       "      <td>58</td>\n",
       "      <td>2023-11-02 19:07:43</td>\n",
       "      <td>needs maintenance</td>\n",
       "      <td>2</td>\n",
       "      <td>3</td>\n",
       "    </tr>\n",
       "    <tr>\n",
       "      <th>41</th>\n",
       "      <td>6</td>\n",
       "      <td>2023-11-02 19:07:56</td>\n",
       "      <td>needs maintenance</td>\n",
       "      <td>2</td>\n",
       "      <td>3</td>\n",
       "    </tr>\n",
       "    <tr>\n",
       "      <th>58</th>\n",
       "      <td>63</td>\n",
       "      <td>2023-11-02 19:08:06</td>\n",
       "      <td>needs maintenance</td>\n",
       "      <td>2</td>\n",
       "      <td>3</td>\n",
       "    </tr>\n",
       "    <tr>\n",
       "      <th>7</th>\n",
       "      <td>16</td>\n",
       "      <td>2023-11-02 19:08:48</td>\n",
       "      <td>needs maintenance</td>\n",
       "      <td>1</td>\n",
       "      <td>3</td>\n",
       "    </tr>\n",
       "    <tr>\n",
       "      <th>46</th>\n",
       "      <td>5</td>\n",
       "      <td>2023-11-02 19:08:54</td>\n",
       "      <td>needs maintenance</td>\n",
       "      <td>1</td>\n",
       "      <td>3</td>\n",
       "    </tr>\n",
       "  </tbody>\n",
       "</table>\n",
       "</div>"
      ],
      "text/plain": [
       "        city_id           last_seen                   Notes channel_flags  \\\n",
       "17           22 2022-11-10 11:26:39  disconnected (offline)             0   \n",
       "48            4 2023-01-09 17:09:39  disconnected (offline)             0   \n",
       "16           31 2023-03-28 14:34:07                     NaN             0   \n",
       "65           28 2023-03-28 14:37:14                     NaN             3   \n",
       "24           35 2023-04-26 15:33:55  disconnected (offline)             0   \n",
       "13           40 2023-06-22 10:19:40  disconnected (offline)             0   \n",
       "21  Minneapolis 2023-06-24 23:07:54                     NaN             0   \n",
       "38           37 2023-06-27 07:01:58  disconnected (offline)             0   \n",
       "39           60 2023-06-29 14:20:54  disconnected (offline)             0   \n",
       "50           24 2023-07-03 06:22:30  disconnected (offline)             0   \n",
       "57           59 2023-08-11 17:22:27  disconnected (offline)             0   \n",
       "18           22 2023-08-15 14:38:40  disconnected (offline)             0   \n",
       "55            3 2023-08-23 19:26:40  disconnected (offline)             0   \n",
       "5            42 2023-09-12 12:01:52  disconnected (offline)             0   \n",
       "4            13 2023-09-25 09:18:30  disconnected (offline)             0   \n",
       "54           66 2023-10-14 13:20:05  disconnected (offline)             0   \n",
       "56            3 2023-10-17 08:54:33  disconnected (offline)             0   \n",
       "14           51 2023-10-19 11:03:33                     NaN             2   \n",
       "10           49 2023-10-27 04:35:23  disconnected (offline)             0   \n",
       "22           15 2023-10-31 20:05:32                No Notes             0   \n",
       "9            17 2023-11-02 05:57:30  disconnected (offline)             0   \n",
       "6            19 2023-11-02 07:34:12  disconnected (offline)             0   \n",
       "52           52 2023-11-02 19:07:41       needs maintenance             1   \n",
       "63           67 2023-11-02 19:07:42       needs maintenance             2   \n",
       "60           58 2023-11-02 19:07:43       needs maintenance             2   \n",
       "41            6 2023-11-02 19:07:56       needs maintenance             2   \n",
       "58           63 2023-11-02 19:08:06       needs maintenance             2   \n",
       "7            16 2023-11-02 19:08:48       needs maintenance             1   \n",
       "46            5 2023-11-02 19:08:54       needs maintenance             1   \n",
       "\n",
       "   channel_state  \n",
       "17             3  \n",
       "48             3  \n",
       "16             3  \n",
       "65             0  \n",
       "24             3  \n",
       "13             3  \n",
       "21             3  \n",
       "38             3  \n",
       "39             3  \n",
       "50             3  \n",
       "57             3  \n",
       "18             3  \n",
       "55             3  \n",
       "5              3  \n",
       "4              3  \n",
       "54             3  \n",
       "56             3  \n",
       "14             3  \n",
       "10             3  \n",
       "22             3  \n",
       "9              3  \n",
       "6              3  \n",
       "52             3  \n",
       "63             3  \n",
       "60             3  \n",
       "41             3  \n",
       "58             3  \n",
       "7              3  \n",
       "46             3  "
      ]
     },
     "execution_count": 39,
     "metadata": {},
     "output_type": "execute_result"
    }
   ],
   "source": [
    "# Compare flags\n",
    "\n",
    "flags = (merged_df.channel_flags != 0\n",
    "          ) | (merged_df.channel_state == 1\n",
    "              ) |(merged_df.last_seen < dt.datetime.now() - dt.timedelta(minutes=60)\n",
    "                 )\n",
    "\n",
    "flags_df = merged_df[flags][['city_id',\n",
    "                               'sensor_index', \n",
    "                               'channel_flags', \n",
    "                               'channel_state',\n",
    "                               'Notes',\n",
    "                                'last_seen',\n",
    "                               'name',\n",
    "                               'pm25']]\n",
    "\n",
    "flags_df[['city_id', 'last_seen', 'Notes', 'channel_flags', 'channel_state']].sort_values('last_seen')#.to_csv('flagged_sensors_1910.csv')"
   ]
  },
  {
   "cell_type": "markdown",
   "metadata": {},
   "source": [
    "## Insert Data into SQL Table - Not Quite Done\n",
    "\n",
    "This doesn't check to see if the sensors are already in the database"
   ]
  },
  {
   "cell_type": "code",
   "execution_count": 33,
   "metadata": {},
   "outputs": [
    {
     "data": {
      "text/plain": [
       "['sensor_index',\n",
       " 'firmware_version',\n",
       " 'date_created',\n",
       " 'last_modified',\n",
       " 'last_seen',\n",
       " 'name',\n",
       " 'uptime',\n",
       " 'position_rating',\n",
       " 'channel_state',\n",
       " 'channel_flags',\n",
       " 'altitude',\n",
       " 'geometry']"
      ]
     },
     "execution_count": 33,
     "metadata": {},
     "output_type": "execute_result"
    }
   ],
   "source": [
    "cols_for_db"
   ]
  },
  {
   "cell_type": "code",
   "execution_count": 34,
   "metadata": {},
   "outputs": [],
   "source": [
    "# Sort the df and correct values\n",
    "\n",
    "sorted_df = sorted_gdf.drop('geometry', axis=1).copy()\n",
    "\n",
    "sorted_df['wkt'] = sorted_gdf.geometry.apply(lambda x: x.wkt)\n",
    "\n",
    "sorted_df['date_created'] = sorted_gdf.date_created.apply(lambda x : x.strftime('%Y-%m-%d %H:%M:%S'))\n",
    "sorted_df['last_modified'] = sorted_gdf.last_modified.apply(lambda x : x.strftime('%Y-%m-%d %H:%M:%S'))\n",
    "sorted_df['last_seen'] = sorted_gdf.last_seen.apply(lambda x : x.strftime('%Y-%m-%d %H:%M:%S'))\n",
    "\n",
    "# Replace non-numeric nans\n",
    "\n",
    "# sorted_df['firmware_version'] = sorted_df['firmware_version'].fillna(value = 'a', inplace = True)\n",
    "# sorted_df['firmware_version'] = sorted_df['firmware_version'].fillna(value = 'NaN', inplace = True)"
   ]
  },
  {
   "cell_type": "code",
   "execution_count": 35,
   "metadata": {},
   "outputs": [
    {
     "data": {
      "text/html": [
       "<div>\n",
       "<style scoped>\n",
       "    .dataframe tbody tr th:only-of-type {\n",
       "        vertical-align: middle;\n",
       "    }\n",
       "\n",
       "    .dataframe tbody tr th {\n",
       "        vertical-align: top;\n",
       "    }\n",
       "\n",
       "    .dataframe thead th {\n",
       "        text-align: right;\n",
       "    }\n",
       "</style>\n",
       "<table border=\"1\" class=\"dataframe\">\n",
       "  <thead>\n",
       "    <tr style=\"text-align: right;\">\n",
       "      <th></th>\n",
       "      <th>sensor_index</th>\n",
       "      <th>firmware_version</th>\n",
       "      <th>date_created</th>\n",
       "      <th>last_modified</th>\n",
       "      <th>last_seen</th>\n",
       "      <th>name</th>\n",
       "      <th>uptime</th>\n",
       "      <th>position_rating</th>\n",
       "      <th>channel_state</th>\n",
       "      <th>channel_flags</th>\n",
       "      <th>altitude</th>\n",
       "      <th>wkt</th>\n",
       "    </tr>\n",
       "  </thead>\n",
       "  <tbody>\n",
       "    <tr>\n",
       "      <th>0</th>\n",
       "      <td>142718</td>\n",
       "      <td>7.02</td>\n",
       "      <td>2022-01-12 13:57:49</td>\n",
       "      <td>2023-08-02 13:50:17</td>\n",
       "      <td>2023-11-02 19:07:56</td>\n",
       "      <td>City of Minneapolis Community Air Monitoring Project 50</td>\n",
       "      <td>8753</td>\n",
       "      <td>5</td>\n",
       "      <td>3</td>\n",
       "      <td>0</td>\n",
       "      <td>857</td>\n",
       "      <td>POINT (476696.84844637447 4982582.8198003275)</td>\n",
       "    </tr>\n",
       "    <tr>\n",
       "      <th>1</th>\n",
       "      <td>142720</td>\n",
       "      <td>7.02</td>\n",
       "      <td>2022-01-12 13:57:55</td>\n",
       "      <td>2023-08-02 13:06:36</td>\n",
       "      <td>2023-11-02 19:08:13</td>\n",
       "      <td>City of Minneapolis Community Air Monitoring Project 29</td>\n",
       "      <td>28985</td>\n",
       "      <td>5</td>\n",
       "      <td>3</td>\n",
       "      <td>0</td>\n",
       "      <td>850</td>\n",
       "      <td>POINT (479888.6697801179 4978044.582460884)</td>\n",
       "    </tr>\n",
       "    <tr>\n",
       "      <th>2</th>\n",
       "      <td>142726</td>\n",
       "      <td>7.02</td>\n",
       "      <td>2022-01-12 13:58:17</td>\n",
       "      <td>2023-02-02 12:31:06</td>\n",
       "      <td>2023-11-02 19:07:38</td>\n",
       "      <td>City of Minneapolis Community Air Monitoring Project 11</td>\n",
       "      <td>4937</td>\n",
       "      <td>5</td>\n",
       "      <td>3</td>\n",
       "      <td>0</td>\n",
       "      <td>889</td>\n",
       "      <td>POINT (477226.07726585865 4984664.938670933)</td>\n",
       "    </tr>\n",
       "    <tr>\n",
       "      <th>3</th>\n",
       "      <td>142724</td>\n",
       "      <td>7.02</td>\n",
       "      <td>2022-01-12 13:58:09</td>\n",
       "      <td>2023-08-02 11:12:05</td>\n",
       "      <td>2023-11-02 19:08:16</td>\n",
       "      <td>City of Minneapolis Community Air Monitoring Project 21</td>\n",
       "      <td>3448</td>\n",
       "      <td>5</td>\n",
       "      <td>3</td>\n",
       "      <td>0</td>\n",
       "      <td>859</td>\n",
       "      <td>POINT (480783.00497330126 4976062.035271977)</td>\n",
       "    </tr>\n",
       "    <tr>\n",
       "      <th>4</th>\n",
       "      <td>142730</td>\n",
       "      <td>7.02</td>\n",
       "      <td>2022-01-12 13:58:36</td>\n",
       "      <td>2023-08-02 10:41:14</td>\n",
       "      <td>2023-09-25 09:18:30</td>\n",
       "      <td>City of Minneapolis Community Air Monitoring Project 13</td>\n",
       "      <td>816</td>\n",
       "      <td>5</td>\n",
       "      <td>3</td>\n",
       "      <td>0</td>\n",
       "      <td>858</td>\n",
       "      <td>POINT (476695.09256082535 4982102.367948439)</td>\n",
       "    </tr>\n",
       "  </tbody>\n",
       "</table>\n",
       "</div>"
      ],
      "text/plain": [
       "  sensor_index firmware_version         date_created        last_modified  \\\n",
       "0       142718             7.02  2022-01-12 13:57:49  2023-08-02 13:50:17   \n",
       "1       142720             7.02  2022-01-12 13:57:55  2023-08-02 13:06:36   \n",
       "2       142726             7.02  2022-01-12 13:58:17  2023-02-02 12:31:06   \n",
       "3       142724             7.02  2022-01-12 13:58:09  2023-08-02 11:12:05   \n",
       "4       142730             7.02  2022-01-12 13:58:36  2023-08-02 10:41:14   \n",
       "\n",
       "             last_seen  \\\n",
       "0  2023-11-02 19:07:56   \n",
       "1  2023-11-02 19:08:13   \n",
       "2  2023-11-02 19:07:38   \n",
       "3  2023-11-02 19:08:16   \n",
       "4  2023-09-25 09:18:30   \n",
       "\n",
       "                                                      name uptime  \\\n",
       "0  City of Minneapolis Community Air Monitoring Project 50   8753   \n",
       "1  City of Minneapolis Community Air Monitoring Project 29  28985   \n",
       "2  City of Minneapolis Community Air Monitoring Project 11   4937   \n",
       "3  City of Minneapolis Community Air Monitoring Project 21   3448   \n",
       "4  City of Minneapolis Community Air Monitoring Project 13    816   \n",
       "\n",
       "  position_rating channel_state channel_flags altitude  \\\n",
       "0               5             3             0      857   \n",
       "1               5             3             0      850   \n",
       "2               5             3             0      889   \n",
       "3               5             3             0      859   \n",
       "4               5             3             0      858   \n",
       "\n",
       "                                             wkt  \n",
       "0  POINT (476696.84844637447 4982582.8198003275)  \n",
       "1    POINT (479888.6697801179 4978044.582460884)  \n",
       "2   POINT (477226.07726585865 4984664.938670933)  \n",
       "3   POINT (480783.00497330126 4976062.035271977)  \n",
       "4   POINT (476695.09256082535 4982102.367948439)  "
      ]
     },
     "execution_count": 35,
     "metadata": {},
     "output_type": "execute_result"
    }
   ],
   "source": [
    "sorted_df.head()"
   ]
  },
  {
   "cell_type": "code",
   "execution_count": 36,
   "metadata": {},
   "outputs": [],
   "source": [
    "## Database credentials\n",
    "\n",
    "creds = [os.getenv('DB_NAME'),\n",
    "         os.getenv('DB_USER'),\n",
    "         os.getenv('DB_PASS'),\n",
    "         os.getenv('DB_PORT'),\n",
    "         os.getenv('DB_HOST')\n",
    "        ]\n",
    "\n",
    "pg_connection_dict = dict(zip(['dbname', 'user', 'password', 'port', 'host'], creds)) "
   ]
  },
  {
   "cell_type": "code",
   "execution_count": 37,
   "metadata": {},
   "outputs": [],
   "source": [
    "# Connect to PostGIS Database\n",
    "\n",
    "conn = psycopg2.connect(**pg_connection_dict)\n",
    "cur = conn.cursor()\n",
    "\n",
    "\n",
    "# iterate over the dataframe and insert each row into the database using a SQL INSERT statement\n",
    "\n",
    "for index, row in sorted_df.copy().iterrows():\n",
    "\n",
    "    q1 = sql.SQL('INSERT INTO \"PurpleAir Stations\" ({}) VALUES ({},{});').format(\n",
    "     sql.SQL(', ').join(map(sql.Identifier, cols_for_db)),\n",
    "     sql.SQL(', ').join(sql.Placeholder() * (len(cols_for_db)-1)),\n",
    "     sql.SQL('ST_Transform(ST_SetSRID(ST_GeomFromText(%s), 26915),4326)::geometry'))\n",
    "    # print(q1.as_string(conn))\n",
    "    # print(row)\n",
    "    # break\n",
    "    \n",
    "    cur.execute(q1.as_string(conn),\n",
    "        (list(row.values))\n",
    "        )\n",
    "    # Commit command\n",
    "\n",
    "    conn.commit()\n",
    "\n",
    "# Close the cursor and connection\n",
    "cur.close()\n",
    "conn.close()"
   ]
  },
  {
   "cell_type": "code",
   "execution_count": null,
   "metadata": {},
   "outputs": [],
   "source": []
  }
 ],
 "metadata": {
  "kernelspec": {
   "display_name": "Python 3 (ipykernel)",
   "language": "python",
   "name": "python3"
  },
  "language_info": {
   "codemirror_mode": {
    "name": "ipython",
    "version": 3
   },
   "file_extension": ".py",
   "mimetype": "text/x-python",
   "name": "python",
   "nbconvert_exporter": "python",
   "pygments_lexer": "ipython3",
   "version": "3.10.12"
  },
  "vscode": {
   "interpreter": {
    "hash": "eccf50a1291cb678adb751fb07cc0cb3ec85c824e49e2e3981e74f6a0155d408"
   }
  },
  "widgets": {
   "application/vnd.jupyter.widget-state+json": {
    "state": {},
    "version_major": 2,
    "version_minor": 0
   }
  }
 },
 "nbformat": 4,
 "nbformat_minor": 4
}
