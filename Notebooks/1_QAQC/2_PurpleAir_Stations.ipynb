{
 "cells": [
  {
   "cell_type": "markdown",
   "metadata": {},
   "source": [
    "# PurpleAir Stations QAQC"
   ]
  },
  {
   "cell_type": "markdown",
   "metadata": {},
   "source": [
    "## Import Packages"
   ]
  },
  {
   "cell_type": "code",
   "execution_count": 1,
   "metadata": {},
   "outputs": [],
   "source": [
    "### Import Packages\n",
    "\n",
    "# File manipulation\n",
    "\n",
    "import os # For working with Operating System\n",
    "import requests # Accessing the Web\n",
    "import datetime as dt # Working with dates/times\n",
    "\n",
    "# Database \n",
    "\n",
    "import psycopg2\n",
    "from psycopg2 import sql\n",
    "\n",
    "# Analysis\n",
    "\n",
    "import numpy as np\n",
    "import geopandas as gpd\n",
    "import pandas as pd"
   ]
  },
  {
   "cell_type": "markdown",
   "metadata": {},
   "source": [
    "## Definitions"
   ]
  },
  {
   "cell_type": "code",
   "execution_count": 2,
   "metadata": {},
   "outputs": [],
   "source": [
    "# Getting .env information (PurpleAir API Read Key)\n",
    "from dotenv import load_dotenv\n",
    "\n",
    "load_dotenv()\n",
    "\n",
    "api = os.getenv('PURPLEAIR_API_TOKEN')"
   ]
  },
  {
   "cell_type": "code",
   "execution_count": 3,
   "metadata": {},
   "outputs": [],
   "source": [
    "#Setting lat/long for PurpleAir API Parameters\n",
    "\n",
    "datapath = os.path.join('..', '..', 'Data')\n",
    "\n",
    "extent = gpd.read_file(os.path.join(datapath, 'extent.geojson'))\n",
    "\n",
    "nwlng, selat, selng, nwlat = extent.to_crs('EPSG:4326').total_bounds # Change coordinate reference system"
   ]
  },
  {
   "cell_type": "markdown",
   "metadata": {},
   "source": [
    "## Importing PurpleAir Station Data from PurpleAir API"
   ]
  },
  {
   "cell_type": "code",
   "execution_count": 4,
   "metadata": {},
   "outputs": [],
   "source": [
    "def getSensorsData(query='', api_read_key=''):\n",
    "\n",
    "    # my_url is assigned the URL we are going to send our request to.\n",
    "    url = 'https://api.purpleair.com/v1/sensors?' + query\n",
    "    \n",
    "    print('Here is the full url for the API call:\\n\\n', url)\n",
    "\n",
    "    # my_headers is assigned the context of our request we want to make. In this case\n",
    "    # we will pass through our API read key using the variable created above.\n",
    "    my_headers = {'X-API-Key':api_read_key}\n",
    "\n",
    "    # This line creates and sends the request and then assigns its response to the\n",
    "    # variable, r.\n",
    "    response = requests.get(url, headers=my_headers)\n",
    "\n",
    "    # We then return the response we received.\n",
    "    return response"
   ]
  },
  {
   "cell_type": "code",
   "execution_count": 5,
   "metadata": {},
   "outputs": [
    {
     "name": "stdout",
     "output_type": "stream",
     "text": [
      "nwlng=-93.43046973986235&nwlat=45.12326140727048&selng=-93.09304872066019&selat=44.81857616148092\n"
     ]
    }
   ],
   "source": [
    "#Set bounding strings for API parameters\n",
    "bounds_strings = [f'nwlng={nwlng}',\n",
    "                  f'nwlat={nwlat}',\n",
    "                  f'selng={selng}',\n",
    "                  f'selat={selat}']\n",
    "\n",
    "bounds_string = '&'.join(bounds_strings)\n",
    "\n",
    "print(bounds_string)"
   ]
  },
  {
   "cell_type": "code",
   "execution_count": 6,
   "metadata": {},
   "outputs": [
    {
     "name": "stdout",
     "output_type": "stream",
     "text": [
      "fields=firmware_version%2Cdate_created%2Clast_modified%2Clast_seen%2Cname%2Cuptime%2Cposition_rating%2Cchannel_state%2Cchannel_flags%2Caltitude%2Clocation_type%2Clatitude%2Clongitude\n"
     ]
    }
   ],
   "source": [
    "#Setting parameters for API\n",
    "fields = ['firmware_version','date_created','last_modified','last_seen', 'name', 'uptime','position_rating','channel_state','channel_flags','altitude',\n",
    "          'location_type','latitude', 'longitude']\n",
    "\n",
    "fields_string = 'fields=' + '%2C'.join(fields)\n",
    "\n",
    "print(fields_string)"
   ]
  },
  {
   "cell_type": "code",
   "execution_count": 7,
   "metadata": {},
   "outputs": [
    {
     "name": "stdout",
     "output_type": "stream",
     "text": [
      "fields=firmware_version%2Cdate_created%2Clast_modified%2Clast_seen%2Cname%2Cuptime%2Cposition_rating%2Cchannel_state%2Cchannel_flags%2Caltitude%2Clocation_type%2Clatitude%2Clongitude&nwlng=-93.43046973986235&nwlat=45.12326140727048&selng=-93.09304872066019&selat=44.81857616148092\n"
     ]
    }
   ],
   "source": [
    "#finalizing query for API function\n",
    "query_string = '&'.join([fields_string, bounds_string])\n",
    "\n",
    "print(query_string)"
   ]
  },
  {
   "cell_type": "code",
   "execution_count": 8,
   "metadata": {},
   "outputs": [
    {
     "name": "stdout",
     "output_type": "stream",
     "text": [
      "Here is the full url for the API call:\n",
      "\n",
      " https://api.purpleair.com/v1/sensors?fields=firmware_version%2Cdate_created%2Clast_modified%2Clast_seen%2Cname%2Cuptime%2Cposition_rating%2Cchannel_state%2Cchannel_flags%2Caltitude%2Clocation_type%2Clatitude%2Clongitude&nwlng=-93.43046973986235&nwlat=45.12326140727048&selng=-93.09304872066019&selat=44.81857616148092\n"
     ]
    }
   ],
   "source": [
    "#calling the API\n",
    "response = getSensorsData(query_string, api)"
   ]
  },
  {
   "cell_type": "code",
   "execution_count": 9,
   "metadata": {},
   "outputs": [
    {
     "data": {
      "text/plain": [
       "dict_keys(['api_version', 'time_stamp', 'data_time_stamp', 'max_age', 'firmware_default_version', 'fields', 'location_types', 'channel_states', 'channel_flags', 'data'])"
      ]
     },
     "execution_count": 9,
     "metadata": {},
     "output_type": "execute_result"
    }
   ],
   "source": [
    "response.json().keys()"
   ]
  },
  {
   "cell_type": "code",
   "execution_count": 10,
   "metadata": {},
   "outputs": [
    {
     "name": "stdout",
     "output_type": "stream",
     "text": [
      "<class 'pandas.core.frame.DataFrame'>\n",
      "RangeIndex: 95 entries, 0 to 94\n",
      "Data columns (total 14 columns):\n",
      " #   Column            Non-Null Count  Dtype \n",
      "---  ------            --------------  ----- \n",
      " 0   sensor_index      95 non-null     object\n",
      " 1   last_modified     95 non-null     object\n",
      " 2   date_created      95 non-null     object\n",
      " 3   last_seen         95 non-null     object\n",
      " 4   name              95 non-null     object\n",
      " 5   location_type     95 non-null     object\n",
      " 6   firmware_version  95 non-null     object\n",
      " 7   uptime            95 non-null     object\n",
      " 8   position_rating   95 non-null     object\n",
      " 9   latitude          95 non-null     object\n",
      " 10  longitude         95 non-null     object\n",
      " 11  altitude          95 non-null     object\n",
      " 12  channel_state     95 non-null     object\n",
      " 13  channel_flags     95 non-null     object\n",
      "dtypes: object(14)\n",
      "memory usage: 10.5+ KB\n"
     ]
    }
   ],
   "source": [
    "response_dict = response.json() # Read response as a json (dictionary)\n",
    "\n",
    "col_names = response_dict['fields']\n",
    "data = np.array(response_dict['data'])\n",
    "\n",
    "df = pd.DataFrame(data, columns = col_names)\n",
    "\n",
    "df.info()"
   ]
  },
  {
   "cell_type": "code",
   "execution_count": 11,
   "metadata": {
    "scrolled": true
   },
   "outputs": [
    {
     "data": {
      "text/html": [
       "<div>\n",
       "<style scoped>\n",
       "    .dataframe tbody tr th:only-of-type {\n",
       "        vertical-align: middle;\n",
       "    }\n",
       "\n",
       "    .dataframe tbody tr th {\n",
       "        vertical-align: top;\n",
       "    }\n",
       "\n",
       "    .dataframe thead th {\n",
       "        text-align: right;\n",
       "    }\n",
       "</style>\n",
       "<table border=\"1\" class=\"dataframe\">\n",
       "  <thead>\n",
       "    <tr style=\"text-align: right;\">\n",
       "      <th></th>\n",
       "      <th>sensor_index</th>\n",
       "      <th>last_modified</th>\n",
       "      <th>date_created</th>\n",
       "      <th>last_seen</th>\n",
       "      <th>name</th>\n",
       "      <th>location_type</th>\n",
       "      <th>firmware_version</th>\n",
       "      <th>uptime</th>\n",
       "      <th>position_rating</th>\n",
       "      <th>latitude</th>\n",
       "      <th>longitude</th>\n",
       "      <th>altitude</th>\n",
       "      <th>channel_state</th>\n",
       "      <th>channel_flags</th>\n",
       "    </tr>\n",
       "  </thead>\n",
       "  <tbody>\n",
       "    <tr>\n",
       "      <th>0</th>\n",
       "      <td>3088</td>\n",
       "      <td>1504993349</td>\n",
       "      <td>1504040633</td>\n",
       "      <td>1698938031</td>\n",
       "      <td>Howe Neighborhood</td>\n",
       "      <td>0</td>\n",
       "      <td>6.06b</td>\n",
       "      <td>22445</td>\n",
       "      <td>5</td>\n",
       "      <td>44.935818</td>\n",
       "      <td>-93.21752</td>\n",
       "      <td>833</td>\n",
       "      <td>3</td>\n",
       "      <td>1</td>\n",
       "    </tr>\n",
       "  </tbody>\n",
       "</table>\n",
       "</div>"
      ],
      "text/plain": [
       "  sensor_index last_modified date_created   last_seen               name  \\\n",
       "0         3088    1504993349   1504040633  1698938031  Howe Neighborhood   \n",
       "\n",
       "  location_type firmware_version uptime position_rating   latitude  longitude  \\\n",
       "0             0            6.06b  22445               5  44.935818  -93.21752   \n",
       "\n",
       "  altitude channel_state channel_flags  \n",
       "0      833             3             1  "
      ]
     },
     "execution_count": 11,
     "metadata": {},
     "output_type": "execute_result"
    }
   ],
   "source": [
    "df.head(1)"
   ]
  },
  {
   "cell_type": "markdown",
   "metadata": {},
   "source": [
    "### Compare with the list of Ids from City"
   ]
  },
  {
   "cell_type": "code",
   "execution_count": 12,
   "metadata": {},
   "outputs": [],
   "source": [
    "# Load the list the City provided (or any other list\n",
    "\n",
    "# sensor_info = pd.read_excel(os.path.join(datapath, 'PA IDs and indexes.xlsx')) # Load as DataFrame\n",
    "\n",
    "# ids_from_city = sensor_info['Sensor Index'].dropna().astype(int) # List from the City\n",
    "\n",
    "sensor_info = gpd.read_file(os.path.join(datapath, 'PurpleAir_Stations.geojson'))\n",
    "\n",
    "ids_from_previous_run = sensor_info.sensor_index.unique().astype(int)"
   ]
  },
  {
   "cell_type": "code",
   "execution_count": 13,
   "metadata": {},
   "outputs": [
    {
     "data": {
      "text/plain": [
       "66"
      ]
     },
     "execution_count": 13,
     "metadata": {},
     "output_type": "execute_result"
    }
   ],
   "source": [
    "len(ids_from_previous_run)"
   ]
  },
  {
   "cell_type": "code",
   "execution_count": 14,
   "metadata": {},
   "outputs": [],
   "source": [
    "# From what we just queried from PurpleAir \n",
    "# Only want the City's monitors\n",
    "\n",
    "is_city = df.name.apply(lambda x: 'CITY OF MINNEAPOLIS' in x.upper())\n",
    "\n",
    "ids_from_PurpleAir = df[is_city].sensor_index.astype(int)"
   ]
  },
  {
   "cell_type": "code",
   "execution_count": 15,
   "metadata": {},
   "outputs": [
    {
     "data": {
      "text/plain": [
       "49"
      ]
     },
     "execution_count": 15,
     "metadata": {},
     "output_type": "execute_result"
    }
   ],
   "source": [
    "len(ids_from_PurpleAir)"
   ]
  },
  {
   "cell_type": "code",
   "execution_count": 16,
   "metadata": {},
   "outputs": [],
   "source": [
    "# Now let's get the union of these two lists of ids\n",
    "\n",
    "ids_from_either = np.union1d(ids_from_previous_run, ids_from_PurpleAir)"
   ]
  },
  {
   "cell_type": "code",
   "execution_count": 17,
   "metadata": {},
   "outputs": [
    {
     "data": {
      "text/plain": [
       "66"
      ]
     },
     "execution_count": 17,
     "metadata": {},
     "output_type": "execute_result"
    }
   ],
   "source": [
    "len(ids_from_either)"
   ]
  },
  {
   "cell_type": "markdown",
   "metadata": {},
   "source": [
    "### Final PurpleAir Query"
   ]
  },
  {
   "cell_type": "code",
   "execution_count": 18,
   "metadata": {},
   "outputs": [],
   "source": [
    "# One final query for this list of ids\n",
    "\n",
    "# Get start Times\n",
    "\n",
    "sensor_string = 'show_only=' + '%2C'.join(ids_from_either.astype(str))\n",
    "\n",
    "query_string = '&'.join([fields_string+'%2Cpm2.5_10minute', sensor_string])"
   ]
  },
  {
   "cell_type": "code",
   "execution_count": 19,
   "metadata": {},
   "outputs": [
    {
     "name": "stdout",
     "output_type": "stream",
     "text": [
      "Here is the full url for the API call:\n",
      "\n",
      " https://api.purpleair.com/v1/sensors?fields=firmware_version%2Cdate_created%2Clast_modified%2Clast_seen%2Cname%2Cuptime%2Cposition_rating%2Cchannel_state%2Cchannel_flags%2Caltitude%2Clocation_type%2Clatitude%2Clongitude%2Cpm2.5_10minute&show_only=142718%2C142720%2C142724%2C142726%2C142728%2C142730%2C142732%2C142734%2C142736%2C142738%2C142744%2C142748%2C142750%2C142752%2C142756%2C142772%2C142774%2C142926%2C143214%2C143216%2C143222%2C143224%2C143226%2C143238%2C143240%2C143242%2C143246%2C143248%2C143634%2C143636%2C143648%2C143656%2C143660%2C143666%2C143668%2C143916%2C143942%2C143944%2C145202%2C145204%2C145242%2C145250%2C145454%2C145470%2C145498%2C145502%2C145504%2C145506%2C145604%2C145610%2C145614%2C145616%2C156605%2C157747%2C157757%2C157785%2C157837%2C157845%2C157861%2C157871%2C157877%2C157935%2C166459%2C168327%2C177765%2C194635\n"
     ]
    }
   ],
   "source": [
    "response = getSensorsData(query_string, api)\n",
    "\n",
    "response_dict = response.json() # Read response as a json (dictionary)\n",
    "\n",
    "col_names = response_dict['fields']\n",
    "data = np.array(response_dict['data'])\n",
    "\n",
    "sensors_df = pd.DataFrame(data, columns = col_names)"
   ]
  },
  {
   "cell_type": "markdown",
   "metadata": {},
   "source": [
    "## Cleaning PurpleAir Station Data"
   ]
  },
  {
   "cell_type": "code",
   "execution_count": 20,
   "metadata": {},
   "outputs": [
    {
     "data": {
      "text/plain": [
       "66"
      ]
     },
     "execution_count": 20,
     "metadata": {},
     "output_type": "execute_result"
    }
   ],
   "source": [
    "#find outside sensors\n",
    "df_outside = sensors_df[sensors_df.location_type == 0]\n",
    "len(df_outside)"
   ]
  },
  {
   "cell_type": "code",
   "execution_count": 21,
   "metadata": {},
   "outputs": [],
   "source": [
    "#drop the location_type now that we have filtered for outdoor sensors only\n",
    "df_stations = df_outside.drop('location_type', axis=1)"
   ]
  },
  {
   "cell_type": "code",
   "execution_count": 22,
   "metadata": {},
   "outputs": [],
   "source": [
    "#Converting UNIX date/time to pd \n",
    "\n",
    "# THESE ARE IN UTC time!!! - Need to correct this in the workflow!\n",
    "\n",
    "df_stations['last_modified'] = pd.to_datetime(df_stations['last_modified'], unit='s')\n",
    "df_stations['date_created'] = pd.to_datetime(df_stations['date_created'], unit='s')\n",
    "df_stations['last_seen'] = pd.to_datetime(df_stations['last_seen'], unit='s')"
   ]
  },
  {
   "cell_type": "code",
   "execution_count": 23,
   "metadata": {
    "scrolled": true
   },
   "outputs": [
    {
     "data": {
      "text/html": [
       "<div>\n",
       "<style scoped>\n",
       "    .dataframe tbody tr th:only-of-type {\n",
       "        vertical-align: middle;\n",
       "    }\n",
       "\n",
       "    .dataframe tbody tr th {\n",
       "        vertical-align: top;\n",
       "    }\n",
       "\n",
       "    .dataframe thead th {\n",
       "        text-align: right;\n",
       "    }\n",
       "</style>\n",
       "<table border=\"1\" class=\"dataframe\">\n",
       "  <thead>\n",
       "    <tr style=\"text-align: right;\">\n",
       "      <th></th>\n",
       "      <th>sensor_index</th>\n",
       "      <th>last_modified</th>\n",
       "      <th>date_created</th>\n",
       "      <th>last_seen</th>\n",
       "      <th>name</th>\n",
       "      <th>firmware_version</th>\n",
       "      <th>uptime</th>\n",
       "      <th>position_rating</th>\n",
       "      <th>latitude</th>\n",
       "      <th>longitude</th>\n",
       "      <th>altitude</th>\n",
       "      <th>channel_state</th>\n",
       "      <th>channel_flags</th>\n",
       "      <th>pm2.5_10minute</th>\n",
       "    </tr>\n",
       "  </thead>\n",
       "  <tbody>\n",
       "    <tr>\n",
       "      <th>0</th>\n",
       "      <td>142718</td>\n",
       "      <td>2023-08-02 18:50:17</td>\n",
       "      <td>2022-01-12 18:57:49</td>\n",
       "      <td>2023-11-02 15:13:50</td>\n",
       "      <td>City of Minneapolis Community Air Monitoring P...</td>\n",
       "      <td>7.02</td>\n",
       "      <td>8219</td>\n",
       "      <td>5</td>\n",
       "      <td>44.99631</td>\n",
       "      <td>-93.29565</td>\n",
       "      <td>857</td>\n",
       "      <td>3</td>\n",
       "      <td>0</td>\n",
       "      <td>19.2</td>\n",
       "    </tr>\n",
       "    <tr>\n",
       "      <th>1</th>\n",
       "      <td>142720</td>\n",
       "      <td>2023-08-02 18:06:36</td>\n",
       "      <td>2022-01-12 18:57:55</td>\n",
       "      <td>2023-11-02 15:14:09</td>\n",
       "      <td>City of Minneapolis Community Air Monitoring P...</td>\n",
       "      <td>7.02</td>\n",
       "      <td>28451</td>\n",
       "      <td>5</td>\n",
       "      <td>44.955555</td>\n",
       "      <td>-93.254974</td>\n",
       "      <td>850</td>\n",
       "      <td>3</td>\n",
       "      <td>0</td>\n",
       "      <td>20.2</td>\n",
       "    </tr>\n",
       "    <tr>\n",
       "      <th>2</th>\n",
       "      <td>142726</td>\n",
       "      <td>2023-02-02 17:31:06</td>\n",
       "      <td>2022-01-12 18:58:17</td>\n",
       "      <td>2023-11-02 15:13:33</td>\n",
       "      <td>City of Minneapolis Community Air Monitoring P...</td>\n",
       "      <td>7.02</td>\n",
       "      <td>4403</td>\n",
       "      <td>5</td>\n",
       "      <td>45.01507</td>\n",
       "      <td>-93.28903</td>\n",
       "      <td>889</td>\n",
       "      <td>3</td>\n",
       "      <td>0</td>\n",
       "      <td>24.6</td>\n",
       "    </tr>\n",
       "  </tbody>\n",
       "</table>\n",
       "</div>"
      ],
      "text/plain": [
       "  sensor_index       last_modified        date_created           last_seen  \\\n",
       "0       142718 2023-08-02 18:50:17 2022-01-12 18:57:49 2023-11-02 15:13:50   \n",
       "1       142720 2023-08-02 18:06:36 2022-01-12 18:57:55 2023-11-02 15:14:09   \n",
       "2       142726 2023-02-02 17:31:06 2022-01-12 18:58:17 2023-11-02 15:13:33   \n",
       "\n",
       "                                                name firmware_version uptime  \\\n",
       "0  City of Minneapolis Community Air Monitoring P...             7.02   8219   \n",
       "1  City of Minneapolis Community Air Monitoring P...             7.02  28451   \n",
       "2  City of Minneapolis Community Air Monitoring P...             7.02   4403   \n",
       "\n",
       "  position_rating   latitude  longitude altitude channel_state channel_flags  \\\n",
       "0               5   44.99631  -93.29565      857             3             0   \n",
       "1               5  44.955555 -93.254974      850             3             0   \n",
       "2               5   45.01507  -93.28903      889             3             0   \n",
       "\n",
       "  pm2.5_10minute  \n",
       "0           19.2  \n",
       "1           20.2  \n",
       "2           24.6  "
      ]
     },
     "execution_count": 23,
     "metadata": {},
     "output_type": "execute_result"
    }
   ],
   "source": [
    "df_stations.head(3)"
   ]
  },
  {
   "cell_type": "code",
   "execution_count": 25,
   "metadata": {},
   "outputs": [
    {
     "data": {
      "text/plain": [
       "datetime.datetime(2023, 11, 2, 10, 17, 28, 622332)"
      ]
     },
     "execution_count": 25,
     "metadata": {},
     "output_type": "execute_result"
    }
   ],
   "source": [
    "dt.datetime.now()"
   ]
  },
  {
   "cell_type": "code",
   "execution_count": 24,
   "metadata": {},
   "outputs": [
    {
     "name": "stdout",
     "output_type": "stream",
     "text": [
      "27\n"
     ]
    },
    {
     "data": {
      "text/html": [
       "<div>\n",
       "<style scoped>\n",
       "    .dataframe tbody tr th:only-of-type {\n",
       "        vertical-align: middle;\n",
       "    }\n",
       "\n",
       "    .dataframe tbody tr th {\n",
       "        vertical-align: top;\n",
       "    }\n",
       "\n",
       "    .dataframe thead th {\n",
       "        text-align: right;\n",
       "    }\n",
       "</style>\n",
       "<table border=\"1\" class=\"dataframe\">\n",
       "  <thead>\n",
       "    <tr style=\"text-align: right;\">\n",
       "      <th></th>\n",
       "      <th>sensor_index</th>\n",
       "      <th>channel_flags</th>\n",
       "      <th>channel_state</th>\n",
       "      <th>last_seen</th>\n",
       "      <th>name</th>\n",
       "      <th>pm25</th>\n",
       "    </tr>\n",
       "  </thead>\n",
       "  <tbody>\n",
       "    <tr>\n",
       "      <th>0</th>\n",
       "      <td>142926</td>\n",
       "      <td>0</td>\n",
       "      <td>3</td>\n",
       "      <td>2022-11-10 16:26:39</td>\n",
       "      <td>City of Minneapolis Community Air Monitoring Project 22</td>\n",
       "      <td>9.6</td>\n",
       "    </tr>\n",
       "    <tr>\n",
       "      <th>1</th>\n",
       "      <td>145504</td>\n",
       "      <td>0</td>\n",
       "      <td>3</td>\n",
       "      <td>2023-01-09 22:09:39</td>\n",
       "      <td>City of Minneapolis Community Air Monitoring Project 4</td>\n",
       "      <td>25.6</td>\n",
       "    </tr>\n",
       "    <tr>\n",
       "      <th>2</th>\n",
       "      <td>142772</td>\n",
       "      <td>0</td>\n",
       "      <td>3</td>\n",
       "      <td>2023-03-28 19:34:07</td>\n",
       "      <td>City of Minneapolis community Air Monitoring Project 31</td>\n",
       "      <td>4.4</td>\n",
       "    </tr>\n",
       "    <tr>\n",
       "      <th>3</th>\n",
       "      <td>177765</td>\n",
       "      <td>3</td>\n",
       "      <td>0</td>\n",
       "      <td>2023-03-28 19:37:14</td>\n",
       "      <td>City of Minneapolis Community Air Monitoring Project 28</td>\n",
       "      <td>None</td>\n",
       "    </tr>\n",
       "    <tr>\n",
       "      <th>4</th>\n",
       "      <td>143238</td>\n",
       "      <td>0</td>\n",
       "      <td>3</td>\n",
       "      <td>2023-04-26 20:33:55</td>\n",
       "      <td>City of Minneapolis Community Air Monitoring Project 35</td>\n",
       "      <td>5.8</td>\n",
       "    </tr>\n",
       "    <tr>\n",
       "      <th>5</th>\n",
       "      <td>142752</td>\n",
       "      <td>0</td>\n",
       "      <td>3</td>\n",
       "      <td>2023-06-22 15:19:40</td>\n",
       "      <td>City of Minneapolis Community Air Monitoring Project 40</td>\n",
       "      <td>27.0</td>\n",
       "    </tr>\n",
       "    <tr>\n",
       "      <th>6</th>\n",
       "      <td>143222</td>\n",
       "      <td>0</td>\n",
       "      <td>3</td>\n",
       "      <td>2023-06-25 04:07:54</td>\n",
       "      <td>City of Minneapolis</td>\n",
       "      <td>6.4</td>\n",
       "    </tr>\n",
       "    <tr>\n",
       "      <th>7</th>\n",
       "      <td>143944</td>\n",
       "      <td>0</td>\n",
       "      <td>3</td>\n",
       "      <td>2023-06-27 12:01:58</td>\n",
       "      <td>City of Minneapolis Community Air Monitoring Project 37</td>\n",
       "      <td>79.0</td>\n",
       "    </tr>\n",
       "    <tr>\n",
       "      <th>8</th>\n",
       "      <td>145202</td>\n",
       "      <td>0</td>\n",
       "      <td>3</td>\n",
       "      <td>2023-06-29 19:20:54</td>\n",
       "      <td>City of Minneapolis Community Air Monitoring Project 60</td>\n",
       "      <td>28.3</td>\n",
       "    </tr>\n",
       "    <tr>\n",
       "      <th>9</th>\n",
       "      <td>145610</td>\n",
       "      <td>0</td>\n",
       "      <td>3</td>\n",
       "      <td>2023-07-03 11:22:30</td>\n",
       "      <td>City of Minneapolis Community Air Monitoring Project 24</td>\n",
       "      <td>32.8</td>\n",
       "    </tr>\n",
       "    <tr>\n",
       "      <th>10</th>\n",
       "      <td>157785</td>\n",
       "      <td>0</td>\n",
       "      <td>3</td>\n",
       "      <td>2023-08-11 22:22:27</td>\n",
       "      <td>City of Minneapolis Community Air Monitoring Project 59</td>\n",
       "      <td>7.4</td>\n",
       "    </tr>\n",
       "    <tr>\n",
       "      <th>11</th>\n",
       "      <td>157837</td>\n",
       "      <td>0</td>\n",
       "      <td>3</td>\n",
       "      <td>2023-08-15 19:38:40</td>\n",
       "      <td>City of Minneapolis community Air Monitoring Project 22</td>\n",
       "      <td>2.8</td>\n",
       "    </tr>\n",
       "    <tr>\n",
       "      <th>12</th>\n",
       "      <td>157757</td>\n",
       "      <td>0</td>\n",
       "      <td>3</td>\n",
       "      <td>2023-08-24 00:26:40</td>\n",
       "      <td>City of Minneapolis Community Air Monitoring Project 3</td>\n",
       "      <td>0.0</td>\n",
       "    </tr>\n",
       "    <tr>\n",
       "      <th>13</th>\n",
       "      <td>142728</td>\n",
       "      <td>0</td>\n",
       "      <td>3</td>\n",
       "      <td>2023-09-12 17:01:52</td>\n",
       "      <td>City of Minneapolis Community Air Monitoring Project 42</td>\n",
       "      <td>3.6</td>\n",
       "    </tr>\n",
       "    <tr>\n",
       "      <th>14</th>\n",
       "      <td>142730</td>\n",
       "      <td>0</td>\n",
       "      <td>3</td>\n",
       "      <td>2023-09-25 14:18:30</td>\n",
       "      <td>City of Minneapolis Community Air Monitoring Project 13</td>\n",
       "      <td>0.0</td>\n",
       "    </tr>\n",
       "    <tr>\n",
       "      <th>15</th>\n",
       "      <td>157747</td>\n",
       "      <td>0</td>\n",
       "      <td>3</td>\n",
       "      <td>2023-10-14 18:20:05</td>\n",
       "      <td>City of Minneapolis Community Air Monitoring Project 66</td>\n",
       "      <td>8.4</td>\n",
       "    </tr>\n",
       "    <tr>\n",
       "      <th>16</th>\n",
       "      <td>194635</td>\n",
       "      <td>0</td>\n",
       "      <td>3</td>\n",
       "      <td>2023-10-17 13:54:33</td>\n",
       "      <td>City of Minneapolis Community Air Monitoring Project 3</td>\n",
       "      <td>0.0</td>\n",
       "    </tr>\n",
       "    <tr>\n",
       "      <th>17</th>\n",
       "      <td>142756</td>\n",
       "      <td>2</td>\n",
       "      <td>3</td>\n",
       "      <td>2023-10-19 16:03:33</td>\n",
       "      <td>City of Minneapolis Community Air Monitoring Project 51</td>\n",
       "      <td>16.8</td>\n",
       "    </tr>\n",
       "    <tr>\n",
       "      <th>18</th>\n",
       "      <td>142744</td>\n",
       "      <td>0</td>\n",
       "      <td>3</td>\n",
       "      <td>2023-10-27 09:35:23</td>\n",
       "      <td>City of Minneapolis Community Air Monitoring Project 49</td>\n",
       "      <td>0.2</td>\n",
       "    </tr>\n",
       "    <tr>\n",
       "      <th>19</th>\n",
       "      <td>143226</td>\n",
       "      <td>0</td>\n",
       "      <td>3</td>\n",
       "      <td>2023-11-01 01:05:32</td>\n",
       "      <td>City of Minneapolis Community Air Monitoring Project 15</td>\n",
       "      <td>21.7</td>\n",
       "    </tr>\n",
       "    <tr>\n",
       "      <th>20</th>\n",
       "      <td>145616</td>\n",
       "      <td>1</td>\n",
       "      <td>3</td>\n",
       "      <td>2023-11-02 15:13:37</td>\n",
       "      <td>City of Minneapolis Community Air Monitoring Project 52</td>\n",
       "      <td>10.6</td>\n",
       "    </tr>\n",
       "    <tr>\n",
       "      <th>21</th>\n",
       "      <td>157871</td>\n",
       "      <td>2</td>\n",
       "      <td>3</td>\n",
       "      <td>2023-11-02 15:13:40</td>\n",
       "      <td>City of Minneapolis Community Air Monitoring Project 58</td>\n",
       "      <td>19.0</td>\n",
       "    </tr>\n",
       "    <tr>\n",
       "      <th>22</th>\n",
       "      <td>166459</td>\n",
       "      <td>2</td>\n",
       "      <td>3</td>\n",
       "      <td>2023-11-02 15:13:42</td>\n",
       "      <td>City of Minneapolis Community Air Monitoring Project 67</td>\n",
       "      <td>0.0</td>\n",
       "    </tr>\n",
       "    <tr>\n",
       "      <th>23</th>\n",
       "      <td>145242</td>\n",
       "      <td>2</td>\n",
       "      <td>3</td>\n",
       "      <td>2023-11-02 15:13:53</td>\n",
       "      <td>City of Minneapolis Community Air Monitoring Project 6</td>\n",
       "      <td>25.3</td>\n",
       "    </tr>\n",
       "    <tr>\n",
       "      <th>24</th>\n",
       "      <td>157845</td>\n",
       "      <td>2</td>\n",
       "      <td>3</td>\n",
       "      <td>2023-11-02 15:14:02</td>\n",
       "      <td>City of Minneapolis Community Air Monitoring Project 63</td>\n",
       "      <td>0.0</td>\n",
       "    </tr>\n",
       "    <tr>\n",
       "      <th>25</th>\n",
       "      <td>142732</td>\n",
       "      <td>1</td>\n",
       "      <td>3</td>\n",
       "      <td>2023-11-02 15:14:44</td>\n",
       "      <td>City of Minneapolis Community Air Monitoring Project 16</td>\n",
       "      <td>0.0</td>\n",
       "    </tr>\n",
       "    <tr>\n",
       "      <th>26</th>\n",
       "      <td>145502</td>\n",
       "      <td>1</td>\n",
       "      <td>3</td>\n",
       "      <td>2023-11-02 15:14:52</td>\n",
       "      <td>City of Minneapolis Community Air Monitoring Project 5</td>\n",
       "      <td>20.0</td>\n",
       "    </tr>\n",
       "  </tbody>\n",
       "</table>\n",
       "</div>"
      ],
      "text/plain": [
       "   sensor_index channel_flags channel_state           last_seen  \\\n",
       "0        142926             0             3 2022-11-10 16:26:39   \n",
       "1        145504             0             3 2023-01-09 22:09:39   \n",
       "2        142772             0             3 2023-03-28 19:34:07   \n",
       "3        177765             3             0 2023-03-28 19:37:14   \n",
       "4        143238             0             3 2023-04-26 20:33:55   \n",
       "5        142752             0             3 2023-06-22 15:19:40   \n",
       "6        143222             0             3 2023-06-25 04:07:54   \n",
       "7        143944             0             3 2023-06-27 12:01:58   \n",
       "8        145202             0             3 2023-06-29 19:20:54   \n",
       "9        145610             0             3 2023-07-03 11:22:30   \n",
       "10       157785             0             3 2023-08-11 22:22:27   \n",
       "11       157837             0             3 2023-08-15 19:38:40   \n",
       "12       157757             0             3 2023-08-24 00:26:40   \n",
       "13       142728             0             3 2023-09-12 17:01:52   \n",
       "14       142730             0             3 2023-09-25 14:18:30   \n",
       "15       157747             0             3 2023-10-14 18:20:05   \n",
       "16       194635             0             3 2023-10-17 13:54:33   \n",
       "17       142756             2             3 2023-10-19 16:03:33   \n",
       "18       142744             0             3 2023-10-27 09:35:23   \n",
       "19       143226             0             3 2023-11-01 01:05:32   \n",
       "20       145616             1             3 2023-11-02 15:13:37   \n",
       "21       157871             2             3 2023-11-02 15:13:40   \n",
       "22       166459             2             3 2023-11-02 15:13:42   \n",
       "23       145242             2             3 2023-11-02 15:13:53   \n",
       "24       157845             2             3 2023-11-02 15:14:02   \n",
       "25       142732             1             3 2023-11-02 15:14:44   \n",
       "26       145502             1             3 2023-11-02 15:14:52   \n",
       "\n",
       "                                                       name  pm25  \n",
       "0   City of Minneapolis Community Air Monitoring Project 22   9.6  \n",
       "1    City of Minneapolis Community Air Monitoring Project 4  25.6  \n",
       "2   City of Minneapolis community Air Monitoring Project 31   4.4  \n",
       "3   City of Minneapolis Community Air Monitoring Project 28  None  \n",
       "4   City of Minneapolis Community Air Monitoring Project 35   5.8  \n",
       "5   City of Minneapolis Community Air Monitoring Project 40  27.0  \n",
       "6                                       City of Minneapolis   6.4  \n",
       "7   City of Minneapolis Community Air Monitoring Project 37  79.0  \n",
       "8   City of Minneapolis Community Air Monitoring Project 60  28.3  \n",
       "9   City of Minneapolis Community Air Monitoring Project 24  32.8  \n",
       "10  City of Minneapolis Community Air Monitoring Project 59   7.4  \n",
       "11  City of Minneapolis community Air Monitoring Project 22   2.8  \n",
       "12   City of Minneapolis Community Air Monitoring Project 3   0.0  \n",
       "13  City of Minneapolis Community Air Monitoring Project 42   3.6  \n",
       "14  City of Minneapolis Community Air Monitoring Project 13   0.0  \n",
       "15  City of Minneapolis Community Air Monitoring Project 66   8.4  \n",
       "16   City of Minneapolis Community Air Monitoring Project 3   0.0  \n",
       "17  City of Minneapolis Community Air Monitoring Project 51  16.8  \n",
       "18  City of Minneapolis Community Air Monitoring Project 49   0.2  \n",
       "19  City of Minneapolis Community Air Monitoring Project 15  21.7  \n",
       "20  City of Minneapolis Community Air Monitoring Project 52  10.6  \n",
       "21  City of Minneapolis Community Air Monitoring Project 58  19.0  \n",
       "22  City of Minneapolis Community Air Monitoring Project 67   0.0  \n",
       "23   City of Minneapolis Community Air Monitoring Project 6  25.3  \n",
       "24  City of Minneapolis Community Air Monitoring Project 63   0.0  \n",
       "25  City of Minneapolis Community Air Monitoring Project 16   0.0  \n",
       "26   City of Minneapolis Community Air Monitoring Project 5  20.0  "
      ]
     },
     "execution_count": 24,
     "metadata": {},
     "output_type": "execute_result"
    }
   ],
   "source": [
    "# Sensor Flags\n",
    "\n",
    "# Key\n",
    "# Channel State -  0 = No PM, 3 = Both On\n",
    "# Channel Flags - 0 = Normal, 1 = A Downgraded, 2 - B Downgraded, 3 - Both Downgraded\n",
    "\n",
    "pd.set_option('display.max_colwidth', None)\n",
    "\n",
    "df = df_stations.rename(columns = {'pm2.5_10minute':'pm25'})\n",
    "\n",
    "\n",
    "flagged = (df.channel_flags != 0) | (df.channel_state == 1) | (df.last_seen < dt.datetime.now())\n",
    "\n",
    "flagged_sensors = df[flagged][['sensor_index', \n",
    "                               'channel_flags', \n",
    "                               'channel_state',\n",
    "                                'last_seen',\n",
    "                               'name', 'pm25']]\n",
    "\n",
    "not_flagged_sensors = df[~flagged][['sensor_index', \n",
    "                               'channel_flags',\n",
    "                               'channel_state',\n",
    "                                'last_seen',\n",
    "                               'name', 'pm25']]\n",
    "\n",
    "print(len(flagged_sensors))\n",
    "\n",
    "flagged_sensors.sort_values('last_seen').reset_index(drop=True)#.to_csv('flagged_sensors.csv')"
   ]
  },
  {
   "cell_type": "code",
   "execution_count": 119,
   "metadata": {},
   "outputs": [],
   "source": [
    "# Save as CSV\n",
    "\n",
    "df_stations.to_csv(os.path.join(datapath, 'PurpleAir_Stations.csv'))\n",
    "\n",
    "# Save as geojson\n",
    "\n",
    "gdf_stations = gpd.GeoDataFrame(df_stations, \n",
    "                                geometry = gpd.points_from_xy(\n",
    "                                    df_stations.longitude,\n",
    "                                    df_stations.latitude,\n",
    "                                    crs = 'EPSG:4326')\n",
    "                               ).to_crs('EPSG:26915')\n",
    "\n",
    "cols_for_db = ['sensor_index'] + fields[:-3] + ['geometry']\n",
    "\n",
    "sorted_gdf = gdf_stations[cols_for_db]\n",
    "\n",
    "sorted_gdf.to_file(os.path.join(datapath, 'PurpleAir_Stations.geojson'))"
   ]
  },
  {
   "cell_type": "markdown",
   "metadata": {},
   "source": [
    "## Insert Data into SQL Table - Not Quite Done\n",
    "\n",
    "This doesn't check to see if the sensors are already in the database"
   ]
  },
  {
   "cell_type": "code",
   "execution_count": 33,
   "metadata": {},
   "outputs": [
    {
     "data": {
      "text/plain": [
       "['sensor_index',\n",
       " 'firmware_version',\n",
       " 'date_created',\n",
       " 'last_modified',\n",
       " 'last_seen',\n",
       " 'name',\n",
       " 'uptime',\n",
       " 'position_rating',\n",
       " 'channel_state',\n",
       " 'channel_flags',\n",
       " 'altitude',\n",
       " 'geometry']"
      ]
     },
     "execution_count": 33,
     "metadata": {},
     "output_type": "execute_result"
    }
   ],
   "source": [
    "cols_for_db"
   ]
  },
  {
   "cell_type": "code",
   "execution_count": 34,
   "metadata": {},
   "outputs": [],
   "source": [
    "# Sort the df and correct values\n",
    "\n",
    "sorted_df = sorted_gdf.drop('geometry', axis=1).copy()\n",
    "\n",
    "sorted_df['wkt'] = sorted_gdf.geometry.apply(lambda x: x.wkt)\n",
    "\n",
    "sorted_df['date_created'] = sorted_gdf.date_created.apply(lambda x : x.strftime('%Y-%m-%d %H:%M:%S'))\n",
    "sorted_df['last_modified'] = sorted_gdf.last_modified.apply(lambda x : x.strftime('%Y-%m-%d %H:%M:%S'))\n",
    "sorted_df['last_seen'] = sorted_gdf.last_seen.apply(lambda x : x.strftime('%Y-%m-%d %H:%M:%S'))\n",
    "\n",
    "# Replace non-numeric nans\n",
    "\n",
    "# sorted_df['firmware_version'] = sorted_df['firmware_version'].fillna(value = 'a', inplace = True)\n",
    "# sorted_df['firmware_version'] = sorted_df['firmware_version'].fillna(value = 'NaN', inplace = True)"
   ]
  },
  {
   "cell_type": "code",
   "execution_count": 35,
   "metadata": {},
   "outputs": [
    {
     "data": {
      "text/html": [
       "<div>\n",
       "<style scoped>\n",
       "    .dataframe tbody tr th:only-of-type {\n",
       "        vertical-align: middle;\n",
       "    }\n",
       "\n",
       "    .dataframe tbody tr th {\n",
       "        vertical-align: top;\n",
       "    }\n",
       "\n",
       "    .dataframe thead th {\n",
       "        text-align: right;\n",
       "    }\n",
       "</style>\n",
       "<table border=\"1\" class=\"dataframe\">\n",
       "  <thead>\n",
       "    <tr style=\"text-align: right;\">\n",
       "      <th></th>\n",
       "      <th>sensor_index</th>\n",
       "      <th>firmware_version</th>\n",
       "      <th>date_created</th>\n",
       "      <th>last_modified</th>\n",
       "      <th>last_seen</th>\n",
       "      <th>name</th>\n",
       "      <th>uptime</th>\n",
       "      <th>position_rating</th>\n",
       "      <th>channel_state</th>\n",
       "      <th>channel_flags</th>\n",
       "      <th>altitude</th>\n",
       "      <th>wkt</th>\n",
       "    </tr>\n",
       "  </thead>\n",
       "  <tbody>\n",
       "    <tr>\n",
       "      <th>0</th>\n",
       "      <td>142718</td>\n",
       "      <td>7.02</td>\n",
       "      <td>2022-01-12 18:57:49</td>\n",
       "      <td>2023-08-02 18:50:17</td>\n",
       "      <td>2023-10-17 22:30:38</td>\n",
       "      <td>City of Minneapolis Community Air Monitoring P...</td>\n",
       "      <td>69679</td>\n",
       "      <td>5</td>\n",
       "      <td>3</td>\n",
       "      <td>0</td>\n",
       "      <td>857</td>\n",
       "      <td>POINT (476696.84844637447 4982582.8198003275)</td>\n",
       "    </tr>\n",
       "    <tr>\n",
       "      <th>1</th>\n",
       "      <td>142720</td>\n",
       "      <td>7.02</td>\n",
       "      <td>2022-01-12 18:57:55</td>\n",
       "      <td>2023-08-02 18:06:36</td>\n",
       "      <td>2023-10-17 22:31:05</td>\n",
       "      <td>City of Minneapolis Community Air Monitoring P...</td>\n",
       "      <td>5848</td>\n",
       "      <td>5</td>\n",
       "      <td>3</td>\n",
       "      <td>0</td>\n",
       "      <td>850</td>\n",
       "      <td>POINT (479888.6697801179 4978044.582460884)</td>\n",
       "    </tr>\n",
       "    <tr>\n",
       "      <th>2</th>\n",
       "      <td>142726</td>\n",
       "      <td>7.02</td>\n",
       "      <td>2022-01-12 18:58:17</td>\n",
       "      <td>2023-02-02 17:31:06</td>\n",
       "      <td>2023-10-04 14:56:05</td>\n",
       "      <td>City of Minneapolis Community Air Monitoring P...</td>\n",
       "      <td>2</td>\n",
       "      <td>5</td>\n",
       "      <td>3</td>\n",
       "      <td>0</td>\n",
       "      <td>889</td>\n",
       "      <td>POINT (477226.07726585865 4984664.938670933)</td>\n",
       "    </tr>\n",
       "    <tr>\n",
       "      <th>3</th>\n",
       "      <td>142724</td>\n",
       "      <td>7.02</td>\n",
       "      <td>2022-01-12 18:58:09</td>\n",
       "      <td>2023-08-02 16:12:05</td>\n",
       "      <td>2023-10-17 22:29:51</td>\n",
       "      <td>City of Minneapolis Community Air Monitoring P...</td>\n",
       "      <td>1690</td>\n",
       "      <td>5</td>\n",
       "      <td>3</td>\n",
       "      <td>0</td>\n",
       "      <td>859</td>\n",
       "      <td>POINT (480783.00497330126 4976062.035271977)</td>\n",
       "    </tr>\n",
       "    <tr>\n",
       "      <th>4</th>\n",
       "      <td>142730</td>\n",
       "      <td>7.02</td>\n",
       "      <td>2022-01-12 18:58:36</td>\n",
       "      <td>2023-08-02 15:41:14</td>\n",
       "      <td>2023-09-25 14:18:30</td>\n",
       "      <td>City of Minneapolis Community Air Monitoring P...</td>\n",
       "      <td>816</td>\n",
       "      <td>5</td>\n",
       "      <td>3</td>\n",
       "      <td>0</td>\n",
       "      <td>858</td>\n",
       "      <td>POINT (476695.09256082535 4982102.367948439)</td>\n",
       "    </tr>\n",
       "  </tbody>\n",
       "</table>\n",
       "</div>"
      ],
      "text/plain": [
       "  sensor_index firmware_version         date_created        last_modified  \\\n",
       "0       142718             7.02  2022-01-12 18:57:49  2023-08-02 18:50:17   \n",
       "1       142720             7.02  2022-01-12 18:57:55  2023-08-02 18:06:36   \n",
       "2       142726             7.02  2022-01-12 18:58:17  2023-02-02 17:31:06   \n",
       "3       142724             7.02  2022-01-12 18:58:09  2023-08-02 16:12:05   \n",
       "4       142730             7.02  2022-01-12 18:58:36  2023-08-02 15:41:14   \n",
       "\n",
       "             last_seen                                               name  \\\n",
       "0  2023-10-17 22:30:38  City of Minneapolis Community Air Monitoring P...   \n",
       "1  2023-10-17 22:31:05  City of Minneapolis Community Air Monitoring P...   \n",
       "2  2023-10-04 14:56:05  City of Minneapolis Community Air Monitoring P...   \n",
       "3  2023-10-17 22:29:51  City of Minneapolis Community Air Monitoring P...   \n",
       "4  2023-09-25 14:18:30  City of Minneapolis Community Air Monitoring P...   \n",
       "\n",
       "  uptime position_rating channel_state channel_flags altitude  \\\n",
       "0  69679               5             3             0      857   \n",
       "1   5848               5             3             0      850   \n",
       "2      2               5             3             0      889   \n",
       "3   1690               5             3             0      859   \n",
       "4    816               5             3             0      858   \n",
       "\n",
       "                                             wkt  \n",
       "0  POINT (476696.84844637447 4982582.8198003275)  \n",
       "1    POINT (479888.6697801179 4978044.582460884)  \n",
       "2   POINT (477226.07726585865 4984664.938670933)  \n",
       "3   POINT (480783.00497330126 4976062.035271977)  \n",
       "4   POINT (476695.09256082535 4982102.367948439)  "
      ]
     },
     "execution_count": 35,
     "metadata": {},
     "output_type": "execute_result"
    }
   ],
   "source": [
    "sorted_df.head()"
   ]
  },
  {
   "cell_type": "code",
   "execution_count": 28,
   "metadata": {},
   "outputs": [],
   "source": [
    "## Database credentials\n",
    "\n",
    "creds = [os.getenv('DB_NAME'),\n",
    "         os.getenv('DB_USER'),\n",
    "         os.getenv('DB_PASS'),\n",
    "         os.getenv('DB_PORT'),\n",
    "         os.getenv('DB_HOST')\n",
    "        ]\n",
    "\n",
    "pg_connection_dict = dict(zip(['dbname', 'user', 'password', 'port', 'host'], creds)) "
   ]
  },
  {
   "cell_type": "code",
   "execution_count": 31,
   "metadata": {},
   "outputs": [],
   "source": [
    "# Connect to PostGIS Database\n",
    "\n",
    "conn = psycopg2.connect(**pg_connection_dict)\n",
    "cur = conn.cursor()\n",
    "\n",
    "\n",
    "# iterate over the dataframe and insert each row into the database using a SQL INSERT statement\n",
    "\n",
    "for index, row in sorted_df.copy().iterrows():\n",
    "\n",
    "    q1 = sql.SQL('INSERT INTO \"PurpleAir Stations\" ({}) VALUES ({},{});').format(\n",
    "     sql.SQL(', ').join(map(sql.Identifier, cols_for_db)),\n",
    "     sql.SQL(', ').join(sql.Placeholder() * (len(cols_for_db)-1)),\n",
    "     sql.SQL('ST_Transform(ST_SetSRID(ST_GeomFromText(%s), 26915),4326)::geometry'))\n",
    "    # print(q1.as_string(conn))\n",
    "    # print(row)\n",
    "    # break\n",
    "    \n",
    "    cur.execute(q1.as_string(conn),\n",
    "        (list(row.values))\n",
    "        )\n",
    "    # Commit command\n",
    "\n",
    "    conn.commit()\n",
    "\n",
    "# Close the cursor and connection\n",
    "cur.close()\n",
    "conn.close()"
   ]
  }
 ],
 "metadata": {
  "kernelspec": {
   "display_name": "Python 3 (ipykernel)",
   "language": "python",
   "name": "python3"
  },
  "language_info": {
   "codemirror_mode": {
    "name": "ipython",
    "version": 3
   },
   "file_extension": ".py",
   "mimetype": "text/x-python",
   "name": "python",
   "nbconvert_exporter": "python",
   "pygments_lexer": "ipython3",
   "version": "3.10.12"
  },
  "vscode": {
   "interpreter": {
    "hash": "eccf50a1291cb678adb751fb07cc0cb3ec85c824e49e2e3981e74f6a0155d408"
   }
  },
  "widgets": {
   "application/vnd.jupyter.widget-state+json": {
    "state": {},
    "version_major": 2,
    "version_minor": 0
   }
  }
 },
 "nbformat": 4,
 "nbformat_minor": 4
}
