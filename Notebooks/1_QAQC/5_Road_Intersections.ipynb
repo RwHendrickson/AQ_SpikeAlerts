{
 "cells": [
  {
   "cell_type": "markdown",
   "id": "02933b05",
   "metadata": {},
   "source": [
    "# Average Annual Daily Traffic (Current)\n",
    "\n",
    "Minnesota Department of Transport (MnDoT)\n",
    "\n",
    "Output Coordinate Reference System: UTM 15N - EPSG:26915\n",
    "\n",
    "Source: https://gisdata.mn.gov/dataset/trans-aadt-traffic-segments\n",
    "\n",
    "Metadata: https://resources.gisdata.mn.gov/pub/gdrs/data/pub/us_mn_state_dot/trans_aadt_traffic_segments/metadata/metadata.html"
   ]
  },
  {
   "cell_type": "code",
   "execution_count": 31,
   "id": "b3a0d545",
   "metadata": {},
   "outputs": [],
   "source": [
    "### Import Libraries\n",
    "\n",
    "# File manipulation\n",
    "\n",
    "import os # For working with Operating System\n",
    "import urllib # For accessing websites\n",
    "import zipfile # For extracting from Zipfiles\n",
    "from io import BytesIO # For reading bytes objects\n",
    "\n",
    "import psycopg2\n",
    "from psycopg2 import sql, extras\n",
    "\n",
    "# Analysis\n",
    "\n",
    "import numpy as np # For working with Arrays\n",
    "import pandas as pd # Data Manipulation\n",
    "import geopandas as gpd\n",
    "\n",
    "# Get CWD\n",
    "\n",
    "cwd = os.getcwd() # This is a global variable for where the notebook is (must change if running in arcpro)"
   ]
  },
  {
   "cell_type": "code",
   "execution_count": 2,
   "id": "9b5a71dc-ef83-4880-a0da-89a24dd1134b",
   "metadata": {},
   "outputs": [],
   "source": [
    "# Load necessary data\n",
    "\n",
    "datapath = os.path.join('..', '..', 'Data')\n",
    "\n",
    "aadt_for_db = gpd.read_file(os.path.join(datapath, 'MNDOT_AADT.geojson'))"
   ]
  },
  {
   "cell_type": "code",
   "execution_count": 3,
   "id": "988d693b-5f44-4a36-9d0f-40c7d5cf280c",
   "metadata": {},
   "outputs": [],
   "source": [
    "# Get the list of important street names\n",
    "\n",
    "# Narrow by streets with names that have high volume\n",
    "\n",
    "# Remove Nans in aadt_for_db\n",
    "\n",
    "no_nan_df = aadt_for_db.dropna()\n",
    "\n",
    "# Dissolve by route_label\n",
    "\n",
    "grouped_df = no_nan_df.dissolve(by='ROUTE_LABEL', aggfunc={'STREET_NAME':'unique',\n",
    "                                                            'CURRENT_VOLUME':'mean'}).reset_index()\n",
    "# Select high volume intersections with names\n",
    "select_df = grouped_df[(grouped_df.CURRENT_VOLUME > 1000)]\n",
    "\n",
    "important_street_names = select_df.STREET_NAME.explode().unique()"
   ]
  },
  {
   "cell_type": "code",
   "execution_count": 4,
   "id": "31bab823-b5b9-4f45-80ce-89ac59ffd9f0",
   "metadata": {},
   "outputs": [],
   "source": [
    "# Select the streets from above and that have linestrings (not multilinestrings) in their geometry\n",
    "\n",
    "focus_df = aadt_for_db[(aadt_for_db.STREET_NAME.isin(important_street_names))&\n",
    "                        (aadt_for_db.geometry.type != 'MultiLineString')].copy() "
   ]
  },
  {
   "cell_type": "code",
   "execution_count": 5,
   "id": "8b50757f-9646-48b3-aa8e-f6e76536ecc0",
   "metadata": {},
   "outputs": [],
   "source": [
    "# Get the line trend (EastWest or NorthSouth) of each\n",
    "\n",
    "def get_linetrend(geom):\n",
    "    '''This looks at the first and last points in a UTM geometry linestring \n",
    "    and says if it trends more North South (NS) or East West (EW)\n",
    "    '''\n",
    "    \n",
    "    coords = list(geom.coords)\n",
    "\n",
    "    first_coord = coords[0]\n",
    "    last_coord = coords[-1]\n",
    "\n",
    "    ns_trend = abs(first_coord[1] - last_coord[1])\n",
    "\n",
    "    ew_trend = abs(first_coord[0] - last_coord[0])\n",
    "\n",
    "    if ns_trend > ew_trend:\n",
    "        result = 'NS'\n",
    "    else:\n",
    "        result = 'EW'\n",
    "\n",
    "    return result\n",
    "\n",
    "focus_df['linetrend'] = focus_df.geometry.apply(lambda x: get_linetrend(x))"
   ]
  },
  {
   "cell_type": "code",
   "execution_count": 6,
   "id": "6bc588e7-0932-463c-90d0-91da23a73887",
   "metadata": {},
   "outputs": [],
   "source": [
    "# Get all intersections of roads\n",
    "\n",
    "# Cross join - https://gis.stackexchange.com/questions/439723/implementing-polygon-self-intersection-in-python\n",
    "\n",
    "focus_df['id'] = np.arange(focus_df.shape[0]) #Create an id column\n",
    "\n",
    "cross = pd.merge(left=focus_df, right=focus_df, how='cross') #Cross join the dataframe to itself\n",
    "\n",
    "cross = cross.loc[cross['id_x'] < cross['id_y']] #Remove self joins\n",
    "\n",
    "cross = cross.loc[cross.geometry_x.intersects(cross.geometry_y)] #Select only polygons intersecting\n",
    "\n",
    "cross['inter'] = cross.geometry_x.intersection(cross.geometry_y) #Intersect them\n",
    "\n",
    "cross = cross.set_geometry('inter') #The error was here. I thought set_geometry was inplace, but it is returning the dataframe\n",
    "\n",
    "cross = cross[[column for column in cross.columns if 'geom' not in column]] #Drop old geometries"
   ]
  },
  {
   "cell_type": "code",
   "execution_count": 7,
   "id": "125852df-cc56-4136-95db-2e5bf72a2960",
   "metadata": {
    "scrolled": true
   },
   "outputs": [
    {
     "data": {
      "text/html": [
       "<div>\n",
       "<style scoped>\n",
       "    .dataframe tbody tr th:only-of-type {\n",
       "        vertical-align: middle;\n",
       "    }\n",
       "\n",
       "    .dataframe tbody tr th {\n",
       "        vertical-align: top;\n",
       "    }\n",
       "\n",
       "    .dataframe thead th {\n",
       "        text-align: right;\n",
       "    }\n",
       "</style>\n",
       "<table border=\"1\" class=\"dataframe\">\n",
       "  <thead>\n",
       "    <tr style=\"text-align: right;\">\n",
       "      <th></th>\n",
       "      <th>NS_cross_street</th>\n",
       "      <th>EW_cross_street</th>\n",
       "      <th>inter</th>\n",
       "    </tr>\n",
       "  </thead>\n",
       "  <tbody>\n",
       "    <tr>\n",
       "      <th>0</th>\n",
       "      <td>Nicollet Ave S</td>\n",
       "      <td>W 61st St</td>\n",
       "      <td>POINT (478042.278 4971026.506)</td>\n",
       "    </tr>\n",
       "    <tr>\n",
       "      <th>1</th>\n",
       "      <td>Lyndale Ave S</td>\n",
       "      <td>W 61st St</td>\n",
       "      <td>POINT (477234.219 4971031.999)</td>\n",
       "    </tr>\n",
       "    <tr>\n",
       "      <th>2</th>\n",
       "      <td>Lyndale Ave S</td>\n",
       "      <td>W 61st St</td>\n",
       "      <td>POINT (477234.219 4971031.999)</td>\n",
       "    </tr>\n",
       "    <tr>\n",
       "      <th>3</th>\n",
       "      <td>Nicollet Ave S</td>\n",
       "      <td>W 61st St</td>\n",
       "      <td>POINT (478042.278 4971026.506)</td>\n",
       "    </tr>\n",
       "    <tr>\n",
       "      <th>4</th>\n",
       "      <td>Portland Ave S</td>\n",
       "      <td>E 60th St</td>\n",
       "      <td>POINT (478860.281 4971245.500)</td>\n",
       "    </tr>\n",
       "    <tr>\n",
       "      <th>...</th>\n",
       "      <td>...</td>\n",
       "      <td>...</td>\n",
       "      <td>...</td>\n",
       "    </tr>\n",
       "    <tr>\n",
       "      <th>1307</th>\n",
       "      <td>46th Ave S</td>\n",
       "      <td>E 38th St</td>\n",
       "      <td>POINT (483613.351 4975675.471)</td>\n",
       "    </tr>\n",
       "    <tr>\n",
       "      <th>1308</th>\n",
       "      <td>46th Ave S</td>\n",
       "      <td>E 38th St</td>\n",
       "      <td>POINT (483613.351 4975675.471)</td>\n",
       "    </tr>\n",
       "    <tr>\n",
       "      <th>1309</th>\n",
       "      <td>W River Pkwy</td>\n",
       "      <td>E 38th St</td>\n",
       "      <td>POINT (483980.374 4975676.203)</td>\n",
       "    </tr>\n",
       "    <tr>\n",
       "      <th>1310</th>\n",
       "      <td>46th Ave S</td>\n",
       "      <td>E Lake St</td>\n",
       "      <td>POINT (483620.876 4977236.500)</td>\n",
       "    </tr>\n",
       "    <tr>\n",
       "      <th>1311</th>\n",
       "      <td>W River Pkwy</td>\n",
       "      <td>E Lake St</td>\n",
       "      <td>POINT (483818.242 4977234.735)</td>\n",
       "    </tr>\n",
       "  </tbody>\n",
       "</table>\n",
       "<p>1312 rows × 3 columns</p>\n",
       "</div>"
      ],
      "text/plain": [
       "     NS_cross_street EW_cross_street                           inter\n",
       "0     Nicollet Ave S       W 61st St  POINT (478042.278 4971026.506)\n",
       "1      Lyndale Ave S       W 61st St  POINT (477234.219 4971031.999)\n",
       "2      Lyndale Ave S       W 61st St  POINT (477234.219 4971031.999)\n",
       "3     Nicollet Ave S       W 61st St  POINT (478042.278 4971026.506)\n",
       "4     Portland Ave S       E 60th St  POINT (478860.281 4971245.500)\n",
       "...              ...             ...                             ...\n",
       "1307      46th Ave S       E 38th St  POINT (483613.351 4975675.471)\n",
       "1308      46th Ave S       E 38th St  POINT (483613.351 4975675.471)\n",
       "1309    W River Pkwy       E 38th St  POINT (483980.374 4975676.203)\n",
       "1310      46th Ave S       E Lake St  POINT (483620.876 4977236.500)\n",
       "1311    W River Pkwy       E Lake St  POINT (483818.242 4977234.735)\n",
       "\n",
       "[1312 rows x 3 columns]"
      ]
     },
     "execution_count": 7,
     "metadata": {},
     "output_type": "execute_result"
    }
   ],
   "source": [
    "# Now to find the NS and EW cross streets\n",
    "\n",
    "cross['NS_cross_street'] = None\n",
    "cross['EW_cross_street'] = None\n",
    "\n",
    "for i, row in cross.iterrows():\n",
    "\n",
    "    # Get NS cross street\n",
    "\n",
    "    if row.linetrend_x == 'NS':\n",
    "        cross.loc[i, 'NS_cross_street'] = row.STREET_NAME_x\n",
    "    elif row.linetrend_y == 'NS': \n",
    "        cross.loc[i, 'NS_cross_street'] = row.STREET_NAME_y\n",
    "\n",
    "    # Get EW cross street\n",
    "\n",
    "    if row.linetrend_x == 'EW':\n",
    "        cross.loc[i, 'EW_cross_street'] = row.STREET_NAME_x\n",
    "    elif row.linetrend_y == 'EW': \n",
    "        cross.loc[i, 'EW_cross_street'] = row.STREET_NAME_y\n",
    "\n",
    "# The final dataframe?\n",
    "\n",
    "intersections_df = cross[['NS_cross_street', 'EW_cross_street', 'inter']].dropna().copy().reset_index(drop=True)\n",
    "\n",
    "intersections_df"
   ]
  },
  {
   "cell_type": "code",
   "execution_count": 23,
   "id": "f597b59e-49bc-46ba-adca-e0013075d422",
   "metadata": {},
   "outputs": [],
   "source": [
    "# Drop duplicated cross streets\n",
    "\n",
    "is_duplicated = intersections_df[['NS_cross_street', 'EW_cross_street']].duplicated(keep = 'first')"
   ]
  },
  {
   "cell_type": "code",
   "execution_count": 34,
   "id": "ceb0d03c-2d4b-4a76-94d9-35a0616a99a1",
   "metadata": {
    "scrolled": true
   },
   "outputs": [
    {
     "data": {
      "text/plain": [
       "<Axes: >"
      ]
     },
     "execution_count": 34,
     "metadata": {},
     "output_type": "execute_result"
    },
    {
     "data": {
      "image/png": "[encoded data removed]",
      "text/plain": [
       "<Figure size 640x480 with 1 Axes>"
      ]
     },
     "metadata": {},
     "output_type": "display_data"
    }
   ],
   "source": [
    "# Looks like good coverage\n",
    "\n",
    "intersections_df_no_duplicates = intersections_df[~is_duplicated]\n",
    "\n",
    "intersections_df_no_duplicates.plot()"
   ]
  },
  {
   "cell_type": "code",
   "execution_count": 64,
   "id": "f41df125-8888-439c-a185-eee9490e69c0",
   "metadata": {},
   "outputs": [],
   "source": [
    "# Get nearby sensors\n",
    "\n",
    "# Definitions\n",
    "\n",
    "def Get_nearby_sensors(target_geom, sensors_df, distance):\n",
    "    ''' This function will return all sensor indices within the distance (meters) of the target\n",
    "    '''\n",
    "\n",
    "    # Get geometries of targets and sources \n",
    "\n",
    "    sensors_geo = sensors_df.geometry\n",
    "\n",
    "    target_buffer = target_geom.buffer(distance)\n",
    "\n",
    "    is_within = sensors_geo.within(target_buffer)\n",
    "\n",
    "    return sensors_df[is_within].sensor_index\n",
    "\n",
    "# Load sensors\n",
    "\n",
    "sensors_df = gpd.read_file(os.path.join(datapath, 'PurpleAir_Stations.geojson'))\n",
    "\n",
    "# Iterate through to find nearby sensors\n",
    "\n",
    "nearby_df = intersections_df_no_duplicates.copy()# .drop(intersections_df.columns, axis = 1)\n",
    "\n",
    "nearby_df['nearby_sensors'] = None\n",
    "\n",
    "for i, row in nearby_df.iterrows():\n",
    "\n",
    "    target_geom = row.inter\n",
    "\n",
    "    sensor_ids = Get_nearby_sensors(target_geom, sensors_df, 2000)\n",
    "    \n",
    "    nearby_df.loc[i, 'nearby_sensors'] = str(sensor_ids.tolist())"
   ]
  },
  {
   "cell_type": "code",
   "execution_count": 62,
   "id": "f18d493c-e5ac-4efa-b3be-e361b5f774d9",
   "metadata": {
    "scrolled": true
   },
   "outputs": [],
   "source": [
    "# Let's Save that locally\n",
    "\n",
    "nearby_df.to_file(os.path.join(datapath, 'Road_Intersections.geojson'))"
   ]
  },
  {
   "cell_type": "markdown",
   "id": "35d99235-b390-4ff9-a6c4-10d80580a5aa",
   "metadata": {},
   "source": [
    "# Upload to DB"
   ]
  },
  {
   "cell_type": "code",
   "execution_count": 65,
   "id": "52fd218e-075c-49e2-b6ae-378fe2866814",
   "metadata": {},
   "outputs": [],
   "source": [
    "# Convert strings of lists into lists of integers\n",
    "\n",
    "df_for_db = nearby_df.copy()\n",
    "\n",
    "def Convert_stringlist_into_integerlist(stringlist):\n",
    "\n",
    "    # Separate\n",
    "\n",
    "    split_list = stringlist[2:-2].split(\"', '\")\n",
    "    \n",
    "    if len(split_list[0]) > 0: # If the first value is not an empty string\n",
    "        intlist = [int(val) for val in split_list]\n",
    "    else:\n",
    "        intlist = []\n",
    "\n",
    "    return intlist\n",
    "\n",
    "df_for_db['nearby_sensors'] = df_for_db['nearby_sensors'].apply(lambda x: Convert_stringlist_into_integerlist(x))"
   ]
  },
  {
   "cell_type": "code",
   "execution_count": 68,
   "id": "48927e49-2583-42ad-9412-daefd6d698af",
   "metadata": {},
   "outputs": [],
   "source": [
    "# Correct column types\n",
    "\n",
    "sorted_df = df_for_db.drop('inter', axis=1).copy()\n",
    "\n",
    "sorted_df['wkt'] = df_for_db.inter.apply(lambda x: x.wkt)\n",
    "\n",
    "cols_for_db = list(df_for_db.columns[:-2]) + ['nearby_sensors', 'geometry']"
   ]
  },
  {
   "cell_type": "code",
   "execution_count": 83,
   "id": "fcb6866a-0d73-4517-819b-4c99a2038571",
   "metadata": {},
   "outputs": [],
   "source": [
    "# Upload to Database\n",
    "\n",
    "# Get credentials\n",
    "\n",
    "cred_pth = os.path.join(os.getcwd(), '..', '..', 'Scripts', 'database', 'db_credentials.txt')\n",
    "\n",
    "with open(cred_pth, 'r') as f:\n",
    "    \n",
    "    creds = f.readlines()[0].rstrip('\\n').split(', ')\n",
    "    \n",
    "# Connect to PostGIS Database\n",
    "\n",
    "pg_connection_dict = dict(zip(['dbname', 'user', 'password', 'port', 'host'], creds))\n",
    "\n",
    "conn = psycopg2.connect(**pg_connection_dict)"
   ]
  },
  {
   "cell_type": "code",
   "execution_count": 84,
   "id": "04011bd8-5ebc-4889-a765-0b399d42313f",
   "metadata": {},
   "outputs": [],
   "source": [
    "# Create Cursor for commands\n",
    "\n",
    "cur = conn.cursor()\n",
    "\n",
    "\n",
    "for index, row in sorted_df.iterrows():\n",
    "    \n",
    "    # This is really a great way to insert a lot of data\n",
    "    \n",
    "    q1 = sql.SQL('INSERT INTO \"Road Intersections\" ({}) VALUES ({},{});').format(\n",
    "     sql.SQL(', ').join(map(sql.Identifier, cols_for_db)),\n",
    "     sql.SQL(', ').join(sql.Placeholder() * (len(cols_for_db)-1)),\n",
    "     # sql.SQL('%s'),\n",
    "     sql.SQL('ST_Transform(ST_SetSRID(ST_GeomFromText(%s), 26915),4326)::geometry'))\n",
    "#     print(q1.as_string(conn))\n",
    "#     break\n",
    "\n",
    "    cur.execute(q1.as_string(conn),\n",
    "        (list(row.values))\n",
    "        )\n",
    "    # Commit command\n",
    "\n",
    "    conn.commit()\n",
    "\n",
    "# Close cursor\n",
    "\n",
    "cur.close()\n",
    "\n",
    "# Close connection\n",
    "\n",
    "conn.close()"
   ]
  }
 ],
 "metadata": {
  "kernelspec": {
   "display_name": "Python 3 (ipykernel)",
   "language": "python",
   "name": "python3"
  },
  "language_info": {
   "codemirror_mode": {
    "name": "ipython",
    "version": 3
   },
   "file_extension": ".py",
   "mimetype": "text/x-python",
   "name": "python",
   "nbconvert_exporter": "python",
   "pygments_lexer": "ipython3",
   "version": "3.10.12"
  },
  "widgets": {
   "application/vnd.jupyter.widget-state+json": {
    "state": {},
    "version_major": 2,
    "version_minor": 0
   }
  }
 },
 "nbformat": 4,
 "nbformat_minor": 5
}
