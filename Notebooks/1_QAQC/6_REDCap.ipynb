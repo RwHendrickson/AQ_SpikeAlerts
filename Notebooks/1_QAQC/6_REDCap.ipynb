{
 "cells": [
  {
   "cell_type": "code",
   "execution_count": 1,
   "id": "47e0c5d8-afae-47c5-9289-b86ca2294bf3",
   "metadata": {},
   "outputs": [],
   "source": [
    "# Import libraries\n",
    "\n",
    "import os\n",
    "import requests\n",
    "from io import StringIO\n",
    "\n",
    "import psycopg2\n",
    "from psycopg2 import sql\n",
    "\n",
    "# Data Manipulation\n",
    "import pandas as pd\n",
    "import geopandas as gpd\n",
    "\n",
    "# Getting .env information (API keys, etc.)\n",
    "from dotenv import load_dotenv"
   ]
  },
  {
   "cell_type": "code",
   "execution_count": 2,
   "id": "bfc1dd81-30da-4748-b735-c3659d3a6791",
   "metadata": {},
   "outputs": [],
   "source": [
    "# Get REDCap token\n",
    "\n",
    "load_dotenv()\n",
    "\n",
    "token = os.getenv('REDCAP_TOKEN')\n",
    "\n",
    "# Get Database credentials\n",
    "\n",
    "creds = [os.getenv('DB_NAME'),\n",
    "         os.getenv('DB_USER'),\n",
    "         os.getenv('DB_PASS'),\n",
    "         os.getenv('DB_PORT'),\n",
    "         os.getenv('DB_HOST')\n",
    "        ]\n",
    "\n",
    "pg_connection_dict = dict(zip(['dbname', 'user', 'password', 'port', 'host'], creds))    "
   ]
  },
  {
   "cell_type": "code",
   "execution_count": 3,
   "id": "60dd2f60-c758-48ba-a0f2-4a8b81bc1bd8",
   "metadata": {},
   "outputs": [],
   "source": [
    "data = {\n",
    "    'token': token,\n",
    "    'content': 'record',\n",
    "    'action': 'export',\n",
    "    'format': 'csv',\n",
    "    'type': 'flat',\n",
    "    'csvDelimiter': '',\n",
    "    'rawOrLabel': 'raw',\n",
    "    'rawOrLabelHeaders': 'raw',\n",
    "    'exportCheckboxLabel': 'false',\n",
    "    'exportSurveyFields': 'false',\n",
    "    'exportDataAccessGroups': 'false',\n",
    "    'returnFormat': 'csv'\n",
    "}\n",
    "r = requests.post('https://redcap.ahc.umn.edu/api/',data=data)\n",
    "\n",
    "# r.text"
   ]
  },
  {
   "cell_type": "code",
   "execution_count": 5,
   "id": "5f138615-4c1a-4764-9ca7-4ca52a58145f",
   "metadata": {},
   "outputs": [
    {
     "name": "stdout",
     "output_type": "stream",
     "text": [
      "HTTP Status: 200\n"
     ]
    }
   ],
   "source": [
    "print('HTTP Status: ' + str(r.status_code))\n",
    "df = pd.read_csv(StringIO(r.text))"
   ]
  },
  {
   "cell_type": "code",
   "execution_count": 6,
   "id": "d38d1d3d-923d-408a-a14b-85c40de87dd6",
   "metadata": {},
   "outputs": [],
   "source": [
    "# Spatialize dataframe\n",
    "\n",
    "gdf = gpd.GeoDataFrame(df, \n",
    "                        geometry = gpd.points_from_xy(\n",
    "                                    df.lon,\n",
    "                                    df.lat,\n",
    "                                    crs = 'EPSG:4326')\n",
    "                               ).to_crs('EPSG:26915')\n",
    "\n",
    "gdf['wkt'] = gdf.geometry.apply(lambda x: x.wkt)"
   ]
  },
  {
   "cell_type": "code",
   "execution_count": 7,
   "id": "842a1704-c195-41cc-8662-e702a98074b4",
   "metadata": {},
   "outputs": [],
   "source": [
    "# Upload to database\n",
    "\n",
    "# Prep\n",
    "\n",
    "final_df = gdf[['record_id', 'wkt']]\n",
    "\n",
    "cols_for_db = ['record_id', 'geometry']"
   ]
  },
  {
   "cell_type": "code",
   "execution_count": 10,
   "id": "d516b27c-4c99-4b00-84bc-1b5531eeb1f2",
   "metadata": {},
   "outputs": [],
   "source": [
    "# Connect to PostGIS Database\n",
    "\n",
    "pg_connection_dict = dict(zip(['dbname', 'user', 'password', 'port', 'host'], creds))\n",
    "\n",
    "conn = psycopg2.connect(**pg_connection_dict)"
   ]
  },
  {
   "cell_type": "code",
   "execution_count": 11,
   "id": "2e225754-8703-48b3-97cb-c4d011a61b01",
   "metadata": {},
   "outputs": [],
   "source": [
    "#connect to the cursor\n",
    "cur = conn.cursor()\n",
    "\n",
    "# iterate over the dataframe and insert each row into the database using a SQL INSERT statement\n",
    "\n",
    "for index, row in final_df.iterrows():\n",
    "\n",
    "    q1 = sql.SQL('INSERT INTO \"Sign Up Information\" ({}) VALUES ({},{});').format(\n",
    "     sql.SQL(', ').join(map(sql.Identifier, cols_for_db)),\n",
    "     sql.SQL(', ').join(sql.Placeholder() * (len(cols_for_db)-1)),\n",
    "     sql.SQL('ST_Transform(ST_SetSRID(ST_GeomFromText(%s), 26915),4326)::geometry'))\n",
    "    # print(q1.as_string(conn))\n",
    "    # print(row)\n",
    "    # break\n",
    "    \n",
    "    cur.execute(q1.as_string(conn),\n",
    "        (list(row.values))\n",
    "        )\n",
    "    # Commit command\n",
    "\n",
    "    conn.commit()\n",
    "\n",
    "# Close the cursor and connection\n",
    "cur.close()\n",
    "conn.close()"
   ]
  }
 ],
 "metadata": {
  "kernelspec": {
   "display_name": "Python 3 (ipykernel)",
   "language": "python",
   "name": "python3"
  },
  "language_info": {
   "codemirror_mode": {
    "name": "ipython",
    "version": 3
   },
   "file_extension": ".py",
   "mimetype": "text/x-python",
   "name": "python",
   "nbconvert_exporter": "python",
   "pygments_lexer": "ipython3",
   "version": "3.10.12"
  },
  "widgets": {
   "application/vnd.jupyter.widget-state+json": {
    "state": {},
    "version_major": 2,
    "version_minor": 0
   }
  }
 },
 "nbformat": 4,
 "nbformat_minor": 5
}
