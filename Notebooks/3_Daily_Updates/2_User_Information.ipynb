{
 "cells": [
  {
   "cell_type": "code",
   "execution_count": 1,
   "id": "47e0c5d8-afae-47c5-9289-b86ca2294bf3",
   "metadata": {},
   "outputs": [],
   "source": [
    "# Import libraries\n",
    "\n",
    "import os\n",
    "import requests\n",
    "from io import StringIO\n",
    "\n",
    "import psycopg2\n",
    "from psycopg2 import sql\n",
    "\n",
    "# Data Manipulation\n",
    "import pandas as pd\n",
    "import geopandas as gpd\n",
    "\n",
    "# Getting .env information (API keys, etc.)\n",
    "from dotenv import load_dotenv"
   ]
  },
  {
   "cell_type": "code",
   "execution_count": 3,
   "id": "bfc1dd81-30da-4748-b735-c3659d3a6791",
   "metadata": {},
   "outputs": [],
   "source": [
    "# Get REDCap token\n",
    "\n",
    "load_dotenv()\n",
    "\n",
    "redCap_token_signUp = os.getenv('REDCAP_TOKEN_SIGNUP') # Survey Token\n",
    "redCap_token_report = os.getenv('REDCAP_TOKEN_REPORT') # Report Token\n",
    "\n",
    "# Get Database credentials\n",
    "\n",
    "creds = [os.getenv('DB_NAME'),\n",
    "         os.getenv('DB_USER'),\n",
    "         os.getenv('DB_PASS'),\n",
    "         os.getenv('DB_PORT'),\n",
    "         os.getenv('DB_HOST')\n",
    "        ]\n",
    "\n",
    "pg_connection_dict = dict(zip(['dbname', 'user', 'password', 'port', 'host'], creds))    "
   ]
  },
  {
   "cell_type": "code",
   "execution_count": 4,
   "id": "03d1a915-bd7b-4ba6-a8a5-15859192e5d6",
   "metadata": {},
   "outputs": [],
   "source": [
    "# get the highest record id we've got\n",
    "\n",
    "# Connect\n",
    "conn = psycopg2.connect(**pg_connection_dict) \n",
    "# Create cursor\n",
    "cur = conn.cursor()\n",
    "\n",
    "cmd = sql.SQL('''SELECT MAX(record_id)\n",
    "FROM \"Sign Up Information\";;\n",
    "''')\n",
    "\n",
    "cur.execute(cmd) # Execute\n",
    "conn.commit() # Committ command\n",
    "\n",
    "# Unpack response into pandas series\n",
    "\n",
    "max_record_id = cur.fetchall()[0][0]\n",
    "\n",
    "# Close cursor\n",
    "cur.close()\n",
    "# Close connection\n",
    "conn.close()"
   ]
  },
  {
   "cell_type": "code",
   "execution_count": 5,
   "id": "c10f578a-0574-4749-a8c4-d8a3beef32e0",
   "metadata": {},
   "outputs": [],
   "source": [
    "# filterLogic Redcap API\n",
    "# Redcap logic guide - https://cctsi.cuanschutz.edu/docs/librariesprovider28/redcap/redcap-logic-guide.pdf?sfvrsn=258e94ba_2\n",
    "\n",
    "### Select by record_id\n",
    "\n",
    "# # They must be strings before below\n",
    "\n",
    "# record_ids = ['0', '1', '2', '3']\n",
    "# filterLogic_record_id = '[record_id]=' + ' OR [record_id]='.join(record_ids)\n",
    "\n",
    "# ### Select by report (to the City)\n",
    "# filterLogic_report = '[report]=1'\n",
    "\n",
    "### Select all\n",
    "filterLogic_str = f\"[record_id]>{max_record_id}\""
   ]
  },
  {
   "cell_type": "code",
   "execution_count": 6,
   "id": "60dd2f60-c758-48ba-a0f2-4a8b81bc1bd8",
   "metadata": {},
   "outputs": [],
   "source": [
    "data = {\n",
    "    'token': redCap_token_signUp,\n",
    "    'content': 'record',\n",
    "    'action': 'export',\n",
    "    'format': 'csv',\n",
    "    'type': 'flat',\n",
    "    'csvDelimiter': '',\n",
    "    'rawOrLabel': 'raw',\n",
    "    'rawOrLabelHeaders': 'raw',\n",
    "    'exportCheckboxLabel': 'false',\n",
    "    'exportSurveyFields': 'false',\n",
    "    'exportDataAccessGroups': 'false',\n",
    "    'returnFormat': 'csv',\n",
    "    'filterLogic': filterLogic_str  \n",
    "}\n",
    "r = requests.post('https://redcap.ahc.umn.edu/api/',data=data)"
   ]
  },
  {
   "cell_type": "code",
   "execution_count": null,
   "id": "5f138615-4c1a-4764-9ca7-4ca52a58145f",
   "metadata": {
    "scrolled": true
   },
   "outputs": [],
   "source": [
    "print('HTTP Status: ' + str(r.status_code))\n",
    "df = pd.read_csv(StringIO(r.text))\n",
    "\n"
   ]
  },
  {
   "cell_type": "code",
   "execution_count": 12,
   "id": "f1617b82-3173-4f71-887a-45f0136069a4",
   "metadata": {},
   "outputs": [
    {
     "data": {
      "text/plain": [
       "False"
      ]
     },
     "execution_count": 12,
     "metadata": {},
     "output_type": "execute_result"
    }
   ],
   "source": [
    "r.status_code == 200 and r.text != '\\n'"
   ]
  },
  {
   "cell_type": "code",
   "execution_count": 28,
   "id": "3e4ab306-c1b1-499a-8ce0-3dd9fbca6f76",
   "metadata": {},
   "outputs": [],
   "source": [
    "#r.text"
   ]
  },
  {
   "cell_type": "code",
   "execution_count": 29,
   "id": "d38d1d3d-923d-408a-a14b-85c40de87dd6",
   "metadata": {},
   "outputs": [],
   "source": [
    "# Spatialize dataframe\n",
    "\n",
    "gdf = gpd.GeoDataFrame(df, \n",
    "                        geometry = gpd.points_from_xy(\n",
    "                                    df.lon,\n",
    "                                    df.lat,\n",
    "                                    crs = 'EPSG:4326')\n",
    "                               )\n",
    "\n",
    "gdf['wkt'] = gdf.geometry.apply(lambda x: x.wkt)"
   ]
  },
  {
   "cell_type": "code",
   "execution_count": 30,
   "id": "842a1704-c195-41cc-8662-e702a98074b4",
   "metadata": {},
   "outputs": [],
   "source": [
    "# Upload to database\n",
    "\n",
    "# Prep\n",
    "\n",
    "focus_df = gdf[['record_id', 'wkt']]\n",
    "cols_for_db = ['record_id', 'geometry']"
   ]
  },
  {
   "cell_type": "code",
   "execution_count": 31,
   "id": "d516b27c-4c99-4b00-84bc-1b5531eeb1f2",
   "metadata": {},
   "outputs": [],
   "source": [
    "# Connect to PostGIS Database\n",
    "\n",
    "conn = psycopg2.connect(**pg_connection_dict)"
   ]
  },
  {
   "cell_type": "code",
   "execution_count": 32,
   "id": "2e225754-8703-48b3-97cb-c4d011a61b01",
   "metadata": {},
   "outputs": [],
   "source": [
    "#connect to the cursor\n",
    "cur = conn.cursor()\n",
    "\n",
    "### iterate over the dataframe and insert each row into the database using a SQL INSERT statement\n",
    "\n",
    "for index, row in final_df.iterrows():\n",
    "\n",
    "    q1 = sql.SQL('INSERT INTO \"Sign Up Information\" ({}) VALUES ({},{});').format(\n",
    "     sql.SQL(', ').join(map(sql.Identifier, cols_for_db)),\n",
    "     sql.SQL(', ').join(sql.Placeholder() * (len(cols_for_db)-1)),\n",
    "     sql.SQL('ST_SetSRID(ST_GeomFromText(%s), 4326)::geometry'))\n",
    "    # print(q1.as_string(conn))\n",
    "    # print(row)\n",
    "    # break\n",
    "    \n",
    "    cur.execute(q1.as_string(conn),\n",
    "        (list(row.values))\n",
    "        )\n",
    "    # Commit command\n",
    "\n",
    "    conn.commit()\n",
    "\n",
    "# Close the cursor and connection\n",
    "cur.close()\n",
    "conn.close()"
   ]
  },
  {
   "cell_type": "code",
   "execution_count": 24,
   "id": "f1ad4ec8-9bce-4bf9-a497-1991fe1df0d3",
   "metadata": {},
   "outputs": [],
   "source": [
    "message = '''Welcome to SpikeAlerts! \n",
    "\n",
    "We will text 8am-9pm when air quality seems unhealthy within 1 kilometer of your designated location.\n",
    "\n",
    "If you have questions, please email mplsairquality@gmail.com or see https://SpikeAlerts.github.io/Website\n",
    "\n",
    "Reply STOP to end this service'''"
   ]
  },
  {
   "cell_type": "code",
   "execution_count": 25,
   "id": "6461d492-ac23-44db-b556-8d6b759b2424",
   "metadata": {},
   "outputs": [
    {
     "name": "stdout",
     "output_type": "stream",
     "text": [
      "Welcome to SpikeAlerts! \n",
      "\n",
      "We will text 8am-9pm when air quality seems unhealthy within 1 kilometer of your designated location.\n",
      "\n",
      "If you have questions, please email mplsairquality@gmail.com or see https://SpikeAlerts.github.io/Website\n",
      "\n",
      "Reply STOP to end this service\n",
      "\n",
      "\n",
      " MESSAGE LENGTH: 266 Characters\n"
     ]
    }
   ],
   "source": [
    "print(message)\n",
    "print('\\n\\n MESSAGE LENGTH:', len(message), 'Characters') # TWILIO charges by segment (160 characters)"
   ]
  },
  {
   "cell_type": "code",
   "execution_count": null,
   "id": "486f1648-afef-437d-ade8-4ca2ffe3fe74",
   "metadata": {},
   "outputs": [],
   "source": []
  }
 ],
 "metadata": {
  "kernelspec": {
   "display_name": "Python 3 (ipykernel)",
   "language": "python",
   "name": "python3"
  },
  "language_info": {
   "codemirror_mode": {
    "name": "ipython",
    "version": 3
   },
   "file_extension": ".py",
   "mimetype": "text/x-python",
   "name": "python",
   "nbconvert_exporter": "python",
   "pygments_lexer": "ipython3",
   "version": "3.10.12"
  },
  "widgets": {
   "application/vnd.jupyter.widget-state+json": {
    "state": {},
    "version_major": 2,
    "version_minor": 0
   }
  }
 },
 "nbformat": 4,
 "nbformat_minor": 5
}
