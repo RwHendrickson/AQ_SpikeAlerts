{
 "cells": [
  {
   "cell_type": "code",
   "execution_count": 3,
   "id": "fffc654b-db1e-437b-a1f8-f6a758382134",
   "metadata": {},
   "outputs": [],
   "source": [
    "# File Manipulation\n",
    "\n",
    "import os # For working with Operating System\n",
    "import sys # System arguments\n",
    "from dotenv import load_dotenv # Loading .env info\n",
    "\n",
    "# Web\n",
    "\n",
    "import requests # Accessing the Web\n",
    "\n",
    "# Time\n",
    "\n",
    "import datetime as dt # Working with dates/times\n",
    "import pytz # Timezones\n",
    "import time # For Sleeping\n",
    "\n",
    "# Database \n",
    "\n",
    "import psycopg2\n",
    "from psycopg2 import sql\n",
    "\n",
    "# Data Manipulation\n",
    "\n",
    "import numpy as np\n",
    "import geopandas as gpd\n",
    "import pandas as pd"
   ]
  },
  {
   "cell_type": "code",
   "execution_count": null,
   "id": "6b9213f1-dce3-4d5c-8922-2a94365f8aa4",
   "metadata": {},
   "outputs": [],
   "source": [
    "def Refresh_SensorFlags(pg_connection_dict):\n",
    "    '''\n",
    "    Sets all channel_flags to zero in \"PurpleAir Stations\"\n",
    "    '''\n",
    "    \n",
    "    conn = psycopg2.connect(**pg_connection_dict)\n",
    "    \n",
    "    # Create json cursor\n",
    "    cur = conn.cursor()\n",
    "    \n",
    "    cmd = sql.SQL('''UPDATE \"PurpleAir Stations\"\n",
    "SET channel_flags = 0;\n",
    "    ''')\n",
    "    \n",
    "    cur.execute(cmd) # Execute\n",
    "    \n",
    "    conn.commit() # Committ command\n",
    "    \n",
    "    # Close cursor\n",
    "    cur.close()\n",
    "    # Close connection\n",
    "    conn.close()"
   ]
  }
 ],
 "metadata": {
  "kernelspec": {
   "display_name": "Python 3 (ipykernel)",
   "language": "python",
   "name": "python3"
  },
  "language_info": {
   "codemirror_mode": {
    "name": "ipython",
    "version": 3
   },
   "file_extension": ".py",
   "mimetype": "text/x-python",
   "name": "python",
   "nbconvert_exporter": "python",
   "pygments_lexer": "ipython3",
   "version": "3.10.12"
  },
  "widgets": {
   "application/vnd.jupyter.widget-state+json": {
    "state": {},
    "version_major": 2,
    "version_minor": 0
   }
  }
 },
 "nbformat": 4,
 "nbformat_minor": 5
}
