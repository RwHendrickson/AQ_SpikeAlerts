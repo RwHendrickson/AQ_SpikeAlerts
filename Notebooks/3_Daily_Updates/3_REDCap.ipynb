{
 "cells": [
  {
   "cell_type": "code",
   "execution_count": 1,
   "id": "47e0c5d8-afae-47c5-9289-b86ca2294bf3",
   "metadata": {},
   "outputs": [],
   "source": [
    "# Import libraries\n",
    "\n",
    "import os\n",
    "import requests\n",
    "from io import StringIO\n",
    "\n",
    "import psycopg2\n",
    "from psycopg2 import sql\n",
    "\n",
    "# Data Manipulation\n",
    "import pandas as pd\n",
    "import geopandas as gpd\n",
    "\n",
    "# Getting .env information (API keys, etc.)\n",
    "from dotenv import load_dotenv"
   ]
  },
  {
   "cell_type": "code",
   "execution_count": 2,
   "id": "bfc1dd81-30da-4748-b735-c3659d3a6791",
   "metadata": {},
   "outputs": [],
   "source": [
    "# Get REDCap token\n",
    "\n",
    "load_dotenv()\n",
    "\n",
    "redCap_token_signUp = os.getenv('REDCAP_TOKEN_SIGNUP') # Survey Token\n",
    "redCap_token_report = os.getenv('REDCAP_TOKEN_REPORT') # Report Token\n",
    "\n",
    "# Get Database credentials\n",
    "\n",
    "creds = [os.getenv('DB_NAME'),\n",
    "         os.getenv('DB_USER'),\n",
    "         os.getenv('DB_PASS'),\n",
    "         os.getenv('DB_PORT'),\n",
    "         os.getenv('DB_HOST')\n",
    "        ]\n",
    "\n",
    "pg_connection_dict = dict(zip(['dbname', 'user', 'password', 'port', 'host'], creds))    "
   ]
  },
  {
   "cell_type": "code",
   "execution_count": 3,
   "id": "c10f578a-0574-4749-a8c4-d8a3beef32e0",
   "metadata": {},
   "outputs": [],
   "source": [
    "# filterLogic Redcap API\n",
    "# Redcap logic guide - https://cctsi.cuanschutz.edu/docs/librariesprovider28/redcap/redcap-logic-guide.pdf?sfvrsn=258e94ba_2\n",
    "\n",
    "### Select by record_id\n",
    "\n",
    "# They must be strings before below\n",
    "\n",
    "record_ids = ['0', '1', '2', '3']\n",
    "filterLogic_record_id = '[record_id]=' + ' OR [record_id]='.join(record_ids)\n",
    "\n",
    "### Select by report (to the City)\n",
    "filterLogic_report = '[report]=1'\n",
    "\n",
    "\n",
    "### Select all\n",
    "filterLogic_str = '' "
   ]
  },
  {
   "cell_type": "code",
   "execution_count": 4,
   "id": "60dd2f60-c758-48ba-a0f2-4a8b81bc1bd8",
   "metadata": {},
   "outputs": [],
   "source": [
    "data = {\n",
    "    'token': redCap_token_signUp,\n",
    "    'content': 'record',\n",
    "    'action': 'export',\n",
    "    'format': 'csv',\n",
    "    'type': 'flat',\n",
    "    'csvDelimiter': '',\n",
    "    'rawOrLabel': 'raw',\n",
    "    'rawOrLabelHeaders': 'raw',\n",
    "    'exportCheckboxLabel': 'false',\n",
    "    'exportSurveyFields': 'false',\n",
    "    'exportDataAccessGroups': 'false',\n",
    "    'returnFormat': 'csv',\n",
    "    'filterLogic': filterLogic_str  \n",
    "}\n",
    "r = requests.post('https://redcap.ahc.umn.edu/api/',data=data)"
   ]
  },
  {
   "cell_type": "code",
   "execution_count": 5,
   "id": "5f138615-4c1a-4764-9ca7-4ca52a58145f",
   "metadata": {},
   "outputs": [
    {
     "name": "stdout",
     "output_type": "stream",
     "text": [
      "HTTP Status: 200\n"
     ]
    }
   ],
   "source": [
    "print('HTTP Status: ' + str(r.status_code))\n",
    "df = pd.read_csv(StringIO(r.text))\n",
    "\n"
   ]
  },
  {
   "cell_type": "code",
   "execution_count": 6,
   "id": "3e4ab306-c1b1-499a-8ce0-3dd9fbca6f76",
   "metadata": {},
   "outputs": [],
   "source": [
    "#r.text"
   ]
  },
  {
   "cell_type": "code",
   "execution_count": 7,
   "id": "d38d1d3d-923d-408a-a14b-85c40de87dd6",
   "metadata": {},
   "outputs": [],
   "source": [
    "# Spatialize dataframe\n",
    "\n",
    "gdf = gpd.GeoDataFrame(df, \n",
    "                        geometry = gpd.points_from_xy(\n",
    "                                    df.lon,\n",
    "                                    df.lat,\n",
    "                                    crs = 'EPSG:4326')\n",
    "                               )\n",
    "\n",
    "gdf['wkt'] = gdf.geometry.apply(lambda x: x.wkt)"
   ]
  },
  {
   "cell_type": "code",
   "execution_count": 8,
   "id": "842a1704-c195-41cc-8662-e702a98074b4",
   "metadata": {},
   "outputs": [],
   "source": [
    "# Upload to database\n",
    "\n",
    "# Prep\n",
    "\n",
    "focus_df = gdf[['record_id', 'wkt']]\n",
    "cols_for_db = ['record_id', 'geometry']"
   ]
  },
  {
   "cell_type": "code",
   "execution_count": 9,
   "id": "d516b27c-4c99-4b00-84bc-1b5531eeb1f2",
   "metadata": {},
   "outputs": [],
   "source": [
    "# Connect to PostGIS Database\n",
    "\n",
    "conn = psycopg2.connect(**pg_connection_dict)"
   ]
  },
  {
   "cell_type": "code",
   "execution_count": 10,
   "id": "2e225754-8703-48b3-97cb-c4d011a61b01",
   "metadata": {},
   "outputs": [],
   "source": [
    "#connect to the cursor\n",
    "cur = conn.cursor()\n",
    "\n",
    "### If they are not already in Sign Up Information\n",
    "\n",
    "cmd = sql.SQL('''SELECT record_id \n",
    "FROM \"Sign Up Information\"\n",
    "''')\n",
    "\n",
    "cur.execute(cmd) # Execute\n",
    "conn.commit() # Committ command\n",
    "\n",
    "# Unpack response into numpy array\n",
    "\n",
    "current_record_ids = pd.DataFrame(cur.fetchall(), columns = ['record_id']).record_id.values\n",
    "\n",
    "# Query for record_id from focus_df not in current_record_ids\n",
    "\n",
    "final_df = focus_df[~focus_df.record_id.isin(current_record_ids)]\n",
    "\n",
    "### iterate over the dataframe and insert each row into the database using a SQL INSERT statement\n",
    "\n",
    "for index, row in final_df.iterrows():\n",
    "\n",
    "    q1 = sql.SQL('INSERT INTO \"Sign Up Information\" ({}) VALUES ({},{});').format(\n",
    "     sql.SQL(', ').join(map(sql.Identifier, cols_for_db)),\n",
    "     sql.SQL(', ').join(sql.Placeholder() * (len(cols_for_db)-1)),\n",
    "     sql.SQL('ST_SetSRID(ST_GeomFromText(%s), 4326)::geometry'))\n",
    "    # print(q1.as_string(conn))\n",
    "    # print(row)\n",
    "    # break\n",
    "    \n",
    "    cur.execute(q1.as_string(conn),\n",
    "        (list(row.values))\n",
    "        )\n",
    "    # Commit command\n",
    "\n",
    "    conn.commit()\n",
    "\n",
    "# Close the cursor and connection\n",
    "cur.close()\n",
    "conn.close()"
   ]
  },
  {
   "cell_type": "code",
   "execution_count": 11,
   "id": "f1ad4ec8-9bce-4bf9-a497-1991fe1df0d3",
   "metadata": {},
   "outputs": [],
   "source": [
    "message = '''Welcome to SpikeAlerts! We will text when particulate matter levels are unhealthy in your area.\n",
    "\n",
    "Reply STOP to end this service (we update the list daily)'''"
   ]
  },
  {
   "cell_type": "code",
   "execution_count": 12,
   "id": "6461d492-ac23-44db-b556-8d6b759b2424",
   "metadata": {},
   "outputs": [
    {
     "name": "stdout",
     "output_type": "stream",
     "text": [
      "Welcome to SpikeAlerts! We will text when particulate matter levels are unhealthy in your area.\n",
      "\n",
      "Reply STOP to end this service (we update the list daily)\n",
      "\n",
      "\n",
      " MESSAGE LENGTH: 154 Characters\n"
     ]
    }
   ],
   "source": [
    "print(message)\n",
    "print('\\n\\n MESSAGE LENGTH:', len(message), 'Characters') # TWILIO charges by segment (160 characters)"
   ]
  }
 ],
 "metadata": {
  "kernelspec": {
   "display_name": "Python 3 (ipykernel)",
   "language": "python",
   "name": "python3"
  },
  "language_info": {
   "codemirror_mode": {
    "name": "ipython",
    "version": 3
   },
   "file_extension": ".py",
   "mimetype": "text/x-python",
   "name": "python",
   "nbconvert_exporter": "python",
   "pygments_lexer": "ipython3",
   "version": "3.10.12"
  },
  "widgets": {
   "application/vnd.jupyter.widget-state+json": {
    "state": {},
    "version_major": 2,
    "version_minor": 0
   }
  }
 },
 "nbformat": 4,
 "nbformat_minor": 5
}
