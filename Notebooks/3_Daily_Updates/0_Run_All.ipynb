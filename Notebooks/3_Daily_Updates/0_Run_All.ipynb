{
 "cells": [
  {
   "cell_type": "code",
   "execution_count": 5,
   "id": "f1a01f4b-6867-4e67-9448-a472c520b563",
   "metadata": {},
   "outputs": [],
   "source": [
    "# File Manipulation\n",
    "\n",
    "import os # For working with Operating System\n",
    "import sys # System arguments\n",
    "from io import StringIO # String input/output\n",
    "from dotenv import load_dotenv # Loading .env info\n",
    "\n",
    "# Web\n",
    "\n",
    "import requests # Accessing the Web\n",
    "\n",
    "# Time\n",
    "\n",
    "import datetime as dt # Working with dates/times\n",
    "import pytz # Timezones\n",
    "import time # For Sleeping\n",
    "\n",
    "# Database \n",
    "\n",
    "import psycopg2\n",
    "from psycopg2 import sql\n",
    "\n",
    "# Data Manipulation\n",
    "\n",
    "import numpy as np\n",
    "import geopandas as gpd\n",
    "import pandas as pd"
   ]
  },
  {
   "cell_type": "markdown",
   "id": "80f0d897-f7f6-4729-b482-3f9cbe288124",
   "metadata": {},
   "source": [
    "### Load Functions"
   ]
  },
  {
   "cell_type": "code",
   "execution_count": 7,
   "id": "526c25db-0029-4dfc-a47c-4dce3d7c19ea",
   "metadata": {},
   "outputs": [],
   "source": [
    "script_path = os.path.join('..', '..', 'Scripts', 'python')\n",
    "\n",
    "# Function definition - Please see Scripts/python/*\n",
    "exec(open(os.path.join(script_path, 'Get_spikes_df.py')).read())\n",
    "exec(open(os.path.join(script_path, 'Create_messages.py')).read())\n",
    "exec(open(os.path.join(script_path, 'twilio_functions.py')).read())\n",
    "exec(open(os.path.join(script_path, 'Update_Alerts.py')).read())\n",
    "exec(open(os.path.join(script_path, 'Send_Alerts.py')).read())\n",
    "exec(open(os.path.join(script_path, 'Daily_Updates.py')).read())"
   ]
  },
  {
   "cell_type": "markdown",
   "id": "7f5c9560-1c36-4900-bbe5-f50066ce58b8",
   "metadata": {},
   "source": [
    "### Global Variables"
   ]
  },
  {
   "cell_type": "code",
   "execution_count": 8,
   "id": "aacf0d77-aecb-4fd9-93ce-0212ccb30d09",
   "metadata": {},
   "outputs": [],
   "source": [
    "load_dotenv() # Load .env file\n",
    "\n",
    "## API Keys\n",
    "\n",
    "purpleAir_api = os.getenv('PURPLEAIR_API_TOKEN') # PurpleAir API Read Key\n",
    "\n",
    "redCap_token_signUp = os.getenv('REDCAP_TOKEN_SIGNUP') # Survey Token\n",
    "redCap_token_report = os.getenv('REDCAP_TOKEN_REPORT') # Report Token\n",
    "\n",
    "## Database credentials\n",
    "\n",
    "creds = [os.getenv('DB_NAME'),\n",
    "         os.getenv('DB_USER'),\n",
    "         os.getenv('DB_PASS'),\n",
    "         os.getenv('DB_PORT'),\n",
    "         os.getenv('DB_HOST')\n",
    "        ]\n",
    "\n",
    "pg_connection_dict = dict(zip(['dbname', 'user', 'password', 'port', 'host'], creds))  \n",
    "\n",
    "## Twilio Information\n",
    "\n",
    "TWILIO_ACCOUNT_SID = os.getenv('TWILIO_ACCOUNT_SID')\n",
    "TWILIO_AUTH_TOKEN = os.getenv('TWILIO_AUTH_TOKEN')\n",
    "TWILIO_NUMBER = os.getenv('TWILIO_NUMBER')"
   ]
  },
  {
   "cell_type": "markdown",
   "id": "c1d53dd2-805f-47a6-96bc-cef067a16ec5",
   "metadata": {},
   "source": [
    "### When to Update?"
   ]
  },
  {
   "cell_type": "code",
   "execution_count": 9,
   "id": "4af9099e-008e-421a-a95c-40ecd116451e",
   "metadata": {},
   "outputs": [],
   "source": [
    "# When to stop the program? (datetime)\n",
    "days_to_run = 1 # How many days will we run this?\n",
    "starttime = dt.datetime.now(pytz.timezone('America/Chicago')) \n",
    "stoptime = starttime + dt.timedelta(days=days_to_run)"
   ]
  },
  {
   "cell_type": "code",
   "execution_count": 21,
   "id": "fc6b6c0a-1af3-4d83-8358-4d249f6553fc",
   "metadata": {},
   "outputs": [
    {
     "name": "stdout",
     "output_type": "stream",
     "text": [
      "2023-11-14 08:00:00.440715-06:00\n"
     ]
    }
   ],
   "source": [
    "print(starttime.replace(hour=8, minute = 0, second = 0) + dt.timedelta(days=1))"
   ]
  },
  {
   "cell_type": "code",
   "execution_count": null,
   "id": "60a1d277-2b97-436d-be47-c50d29d92a28",
   "metadata": {},
   "outputs": [],
   "source": []
  }
 ],
 "metadata": {
  "kernelspec": {
   "display_name": "Python 3 (ipykernel)",
   "language": "python",
   "name": "python3"
  },
  "language_info": {
   "codemirror_mode": {
    "name": "ipython",
    "version": 3
   },
   "file_extension": ".py",
   "mimetype": "text/x-python",
   "name": "python",
   "nbconvert_exporter": "python",
   "pygments_lexer": "ipython3",
   "version": "3.10.12"
  },
  "widgets": {
   "application/vnd.jupyter.widget-state+json": {
    "state": {},
    "version_major": 2,
    "version_minor": 0
   }
  }
 },
 "nbformat": 4,
 "nbformat_minor": 5
}
