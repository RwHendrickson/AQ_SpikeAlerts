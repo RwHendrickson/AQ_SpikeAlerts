{
 "cells": [
  {
   "cell_type": "code",
   "execution_count": 11,
   "id": "80073031-a4d2-41dd-b356-4ed4278836bb",
   "metadata": {},
   "outputs": [],
   "source": [
    "# Load Libraries\n",
    "import numpy as np\n",
    "import os\n",
    "import time # Sleeping\n",
    "import pytz # Timezones\n",
    "from twilio.rest import Client\n",
    "# Getting .env information\n",
    "from dotenv import load_dotenv"
   ]
  },
  {
   "cell_type": "code",
   "execution_count": 62,
   "id": "17ce6c89-51d8-4d7d-beeb-c6bfe73ffddc",
   "metadata": {},
   "outputs": [],
   "source": [
    "def delete_twilio_info(numbers, account_sid, auth_token):\n",
    "    '''This function deletes texts to/from phone numbers in twilio\n",
    "    '''\n",
    "\n",
    "    # Set up Twilio Client\n",
    "\n",
    "    client = Client(account_sid, auth_token)\n",
    "\n",
    "    # Iterate through the unique numbers \n",
    "    \n",
    "    numbers_unique = np.unique(numbers)\n",
    "    \n",
    "    for number in numbers_unique:\n",
    "        \n",
    "        messages_from = client.messages.list(from_=number) # Check if the numbers have responded, messages_from is a list twilio objects\n",
    "        \n",
    "        for message in messages_from:\n",
    "        \n",
    "            message.delete()\n",
    "\n",
    "        messages_to = client.messages.list(to_=number) # Get all messages we have sent to this number, messages_to is a list twilio objects\n",
    "        \n",
    "        for message in messages_to:\n",
    "        \n",
    "            message.delete()"
   ]
  },
  {
   "cell_type": "code",
   "execution_count": 13,
   "id": "ef128aca-f379-4757-9197-0baaf4f3babe",
   "metadata": {},
   "outputs": [],
   "source": [
    "# Load .env info\n",
    "\n",
    "load_dotenv()\n",
    "\n",
    "account_sid = os.environ['TWILIO_ACCOUNT_SID']\n",
    "auth_token = os.environ['TWILIO_AUTH_TOKEN']"
   ]
  }
 ],
 "metadata": {
  "kernelspec": {
   "display_name": "Python 3 (ipykernel)",
   "language": "python",
   "name": "python3"
  },
  "language_info": {
   "codemirror_mode": {
    "name": "ipython",
    "version": 3
   },
   "file_extension": ".py",
   "mimetype": "text/x-python",
   "name": "python",
   "nbconvert_exporter": "python",
   "pygments_lexer": "ipython3",
   "version": "3.10.12"
  },
  "widgets": {
   "application/vnd.jupyter.widget-state+json": {
    "state": {},
    "version_major": 2,
    "version_minor": 0
   }
  }
 },
 "nbformat": 4,
 "nbformat_minor": 5
}
